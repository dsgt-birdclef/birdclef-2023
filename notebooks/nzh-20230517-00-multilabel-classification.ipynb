{
 "cells": [
  {
   "cell_type": "code",
   "execution_count": 1,
   "metadata": {},
   "outputs": [],
   "source": [
    "%load_ext autoreload\n",
    "%autoreload 2\n",
    "%load_ext lab_black"
   ]
  },
  {
   "cell_type": "code",
   "execution_count": 2,
   "metadata": {},
   "outputs": [
    {
     "name": "stdout",
     "output_type": "stream",
     "text": [
      "root\n",
      " |-- species: string (nullable = true)\n",
      " |-- track_stem: string (nullable = true)\n",
      " |-- track_type: string (nullable = true)\n",
      " |-- track_name: string (nullable = true)\n",
      " |-- embedding: array (nullable = true)\n",
      " |    |-- element: double (containsNull = true)\n",
      " |-- prediction_vec: array (nullable = true)\n",
      " |    |-- element: double (containsNull = true)\n",
      " |-- predictions: array (nullable = true)\n",
      " |    |-- element: struct (containsNull = true)\n",
      " |    |    |-- rank: long (nullable = true)\n",
      " |    |    |-- index: long (nullable = true)\n",
      " |    |    |-- label: string (nullable = true)\n",
      " |    |    |-- mapped_label: string (nullable = true)\n",
      " |    |    |-- probability: double (nullable = true)\n",
      " |-- start_time: long (nullable = true)\n",
      " |-- energy: double (nullable = true)\n",
      "\n",
      "+-------+----------------+----------+--------------------+--------------------+--------------------+--------------------+----------+-------------------+\n",
      "|species|      track_stem|track_type|          track_name|           embedding|      prediction_vec|         predictions|start_time|             energy|\n",
      "+-------+----------------+----------+--------------------+--------------------+--------------------+--------------------+----------+-------------------+\n",
      "| grecor|XC629875_part003|   source0|grecor/XC629875_p...|[0.67311376333236...|[-8.7251863479614...|[{0, 3026, Tetras...|        75|0.01598571054637432|\n",
      "| grecor|XC629875_part005|   source3|grecor/XC629875_p...|[1.68330371379852...|[-13.969821929931...|[{0, 824, Corvus ...|       127| 2.1898441314697266|\n",
      "| grecor|XC629875_part004|   source0|grecor/XC629875_p...|[0.88066118955612...|[-12.375110626220...|[{0, 160, Anous m...|       143| 0.0875573456287384|\n",
      "| grecor|XC629875_part002|  original|grecor/XC629875_p...|[2.14786219596862...|[-15.737359046936...|[{0, 824, Corvus ...|       100| 23.915369033813477|\n",
      "| grecor|XC629875_part002|   source3|grecor/XC629875_p...|[1.25279664993286...|[-14.065645217895...|[{0, 824, Corvus ...|        62| 19.703083038330078|\n",
      "+-------+----------------+----------+--------------------+--------------------+--------------------+--------------------+----------+-------------------+\n",
      "only showing top 5 rows\n",
      "\n"
     ]
    }
   ],
   "source": [
    "from birdclef.utils import get_spark\n",
    "import os\n",
    "\n",
    "os.environ[\"SPARK_LOCAL_DIRS\"] = \"../data/tmp/spark\"\n",
    "\n",
    "spark = get_spark(cores=16, memory=\"5g\")\n",
    "df = spark.read.parquet(\"../data/processed/birdclef-2023/train_postprocessed/v1\")\n",
    "df.printSchema()\n",
    "df.show(n=5)"
   ]
  },
  {
   "cell_type": "code",
   "execution_count": 3,
   "metadata": {},
   "outputs": [
    {
     "data": {
      "text/html": [
       "<div>\n",
       "<style scoped>\n",
       "    .dataframe tbody tr th:only-of-type {\n",
       "        vertical-align: middle;\n",
       "    }\n",
       "\n",
       "    .dataframe tbody tr th {\n",
       "        vertical-align: top;\n",
       "    }\n",
       "\n",
       "    .dataframe thead th {\n",
       "        text-align: right;\n",
       "    }\n",
       "</style>\n",
       "<table border=\"1\" class=\"dataframe\">\n",
       "  <thead>\n",
       "    <tr style=\"text-align: right;\">\n",
       "      <th></th>\n",
       "      <th>species</th>\n",
       "      <th>embedding</th>\n",
       "    </tr>\n",
       "  </thead>\n",
       "  <tbody>\n",
       "    <tr>\n",
       "      <th>0</th>\n",
       "      <td>[gobsta5]</td>\n",
       "      <td>[0.6180285215377808, 1.0199153423309326, 0.333...</td>\n",
       "    </tr>\n",
       "    <tr>\n",
       "      <th>1</th>\n",
       "      <td>[chespa1]</td>\n",
       "      <td>[0.6111694574356079, 0.9573187828063965, 0.464...</td>\n",
       "    </tr>\n",
       "    <tr>\n",
       "      <th>2</th>\n",
       "      <td>[golher1]</td>\n",
       "      <td>[0.9022326469421387, 0.9815549850463867, 0.468...</td>\n",
       "    </tr>\n",
       "    <tr>\n",
       "      <th>3</th>\n",
       "      <td>[marsto1]</td>\n",
       "      <td>[0.6137340068817139, 1.4362423419952393, 0.376...</td>\n",
       "    </tr>\n",
       "    <tr>\n",
       "      <th>4</th>\n",
       "      <td>[gobwea1]</td>\n",
       "      <td>[0.6274732351303101, 0.6725507974624634, 0.169...</td>\n",
       "    </tr>\n",
       "  </tbody>\n",
       "</table>\n",
       "</div>"
      ],
      "text/plain": [
       "     species                                          embedding\n",
       "0  [gobsta5]  [0.6180285215377808, 1.0199153423309326, 0.333...\n",
       "1  [chespa1]  [0.6111694574356079, 0.9573187828063965, 0.464...\n",
       "2  [golher1]  [0.9022326469421387, 0.9815549850463867, 0.468...\n",
       "3  [marsto1]  [0.6137340068817139, 1.4362423419952393, 0.376...\n",
       "4  [gobwea1]  [0.6274732351303101, 0.6725507974624634, 0.169..."
      ]
     },
     "execution_count": 3,
     "metadata": {},
     "output_type": "execute_result"
    }
   ],
   "source": [
    "data = df.toPandas()\n",
    "data.head(n=5)"
   ]
  },
  {
   "cell_type": "code",
   "execution_count": 4,
   "metadata": {},
   "outputs": [
    {
     "name": "stdout",
     "output_type": "stream",
     "text": [
      "(239569, 265)\n",
      "(239569, 320)\n"
     ]
    }
   ],
   "source": [
    "from sklearn.preprocessing import MultiLabelBinarizer\n",
    "import numpy as np\n",
    "\n",
    "mlb = MultiLabelBinarizer()\n",
    "labels = mlb.fit_transform(data[\"species\"])\n",
    "print(labels.shape)\n",
    "\n",
    "embeddings = np.stack(data[\"embedding\"])\n",
    "print(embeddings.shape)"
   ]
  },
  {
   "cell_type": "code",
   "execution_count": 5,
   "metadata": {},
   "outputs": [],
   "source": [
    "from sklearn.model_selection import train_test_split\n",
    "from sklearn.metrics import (\n",
    "    accuracy_score,\n",
    "    precision_score,\n",
    "    recall_score,\n",
    "    f1_score,\n",
    ")\n",
    "\n",
    "train_x, test_x, train_y, test_y = train_test_split(embeddings, labels, test_size=0.2)\n",
    "\n",
    "\n",
    "def model_eval(truth, preds):\n",
    "    print(\"Accuracy:\", accuracy_score(truth, preds))\n",
    "    print(\n",
    "        \"Precision:\",\n",
    "        precision_score(truth, preds, average=\"macro\"),\n",
    "    )\n",
    "    print(\n",
    "        \"Recall:\",\n",
    "        recall_score(truth, preds, average=\"macro\"),\n",
    "    )\n",
    "    print(\n",
    "        \"F1 Score:\",\n",
    "        f1_score(truth, preds, average=\"macro\"),\n",
    "    )"
   ]
  },
  {
   "cell_type": "code",
   "execution_count": 18,
   "metadata": {},
   "outputs": [
    {
     "name": "stderr",
     "output_type": "stream",
     "text": [
      "[Parallel(n_jobs=-1)]: Using backend LokyBackend with 12 concurrent workers.\n",
      "[Parallel(n_jobs=-1)]: Done   1 tasks      | elapsed:  1.3min\n",
      "[Parallel(n_jobs=-1)]: Done   8 tasks      | elapsed:  2.1min\n",
      "[Parallel(n_jobs=-1)]: Done  17 tasks      | elapsed:  4.0min\n",
      "[Parallel(n_jobs=-1)]: Done  26 tasks      | elapsed:  4.6min\n",
      "[Parallel(n_jobs=-1)]: Done  37 tasks      | elapsed:  6.3min\n",
      "[Parallel(n_jobs=-1)]: Done  48 tasks      | elapsed:  7.7min\n",
      "[Parallel(n_jobs=-1)]: Done  61 tasks      | elapsed:  9.4min\n",
      "[Parallel(n_jobs=-1)]: Done  74 tasks      | elapsed: 10.9min\n",
      "[Parallel(n_jobs=-1)]: Done  89 tasks      | elapsed: 12.8min\n",
      "[Parallel(n_jobs=-1)]: Done 104 tasks      | elapsed: 14.3min\n",
      "[Parallel(n_jobs=-1)]: Done 121 tasks      | elapsed: 16.5min\n",
      "[Parallel(n_jobs=-1)]: Done 138 tasks      | elapsed: 18.3min\n",
      "[Parallel(n_jobs=-1)]: Done 157 tasks      | elapsed: 20.1min\n",
      "[Parallel(n_jobs=-1)]: Done 176 tasks      | elapsed: 22.9min\n",
      "[Parallel(n_jobs=-1)]: Done 197 tasks      | elapsed: 25.3min\n",
      "[Parallel(n_jobs=-1)]: Done 218 tasks      | elapsed: 27.8min\n",
      "[Parallel(n_jobs=-1)]: Done 241 tasks      | elapsed: 30.8min\n",
      "[Parallel(n_jobs=-1)]: Done 265 out of 265 | elapsed: 33.5min finished\n"
     ]
    },
    {
     "name": "stdout",
     "output_type": "stream",
     "text": [
      "(47914, 265)\n",
      "(47914, 265)\n"
     ]
    }
   ],
   "source": [
    "from xgboost import XGBClassifier\n",
    "from sklearn.multiclass import OneVsRestClassifier\n",
    "\n",
    "clf = OneVsRestClassifier(XGBClassifier(tree_method=\"gpu_hist\"), verbose=10, n_jobs=-1)\n",
    "clf.fit(train_x, train_y)\n",
    "preds = clf.predict(test_x)\n",
    "print(preds.shape)\n",
    "print(test_y.shape)"
   ]
  },
  {
   "cell_type": "code",
   "execution_count": 19,
   "metadata": {},
   "outputs": [
    {
     "name": "stdout",
     "output_type": "stream",
     "text": [
      "Accuracy: 0.7617815252327086\n",
      "Precision: 0.9904813713294939\n",
      "Recall: 0.7177069995024414\n",
      "F1 Score: 0.8285109262140783\n"
     ]
    }
   ],
   "source": [
    "model_eval(test_y, preds)"
   ]
  },
  {
   "cell_type": "code",
   "execution_count": 6,
   "metadata": {},
   "outputs": [],
   "source": [
    "from sklearn.metrics import average_precision_score\n",
    "\n",
    "# print(average_precision_score(test_y, clf.predict_proba(test_x)))"
   ]
  },
  {
   "cell_type": "code",
   "execution_count": 23,
   "metadata": {},
   "outputs": [],
   "source": [
    "import pickle\n",
    "from pathlib import Path\n",
    "\n",
    "pickle.dump(\n",
    "    clf,\n",
    "    Path(\"../data/models/baseline/one-v-rest-xgbc-base.pkl\").open(\"wb\"),\n",
    ")"
   ]
  },
  {
   "cell_type": "code",
   "execution_count": 35,
   "metadata": {},
   "outputs": [
    {
     "name": "stdout",
     "output_type": "stream",
     "text": [
      "[14:38:51] ======== Monitor (0): HostSketchContainer ========\n",
      "[14:38:51] AllReduce: 0.06697s, 1 calls @ 66970us\n",
      "\n",
      "[14:38:51] MakeCuts: 0.069203s, 1 calls @ 69203us\n",
      "\n",
      "[14:38:51] DEBUG: C:\\buildkite-agent\\builds\\buildkite-windows-cpu-autoscaling-group-i-07593ffd91cd9da33-1\\xgboost\\xgboost-ci-windows\\src\\tree\\updater_gpu_hist.cu:755: [GPU Hist]: Configure\n",
      "[14:38:52] ======== Monitor (0):  ========\n",
      "[14:38:52] InitCompressedData: 0.005695s, 1 calls @ 5695us\n",
      "\n",
      "[14:54:24] ======== Monitor (0): Learner ========\n",
      "[14:54:24] Configure: 0.002267s, 1 calls @ 2267us\n",
      "\n",
      "[14:54:24] EvalOneIter: 0.001502s, 100 calls @ 1502us\n",
      "\n",
      "[14:54:24] GetGradient: 1.25392s, 100 calls @ 1253919us\n",
      "\n",
      "[14:54:24] PredictRaw: 0.040488s, 100 calls @ 40488us\n",
      "\n",
      "[14:54:24] UpdateOneIter: 929.382s, 100 calls @ 929382217us\n",
      "\n",
      "[14:54:24] ======== Monitor (0): GBTree ========\n",
      "[14:54:24] BoostNewTrees: 928.078s, 100 calls @ 928078194us\n",
      "\n",
      "[14:54:24] CommitModel: 0.000986s, 100 calls @ 986us\n",
      "\n",
      "[14:54:24] ======== Device 0 Memory Allocations:  ========\n",
      "[14:54:24] Peak memory usage: 1097MiB\n",
      "[14:54:24] Number of allocations: 1335393\n",
      "[14:54:24] ======== Monitor (0): updater_gpu_hist ========\n",
      "[14:54:24] InitData: 0.029063s, 26500 calls @ 29063us\n",
      "\n",
      "[14:54:24] InitDataOnce: 0.024826s, 1 calls @ 24826us\n",
      "\n",
      "[14:54:24] Update: 908.911s, 26500 calls @ 908910629us\n",
      "\n",
      "[14:54:24] UpdatePredictionCache: 17.9242s, 26500 calls @ 17924171us\n",
      "\n",
      "[14:54:24] ======== Monitor (0): gradient_based_sampler ========\n",
      "[14:54:24] Sample: 0.010716s, 26500 calls @ 10716us\n",
      "\n",
      "[14:54:24] ======== Monitor (0): GPUHistMakerDevice0 ========\n",
      "[14:54:24] AllReduce: 0.079883s, 147052 calls @ 79883us\n",
      "\n",
      "[14:54:24] BuildHist: 8.71285s, 139489 calls @ 8712853us\n",
      "\n",
      "[14:54:24] EvaluateSplits: 548.656s, 139489 calls @ 548655805us\n",
      "\n",
      "[14:54:24] FinalisePosition: 2.76094s, 26500 calls @ 2760938us\n",
      "\n",
      "[14:54:24] InitRoot: 285.997s, 26500 calls @ 285997253us\n",
      "\n",
      "[14:54:24] Reset: 13.9921s, 26500 calls @ 13992054us\n",
      "\n",
      "[14:54:24] UpdatePosition: 46.7046s, 139489 calls @ 46704640us\n",
      "\n",
      "[14:54:24] DEBUG: C:\\buildkite-agent\\builds\\buildkite-windows-cpu-autoscaling-group-i-07593ffd91cd9da33-1\\xgboost\\xgboost-ci-windows\\src\\tree\\updater_gpu_hist.cu:755: [GPU Hist]: Configure\n",
      "Accuracy: 0.7617815252327086\n",
      "Precision: 0.9904813713294939\n",
      "Recall: 0.7177069995024414\n",
      "F1 Score: 0.8285109262140783\n",
      "0.9479105631324173\n"
     ]
    }
   ],
   "source": [
    "xgb_clf = XGBClassifier(tree_method=\"gpu_hist\", verbosity=3)\n",
    "xgb_clf.fit(train_x, train_y, verbose=True)\n",
    "preds = xgb_clf.predict(test_x)\n",
    "model_eval(test_y, preds)\n",
    "print(average_precision_score(test_y, xgb_clf.predict_proba(test_x)))"
   ]
  },
  {
   "cell_type": "code",
   "execution_count": 43,
   "metadata": {},
   "outputs": [
    {
     "name": "stdout",
     "output_type": "stream",
     "text": [
      "Fitting 1 folds for each of 1 candidates, totalling 1 fits\n",
      "Fitting 1 folds for each of 1 candidates, totalling 1 fits\n",
      "Fitting 1 folds for each of 1 candidates, totalling 1 fits\n",
      "Fitting 1 folds for each of 1 candidates, totalling 1 fits\n",
      "Fitting 1 folds for each of 1 candidates, totalling 1 fits\n",
      "Fitting 1 folds for each of 1 candidates, totalling 1 fits\n",
      "Fitting 1 folds for each of 1 candidates, totalling 1 fits\n",
      "Fitting 1 folds for each of 1 candidates, totalling 1 fits\n"
     ]
    },
    {
     "data": {
      "text/html": [
       "<style>#sk-container-id-2 {color: black;background-color: white;}#sk-container-id-2 pre{padding: 0;}#sk-container-id-2 div.sk-toggleable {background-color: white;}#sk-container-id-2 label.sk-toggleable__label {cursor: pointer;display: block;width: 100%;margin-bottom: 0;padding: 0.3em;box-sizing: border-box;text-align: center;}#sk-container-id-2 label.sk-toggleable__label-arrow:before {content: \"▸\";float: left;margin-right: 0.25em;color: #696969;}#sk-container-id-2 label.sk-toggleable__label-arrow:hover:before {color: black;}#sk-container-id-2 div.sk-estimator:hover label.sk-toggleable__label-arrow:before {color: black;}#sk-container-id-2 div.sk-toggleable__content {max-height: 0;max-width: 0;overflow: hidden;text-align: left;background-color: #f0f8ff;}#sk-container-id-2 div.sk-toggleable__content pre {margin: 0.2em;color: black;border-radius: 0.25em;background-color: #f0f8ff;}#sk-container-id-2 input.sk-toggleable__control:checked~div.sk-toggleable__content {max-height: 200px;max-width: 100%;overflow: auto;}#sk-container-id-2 input.sk-toggleable__control:checked~label.sk-toggleable__label-arrow:before {content: \"▾\";}#sk-container-id-2 div.sk-estimator input.sk-toggleable__control:checked~label.sk-toggleable__label {background-color: #d4ebff;}#sk-container-id-2 div.sk-label input.sk-toggleable__control:checked~label.sk-toggleable__label {background-color: #d4ebff;}#sk-container-id-2 input.sk-hidden--visually {border: 0;clip: rect(1px 1px 1px 1px);clip: rect(1px, 1px, 1px, 1px);height: 1px;margin: -1px;overflow: hidden;padding: 0;position: absolute;width: 1px;}#sk-container-id-2 div.sk-estimator {font-family: monospace;background-color: #f0f8ff;border: 1px dotted black;border-radius: 0.25em;box-sizing: border-box;margin-bottom: 0.5em;}#sk-container-id-2 div.sk-estimator:hover {background-color: #d4ebff;}#sk-container-id-2 div.sk-parallel-item::after {content: \"\";width: 100%;border-bottom: 1px solid gray;flex-grow: 1;}#sk-container-id-2 div.sk-label:hover label.sk-toggleable__label {background-color: #d4ebff;}#sk-container-id-2 div.sk-serial::before {content: \"\";position: absolute;border-left: 1px solid gray;box-sizing: border-box;top: 0;bottom: 0;left: 50%;z-index: 0;}#sk-container-id-2 div.sk-serial {display: flex;flex-direction: column;align-items: center;background-color: white;padding-right: 0.2em;padding-left: 0.2em;position: relative;}#sk-container-id-2 div.sk-item {position: relative;z-index: 1;}#sk-container-id-2 div.sk-parallel {display: flex;align-items: stretch;justify-content: center;background-color: white;position: relative;}#sk-container-id-2 div.sk-item::before, #sk-container-id-2 div.sk-parallel-item::before {content: \"\";position: absolute;border-left: 1px solid gray;box-sizing: border-box;top: 0;bottom: 0;left: 50%;z-index: -1;}#sk-container-id-2 div.sk-parallel-item {display: flex;flex-direction: column;z-index: 1;position: relative;background-color: white;}#sk-container-id-2 div.sk-parallel-item:first-child::after {align-self: flex-end;width: 50%;}#sk-container-id-2 div.sk-parallel-item:last-child::after {align-self: flex-start;width: 50%;}#sk-container-id-2 div.sk-parallel-item:only-child::after {width: 0;}#sk-container-id-2 div.sk-dashed-wrapped {border: 1px dashed gray;margin: 0 0.4em 0.5em 0.4em;box-sizing: border-box;padding-bottom: 0.4em;background-color: white;}#sk-container-id-2 div.sk-label label {font-family: monospace;font-weight: bold;display: inline-block;line-height: 1.2em;}#sk-container-id-2 div.sk-label-container {text-align: center;}#sk-container-id-2 div.sk-container {/* jupyter's `normalize.less` sets `[hidden] { display: none; }` but bootstrap.min.css set `[hidden] { display: none !important; }` so we also need the `!important` here to be able to override the default hidden behavior on the sphinx rendered scikit-learn.org. See: https://github.com/scikit-learn/scikit-learn/issues/21755 */display: inline-block !important;position: relative;}#sk-container-id-2 div.sk-text-repr-fallback {display: none;}</style><div id=\"sk-container-id-2\" class=\"sk-top-container\"><div class=\"sk-text-repr-fallback\"><pre>BayesSearchCV(cv=&lt;zip object at 0x0000019AC6848F80&gt;,\n",
       "              estimator=XGBClassifier(base_score=None, booster=None,\n",
       "                                      callbacks=None, colsample_bylevel=None,\n",
       "                                      colsample_bynode=None,\n",
       "                                      colsample_bytree=None,\n",
       "                                      early_stopping_rounds=None,\n",
       "                                      enable_categorical=False,\n",
       "                                      eval_metric=None, feature_types=None,\n",
       "                                      gamma=None, gpu_id=None, grow_policy=None,\n",
       "                                      importance_type=None,\n",
       "                                      interaction_const...\n",
       "                                      max_delta_step=None, max_depth=None,\n",
       "                                      max_leaves=None, min_child_weight=None,\n",
       "                                      missing=nan, monotone_constraints=None,\n",
       "                                      n_estimators=100, n_jobs=None,\n",
       "                                      num_parallel_tree=None, predictor=None,\n",
       "                                      random_state=None, ...),\n",
       "              n_iter=8, n_jobs=-1, scoring=&#x27;precision_macro&#x27;,\n",
       "              search_spaces={&#x27;gamma&#x27;: (0, 1, &#x27;uniform&#x27;),\n",
       "                             &#x27;max_depth&#x27;: (1, 30, &#x27;uniform&#x27;),\n",
       "                             &#x27;min_child_weight&#x27;: (1, 10, &#x27;uniform&#x27;)},\n",
       "              verbose=4)</pre><b>In a Jupyter environment, please rerun this cell to show the HTML representation or trust the notebook. <br />On GitHub, the HTML representation is unable to render, please try loading this page with nbviewer.org.</b></div><div class=\"sk-container\" hidden><div class=\"sk-item sk-dashed-wrapped\"><div class=\"sk-label-container\"><div class=\"sk-label sk-toggleable\"><input class=\"sk-toggleable__control sk-hidden--visually\" id=\"sk-estimator-id-2\" type=\"checkbox\" ><label for=\"sk-estimator-id-2\" class=\"sk-toggleable__label sk-toggleable__label-arrow\">BayesSearchCV</label><div class=\"sk-toggleable__content\"><pre>BayesSearchCV(cv=&lt;zip object at 0x0000019AC6848F80&gt;,\n",
       "              estimator=XGBClassifier(base_score=None, booster=None,\n",
       "                                      callbacks=None, colsample_bylevel=None,\n",
       "                                      colsample_bynode=None,\n",
       "                                      colsample_bytree=None,\n",
       "                                      early_stopping_rounds=None,\n",
       "                                      enable_categorical=False,\n",
       "                                      eval_metric=None, feature_types=None,\n",
       "                                      gamma=None, gpu_id=None, grow_policy=None,\n",
       "                                      importance_type=None,\n",
       "                                      interaction_const...\n",
       "                                      max_delta_step=None, max_depth=None,\n",
       "                                      max_leaves=None, min_child_weight=None,\n",
       "                                      missing=nan, monotone_constraints=None,\n",
       "                                      n_estimators=100, n_jobs=None,\n",
       "                                      num_parallel_tree=None, predictor=None,\n",
       "                                      random_state=None, ...),\n",
       "              n_iter=8, n_jobs=-1, scoring=&#x27;precision_macro&#x27;,\n",
       "              search_spaces={&#x27;gamma&#x27;: (0, 1, &#x27;uniform&#x27;),\n",
       "                             &#x27;max_depth&#x27;: (1, 30, &#x27;uniform&#x27;),\n",
       "                             &#x27;min_child_weight&#x27;: (1, 10, &#x27;uniform&#x27;)},\n",
       "              verbose=4)</pre></div></div></div><div class=\"sk-parallel\"><div class=\"sk-parallel-item\"><div class=\"sk-item\"><div class=\"sk-label-container\"><div class=\"sk-label sk-toggleable\"><input class=\"sk-toggleable__control sk-hidden--visually\" id=\"sk-estimator-id-3\" type=\"checkbox\" ><label for=\"sk-estimator-id-3\" class=\"sk-toggleable__label sk-toggleable__label-arrow\">estimator: XGBClassifier</label><div class=\"sk-toggleable__content\"><pre>XGBClassifier(base_score=None, booster=None, callbacks=None,\n",
       "              colsample_bylevel=None, colsample_bynode=None,\n",
       "              colsample_bytree=None, early_stopping_rounds=None,\n",
       "              enable_categorical=False, eval_metric=None, feature_types=None,\n",
       "              gamma=None, gpu_id=None, grow_policy=None, importance_type=None,\n",
       "              interaction_constraints=None, learning_rate=None, max_bin=None,\n",
       "              max_cat_threshold=None, max_cat_to_onehot=None,\n",
       "              max_delta_step=None, max_depth=None, max_leaves=None,\n",
       "              min_child_weight=None, missing=nan, monotone_constraints=None,\n",
       "              n_estimators=100, n_jobs=None, num_parallel_tree=None,\n",
       "              predictor=None, random_state=None, ...)</pre></div></div></div><div class=\"sk-serial\"><div class=\"sk-item\"><div class=\"sk-estimator sk-toggleable\"><input class=\"sk-toggleable__control sk-hidden--visually\" id=\"sk-estimator-id-4\" type=\"checkbox\" ><label for=\"sk-estimator-id-4\" class=\"sk-toggleable__label sk-toggleable__label-arrow\">XGBClassifier</label><div class=\"sk-toggleable__content\"><pre>XGBClassifier(base_score=None, booster=None, callbacks=None,\n",
       "              colsample_bylevel=None, colsample_bynode=None,\n",
       "              colsample_bytree=None, early_stopping_rounds=None,\n",
       "              enable_categorical=False, eval_metric=None, feature_types=None,\n",
       "              gamma=None, gpu_id=None, grow_policy=None, importance_type=None,\n",
       "              interaction_constraints=None, learning_rate=None, max_bin=None,\n",
       "              max_cat_threshold=None, max_cat_to_onehot=None,\n",
       "              max_delta_step=None, max_depth=None, max_leaves=None,\n",
       "              min_child_weight=None, missing=nan, monotone_constraints=None,\n",
       "              n_estimators=100, n_jobs=None, num_parallel_tree=None,\n",
       "              predictor=None, random_state=None, ...)</pre></div></div></div></div></div></div></div></div></div></div>"
      ],
      "text/plain": [
       "BayesSearchCV(cv=<zip object at 0x0000019AC6848F80>,\n",
       "              estimator=XGBClassifier(base_score=None, booster=None,\n",
       "                                      callbacks=None, colsample_bylevel=None,\n",
       "                                      colsample_bynode=None,\n",
       "                                      colsample_bytree=None,\n",
       "                                      early_stopping_rounds=None,\n",
       "                                      enable_categorical=False,\n",
       "                                      eval_metric=None, feature_types=None,\n",
       "                                      gamma=None, gpu_id=None, grow_policy=None,\n",
       "                                      importance_type=None,\n",
       "                                      interaction_const...\n",
       "                                      max_delta_step=None, max_depth=None,\n",
       "                                      max_leaves=None, min_child_weight=None,\n",
       "                                      missing=nan, monotone_constraints=None,\n",
       "                                      n_estimators=100, n_jobs=None,\n",
       "                                      num_parallel_tree=None, predictor=None,\n",
       "                                      random_state=None, ...),\n",
       "              n_iter=8, n_jobs=-1, scoring='precision_macro',\n",
       "              search_spaces={'gamma': (0, 1, 'uniform'),\n",
       "                             'max_depth': (1, 30, 'uniform'),\n",
       "                             'min_child_weight': (1, 10, 'uniform')},\n",
       "              verbose=4)"
      ]
     },
     "execution_count": 43,
     "metadata": {},
     "output_type": "execute_result"
    }
   ],
   "source": [
    "from skopt import BayesSearchCV\n",
    "\n",
    "search = BayesSearchCV(\n",
    "    XGBClassifier(tree_method=\"gpu_hist\"),\n",
    "    {\n",
    "        \"max_depth\": (1, 30, \"uniform\"),\n",
    "        \"gamma\": (0, 1, \"uniform\"),\n",
    "        \"min_child_weight\": (1, 10, \"uniform\"),\n",
    "    },\n",
    "    n_iter=8,\n",
    "    scoring=\"precision_macro\",\n",
    "    verbose=4,\n",
    "    cv=zip(\n",
    "        [np.arange(0, int(len(train_x) * 0.67))],\n",
    "        [np.arange(int(len(train_x) * 0.67) + 1, len(train_x))],\n",
    "    ),\n",
    "    n_points=1,\n",
    "    n_jobs=-1,\n",
    ")\n",
    "search.fit(train_x, train_y)"
   ]
  },
  {
   "cell_type": "code",
   "execution_count": 44,
   "metadata": {},
   "outputs": [
    {
     "name": "stdout",
     "output_type": "stream",
     "text": [
      "Accuracy: 0.7677714238009767\n",
      "Precision: 0.9866059859940541\n",
      "Recall: 0.7278978653841502\n",
      "F1 Score: 0.8345197010695892\n",
      "0.9432796210139014\n"
     ]
    }
   ],
   "source": [
    "model_eval(test_y, search.predict(test_x))\n",
    "print(average_precision_score(test_y, search.predict_proba(test_x)))"
   ]
  },
  {
   "cell_type": "code",
   "execution_count": 46,
   "metadata": {},
   "outputs": [
    {
     "data": {
      "text/plain": [
       "OrderedDict([('gamma', 0), ('max_depth', 6), ('min_child_weight', 5)])"
      ]
     },
     "execution_count": 46,
     "metadata": {},
     "output_type": "execute_result"
    }
   ],
   "source": [
    "search.best_params_"
   ]
  },
  {
   "cell_type": "code",
   "execution_count": 7,
   "metadata": {},
   "outputs": [
    {
     "name": "stdout",
     "output_type": "stream",
     "text": [
      "(191655,)\n"
     ]
    }
   ],
   "source": [
    "from sklearn.utils.class_weight import compute_sample_weight\n",
    "\n",
    "\n",
    "labels_expanded = []\n",
    "for x in data[\"species\"]:\n",
    "    for j in x:\n",
    "        labels_expanded.append(j)\n",
    "weights = compute_sample_weight(\n",
    "    class_weight=\"balanced\",\n",
    "    y=[x[0] for x in mlb.inverse_transform(train_y)],\n",
    ")\n",
    "print(weights.shape)"
   ]
  },
  {
   "cell_type": "code",
   "execution_count": 9,
   "metadata": {},
   "outputs": [
    {
     "name": "stdout",
     "output_type": "stream",
     "text": [
      "Accuracy: 0.7555829193972534\n",
      "Precision: 0.9882951533790961\n",
      "Recall: 0.712574707471642\n",
      "F1 Score: 0.8245915807290878\n",
      "Average Precision:  0.9427516362441193\n"
     ]
    }
   ],
   "source": [
    "from xgboost import XGBClassifier\n",
    "\n",
    "xgbc = XGBClassifier(tree_method=\"gpu_hist\")\n",
    "xgbc.fit(train_x, train_y, sample_weight=weights, verbose=True)\n",
    "model_eval(test_y, xgbc.predict(test_x))\n",
    "print(\n",
    "    \"Average Precision: \", average_precision_score(test_y, xgbc.predict_proba(test_x))\n",
    ")"
   ]
  },
  {
   "cell_type": "code",
   "execution_count": 8,
   "metadata": {},
   "outputs": [
    {
     "name": "stdout",
     "output_type": "stream",
     "text": [
      "Fitting 2 folds for each of 1 candidates, totalling 2 fits\n",
      "Fitting 2 folds for each of 1 candidates, totalling 2 fits\n",
      "Fitting 2 folds for each of 1 candidates, totalling 2 fits\n",
      "Fitting 2 folds for each of 1 candidates, totalling 2 fits\n",
      "Fitting 2 folds for each of 1 candidates, totalling 2 fits\n",
      "Fitting 2 folds for each of 1 candidates, totalling 2 fits\n",
      "Fitting 2 folds for each of 1 candidates, totalling 2 fits\n",
      "Fitting 2 folds for each of 1 candidates, totalling 2 fits\n"
     ]
    },
    {
     "data": {
      "text/html": [
       "<style>#sk-container-id-1 {color: black;background-color: white;}#sk-container-id-1 pre{padding: 0;}#sk-container-id-1 div.sk-toggleable {background-color: white;}#sk-container-id-1 label.sk-toggleable__label {cursor: pointer;display: block;width: 100%;margin-bottom: 0;padding: 0.3em;box-sizing: border-box;text-align: center;}#sk-container-id-1 label.sk-toggleable__label-arrow:before {content: \"▸\";float: left;margin-right: 0.25em;color: #696969;}#sk-container-id-1 label.sk-toggleable__label-arrow:hover:before {color: black;}#sk-container-id-1 div.sk-estimator:hover label.sk-toggleable__label-arrow:before {color: black;}#sk-container-id-1 div.sk-toggleable__content {max-height: 0;max-width: 0;overflow: hidden;text-align: left;background-color: #f0f8ff;}#sk-container-id-1 div.sk-toggleable__content pre {margin: 0.2em;color: black;border-radius: 0.25em;background-color: #f0f8ff;}#sk-container-id-1 input.sk-toggleable__control:checked~div.sk-toggleable__content {max-height: 200px;max-width: 100%;overflow: auto;}#sk-container-id-1 input.sk-toggleable__control:checked~label.sk-toggleable__label-arrow:before {content: \"▾\";}#sk-container-id-1 div.sk-estimator input.sk-toggleable__control:checked~label.sk-toggleable__label {background-color: #d4ebff;}#sk-container-id-1 div.sk-label input.sk-toggleable__control:checked~label.sk-toggleable__label {background-color: #d4ebff;}#sk-container-id-1 input.sk-hidden--visually {border: 0;clip: rect(1px 1px 1px 1px);clip: rect(1px, 1px, 1px, 1px);height: 1px;margin: -1px;overflow: hidden;padding: 0;position: absolute;width: 1px;}#sk-container-id-1 div.sk-estimator {font-family: monospace;background-color: #f0f8ff;border: 1px dotted black;border-radius: 0.25em;box-sizing: border-box;margin-bottom: 0.5em;}#sk-container-id-1 div.sk-estimator:hover {background-color: #d4ebff;}#sk-container-id-1 div.sk-parallel-item::after {content: \"\";width: 100%;border-bottom: 1px solid gray;flex-grow: 1;}#sk-container-id-1 div.sk-label:hover label.sk-toggleable__label {background-color: #d4ebff;}#sk-container-id-1 div.sk-serial::before {content: \"\";position: absolute;border-left: 1px solid gray;box-sizing: border-box;top: 0;bottom: 0;left: 50%;z-index: 0;}#sk-container-id-1 div.sk-serial {display: flex;flex-direction: column;align-items: center;background-color: white;padding-right: 0.2em;padding-left: 0.2em;position: relative;}#sk-container-id-1 div.sk-item {position: relative;z-index: 1;}#sk-container-id-1 div.sk-parallel {display: flex;align-items: stretch;justify-content: center;background-color: white;position: relative;}#sk-container-id-1 div.sk-item::before, #sk-container-id-1 div.sk-parallel-item::before {content: \"\";position: absolute;border-left: 1px solid gray;box-sizing: border-box;top: 0;bottom: 0;left: 50%;z-index: -1;}#sk-container-id-1 div.sk-parallel-item {display: flex;flex-direction: column;z-index: 1;position: relative;background-color: white;}#sk-container-id-1 div.sk-parallel-item:first-child::after {align-self: flex-end;width: 50%;}#sk-container-id-1 div.sk-parallel-item:last-child::after {align-self: flex-start;width: 50%;}#sk-container-id-1 div.sk-parallel-item:only-child::after {width: 0;}#sk-container-id-1 div.sk-dashed-wrapped {border: 1px dashed gray;margin: 0 0.4em 0.5em 0.4em;box-sizing: border-box;padding-bottom: 0.4em;background-color: white;}#sk-container-id-1 div.sk-label label {font-family: monospace;font-weight: bold;display: inline-block;line-height: 1.2em;}#sk-container-id-1 div.sk-label-container {text-align: center;}#sk-container-id-1 div.sk-container {/* jupyter's `normalize.less` sets `[hidden] { display: none; }` but bootstrap.min.css set `[hidden] { display: none !important; }` so we also need the `!important` here to be able to override the default hidden behavior on the sphinx rendered scikit-learn.org. See: https://github.com/scikit-learn/scikit-learn/issues/21755 */display: inline-block !important;position: relative;}#sk-container-id-1 div.sk-text-repr-fallback {display: none;}</style><div id=\"sk-container-id-1\" class=\"sk-top-container\"><div class=\"sk-text-repr-fallback\"><pre>BayesSearchCV(cv=2,\n",
       "              estimator=XGBClassifier(base_score=None, booster=None,\n",
       "                                      callbacks=None, colsample_bylevel=None,\n",
       "                                      colsample_bynode=None,\n",
       "                                      colsample_bytree=None,\n",
       "                                      early_stopping_rounds=None,\n",
       "                                      enable_categorical=False,\n",
       "                                      eval_metric=None, feature_types=None,\n",
       "                                      gamma=None, gpu_id=None, grow_policy=None,\n",
       "                                      importance_type=None,\n",
       "                                      interaction_constraints=None,\n",
       "                                      learning_rate=None...\n",
       "                                      n_estimators=100, n_jobs=None,\n",
       "                                      num_parallel_tree=None, predictor=None,\n",
       "                                      random_state=None, ...),\n",
       "              fit_params={&#x27;sample_weight&#x27;: array([0.0857208 , 0.19092566, 0.4950215 , ..., 0.67465151, 1.30782354,\n",
       "       0.60980305])},\n",
       "              n_iter=8, n_jobs=-1, scoring=&#x27;f1_macro&#x27;,\n",
       "              search_spaces={&#x27;gamma&#x27;: (0.0, 1.0, &#x27;uniform&#x27;),\n",
       "                             &#x27;max_depth&#x27;: (3, 15, &#x27;uniform&#x27;),\n",
       "                             &#x27;min_child_weight&#x27;: (1, 10, &#x27;uniform&#x27;)},\n",
       "              verbose=4)</pre><b>In a Jupyter environment, please rerun this cell to show the HTML representation or trust the notebook. <br />On GitHub, the HTML representation is unable to render, please try loading this page with nbviewer.org.</b></div><div class=\"sk-container\" hidden><div class=\"sk-item sk-dashed-wrapped\"><div class=\"sk-label-container\"><div class=\"sk-label sk-toggleable\"><input class=\"sk-toggleable__control sk-hidden--visually\" id=\"sk-estimator-id-1\" type=\"checkbox\" ><label for=\"sk-estimator-id-1\" class=\"sk-toggleable__label sk-toggleable__label-arrow\">BayesSearchCV</label><div class=\"sk-toggleable__content\"><pre>BayesSearchCV(cv=2,\n",
       "              estimator=XGBClassifier(base_score=None, booster=None,\n",
       "                                      callbacks=None, colsample_bylevel=None,\n",
       "                                      colsample_bynode=None,\n",
       "                                      colsample_bytree=None,\n",
       "                                      early_stopping_rounds=None,\n",
       "                                      enable_categorical=False,\n",
       "                                      eval_metric=None, feature_types=None,\n",
       "                                      gamma=None, gpu_id=None, grow_policy=None,\n",
       "                                      importance_type=None,\n",
       "                                      interaction_constraints=None,\n",
       "                                      learning_rate=None...\n",
       "                                      n_estimators=100, n_jobs=None,\n",
       "                                      num_parallel_tree=None, predictor=None,\n",
       "                                      random_state=None, ...),\n",
       "              fit_params={&#x27;sample_weight&#x27;: array([0.0857208 , 0.19092566, 0.4950215 , ..., 0.67465151, 1.30782354,\n",
       "       0.60980305])},\n",
       "              n_iter=8, n_jobs=-1, scoring=&#x27;f1_macro&#x27;,\n",
       "              search_spaces={&#x27;gamma&#x27;: (0.0, 1.0, &#x27;uniform&#x27;),\n",
       "                             &#x27;max_depth&#x27;: (3, 15, &#x27;uniform&#x27;),\n",
       "                             &#x27;min_child_weight&#x27;: (1, 10, &#x27;uniform&#x27;)},\n",
       "              verbose=4)</pre></div></div></div><div class=\"sk-parallel\"><div class=\"sk-parallel-item\"><div class=\"sk-item\"><div class=\"sk-label-container\"><div class=\"sk-label sk-toggleable\"><input class=\"sk-toggleable__control sk-hidden--visually\" id=\"sk-estimator-id-2\" type=\"checkbox\" ><label for=\"sk-estimator-id-2\" class=\"sk-toggleable__label sk-toggleable__label-arrow\">estimator: XGBClassifier</label><div class=\"sk-toggleable__content\"><pre>XGBClassifier(base_score=None, booster=None, callbacks=None,\n",
       "              colsample_bylevel=None, colsample_bynode=None,\n",
       "              colsample_bytree=None, early_stopping_rounds=None,\n",
       "              enable_categorical=False, eval_metric=None, feature_types=None,\n",
       "              gamma=None, gpu_id=None, grow_policy=None, importance_type=None,\n",
       "              interaction_constraints=None, learning_rate=None, max_bin=None,\n",
       "              max_cat_threshold=None, max_cat_to_onehot=None,\n",
       "              max_delta_step=None, max_depth=None, max_leaves=None,\n",
       "              min_child_weight=None, missing=nan, monotone_constraints=None,\n",
       "              n_estimators=100, n_jobs=None, num_parallel_tree=None,\n",
       "              predictor=None, random_state=None, ...)</pre></div></div></div><div class=\"sk-serial\"><div class=\"sk-item\"><div class=\"sk-estimator sk-toggleable\"><input class=\"sk-toggleable__control sk-hidden--visually\" id=\"sk-estimator-id-3\" type=\"checkbox\" ><label for=\"sk-estimator-id-3\" class=\"sk-toggleable__label sk-toggleable__label-arrow\">XGBClassifier</label><div class=\"sk-toggleable__content\"><pre>XGBClassifier(base_score=None, booster=None, callbacks=None,\n",
       "              colsample_bylevel=None, colsample_bynode=None,\n",
       "              colsample_bytree=None, early_stopping_rounds=None,\n",
       "              enable_categorical=False, eval_metric=None, feature_types=None,\n",
       "              gamma=None, gpu_id=None, grow_policy=None, importance_type=None,\n",
       "              interaction_constraints=None, learning_rate=None, max_bin=None,\n",
       "              max_cat_threshold=None, max_cat_to_onehot=None,\n",
       "              max_delta_step=None, max_depth=None, max_leaves=None,\n",
       "              min_child_weight=None, missing=nan, monotone_constraints=None,\n",
       "              n_estimators=100, n_jobs=None, num_parallel_tree=None,\n",
       "              predictor=None, random_state=None, ...)</pre></div></div></div></div></div></div></div></div></div></div>"
      ],
      "text/plain": [
       "BayesSearchCV(cv=2,\n",
       "              estimator=XGBClassifier(base_score=None, booster=None,\n",
       "                                      callbacks=None, colsample_bylevel=None,\n",
       "                                      colsample_bynode=None,\n",
       "                                      colsample_bytree=None,\n",
       "                                      early_stopping_rounds=None,\n",
       "                                      enable_categorical=False,\n",
       "                                      eval_metric=None, feature_types=None,\n",
       "                                      gamma=None, gpu_id=None, grow_policy=None,\n",
       "                                      importance_type=None,\n",
       "                                      interaction_constraints=None,\n",
       "                                      learning_rate=None...\n",
       "                                      n_estimators=100, n_jobs=None,\n",
       "                                      num_parallel_tree=None, predictor=None,\n",
       "                                      random_state=None, ...),\n",
       "              fit_params={'sample_weight': array([0.0857208 , 0.19092566, 0.4950215 , ..., 0.67465151, 1.30782354,\n",
       "       0.60980305])},\n",
       "              n_iter=8, n_jobs=-1, scoring='f1_macro',\n",
       "              search_spaces={'gamma': (0.0, 1.0, 'uniform'),\n",
       "                             'max_depth': (3, 15, 'uniform'),\n",
       "                             'min_child_weight': (1, 10, 'uniform')},\n",
       "              verbose=4)"
      ]
     },
     "execution_count": 8,
     "metadata": {},
     "output_type": "execute_result"
    }
   ],
   "source": [
    "from skopt import BayesSearchCV\n",
    "from xgboost import XGBClassifier\n",
    "\n",
    "search = BayesSearchCV(\n",
    "    XGBClassifier(tree_method=\"gpu_hist\"),\n",
    "    {\n",
    "        \"max_depth\": (3, 15, \"uniform\"),\n",
    "        \"gamma\": (0.0, 1.0, \"uniform\"),\n",
    "        \"min_child_weight\": (1, 10, \"uniform\"),\n",
    "    },\n",
    "    fit_params={\"sample_weight\": weights},\n",
    "    n_iter=8,\n",
    "    scoring=\"f1_macro\",\n",
    "    verbose=4,\n",
    "    cv=2,\n",
    "    n_points=1,\n",
    "    n_jobs=-1,\n",
    ")\n",
    "search.fit(train_x, train_y)"
   ]
  },
  {
   "cell_type": "code",
   "execution_count": 9,
   "metadata": {},
   "outputs": [
    {
     "name": "stdout",
     "output_type": "stream",
     "text": [
      "OrderedDict([('gamma', 0.21678970864911834), ('max_depth', 6), ('min_child_weight', 4)])\n",
      "Accuracy: 0.7654756438619192\n",
      "Precision: 0.987203693248337\n",
      "Recall: 0.7244783548864888\n",
      "F1 Score: 0.832269913980735\n",
      "0.9421163147336618\n"
     ]
    }
   ],
   "source": [
    "print(search.best_params_)\n",
    "model_eval(test_y, search.predict(test_x))\n",
    "print(average_precision_score(test_y, search.predict_proba(test_x)))"
   ]
  },
  {
   "cell_type": "code",
   "execution_count": 13,
   "metadata": {},
   "outputs": [],
   "source": [
    "import pickle\n",
    "from pathlib import Path\n",
    "\n",
    "pickle.dump(\n",
    "    search.best_estimator_,\n",
    "    Path(\"../data/models/baseline/xgbc-sample-weight-opt.pkl\").open(\"wb\"),\n",
    ")"
   ]
  },
  {
   "cell_type": "code",
   "execution_count": 14,
   "metadata": {},
   "outputs": [],
   "source": [
    "import pickle\n",
    "from pathlib import Path\n",
    "\n",
    "pickle.dump(\n",
    "    mlb,\n",
    "    Path(\"../data/models/baseline/multilabel-binarizer.pkl\").open(\"wb\"),\n",
    ")"
   ]
  },
  {
   "cell_type": "code",
   "execution_count": 15,
   "metadata": {},
   "outputs": [
    {
     "data": {
      "text/plain": [
       "array(['abethr1', 'abhori1', 'abythr1', 'afbfly1', 'afdfly1', 'afecuc1',\n",
       "       'affeag1', 'afgfly1', 'afghor1', 'afmdov1', 'afpfly1', 'afpkin1',\n",
       "       'afpwag1', 'afrgos1', 'afrgrp1', 'afrjac1', 'afrthr1', 'amesun2',\n",
       "       'augbuz1', 'bagwea1', 'barswa', 'bawhor2', 'bawman1', 'bcbeat1',\n",
       "       'beasun2', 'bkctch1', 'bkfruw1', 'blacra1', 'blacuc1', 'blakit1',\n",
       "       'blaplo1', 'blbpuf2', 'blcapa2', 'blfbus1', 'blhgon1', 'blhher1',\n",
       "       'blksaw1', 'blnmou1', 'blnwea1', 'bltapa1', 'bltbar1', 'bltori1',\n",
       "       'blwlap1', 'brcale1', 'brcsta1', 'brctch1', 'brcwea1', 'brican1',\n",
       "       'brobab1', 'broman1', 'brosun1', 'brrwhe3', 'brtcha1', 'brubru1',\n",
       "       'brwwar1', 'bswdov1', 'btweye2', 'bubwar2', 'butapa1', 'cabgre1',\n",
       "       'carcha1', 'carwoo1', 'categr', 'ccbeat1', 'chespa1', 'chewea1',\n",
       "       'chibat1', 'chtapa3', 'chucis1', 'cibwar1', 'cohmar1', 'colsun2',\n",
       "       'combul2', 'combuz1', 'comsan', 'crefra2', 'crheag1', 'crohor1',\n",
       "       'darbar1', 'darter3', 'didcuc1', 'dotbar1', 'dutdov1', 'easmog1',\n",
       "       'eaywag1', 'edcsun3', 'egygoo', 'equaka1', 'eswdov1', 'eubeat1',\n",
       "       'fatrav1', 'fatwid1', 'fislov1', 'fotdro5', 'gabgos2', 'gargan',\n",
       "       'gbesta1', 'gnbcam2', 'gnhsun1', 'gobbun1', 'gobsta5', 'gobwea1',\n",
       "       'golher1', 'grbcam1', 'grccra1', 'grecor', 'greegr', 'grewoo2',\n",
       "       'grwpyt1', 'gryapa1', 'grywrw1', 'gybfis1', 'gycwar3', 'gyhbus1',\n",
       "       'gyhkin1', 'gyhneg1', 'gyhspa1', 'gytbar1', 'hadibi1', 'hamerk1',\n",
       "       'hartur1', 'helgui', 'hipbab1', 'hoopoe', 'huncis1', 'hunsun2',\n",
       "       'joygre1', 'kerspa2', 'klacuc1', 'kvbsun1', 'laudov1', 'lawgol',\n",
       "       'lesmaw1', 'lessts1', 'libeat1', 'litegr', 'litswi1', 'litwea1',\n",
       "       'loceag1', 'lotcor1', 'lotlap1', 'luebus1', 'mabeat1', 'macshr1',\n",
       "       'malkin1', 'marsto1', 'marsun2', 'mcptit1', 'meypar1', 'moccha1',\n",
       "       'mouwag1', 'ndcsun2', 'no_call', 'nobfly1', 'norbro1', 'norcro1',\n",
       "       'norfis1', 'norpuf1', 'nubwoo1', 'pabspa1', 'palfly2', 'palpri1',\n",
       "       'piecro1', 'piekin1', 'pitwhy', 'purgre2', 'pygbat1', 'quailf1',\n",
       "       'ratcis1', 'raybar1', 'rbsrob1', 'rebfir2', 'rebhor1', 'reboxp1',\n",
       "       'reccor', 'reccuc1', 'reedov1', 'refbar2', 'refcro1', 'reftin1',\n",
       "       'refwar2', 'rehblu1', 'rehwea1', 'reisee2', 'rerswa1', 'rewsta1',\n",
       "       'rindov', 'rocmar2', 'rostur1', 'ruegls1', 'rufcha2', 'sacibi2',\n",
       "       'sccsun2', 'scrcha1', 'scthon1', 'shesta1', 'sichor1', 'sincis1',\n",
       "       'slbgre1', 'slcbou1', 'sltnig1', 'sobfly1', 'somgre1', 'somtit4',\n",
       "       'soucit1', 'soufis1', 'spemou2', 'spepig1', 'spewea1', 'spfbar1',\n",
       "       'spfwea1', 'spmthr1', 'spwlap1', 'squher1', 'strher', 'strsee1',\n",
       "       'stusta1', 'subbus1', 'supsta1', 'tacsun1', 'tafpri1', 'tamdov1',\n",
       "       'thrnig1', 'trobou1', 'varsun2', 'vibsta2', 'vilwea1', 'vimwea1',\n",
       "       'walsta1', 'wbgbir1', 'wbrcha2', 'wbswea1', 'wfbeat1', 'whbcan1',\n",
       "       'whbcou1', 'whbcro2', 'whbtit5', 'whbwea1', 'whbwhe3', 'whcpri2',\n",
       "       'whctur2', 'wheslf1', 'whhsaw1', 'whihel1', 'whrshr1', 'witswa1',\n",
       "       'wlwwar', 'wookin1', 'woosan', 'wtbeat1', 'yebapa1', 'yebbar1',\n",
       "       'yebduc1', 'yebere1', 'yebgre1', 'yebsto1', 'yeccan1', 'yefcan',\n",
       "       'yelbis1', 'yenspu1', 'yertin1', 'yesbar1', 'yespet1', 'yetgre1',\n",
       "       'yewgre1'], dtype=object)"
      ]
     },
     "execution_count": 15,
     "metadata": {},
     "output_type": "execute_result"
    }
   ],
   "source": [
    "mlb.classes_"
   ]
  },
  {
   "cell_type": "code",
   "execution_count": 16,
   "metadata": {},
   "outputs": [
    {
     "data": {
      "text/plain": [
       "array([0, 1])"
      ]
     },
     "execution_count": 16,
     "metadata": {},
     "output_type": "execute_result"
    }
   ],
   "source": [
    "search.best_estimator_.classes_"
   ]
  },
  {
   "cell_type": "code",
   "execution_count": null,
   "metadata": {},
   "outputs": [],
   "source": []
  }
 ],
 "metadata": {
  "kernelspec": {
   "display_name": ".venv",
   "language": "python",
   "name": "python3"
  },
  "language_info": {
   "codemirror_mode": {
    "name": "ipython",
    "version": 3
   },
   "file_extension": ".py",
   "mimetype": "text/x-python",
   "name": "python",
   "nbconvert_exporter": "python",
   "pygments_lexer": "ipython3",
   "version": "3.9.13"
  },
  "orig_nbformat": 4
 },
 "nbformat": 4,
 "nbformat_minor": 2
}
