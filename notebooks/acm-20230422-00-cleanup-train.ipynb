{
 "cells": [
  {
   "attachments": {},
   "cell_type": "markdown",
   "metadata": {},
   "source": [
    "# cleanup of the train durations\n",
    "\n",
    "As per the last notebook, we've made a few mistakes in the parquet files, so we need to clean these up and reprocess them."
   ]
  },
  {
   "cell_type": "code",
   "execution_count": 14,
   "metadata": {},
   "outputs": [
    {
     "name": "stdout",
     "output_type": "stream",
     "text": [
      "audio  consolidated  embeddings\n"
     ]
    }
   ],
   "source": [
    "data_root = \"../data\"\n",
    "prefix = \"processed/birdclef-2023/train_embeddings\"\n",
    "! ls {data_root}/{prefix}"
   ]
  },
  {
   "cell_type": "code",
   "execution_count": 15,
   "metadata": {},
   "outputs": [
    {
     "name": "stdout",
     "output_type": "stream",
     "text": [
      "XC128013.mp3\t      XC379322.mp3\t    XC585802.mp3\n",
      "XC128013.wav\t      XC379322.wav\t    XC585802.wav\n",
      "XC128013_source0.mp3  XC379322_source0.mp3  XC585802_source0.mp3\n",
      "XC128013_source1.mp3  XC379322_source1.mp3  XC585802_source1.mp3\n",
      "XC128013_source2.mp3  XC379322_source2.mp3  XC585802_source2.mp3\n",
      "XC128013_source3.mp3  XC379322_source3.mp3  XC585802_source3.mp3\n",
      "XC363501.mp3\t      XC432639.mp3\t    XC606253.mp3\n",
      "XC363501.wav\t      XC432639.wav\t    XC606253.wav\n",
      "XC363501_source0.mp3  XC432639_source0.mp3  XC606253_source0.mp3\n",
      "XC363501_source1.mp3  XC432639_source1.mp3  XC606253_source1.mp3\n",
      "XC363501_source2.mp3  XC432639_source2.mp3  XC606253_source2.mp3\n",
      "XC363501_source3.mp3  XC432639_source3.mp3  XC606253_source3.mp3\n",
      "XC363502.mp3\t      XC467121.mp3\t    XC616997.mp3\n",
      "XC363502.wav\t      XC467121.wav\t    XC616997.wav\n",
      "XC363502_source0.mp3  XC467121_source0.mp3  XC616997_source0.mp3\n",
      "XC363502_source1.mp3  XC467121_source1.mp3  XC616997_source1.mp3\n",
      "XC363502_source2.mp3  XC467121_source2.mp3  XC616997_source2.mp3\n",
      "XC363502_source3.mp3  XC467121_source3.mp3  XC616997_source3.mp3\n",
      "XC363503.mp3\t      XC467122.mp3\t    XC639039.mp3\n",
      "XC363503.wav\t      XC467122.wav\t    XC639039.wav\n",
      "XC363503_source0.mp3  XC467122_source0.mp3  XC639039_source0.mp3\n",
      "XC363503_source1.mp3  XC467122_source1.mp3  XC639039_source1.mp3\n",
      "XC363503_source2.mp3  XC467122_source2.mp3  XC639039_source2.mp3\n",
      "XC363503_source3.mp3  XC467122_source3.mp3  XC639039_source3.mp3\n",
      "XC363504.mp3\t      XC531557.mp3\t    XC756300.mp3\n",
      "XC363504.wav\t      XC531557.wav\t    XC756300.wav\n",
      "XC363504_source0.mp3  XC531557_source0.mp3  XC756300_source0.mp3\n",
      "XC363504_source1.mp3  XC531557_source1.mp3  XC756300_source1.mp3\n",
      "XC363504_source2.mp3  XC531557_source2.mp3  XC756300_source2.mp3\n",
      "XC363504_source3.mp3  XC531557_source3.mp3  XC756300_source3.mp3\n"
     ]
    }
   ],
   "source": [
    "! ls {data_root}/{prefix}/audio/abethr1"
   ]
  },
  {
   "cell_type": "code",
   "execution_count": 23,
   "metadata": {},
   "outputs": [],
   "source": [
    "# sync this up into the cloud\n",
    "gcloud_data_root = \"gs://birdclef-2023/data\"\n",
    "! gsutil -m rsync -r {data_root}/{prefix}/audio {gcloud_data_root}/{prefix}/audio > ../data/logs/gsutil-rsync-audio.log 2>&1"
   ]
  },
  {
   "cell_type": "code",
   "execution_count": 24,
   "metadata": {},
   "outputs": [
    {
     "name": "stdout",
     "output_type": "stream",
     "text": [
      "Copying file://../data/processed/birdclef-2023/train_embeddings/audio/yewgre1/XC703485.mp3 [Content-Type=audio/mpeg]...\n",
      "Copying file://../data/processed/birdclef-2023/train_embeddings/audio/yewgre1/XC703485.wav [Content-Type=audio/x-wav]...\n",
      "Copying file://../data/processed/birdclef-2023/train_embeddings/audio/yewgre1/XC704433.wav [Content-Type=audio/x-wav]...\n",
      "Copying file://../data/processed/birdclef-2023/train_embeddings/audio/yewgre1/XC704433.mp3 [Content-Type=audio/mpeg]...\n",
      "Copying file://../data/processed/birdclef-2023/train_embeddings/audio/yewgre1/XC752974.mp3 [Content-Type=audio/mpeg]...\n",
      "Copying file://../data/processed/birdclef-2023/train_embeddings/audio/yewgre1/XC752974.wav [Content-Type=audio/x-wav]...\n",
      "Copying file://../data/processed/birdclef-2023/train_embeddings/audio/yewgre1/XC753190.mp3 [Content-Type=audio/mpeg]...\n",
      "Copying file://../data/processed/birdclef-2023/train_embeddings/audio/yewgre1/XC753190.wav [Content-Type=audio/x-wav]...\n",
      "\\ [58.2k/58.2k files][ 74.8 GiB/ 74.8 GiB] 100% Done  20.4 MiB/s ETA 00:00:00   \n",
      "Operation completed over 58.2k objects/74.8 GiB.                                 \n"
     ]
    }
   ],
   "source": [
    "! tail ../data/logs/gsutil-rsync-audio.log"
   ]
  },
  {
   "cell_type": "code",
   "execution_count": 25,
   "metadata": {},
   "outputs": [],
   "source": [
    "# let's delete a bunch of the existing embeddings\n",
    "! rm -r {data_root}/{prefix}/embeddings"
   ]
  }
 ],
 "metadata": {
  "kernelspec": {
   "display_name": "venv",
   "language": "python",
   "name": "python3"
  },
  "language_info": {
   "codemirror_mode": {
    "name": "ipython",
    "version": 3
   },
   "file_extension": ".py",
   "mimetype": "text/x-python",
   "name": "python",
   "nbconvert_exporter": "python",
   "pygments_lexer": "ipython3",
   "version": "3.10.6"
  },
  "orig_nbformat": 4
 },
 "nbformat": 4,
 "nbformat_minor": 2
}
