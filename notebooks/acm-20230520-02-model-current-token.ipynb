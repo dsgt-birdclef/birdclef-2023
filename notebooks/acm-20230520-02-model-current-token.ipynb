{
 "cells": [
  {
   "attachments": {},
   "cell_type": "markdown",
   "metadata": {},
   "source": [
    "# runs\n",
    "\n",
    "```powershell\n",
    "python scripts/acm_20230520_00_train_multilabel_xgbc.py \\\n",
    "    --prefix acm-20230520-02-model-current-token \\\n",
    "    --dry-run\n",
    "```"
   ]
  }
 ],
 "metadata": {
  "kernelspec": {
   "display_name": "venv",
   "language": "python",
   "name": "python3"
  },
  "language_info": {
   "codemirror_mode": {
    "name": "ipython",
    "version": 3
   },
   "file_extension": ".py",
   "mimetype": "text/x-python",
   "name": "python",
   "nbconvert_exporter": "python",
   "pygments_lexer": "ipython3",
   "version": "3.10.5"
  },
  "orig_nbformat": 4
 },
 "nbformat": 4,
 "nbformat_minor": 2
}
