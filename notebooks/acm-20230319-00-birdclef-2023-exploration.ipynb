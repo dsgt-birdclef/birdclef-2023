{
 "cells": [
  {
   "cell_type": "code",
   "execution_count": 1,
   "metadata": {},
   "outputs": [],
   "source": [
    "%load_ext autoreload\n",
    "%autoreload 2\n",
    "%load_ext lab_black"
   ]
  },
  {
   "attachments": {},
   "cell_type": "markdown",
   "metadata": {},
   "source": [
    "# birdclef-2023 exploration\n",
    "\n",
    "The purpose of this notebook is to explore the data and the task of the [BirdCLEF 2023](https://www.kaggle.com/c/birdclef-2023) competition."
   ]
  },
  {
   "cell_type": "code",
   "execution_count": 28,
   "metadata": {},
   "outputs": [],
   "source": [
    "from birdclef.utils import get_spark\n",
    "from pyspark.sql import functions as F\n",
    "\n",
    "spark = get_spark()"
   ]
  },
  {
   "cell_type": "code",
   "execution_count": 4,
   "metadata": {},
   "outputs": [
    {
     "name": "stdout",
     "output_type": "stream",
     "text": [
      "eBird_Taxonomy_v2021.csv  test_soundscapes  train_metadata.csv\n",
      "sample_submission.csv\t  train_audio\n"
     ]
    }
   ],
   "source": [
    "birdclef_root = \"../data/raw/birdclef-2023\"\n",
    "! ls {birdclef_root}"
   ]
  },
  {
   "attachments": {},
   "cell_type": "markdown",
   "metadata": {},
   "source": [
    "## sample submission"
   ]
  },
  {
   "cell_type": "code",
   "execution_count": 6,
   "metadata": {},
   "outputs": [
    {
     "name": "stderr",
     "output_type": "stream",
     "text": [
      "                                                                                \r"
     ]
    },
    {
     "name": "stdout",
     "output_type": "stream",
     "text": [
      "23/03/19 23:22:26 WARN package: Truncated the string representation of a plan since it was too large. This behavior can be adjusted by setting 'spark.sql.debug.maxToStringFields'.\n"
     ]
    },
    {
     "data": {
      "text/html": [
       "<div>\n",
       "<style scoped>\n",
       "    .dataframe tbody tr th:only-of-type {\n",
       "        vertical-align: middle;\n",
       "    }\n",
       "\n",
       "    .dataframe tbody tr th {\n",
       "        vertical-align: top;\n",
       "    }\n",
       "\n",
       "    .dataframe thead th {\n",
       "        text-align: right;\n",
       "    }\n",
       "</style>\n",
       "<table border=\"1\" class=\"dataframe\">\n",
       "  <thead>\n",
       "    <tr style=\"text-align: right;\">\n",
       "      <th></th>\n",
       "      <th>row_id</th>\n",
       "      <th>abethr1</th>\n",
       "      <th>abhori1</th>\n",
       "      <th>abythr1</th>\n",
       "      <th>afbfly1</th>\n",
       "      <th>afdfly1</th>\n",
       "      <th>afecuc1</th>\n",
       "      <th>affeag1</th>\n",
       "      <th>afgfly1</th>\n",
       "      <th>afghor1</th>\n",
       "      <th>...</th>\n",
       "      <th>yebsto1</th>\n",
       "      <th>yeccan1</th>\n",
       "      <th>yefcan</th>\n",
       "      <th>yelbis1</th>\n",
       "      <th>yenspu1</th>\n",
       "      <th>yertin1</th>\n",
       "      <th>yesbar1</th>\n",
       "      <th>yespet1</th>\n",
       "      <th>yetgre1</th>\n",
       "      <th>yewgre1</th>\n",
       "    </tr>\n",
       "  </thead>\n",
       "  <tbody>\n",
       "    <tr>\n",
       "      <th>0</th>\n",
       "      <td>soundscape_29201_5</td>\n",
       "      <td>0</td>\n",
       "      <td>0</td>\n",
       "      <td>0</td>\n",
       "      <td>0</td>\n",
       "      <td>0</td>\n",
       "      <td>0</td>\n",
       "      <td>0</td>\n",
       "      <td>0</td>\n",
       "      <td>0</td>\n",
       "      <td>...</td>\n",
       "      <td>0</td>\n",
       "      <td>0</td>\n",
       "      <td>0</td>\n",
       "      <td>0</td>\n",
       "      <td>0</td>\n",
       "      <td>0</td>\n",
       "      <td>0</td>\n",
       "      <td>0</td>\n",
       "      <td>0</td>\n",
       "      <td>0</td>\n",
       "    </tr>\n",
       "    <tr>\n",
       "      <th>1</th>\n",
       "      <td>soundscape_29201_10</td>\n",
       "      <td>0</td>\n",
       "      <td>0</td>\n",
       "      <td>0</td>\n",
       "      <td>0</td>\n",
       "      <td>0</td>\n",
       "      <td>0</td>\n",
       "      <td>0</td>\n",
       "      <td>0</td>\n",
       "      <td>0</td>\n",
       "      <td>...</td>\n",
       "      <td>0</td>\n",
       "      <td>0</td>\n",
       "      <td>0</td>\n",
       "      <td>0</td>\n",
       "      <td>0</td>\n",
       "      <td>0</td>\n",
       "      <td>0</td>\n",
       "      <td>0</td>\n",
       "      <td>0</td>\n",
       "      <td>0</td>\n",
       "    </tr>\n",
       "    <tr>\n",
       "      <th>2</th>\n",
       "      <td>soundscape_29201_15</td>\n",
       "      <td>0</td>\n",
       "      <td>0</td>\n",
       "      <td>0</td>\n",
       "      <td>0</td>\n",
       "      <td>0</td>\n",
       "      <td>0</td>\n",
       "      <td>0</td>\n",
       "      <td>0</td>\n",
       "      <td>0</td>\n",
       "      <td>...</td>\n",
       "      <td>0</td>\n",
       "      <td>0</td>\n",
       "      <td>0</td>\n",
       "      <td>0</td>\n",
       "      <td>0</td>\n",
       "      <td>0</td>\n",
       "      <td>0</td>\n",
       "      <td>0</td>\n",
       "      <td>0</td>\n",
       "      <td>0</td>\n",
       "    </tr>\n",
       "  </tbody>\n",
       "</table>\n",
       "<p>3 rows × 265 columns</p>\n",
       "</div>"
      ],
      "text/plain": [
       "                row_id abethr1 abhori1 abythr1 afbfly1 afdfly1 afecuc1  \\\n",
       "0   soundscape_29201_5       0       0       0       0       0       0   \n",
       "1  soundscape_29201_10       0       0       0       0       0       0   \n",
       "2  soundscape_29201_15       0       0       0       0       0       0   \n",
       "\n",
       "  affeag1 afgfly1 afghor1  ... yebsto1 yeccan1 yefcan yelbis1 yenspu1 yertin1  \\\n",
       "0       0       0       0  ...       0       0      0       0       0       0   \n",
       "1       0       0       0  ...       0       0      0       0       0       0   \n",
       "2       0       0       0  ...       0       0      0       0       0       0   \n",
       "\n",
       "  yesbar1 yespet1 yetgre1 yewgre1  \n",
       "0       0       0       0       0  \n",
       "1       0       0       0       0  \n",
       "2       0       0       0       0  \n",
       "\n",
       "[3 rows x 265 columns]"
      ]
     },
     "execution_count": 6,
     "metadata": {},
     "output_type": "execute_result"
    }
   ],
   "source": [
    "sample_submission_df = spark.read.csv(\n",
    "    f\"{birdclef_root}/sample_submission.csv\", header=True\n",
    ")\n",
    "sample_submission_df.toPandas().head()"
   ]
  },
  {
   "attachments": {},
   "cell_type": "markdown",
   "metadata": {},
   "source": [
    "## ebird taxonomy"
   ]
  },
  {
   "cell_type": "code",
   "execution_count": 8,
   "metadata": {},
   "outputs": [
    {
     "name": "stdout",
     "output_type": "stream",
     "text": [
      "root\n",
      " |-- TAXON_ORDER: string (nullable = true)\n",
      " |-- CATEGORY: string (nullable = true)\n",
      " |-- SPECIES_CODE: string (nullable = true)\n",
      " |-- PRIMARY_COM_NAME: string (nullable = true)\n",
      " |-- SCI_NAME: string (nullable = true)\n",
      " |-- ORDER1: string (nullable = true)\n",
      " |-- FAMILY: string (nullable = true)\n",
      " |-- SPECIES_GROUP: string (nullable = true)\n",
      " |-- REPORT_AS: string (nullable = true)\n",
      "\n"
     ]
    },
    {
     "data": {
      "text/html": [
       "<div>\n",
       "<style scoped>\n",
       "    .dataframe tbody tr th:only-of-type {\n",
       "        vertical-align: middle;\n",
       "    }\n",
       "\n",
       "    .dataframe tbody tr th {\n",
       "        vertical-align: top;\n",
       "    }\n",
       "\n",
       "    .dataframe thead th {\n",
       "        text-align: right;\n",
       "    }\n",
       "</style>\n",
       "<table border=\"1\" class=\"dataframe\">\n",
       "  <thead>\n",
       "    <tr style=\"text-align: right;\">\n",
       "      <th></th>\n",
       "      <th>TAXON_ORDER</th>\n",
       "      <th>CATEGORY</th>\n",
       "      <th>SPECIES_CODE</th>\n",
       "      <th>PRIMARY_COM_NAME</th>\n",
       "      <th>SCI_NAME</th>\n",
       "      <th>ORDER1</th>\n",
       "      <th>FAMILY</th>\n",
       "      <th>SPECIES_GROUP</th>\n",
       "      <th>REPORT_AS</th>\n",
       "    </tr>\n",
       "  </thead>\n",
       "  <tbody>\n",
       "    <tr>\n",
       "      <th>0</th>\n",
       "      <td>1</td>\n",
       "      <td>species</td>\n",
       "      <td>ostric2</td>\n",
       "      <td>Common Ostrich</td>\n",
       "      <td>Struthio camelus</td>\n",
       "      <td>Struthioniformes</td>\n",
       "      <td>Struthionidae (Ostriches)</td>\n",
       "      <td>Ostriches</td>\n",
       "      <td>None</td>\n",
       "    </tr>\n",
       "    <tr>\n",
       "      <th>1</th>\n",
       "      <td>6</td>\n",
       "      <td>species</td>\n",
       "      <td>ostric3</td>\n",
       "      <td>Somali Ostrich</td>\n",
       "      <td>Struthio molybdophanes</td>\n",
       "      <td>Struthioniformes</td>\n",
       "      <td>Struthionidae (Ostriches)</td>\n",
       "      <td>None</td>\n",
       "      <td>None</td>\n",
       "    </tr>\n",
       "    <tr>\n",
       "      <th>2</th>\n",
       "      <td>7</td>\n",
       "      <td>slash</td>\n",
       "      <td>y00934</td>\n",
       "      <td>Common/Somali Ostrich</td>\n",
       "      <td>Struthio camelus/molybdophanes</td>\n",
       "      <td>Struthioniformes</td>\n",
       "      <td>Struthionidae (Ostriches)</td>\n",
       "      <td>None</td>\n",
       "      <td>None</td>\n",
       "    </tr>\n",
       "    <tr>\n",
       "      <th>3</th>\n",
       "      <td>8</td>\n",
       "      <td>species</td>\n",
       "      <td>grerhe1</td>\n",
       "      <td>Greater Rhea</td>\n",
       "      <td>Rhea americana</td>\n",
       "      <td>Rheiformes</td>\n",
       "      <td>Rheidae (Rheas)</td>\n",
       "      <td>Rheas</td>\n",
       "      <td>None</td>\n",
       "    </tr>\n",
       "    <tr>\n",
       "      <th>4</th>\n",
       "      <td>14</td>\n",
       "      <td>species</td>\n",
       "      <td>lesrhe2</td>\n",
       "      <td>Lesser Rhea</td>\n",
       "      <td>Rhea pennata</td>\n",
       "      <td>Rheiformes</td>\n",
       "      <td>Rheidae (Rheas)</td>\n",
       "      <td>None</td>\n",
       "      <td>None</td>\n",
       "    </tr>\n",
       "  </tbody>\n",
       "</table>\n",
       "</div>"
      ],
      "text/plain": [
       "  TAXON_ORDER CATEGORY SPECIES_CODE       PRIMARY_COM_NAME  \\\n",
       "0           1  species      ostric2         Common Ostrich   \n",
       "1           6  species      ostric3         Somali Ostrich   \n",
       "2           7    slash       y00934  Common/Somali Ostrich   \n",
       "3           8  species      grerhe1           Greater Rhea   \n",
       "4          14  species      lesrhe2            Lesser Rhea   \n",
       "\n",
       "                         SCI_NAME            ORDER1  \\\n",
       "0                Struthio camelus  Struthioniformes   \n",
       "1          Struthio molybdophanes  Struthioniformes   \n",
       "2  Struthio camelus/molybdophanes  Struthioniformes   \n",
       "3                  Rhea americana        Rheiformes   \n",
       "4                    Rhea pennata        Rheiformes   \n",
       "\n",
       "                      FAMILY SPECIES_GROUP REPORT_AS  \n",
       "0  Struthionidae (Ostriches)     Ostriches      None  \n",
       "1  Struthionidae (Ostriches)          None      None  \n",
       "2  Struthionidae (Ostriches)          None      None  \n",
       "3            Rheidae (Rheas)         Rheas      None  \n",
       "4            Rheidae (Rheas)          None      None  "
      ]
     },
     "execution_count": 8,
     "metadata": {},
     "output_type": "execute_result"
    }
   ],
   "source": [
    "ebird_taxonomy_df = spark.read.csv(\n",
    "    f\"{birdclef_root}/eBird_Taxonomy_v2021.csv\", header=True\n",
    ")\n",
    "ebird_taxonomy_df.printSchema()\n",
    "ebird_taxonomy_df.toPandas().head()"
   ]
  },
  {
   "attachments": {},
   "cell_type": "markdown",
   "metadata": {},
   "source": [
    "## train metadata"
   ]
  },
  {
   "cell_type": "code",
   "execution_count": 9,
   "metadata": {},
   "outputs": [
    {
     "name": "stdout",
     "output_type": "stream",
     "text": [
      "root\n",
      " |-- primary_label: string (nullable = true)\n",
      " |-- secondary_labels: string (nullable = true)\n",
      " |-- type: string (nullable = true)\n",
      " |-- latitude: string (nullable = true)\n",
      " |-- longitude: string (nullable = true)\n",
      " |-- scientific_name: string (nullable = true)\n",
      " |-- common_name: string (nullable = true)\n",
      " |-- author: string (nullable = true)\n",
      " |-- license: string (nullable = true)\n",
      " |-- rating: string (nullable = true)\n",
      " |-- url: string (nullable = true)\n",
      " |-- filename: string (nullable = true)\n",
      "\n"
     ]
    },
    {
     "data": {
      "text/html": [
       "<div>\n",
       "<style scoped>\n",
       "    .dataframe tbody tr th:only-of-type {\n",
       "        vertical-align: middle;\n",
       "    }\n",
       "\n",
       "    .dataframe tbody tr th {\n",
       "        vertical-align: top;\n",
       "    }\n",
       "\n",
       "    .dataframe thead th {\n",
       "        text-align: right;\n",
       "    }\n",
       "</style>\n",
       "<table border=\"1\" class=\"dataframe\">\n",
       "  <thead>\n",
       "    <tr style=\"text-align: right;\">\n",
       "      <th></th>\n",
       "      <th>primary_label</th>\n",
       "      <th>secondary_labels</th>\n",
       "      <th>type</th>\n",
       "      <th>latitude</th>\n",
       "      <th>longitude</th>\n",
       "      <th>scientific_name</th>\n",
       "      <th>common_name</th>\n",
       "      <th>author</th>\n",
       "      <th>license</th>\n",
       "      <th>rating</th>\n",
       "      <th>url</th>\n",
       "      <th>filename</th>\n",
       "    </tr>\n",
       "  </thead>\n",
       "  <tbody>\n",
       "    <tr>\n",
       "      <th>0</th>\n",
       "      <td>abethr1</td>\n",
       "      <td>[]</td>\n",
       "      <td>['song']</td>\n",
       "      <td>4.3906</td>\n",
       "      <td>38.2788</td>\n",
       "      <td>Turdus tephronotus</td>\n",
       "      <td>African Bare-eyed Thrush</td>\n",
       "      <td>Rolf A. de By</td>\n",
       "      <td>Creative Commons Attribution-NonCommercial-Sha...</td>\n",
       "      <td>4.0</td>\n",
       "      <td>https://www.xeno-canto.org/128013</td>\n",
       "      <td>abethr1/XC128013.ogg</td>\n",
       "    </tr>\n",
       "    <tr>\n",
       "      <th>1</th>\n",
       "      <td>abethr1</td>\n",
       "      <td>[]</td>\n",
       "      <td>['call']</td>\n",
       "      <td>-2.9524</td>\n",
       "      <td>38.2921</td>\n",
       "      <td>Turdus tephronotus</td>\n",
       "      <td>African Bare-eyed Thrush</td>\n",
       "      <td>James Bradley</td>\n",
       "      <td>Creative Commons Attribution-NonCommercial-Sha...</td>\n",
       "      <td>3.5</td>\n",
       "      <td>https://www.xeno-canto.org/363501</td>\n",
       "      <td>abethr1/XC363501.ogg</td>\n",
       "    </tr>\n",
       "    <tr>\n",
       "      <th>2</th>\n",
       "      <td>abethr1</td>\n",
       "      <td>[]</td>\n",
       "      <td>['song']</td>\n",
       "      <td>-2.9524</td>\n",
       "      <td>38.2921</td>\n",
       "      <td>Turdus tephronotus</td>\n",
       "      <td>African Bare-eyed Thrush</td>\n",
       "      <td>James Bradley</td>\n",
       "      <td>Creative Commons Attribution-NonCommercial-Sha...</td>\n",
       "      <td>3.5</td>\n",
       "      <td>https://www.xeno-canto.org/363502</td>\n",
       "      <td>abethr1/XC363502.ogg</td>\n",
       "    </tr>\n",
       "    <tr>\n",
       "      <th>3</th>\n",
       "      <td>abethr1</td>\n",
       "      <td>[]</td>\n",
       "      <td>['song']</td>\n",
       "      <td>-2.9524</td>\n",
       "      <td>38.2921</td>\n",
       "      <td>Turdus tephronotus</td>\n",
       "      <td>African Bare-eyed Thrush</td>\n",
       "      <td>James Bradley</td>\n",
       "      <td>Creative Commons Attribution-NonCommercial-Sha...</td>\n",
       "      <td>5.0</td>\n",
       "      <td>https://www.xeno-canto.org/363503</td>\n",
       "      <td>abethr1/XC363503.ogg</td>\n",
       "    </tr>\n",
       "    <tr>\n",
       "      <th>4</th>\n",
       "      <td>abethr1</td>\n",
       "      <td>[]</td>\n",
       "      <td>['call', 'song']</td>\n",
       "      <td>-2.9524</td>\n",
       "      <td>38.2921</td>\n",
       "      <td>Turdus tephronotus</td>\n",
       "      <td>African Bare-eyed Thrush</td>\n",
       "      <td>James Bradley</td>\n",
       "      <td>Creative Commons Attribution-NonCommercial-Sha...</td>\n",
       "      <td>4.5</td>\n",
       "      <td>https://www.xeno-canto.org/363504</td>\n",
       "      <td>abethr1/XC363504.ogg</td>\n",
       "    </tr>\n",
       "  </tbody>\n",
       "</table>\n",
       "</div>"
      ],
      "text/plain": [
       "  primary_label secondary_labels              type latitude longitude  \\\n",
       "0       abethr1               []          ['song']   4.3906   38.2788   \n",
       "1       abethr1               []          ['call']  -2.9524   38.2921   \n",
       "2       abethr1               []          ['song']  -2.9524   38.2921   \n",
       "3       abethr1               []          ['song']  -2.9524   38.2921   \n",
       "4       abethr1               []  ['call', 'song']  -2.9524   38.2921   \n",
       "\n",
       "      scientific_name               common_name         author  \\\n",
       "0  Turdus tephronotus  African Bare-eyed Thrush  Rolf A. de By   \n",
       "1  Turdus tephronotus  African Bare-eyed Thrush  James Bradley   \n",
       "2  Turdus tephronotus  African Bare-eyed Thrush  James Bradley   \n",
       "3  Turdus tephronotus  African Bare-eyed Thrush  James Bradley   \n",
       "4  Turdus tephronotus  African Bare-eyed Thrush  James Bradley   \n",
       "\n",
       "                                             license rating  \\\n",
       "0  Creative Commons Attribution-NonCommercial-Sha...    4.0   \n",
       "1  Creative Commons Attribution-NonCommercial-Sha...    3.5   \n",
       "2  Creative Commons Attribution-NonCommercial-Sha...    3.5   \n",
       "3  Creative Commons Attribution-NonCommercial-Sha...    5.0   \n",
       "4  Creative Commons Attribution-NonCommercial-Sha...    4.5   \n",
       "\n",
       "                                 url              filename  \n",
       "0  https://www.xeno-canto.org/128013  abethr1/XC128013.ogg  \n",
       "1  https://www.xeno-canto.org/363501  abethr1/XC363501.ogg  \n",
       "2  https://www.xeno-canto.org/363502  abethr1/XC363502.ogg  \n",
       "3  https://www.xeno-canto.org/363503  abethr1/XC363503.ogg  \n",
       "4  https://www.xeno-canto.org/363504  abethr1/XC363504.ogg  "
      ]
     },
     "execution_count": 9,
     "metadata": {},
     "output_type": "execute_result"
    }
   ],
   "source": [
    "train_metadata_df = spark.read.csv(f\"{birdclef_root}/train_metadata.csv\", header=True)\n",
    "train_metadata_df.printSchema()\n",
    "train_metadata_df.toPandas().head()"
   ]
  },
  {
   "cell_type": "code",
   "execution_count": 15,
   "metadata": {},
   "outputs": [
    {
     "data": {
      "text/plain": [
       "16941"
      ]
     },
     "execution_count": 15,
     "metadata": {},
     "output_type": "execute_result"
    }
   ],
   "source": [
    "train_metadata_df.count()"
   ]
  },
  {
   "attachments": {},
   "cell_type": "markdown",
   "metadata": {},
   "source": [
    "### is there overlap between 2022 and 2023?\n",
    "\n",
    "It's a very small overlap of ~500 tracks out of ~15k. "
   ]
  },
  {
   "cell_type": "code",
   "execution_count": 20,
   "metadata": {},
   "outputs": [
    {
     "data": {
      "text/plain": [
       "(490, 14852)"
      ]
     },
     "execution_count": 20,
     "metadata": {},
     "output_type": "execute_result"
    }
   ],
   "source": [
    "train_metadata_2022_df = spark.read.csv(\n",
    "    \"../data/raw/birdclef-2022/train_metadata.csv\", header=True\n",
    ")\n",
    "\n",
    "overlap = train_metadata_df.join(\n",
    "    train_metadata_2022_df.select(\"url\"), on=\"url\", how=\"inner\"\n",
    ")\n",
    "overlap.count(), train_metadata_2022_df.count()"
   ]
  },
  {
   "cell_type": "code",
   "execution_count": 19,
   "metadata": {},
   "outputs": [
    {
     "name": "stdout",
     "output_type": "stream",
     "text": [
      "+-------------+-----+\n",
      "|primary_label|count|\n",
      "+-------------+-----+\n",
      "|       comsan|  296|\n",
      "|       categr|  120|\n",
      "|       yefcan|   67|\n",
      "|      eaywag1|    2|\n",
      "|       barswa|    2|\n",
      "|      thrnig1|    2|\n",
      "|      cohmar1|    1|\n",
      "+-------------+-----+\n",
      "\n"
     ]
    }
   ],
   "source": [
    "overlap.groupBy(\"primary_label\").count().orderBy(\"count\", ascending=False).show()"
   ]
  },
  {
   "attachments": {},
   "cell_type": "markdown",
   "metadata": {},
   "source": [
    "### a deeper look into the set of species for the 2023 competition\n",
    "\n",
    "There are 264 species. Any secondary species that shows up is part of the primary label set."
   ]
  },
  {
   "cell_type": "code",
   "execution_count": 23,
   "metadata": {},
   "outputs": [
    {
     "data": {
      "text/plain": [
       "264"
      ]
     },
     "execution_count": 23,
     "metadata": {},
     "output_type": "execute_result"
    }
   ],
   "source": [
    "species = sample_submission_df.columns[1:]\n",
    "len(species)"
   ]
  },
  {
   "cell_type": "code",
   "execution_count": 24,
   "metadata": {},
   "outputs": [
    {
     "data": {
      "text/plain": [
       "264"
      ]
     },
     "execution_count": 24,
     "metadata": {},
     "output_type": "execute_result"
    }
   ],
   "source": [
    "train_metadata_df.select(\"primary_label\").distinct().count()"
   ]
  },
  {
   "cell_type": "code",
   "execution_count": 49,
   "metadata": {},
   "outputs": [
    {
     "name": "stdout",
     "output_type": "stream",
     "text": [
      "+-------------+----------------+\n",
      "|primary_label|secondary_labels|\n",
      "+-------------+----------------+\n",
      "|      abethr1|              []|\n",
      "|      abethr1|              []|\n",
      "|      abethr1|              []|\n",
      "|      abethr1|              []|\n",
      "|      abethr1|              []|\n",
      "|      abethr1|       [rbsrob1]|\n",
      "|      abethr1|              []|\n",
      "|      abethr1|              []|\n",
      "|      abethr1|              []|\n",
      "|      abethr1|              []|\n",
      "+-------------+----------------+\n",
      "only showing top 10 rows\n",
      "\n",
      "root\n",
      " |-- primary_label: string (nullable = true)\n",
      " |-- secondary_labels: array (nullable = true)\n",
      " |    |-- element: string (containsNull = true)\n",
      "\n",
      "+---------------+\n",
      "|secondary_label|\n",
      "+---------------+\n",
      "|        rbsrob1|\n",
      "|        eswdov1|\n",
      "|         helgui|\n",
      "|         rindov|\n",
      "|        combul2|\n",
      "|         rindov|\n",
      "|        blbpuf2|\n",
      "|        fotdro5|\n",
      "|        reedov1|\n",
      "|        fotdro5|\n",
      "+---------------+\n",
      "only showing top 10 rows\n",
      "\n",
      "+---------------+-----+\n",
      "|secondary_label|count|\n",
      "+---------------+-----+\n",
      "|        ccbeat1|    6|\n",
      "|        bagwea1|    6|\n",
      "|        afghor1|   18|\n",
      "|        yesbar1|    5|\n",
      "|        equaka1|    1|\n",
      "|        soufis1|    1|\n",
      "|        crheag1|    2|\n",
      "|        afmdov1|   45|\n",
      "|        wbswea1|   46|\n",
      "|        slcbou1|   24|\n",
      "|        whbcou1|   12|\n",
      "|        stusta1|    1|\n",
      "|        fatrav1|    3|\n",
      "|        abythr1|    1|\n",
      "|        spmthr1|    5|\n",
      "|        norcro1|    1|\n",
      "|        litswi1|   23|\n",
      "|        beasun2|    7|\n",
      "|        whctur2|    6|\n",
      "|        cabgre1|    3|\n",
      "+---------------+-----+\n",
      "only showing top 20 rows\n",
      "\n"
     ]
    }
   ],
   "source": [
    "import ast\n",
    "\n",
    "\n",
    "@F.udf(returnType=\"array<string>\")\n",
    "def parse_labels(label_str: str):\n",
    "    # use literal eval to parse the string\n",
    "    return ast.literal_eval(label_str)\n",
    "\n",
    "\n",
    "labels = train_metadata_df.select(\n",
    "    \"primary_label\", parse_labels(\"secondary_labels\").alias(\"secondary_labels\")\n",
    ")\n",
    "labels.show(n=10)\n",
    "labels.printSchema()\n",
    "\n",
    "# explode the secondary labels to see if these are all within the valid set\n",
    "secondary = labels.select(F.explode(\"secondary_labels\").alias(\"secondary_label\"))\n",
    "secondary.show(n=10)\n",
    "\n",
    "# count the number of unique secondary labels\n",
    "secondary.groupBy(\"secondary_label\").count().show()"
   ]
  },
  {
   "cell_type": "code",
   "execution_count": 53,
   "metadata": {},
   "outputs": [
    {
     "name": "stdout",
     "output_type": "stream",
     "text": [
      "+-----+\n",
      "|label|\n",
      "+-----+\n",
      "+-----+\n",
      "\n"
     ]
    }
   ],
   "source": [
    "secondary.select(F.col(\"secondary_label\").alias(\"label\")).distinct().join(\n",
    "    labels.select(F.col(\"primary_label\").alias(\"label\")).distinct(),\n",
    "    on=\"label\",\n",
    "    how=\"left_anti\",\n",
    ").show()"
   ]
  },
  {
   "attachments": {},
   "cell_type": "markdown",
   "metadata": {},
   "source": [
    "### what's the overlap between the competition species and the birdnet model?"
   ]
  },
  {
   "cell_type": "code",
   "execution_count": 54,
   "metadata": {},
   "outputs": [
    {
     "data": {
      "text/plain": [
       "['rufwar1',\n",
       " 'yebwar1',\n",
       " 'watgua1',\n",
       " 'spchon1',\n",
       " 'lesred1',\n",
       " 'comred',\n",
       " 'hoared',\n",
       " 'yertho1',\n",
       " 'tastho1',\n",
       " 'brotho1']"
      ]
     },
     "execution_count": 54,
     "metadata": {},
     "output_type": "execute_result"
    }
   ],
   "source": [
    "from pathlib import Path\n",
    "import json\n",
    "\n",
    "labels_path = (\n",
    "    \"../vendor/BirdNET-Analyzer/checkpoints/V2.2/BirdNET_GLOBAL_3K_V2.2_Labels.txt\"\n",
    ")\n",
    "mapping_path = \"../vendor/BirdNET-Analyzer/eBird_taxonomy_codes_2021E.json\"\n",
    "\n",
    "labels = Path(labels_path).read_text().splitlines()\n",
    "mapping = json.loads(Path(mapping_path).read_text())\n",
    "\n",
    "mapped_labels = [mapping[label] for label in labels]\n",
    "mapped_labels[:10]"
   ]
  },
  {
   "cell_type": "code",
   "execution_count": 58,
   "metadata": {},
   "outputs": [
    {
     "data": {
      "text/plain": [
       "0.4696969696969697"
      ]
     },
     "execution_count": 58,
     "metadata": {},
     "output_type": "execute_result"
    }
   ],
   "source": [
    "species = sample_submission_df.columns[1:]\n",
    "\n",
    "len(set(species) & set(mapped_labels)) / len(species)"
   ]
  }
 ],
 "metadata": {
  "kernelspec": {
   "display_name": "venv",
   "language": "python",
   "name": "python3"
  },
  "language_info": {
   "codemirror_mode": {
    "name": "ipython",
    "version": 3
   },
   "file_extension": ".py",
   "mimetype": "text/x-python",
   "name": "python",
   "nbconvert_exporter": "python",
   "pygments_lexer": "ipython3",
   "version": "3.10.6"
  },
  "orig_nbformat": 4
 },
 "nbformat": 4,
 "nbformat_minor": 2
}
