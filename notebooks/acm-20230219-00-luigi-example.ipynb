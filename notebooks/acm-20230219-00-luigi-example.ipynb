{
 "cells": [
  {
   "cell_type": "code",
   "execution_count": 3,
   "metadata": {},
   "outputs": [
    {
     "name": "stdout",
     "output_type": "stream",
     "text": [
      "/home/anthony/birdclef-2023\n"
     ]
    }
   ],
   "source": [
    "import os\n",
    "\n",
    "os.chdir(\"..\")\n",
    "! pwd"
   ]
  },
  {
   "cell_type": "code",
   "execution_count": 4,
   "metadata": {},
   "outputs": [
    {
     "name": "stdout",
     "output_type": "stream",
     "text": [
      "DEBUG: Checking if TrainDurations(birdclef_root_path=data/raw/birdclef-2022, output_path=data/processed/birdclef-2022/train_durations.parquet, parallelism=2) is complete\n",
      "INFO: Informed scheduler that task   TrainDurations_data_raw_birdcle_data_processed_b_2_050a0f4643   has status   DONE\n",
      "INFO: Done scheduling tasks\n",
      "INFO: Running Worker with 1 processes\n",
      "DEBUG: Asking scheduler for work...\n",
      "DEBUG: Done\n",
      "DEBUG: There are no more tasks to run at this time\n",
      "INFO: Worker Worker(salt=2833440974, workers=1, host=acmiyaguchi-dev, username=anthony, pid=24047) was stopped. Shutting down Keep-Alive thread\n",
      "INFO: \n",
      "===== Luigi Execution Summary =====\n",
      "\n",
      "Scheduled 1 tasks of which:\n",
      "* 1 complete ones were encountered:\n",
      "    - 1 TrainDurations(birdclef_root_path=data/raw/birdclef-2022, output_path=data/processed/birdclef-2022/train_durations.parquet, parallelism=2)\n",
      "\n",
      "Did not run any tasks\n",
      "This progress looks :) because there were no failed tasks or missing dependencies\n",
      "\n",
      "===== Luigi Execution Summary =====\n",
      "\n"
     ]
    }
   ],
   "source": [
    "! luigi \\\n",
    "    --module workflows.train_durations TrainDurations \\\n",
    "    --birdclef-root-path data/raw/birdclef-2022 \\\n",
    "    --output-path data/processed/birdclef-2022/train_durations.parquet \\\n",
    "    --scheduler-host luigi.us-central1-a.c.birdclef-2023.internal"
   ]
  }
 ],
 "metadata": {
  "kernelspec": {
   "display_name": "venv",
   "language": "python",
   "name": "python3"
  },
  "language_info": {
   "codemirror_mode": {
    "name": "ipython",
    "version": 3
   },
   "file_extension": ".py",
   "mimetype": "text/x-python",
   "name": "python",
   "nbconvert_exporter": "python",
   "pygments_lexer": "ipython3",
   "version": "3.10.6"
  },
  "orig_nbformat": 4,
  "vscode": {
   "interpreter": {
    "hash": "534f2174684f24911d7021ba77c90100d0f5530d0b4d7fca4ed5067cc0c930c3"
   }
  }
 },
 "nbformat": 4,
 "nbformat_minor": 2
}
