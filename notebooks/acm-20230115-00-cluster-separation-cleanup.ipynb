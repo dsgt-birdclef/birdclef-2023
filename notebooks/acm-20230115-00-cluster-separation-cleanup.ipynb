{
 "cells": [
  {
   "cell_type": "code",
   "execution_count": 3,
   "metadata": {},
   "outputs": [],
   "source": [
    "%load_ext autoreload\n",
    "%autoreload 2\n",
    "%load_ext lab_black"
   ]
  },
  {
   "cell_type": "code",
   "execution_count": 4,
   "metadata": {},
   "outputs": [
    {
     "name": "stderr",
     "output_type": "stream",
     "text": [
      "/home/acmiy/birdclef-2023/venv/lib/python3.7/site-packages/tqdm/auto.py:22: TqdmWarning: IProgress not found. Please update jupyter and ipywidgets. See https://ipywidgets.readthedocs.io/en/stable/user_install.html\n",
      "  from .autonotebook import tqdm as notebook_tqdm\n"
     ]
    }
   ],
   "source": [
    "from pyspark.sql import functions as F\n",
    "import pandas as pd\n",
    "import numpy as np\n",
    "import matplotlib.pyplot as plt\n",
    "from umap import UMAP\n",
    "from sklearn.decomposition import PCA"
   ]
  },
  {
   "cell_type": "code",
   "execution_count": 5,
   "metadata": {},
   "outputs": [
    {
     "name": "stderr",
     "output_type": "stream",
     "text": [
      "Setting default log level to \"WARN\".\n",
      "To adjust logging level use sc.setLogLevel(newLevel). For SparkR, use setLogLevel(newLevel).\n"
     ]
    },
    {
     "name": "stdout",
     "output_type": "stream",
     "text": [
      "23/01/16 05:22:28 WARN NativeCodeLoader: Unable to load native-hadoop library for your platform... using builtin-java classes where applicable\n"
     ]
    }
   ],
   "source": [
    "from birdclef.utils import get_spark\n",
    "\n",
    "spark = get_spark(memory=\"2g\")"
   ]
  },
  {
   "cell_type": "code",
   "execution_count": 6,
   "metadata": {},
   "outputs": [
    {
     "name": "stderr",
     "output_type": "stream",
     "text": [
      "                                                                                \r"
     ]
    },
    {
     "name": "stdout",
     "output_type": "stream",
     "text": [
      "root\n",
      " |-- id: integer (nullable = true)\n",
      " |-- filename: string (nullable = true)\n",
      " |-- start_sec: double (nullable = true)\n",
      " |-- end_sec: double (nullable = true)\n",
      " |-- confidence: double (nullable = true)\n",
      " |-- birdnet_label: string (nullable = true)\n",
      " |-- birdnet_common_name: string (nullable = true)\n",
      " |-- emb: array (nullable = true)\n",
      " |    |-- element: float (containsNull = true)\n",
      " |-- primary_label: string (nullable = true)\n",
      " |-- secondary_labels: string (nullable = true)\n",
      " |-- type: string (nullable = true)\n",
      " |-- neighbors: array (nullable = true)\n",
      " |    |-- element: long (containsNull = true)\n",
      " |-- distances: array (nullable = true)\n",
      " |    |-- element: double (containsNull = true)\n",
      "\n"
     ]
    },
    {
     "name": "stderr",
     "output_type": "stream",
     "text": [
      "[Stage 1:>                                                          (0 + 1) / 1]\r"
     ]
    },
    {
     "name": "stdout",
     "output_type": "stream",
     "text": [
      "-RECORD 0-----------------------------------\n",
      " id                  | 11876                \n",
      " filename            | belkin1/XC321817.ogg \n",
      " start_sec           | 15.0                 \n",
      " end_sec             | 18.0                 \n",
      " confidence          | 0.1058               \n",
      " birdnet_label       | rucspa               \n",
      " birdnet_common_name | Rufous-crowned Sp... \n",
      " emb                 | [0.54678416, 0.58... \n",
      " primary_label       | belkin1              \n",
      " secondary_labels    | []                   \n",
      " type                | ['song']             \n",
      " neighbors           | [11877, 11876, 11... \n",
      " distances           | [0.0, 0.0, 0.0, 4... \n",
      "only showing top 1 row\n",
      "\n"
     ]
    },
    {
     "name": "stderr",
     "output_type": "stream",
     "text": [
      "                                                                                \r"
     ]
    }
   ],
   "source": [
    "df = spark.read.parquet(\n",
    "    \"../data/processed/birdclef-2022/birdnet-embeddings-with-neighbors/v1\"\n",
    ")\n",
    "df.printSchema()\n",
    "df.show(n=1, vertical=True)"
   ]
  },
  {
   "attachments": {},
   "cell_type": "markdown",
   "metadata": {},
   "source": [
    "* https://ebird.org/species/brnowl\n",
    "* https://ebird.org/species/mallar3"
   ]
  },
  {
   "cell_type": "code",
   "execution_count": 7,
   "metadata": {},
   "outputs": [
    {
     "name": "stderr",
     "output_type": "stream",
     "text": [
      "[Stage 2:>                                                          (0 + 4) / 4]\r"
     ]
    },
    {
     "name": "stdout",
     "output_type": "stream",
     "text": [
      "+-------------+-----+\n",
      "|primary_label|count|\n",
      "+-------------+-----+\n",
      "|       normoc|25068|\n",
      "|       houspa|18173|\n",
      "|       skylar|12849|\n",
      "|       norcar|12216|\n",
      "|       wesmea| 9479|\n",
      "|       brnowl| 8186|\n",
      "|      mallar3| 7489|\n",
      "|       houfin| 6616|\n",
      "|       commyn| 6524|\n",
      "|       dunlin| 6069|\n",
      "+-------------+-----+\n",
      "only showing top 10 rows\n",
      "\n"
     ]
    },
    {
     "name": "stderr",
     "output_type": "stream",
     "text": [
      "                                                                                \r"
     ]
    }
   ],
   "source": [
    "df.groupBy(\"primary_label\").count().orderBy(F.desc(\"count\")).show(n=10)"
   ]
  },
  {
   "cell_type": "code",
   "execution_count": 8,
   "metadata": {},
   "outputs": [
    {
     "name": "stderr",
     "output_type": "stream",
     "text": [
      "[Stage 5:>                                                          (0 + 4) / 4]\r"
     ]
    },
    {
     "name": "stdout",
     "output_type": "stream",
     "text": [
      "+-------------+-------------+-----+\n",
      "|primary_label|birdnet_label|count|\n",
      "+-------------+-------------+-----+\n",
      "|       houspa|       houspa| 8683|\n",
      "|       skylar|       skylar| 6816|\n",
      "|       normoc|       normoc| 5742|\n",
      "|       houspa|      itaspa1| 3005|\n",
      "|       normoc|       tromoc| 1703|\n",
      "|       normoc|       crithr| 1598|\n",
      "|       skylar|      callar1| 1273|\n",
      "|       skylar|      orisky1| 1106|\n",
      "|       houspa|       eutspa| 1084|\n",
      "|       normoc|       cubthr| 1079|\n",
      "|       houspa|      spaspa1|  764|\n",
      "|       normoc|      patmoc1|  470|\n",
      "|       normoc|       logshr|  449|\n",
      "|       normoc|       calthr|  375|\n",
      "|       normoc|       cacwre|  335|\n",
      "|       normoc|       brnthr|  328|\n",
      "|       houspa|      sposta1|  307|\n",
      "|       normoc|       scoori|  302|\n",
      "|       houspa|       eucdov|  289|\n",
      "|       normoc|      chbmoc1|  277|\n",
      "+-------------+-------------+-----+\n",
      "only showing top 20 rows\n",
      "\n"
     ]
    },
    {
     "name": "stderr",
     "output_type": "stream",
     "text": [
      "                                                                                \r"
     ]
    }
   ],
   "source": [
    "subset_species = [\"normoc\", \"houspa\", \"skylar\"]\n",
    "subset = df.where(F.col(\"primary_label\").isin(subset_species))\n",
    "subset.groupBy(\"primary_label\", \"birdnet_label\").count().orderBy(F.desc(\"count\")).show()"
   ]
  },
  {
   "cell_type": "code",
   "execution_count": 10,
   "metadata": {},
   "outputs": [
    {
     "name": "stderr",
     "output_type": "stream",
     "text": [
      "ERROR:root:Exception while sending command.                                     \n",
      "Traceback (most recent call last):\n",
      "  File \"/home/acmiy/birdclef-2023/venv/lib/python3.7/site-packages/py4j/clientserver.py\", line 511, in send_command\n",
      "    answer = smart_decode(self.stream.readline()[:-1])\n",
      "  File \"/opt/conda/lib/python3.7/socket.py\", line 589, in readinto\n",
      "    return self._sock.recv_into(b)\n",
      "ConnectionResetError: [Errno 104] Connection reset by peer\n",
      "\n",
      "During handling of the above exception, another exception occurred:\n",
      "\n",
      "Traceback (most recent call last):\n",
      "  File \"/home/acmiy/birdclef-2023/venv/lib/python3.7/site-packages/py4j/java_gateway.py\", line 1038, in send_command\n",
      "    response = connection.send_command(command)\n",
      "  File \"/home/acmiy/birdclef-2023/venv/lib/python3.7/site-packages/py4j/clientserver.py\", line 540, in send_command\n",
      "    \"Error while sending or receiving\", e, proto.ERROR_ON_RECEIVE)\n",
      "py4j.protocol.Py4JNetworkError: Error while sending or receiving\n"
     ]
    }
   ],
   "source": [
    "subset.toPandas().to_parquet(\"../data/processed/2022-01-15-assessment.parquet\")"
   ]
  }
 ],
 "metadata": {
  "kernelspec": {
   "display_name": "venv",
   "language": "python",
   "name": "python3"
  },
  "language_info": {
   "codemirror_mode": {
    "name": "ipython",
    "version": 3
   },
   "file_extension": ".py",
   "mimetype": "text/x-python",
   "name": "python",
   "nbconvert_exporter": "python",
   "pygments_lexer": "ipython3",
   "version": "3.7.12"
  },
  "orig_nbformat": 4,
  "vscode": {
   "interpreter": {
    "hash": "99e3fab793c0456e63ab83c372f8335ef479e5a9e573d0646094eb616eafc087"
   }
  }
 },
 "nbformat": 4,
 "nbformat_minor": 2
}
