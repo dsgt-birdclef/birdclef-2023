{
 "cells": [
  {
   "cell_type": "code",
   "execution_count": 16,
   "metadata": {},
   "outputs": [
    {
     "name": "stdout",
     "output_type": "stream",
     "text": [
      "The autoreload extension is already loaded. To reload it, use:\n",
      "  %reload_ext autoreload\n",
      "The lab_black extension is already loaded. To reload it, use:\n",
      "  %reload_ext lab_black\n"
     ]
    }
   ],
   "source": [
    "%load_ext autoreload\n",
    "%autoreload 2\n",
    "%load_ext lab_black"
   ]
  },
  {
   "cell_type": "code",
   "execution_count": 17,
   "metadata": {},
   "outputs": [],
   "source": [
    "from pyspark.sql import functions as F, Window\n",
    "import pandas as pd\n",
    "import numpy as np\n",
    "import matplotlib.pyplot as plt\n",
    "from umap import UMAP\n",
    "from sklearn.decomposition import PCA"
   ]
  },
  {
   "cell_type": "code",
   "execution_count": 18,
   "metadata": {},
   "outputs": [],
   "source": [
    "from birdclef.utils import get_spark\n",
    "\n",
    "spark = get_spark(memory=\"2g\")"
   ]
  },
  {
   "cell_type": "code",
   "execution_count": 19,
   "metadata": {},
   "outputs": [
    {
     "name": "stdout",
     "output_type": "stream",
     "text": [
      "root\n",
      " |-- id: integer (nullable = true)\n",
      " |-- filename: string (nullable = true)\n",
      " |-- start_sec: double (nullable = true)\n",
      " |-- end_sec: double (nullable = true)\n",
      " |-- confidence: double (nullable = true)\n",
      " |-- birdnet_label: string (nullable = true)\n",
      " |-- birdnet_common_name: string (nullable = true)\n",
      " |-- emb: array (nullable = true)\n",
      " |    |-- element: float (containsNull = true)\n",
      " |-- primary_label: string (nullable = true)\n",
      " |-- secondary_labels: string (nullable = true)\n",
      " |-- type: string (nullable = true)\n",
      " |-- neighbors: array (nullable = true)\n",
      " |    |-- element: long (containsNull = true)\n",
      " |-- distances: array (nullable = true)\n",
      " |    |-- element: double (containsNull = true)\n",
      "\n",
      "-RECORD 0-----------------------------------\n",
      " id                  | 239173               \n",
      " filename            | skylar/XC380395.ogg  \n",
      " start_sec           | 396.0                \n",
      " end_sec             | 399.0                \n",
      " confidence          | 0.1293               \n",
      " birdnet_label       | skylar               \n",
      " birdnet_common_name | Eurasian Skylark     \n",
      " emb                 | [0.7177122, 1.611... \n",
      " primary_label       | skylar               \n",
      " secondary_labels    | ['mallar3', 'skyl... \n",
      " type                | ['song']             \n",
      " neighbors           | [239174, 239173, ... \n",
      " distances           | [0.0, 0.0, 0.0, 3... \n",
      "only showing top 1 row\n",
      "\n"
     ]
    }
   ],
   "source": [
    "df = spark.read.parquet(\n",
    "    \"../data/processed/birdclef-2022/birdnet-embeddings-with-neighbors/v1\"\n",
    ")\n",
    "df.printSchema()\n",
    "df.show(n=1, vertical=True)"
   ]
  },
  {
   "attachments": {},
   "cell_type": "markdown",
   "metadata": {},
   "source": [
    "* https://ebird.org/species/brnowl\n",
    "* https://ebird.org/species/mallar3"
   ]
  },
  {
   "cell_type": "code",
   "execution_count": 20,
   "metadata": {},
   "outputs": [
    {
     "name": "stdout",
     "output_type": "stream",
     "text": [
      "+-------------+-----+\n",
      "|primary_label|count|\n",
      "+-------------+-----+\n",
      "|       normoc|25068|\n",
      "|       houspa|18173|\n",
      "|       skylar|12849|\n",
      "|       norcar|12216|\n",
      "|       wesmea| 9479|\n",
      "|       brnowl| 8186|\n",
      "|      mallar3| 7489|\n",
      "|       houfin| 6616|\n",
      "|       commyn| 6524|\n",
      "|       dunlin| 6069|\n",
      "+-------------+-----+\n",
      "only showing top 10 rows\n",
      "\n"
     ]
    }
   ],
   "source": [
    "df.groupBy(\"primary_label\").count().orderBy(F.desc(\"count\")).show(n=10)"
   ]
  },
  {
   "cell_type": "code",
   "execution_count": 27,
   "metadata": {},
   "outputs": [
    {
     "name": "stdout",
     "output_type": "stream",
     "text": [
      "+-------------+-------------+-----+\n",
      "|primary_label|birdnet_label|count|\n",
      "+-------------+-------------+-----+\n",
      "|       skylar|       skylar|  370|\n",
      "|       houspa|       houspa|  320|\n",
      "|       normoc|       normoc|  106|\n",
      "|       houspa|       eutspa|   20|\n",
      "|       skylar|      orisky1|   20|\n",
      "|       normoc|       tromoc|   16|\n",
      "|       normoc|       crithr|   16|\n",
      "|       houspa|      spaspa1|   11|\n",
      "|       skylar|      tawpip1|   11|\n",
      "|       normoc|       cubthr|   10|\n",
      "+-------------+-------------+-----+\n",
      "only showing top 10 rows\n",
      "\n"
     ]
    }
   ],
   "source": [
    "subset_species = [\"normoc\", \"houspa\", \"skylar\"]\n",
    "subset = df.where(F.col(\"primary_label\").isin(subset_species))\n",
    "# take segment from the track that has the highest confidence\n",
    "subset = (\n",
    "    subset.withColumn(\n",
    "        \"rank\",\n",
    "        F.row_number().over(\n",
    "            Window.partitionBy(\"filename\").orderBy(F.desc(\"confidence\"))\n",
    "        ),\n",
    "    )\n",
    "    .where(\"rank = 1\")\n",
    "    .drop(\"rank\", \"id\", \"neighbors\", \"distances\")\n",
    "    .orderBy(\"filename\", \"start_sec\")\n",
    "    .withColumn(\"id\", F.row_number().over(Window.orderBy(\"filename\", \"start_sec\")))\n",
    ")\n",
    "subset.groupBy(\"primary_label\", \"birdnet_label\").count().orderBy(F.desc(\"count\")).show(\n",
    "    n=10\n",
    ")"
   ]
  },
  {
   "cell_type": "code",
   "execution_count": 28,
   "metadata": {},
   "outputs": [
    {
     "name": "stdout",
     "output_type": "stream",
     "text": [
      "Sun Jan 15 22:08:45 2023 Building RP forest with 11 trees\n",
      "Sun Jan 15 22:08:47 2023 NN descent for 10 iterations\n",
      "\t 1  /  10\n",
      "\t 2  /  10\n",
      "\t 3  /  10\n",
      "\t 4  /  10\n",
      "\tStopping threshold met -- exiting after 4 iterations\n",
      "Sun Jan 15 22:08:57 2023 Worst tree score: 0.83783784\n",
      "Sun Jan 15 22:08:57 2023 Mean tree score: 0.85882197\n",
      "Sun Jan 15 22:08:57 2023 Best tree score: 0.87363039\n",
      "Sun Jan 15 22:08:59 2023 Forward diversification reduced edges from 41070 to 6612\n",
      "Sun Jan 15 22:09:01 2023 Reverse diversification reduced edges from 6612 to 6612\n",
      "Sun Jan 15 22:09:03 2023 Degree pruning reduced edges from 7454 to 7454\n",
      "Sun Jan 15 22:09:03 2023 Resorting data and graph based on tree order\n",
      "Sun Jan 15 22:09:03 2023 Building and compiling search function\n"
     ]
    }
   ],
   "source": [
    "from pynndescent import NNDescent\n",
    "\n",
    "# recompute the ids and neighbors\n",
    "X = np.stack(subset.select(\"emb\").toPandas().emb)\n",
    "index = NNDescent(X, verbose=True)\n",
    "neighbors, distances = index.query(X, k=20)\n",
    "query_df = pd.DataFrame(\n",
    "    dict(\n",
    "        id=subset.select(\"id\").toPandas().id,\n",
    "        neighbors=neighbors.tolist(),\n",
    "        distances=distances.tolist(),\n",
    "    )\n",
    ")\n",
    "\n",
    "subset = subset.join(spark.createDataFrame(query_df), on=\"id\")"
   ]
  },
  {
   "cell_type": "code",
   "execution_count": 29,
   "metadata": {},
   "outputs": [],
   "source": [
    "subset.toPandas().to_parquet(\"../data/processed/2022-01-15-assessment.parquet\")"
   ]
  },
  {
   "cell_type": "code",
   "execution_count": 30,
   "metadata": {},
   "outputs": [
    {
     "data": {
      "text/html": [
       "<div>\n",
       "<style scoped>\n",
       "    .dataframe tbody tr th:only-of-type {\n",
       "        vertical-align: middle;\n",
       "    }\n",
       "\n",
       "    .dataframe tbody tr th {\n",
       "        vertical-align: top;\n",
       "    }\n",
       "\n",
       "    .dataframe thead th {\n",
       "        text-align: right;\n",
       "    }\n",
       "</style>\n",
       "<table border=\"1\" class=\"dataframe\">\n",
       "  <thead>\n",
       "    <tr style=\"text-align: right;\">\n",
       "      <th></th>\n",
       "      <th>id</th>\n",
       "      <th>filename</th>\n",
       "      <th>start_sec</th>\n",
       "      <th>end_sec</th>\n",
       "      <th>confidence</th>\n",
       "      <th>birdnet_label</th>\n",
       "      <th>birdnet_common_name</th>\n",
       "      <th>emb</th>\n",
       "      <th>primary_label</th>\n",
       "      <th>secondary_labels</th>\n",
       "      <th>type</th>\n",
       "      <th>neighbors</th>\n",
       "      <th>distances</th>\n",
       "    </tr>\n",
       "  </thead>\n",
       "  <tbody>\n",
       "    <tr>\n",
       "      <th>0</th>\n",
       "      <td>1</td>\n",
       "      <td>houspa/XC121738.ogg</td>\n",
       "      <td>51.0</td>\n",
       "      <td>54.0</td>\n",
       "      <td>0.7677</td>\n",
       "      <td>eutspa</td>\n",
       "      <td>Eurasian Tree Sparrow</td>\n",
       "      <td>[1.4410583, 1.5985851, 1.1828262, 0.55653006, ...</td>\n",
       "      <td>houspa</td>\n",
       "      <td>[]</td>\n",
       "      <td>['call']</td>\n",
       "      <td>[0, 57, 292, 24, 27, 269, 199, 445, 111, 196, ...</td>\n",
       "      <td>[0.0, 7.545195579528809, 7.966801643371582, 8....</td>\n",
       "    </tr>\n",
       "    <tr>\n",
       "      <th>1</th>\n",
       "      <td>2</td>\n",
       "      <td>houspa/XC124181.ogg</td>\n",
       "      <td>0.0</td>\n",
       "      <td>3.0</td>\n",
       "      <td>0.9652</td>\n",
       "      <td>houspa</td>\n",
       "      <td>House Sparrow</td>\n",
       "      <td>[2.0463464, 1.2236276, 0.70286447, 1.3113645, ...</td>\n",
       "      <td>houspa</td>\n",
       "      <td>[]</td>\n",
       "      <td>['call']</td>\n",
       "      <td>[1, 237, 244, 255, 83, 264, 198, 240, 31, 322,...</td>\n",
       "      <td>[0.0, 5.581757068634033, 6.375831604003906, 6....</td>\n",
       "    </tr>\n",
       "    <tr>\n",
       "      <th>2</th>\n",
       "      <td>3</td>\n",
       "      <td>houspa/XC131300.ogg</td>\n",
       "      <td>18.0</td>\n",
       "      <td>21.0</td>\n",
       "      <td>0.8707</td>\n",
       "      <td>eutspa</td>\n",
       "      <td>Eurasian Tree Sparrow</td>\n",
       "      <td>[1.5261635, 1.939797, 1.4180027, 0.9176945, 1....</td>\n",
       "      <td>houspa</td>\n",
       "      <td>[]</td>\n",
       "      <td>['call', 'male', 'song']</td>\n",
       "      <td>[2, 441, 263, 401, 269, 323, 304, 31, 46, 192,...</td>\n",
       "      <td>[0.0, 7.3610758781433105, 7.4461188316345215, ...</td>\n",
       "    </tr>\n",
       "    <tr>\n",
       "      <th>3</th>\n",
       "      <td>4</td>\n",
       "      <td>houspa/XC133262.ogg</td>\n",
       "      <td>48.0</td>\n",
       "      <td>51.0</td>\n",
       "      <td>0.8861</td>\n",
       "      <td>whcspa</td>\n",
       "      <td>White-crowned Sparrow</td>\n",
       "      <td>[0.7386549, 1.3903569, 1.2590201, 1.2009335, 0...</td>\n",
       "      <td>houspa</td>\n",
       "      <td>[]</td>\n",
       "      <td>['begging call', 'juvenile']</td>\n",
       "      <td>[3, 1127, 528, 1102, 79, 1155, 1208, 642, 21, ...</td>\n",
       "      <td>[0.0, 8.889424324035645, 9.17027759552002, 9.2...</td>\n",
       "    </tr>\n",
       "    <tr>\n",
       "      <th>4</th>\n",
       "      <td>5</td>\n",
       "      <td>houspa/XC139186.ogg</td>\n",
       "      <td>0.0</td>\n",
       "      <td>3.0</td>\n",
       "      <td>0.7380</td>\n",
       "      <td>houspa</td>\n",
       "      <td>House Sparrow</td>\n",
       "      <td>[1.0389303, 1.9639286, 0.81923, 1.1145979, 1.2...</td>\n",
       "      <td>houspa</td>\n",
       "      <td>[]</td>\n",
       "      <td>['male', 'song']</td>\n",
       "      <td>[4, 269, 305, 82, 346, 150, 192, 460, 367, 149...</td>\n",
       "      <td>[0.0, 5.821669101715088, 5.945547580718994, 5....</td>\n",
       "    </tr>\n",
       "  </tbody>\n",
       "</table>\n",
       "</div>"
      ],
      "text/plain": [
       "   id             filename  start_sec  end_sec  confidence birdnet_label  \\\n",
       "0   1  houspa/XC121738.ogg       51.0     54.0      0.7677        eutspa   \n",
       "1   2  houspa/XC124181.ogg        0.0      3.0      0.9652        houspa   \n",
       "2   3  houspa/XC131300.ogg       18.0     21.0      0.8707        eutspa   \n",
       "3   4  houspa/XC133262.ogg       48.0     51.0      0.8861        whcspa   \n",
       "4   5  houspa/XC139186.ogg        0.0      3.0      0.7380        houspa   \n",
       "\n",
       "     birdnet_common_name                                                emb  \\\n",
       "0  Eurasian Tree Sparrow  [1.4410583, 1.5985851, 1.1828262, 0.55653006, ...   \n",
       "1          House Sparrow  [2.0463464, 1.2236276, 0.70286447, 1.3113645, ...   \n",
       "2  Eurasian Tree Sparrow  [1.5261635, 1.939797, 1.4180027, 0.9176945, 1....   \n",
       "3  White-crowned Sparrow  [0.7386549, 1.3903569, 1.2590201, 1.2009335, 0...   \n",
       "4          House Sparrow  [1.0389303, 1.9639286, 0.81923, 1.1145979, 1.2...   \n",
       "\n",
       "  primary_label secondary_labels                          type  \\\n",
       "0        houspa               []                      ['call']   \n",
       "1        houspa               []                      ['call']   \n",
       "2        houspa               []      ['call', 'male', 'song']   \n",
       "3        houspa               []  ['begging call', 'juvenile']   \n",
       "4        houspa               []              ['male', 'song']   \n",
       "\n",
       "                                           neighbors  \\\n",
       "0  [0, 57, 292, 24, 27, 269, 199, 445, 111, 196, ...   \n",
       "1  [1, 237, 244, 255, 83, 264, 198, 240, 31, 322,...   \n",
       "2  [2, 441, 263, 401, 269, 323, 304, 31, 46, 192,...   \n",
       "3  [3, 1127, 528, 1102, 79, 1155, 1208, 642, 21, ...   \n",
       "4  [4, 269, 305, 82, 346, 150, 192, 460, 367, 149...   \n",
       "\n",
       "                                           distances  \n",
       "0  [0.0, 7.545195579528809, 7.966801643371582, 8....  \n",
       "1  [0.0, 5.581757068634033, 6.375831604003906, 6....  \n",
       "2  [0.0, 7.3610758781433105, 7.4461188316345215, ...  \n",
       "3  [0.0, 8.889424324035645, 9.17027759552002, 9.2...  \n",
       "4  [0.0, 5.821669101715088, 5.945547580718994, 5....  "
      ]
     },
     "execution_count": 30,
     "metadata": {},
     "output_type": "execute_result"
    }
   ],
   "source": [
    "pd.read_parquet(\"../data/processed/2022-01-15-assessment.parquet\").head()"
   ]
  }
 ],
 "metadata": {
  "kernelspec": {
   "display_name": "venv",
   "language": "python",
   "name": "python3"
  },
  "language_info": {
   "codemirror_mode": {
    "name": "ipython",
    "version": 3
   },
   "file_extension": ".py",
   "mimetype": "text/x-python",
   "name": "python",
   "nbconvert_exporter": "python",
   "pygments_lexer": "ipython3",
   "version": "3.10.5"
  },
  "orig_nbformat": 4,
  "vscode": {
   "interpreter": {
    "hash": "6c0b2694cc72a4b1216248dce15f12c6ef2d809641a13c5c2db85cd65e60fdec"
   }
  }
 },
 "nbformat": 4,
 "nbformat_minor": 2
}
