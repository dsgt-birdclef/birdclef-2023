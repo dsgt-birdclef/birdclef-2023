{
 "cells": [
  {
   "cell_type": "code",
   "execution_count": 13,
   "metadata": {},
   "outputs": [
    {
     "name": "stdout",
     "output_type": "stream",
     "text": [
      "2.11.0\n",
      "/home/emm06/birdclef-2023/venv/lib/python3.7/site-packages/tensorflow/__init__.py\n",
      "/home/emm06/birdclef-2023/venv/lib/python3.7/site-packages/tf2onnx/__init__.py\n"
     ]
    }
   ],
   "source": [
    "import sys\n",
    "\n",
    "sys.path.append(\"/home/emm06/birdclef-2023/vendor/BirdNET-Analyzer/\")\n",
    "import os\n",
    "import argparse\n",
    "import datetime\n",
    "import numpy as np\n",
    "\n",
    "# import importlib\n",
    "import traceback\n",
    "\n",
    "from multiprocessing import Pool\n",
    "import importlib\n",
    "\n",
    "config = importlib.import_module(\"vendor.BirdNET-Analyzer.config\")\n",
    "analyze = importlib.import_module(\"vendor.BirdNET-Analyzer.analyze\")\n",
    "model = importlib.import_module(\"vendor.BirdNET-Analyzer.model\")\n",
    "\n",
    "# from vendor.BirdNET_Analyzer import analyze\n",
    "import keras\n",
    "\n",
    "##import model\n",
    "import os\n",
    "\n",
    "# from keras.models import Sequential\n",
    "# from keras.layers import Dense\n",
    "# from keras.utils.vis_utils import plot_model\n",
    "import numpy as np\n",
    "\n",
    "import warnings\n",
    "\n",
    "# warnings.filterwarnings(\"ignore\")\n",
    "# import tflite2onnx\n",
    "import tf2onnx\n",
    "\n",
    "# import config as cfg\n",
    "import tensorflow as tf\n",
    "\n",
    "print(tf.__version__)\n",
    "print(tf.__file__)\n",
    "\n",
    "print(tf2onnx.__file__)"
   ]
  },
  {
   "cell_type": "code",
   "execution_count": 10,
   "metadata": {},
   "outputs": [],
   "source": []
  },
  {
   "cell_type": "code",
   "execution_count": 3,
   "metadata": {},
   "outputs": [],
   "source": []
  },
  {
   "cell_type": "code",
   "execution_count": 11,
   "metadata": {},
   "outputs": [
    {
     "ename": "DecodeError",
     "evalue": "Error parsing message with type 'tensorflow.GraphDef'",
     "output_type": "error",
     "traceback": [
      "\u001b[0;31m---------------------------------------------------------------------------\u001b[0m",
      "\u001b[0;31mDecodeError\u001b[0m                               Traceback (most recent call last)",
      "\u001b[0;32m/var/tmp/ipykernel_10475/3156614208.py\u001b[0m in \u001b[0;36m<module>\u001b[0;34m\u001b[0m\n\u001b[1;32m     11\u001b[0m     \u001b[0;32mreturn\u001b[0m \u001b[0mgraph\u001b[0m\u001b[0;34m\u001b[0m\u001b[0;34m\u001b[0m\u001b[0m\n\u001b[1;32m     12\u001b[0m \u001b[0;34m\u001b[0m\u001b[0m\n\u001b[0;32m---> 13\u001b[0;31m \u001b[0mtest\u001b[0m \u001b[0;34m=\u001b[0m \u001b[0mload_graph\u001b[0m\u001b[0;34m(\u001b[0m\u001b[0;34m\"/home/emm06/birdclef-2023/vendor/BirdNET-Analyzer/checkpoints/V2.2/BirdNET_GLOBAL_3K_V2.2_Model/saved_model.pb\"\u001b[0m\u001b[0;34m)\u001b[0m\u001b[0;34m\u001b[0m\u001b[0;34m\u001b[0m\u001b[0m\n\u001b[0m",
      "\u001b[0;32m/var/tmp/ipykernel_10475/3156614208.py\u001b[0m in \u001b[0;36mload_graph\u001b[0;34m(frozen_graph_filename)\u001b[0m\n\u001b[1;32m      5\u001b[0m     \u001b[0;32mwith\u001b[0m \u001b[0mtf\u001b[0m\u001b[0;34m.\u001b[0m\u001b[0mgfile\u001b[0m\u001b[0;34m.\u001b[0m\u001b[0mGFile\u001b[0m\u001b[0;34m(\u001b[0m\u001b[0mfrozen_graph_filename\u001b[0m\u001b[0;34m,\u001b[0m \u001b[0;34m\"rb\"\u001b[0m\u001b[0;34m)\u001b[0m \u001b[0;32mas\u001b[0m \u001b[0mf\u001b[0m\u001b[0;34m:\u001b[0m\u001b[0;34m\u001b[0m\u001b[0;34m\u001b[0m\u001b[0m\n\u001b[1;32m      6\u001b[0m         \u001b[0mgraph_def\u001b[0m \u001b[0;34m=\u001b[0m \u001b[0mtf\u001b[0m\u001b[0;34m.\u001b[0m\u001b[0mGraphDef\u001b[0m\u001b[0;34m(\u001b[0m\u001b[0;34m)\u001b[0m\u001b[0;34m\u001b[0m\u001b[0;34m\u001b[0m\u001b[0m\n\u001b[0;32m----> 7\u001b[0;31m         \u001b[0mgraph_def\u001b[0m\u001b[0;34m.\u001b[0m\u001b[0mParseFromString\u001b[0m\u001b[0;34m(\u001b[0m\u001b[0mf\u001b[0m\u001b[0;34m.\u001b[0m\u001b[0mread\u001b[0m\u001b[0;34m(\u001b[0m\u001b[0;34m)\u001b[0m\u001b[0;34m)\u001b[0m\u001b[0;34m\u001b[0m\u001b[0;34m\u001b[0m\u001b[0m\n\u001b[0m\u001b[1;32m      8\u001b[0m     \u001b[0;31m# Then, we import the graph_def into a new Graph and returns it\u001b[0m\u001b[0;34m\u001b[0m\u001b[0;34m\u001b[0m\u001b[0;34m\u001b[0m\u001b[0m\n\u001b[1;32m      9\u001b[0m     \u001b[0;32mwith\u001b[0m \u001b[0mtf\u001b[0m\u001b[0;34m.\u001b[0m\u001b[0mGraph\u001b[0m\u001b[0;34m(\u001b[0m\u001b[0;34m)\u001b[0m\u001b[0;34m.\u001b[0m\u001b[0mas_default\u001b[0m\u001b[0;34m(\u001b[0m\u001b[0;34m)\u001b[0m \u001b[0;32mas\u001b[0m \u001b[0mgraph\u001b[0m\u001b[0;34m:\u001b[0m\u001b[0;34m\u001b[0m\u001b[0;34m\u001b[0m\u001b[0m\n",
      "\u001b[0;31mDecodeError\u001b[0m: Error parsing message with type 'tensorflow.GraphDef'"
     ]
    }
   ],
   "source": [
    "# Version 1.15 Tensorflow - issues with readiing the protobuff file\n",
    "def load_graph(frozen_graph_filename):\n",
    "    # We load the protobuf file from the disk and parse it to retrieve the\n",
    "    # unserialized graph_def\n",
    "    with tf.gfile.GFile(frozen_graph_filename, \"rb\") as f:\n",
    "        graph_def = tf.GraphDef()\n",
    "        graph_def.ParseFromString(f.read())\n",
    "    # Then, we import the graph_def into a new Graph and returns it\n",
    "    with tf.Graph().as_default() as graph:\n",
    "        tf.import_graph_def(graph_def)\n",
    "    return graph\n",
    "\n",
    "\n",
    "test = load_graph(\n",
    "    \"/home/emm06/birdclef-2023/vendor/BirdNET-Analyzer/checkpoints/V2.2/BirdNET_GLOBAL_3K_V2.2_Model/saved_model.pb\"\n",
    ")"
   ]
  },
  {
   "cell_type": "code",
   "execution_count": 3,
   "metadata": {},
   "outputs": [
    {
     "name": "stdout",
     "output_type": "stream",
     "text": [
      "Traceback (most recent call last):\n",
      "  File \"/home/emm06/birdclef-2023/venv/bin/mmconvert\", line 8, in <module>\n",
      "    sys.exit(_main())\n",
      "  File \"/home/emm06/birdclef-2023/venv/lib/python3.7/site-packages/mmdnn/conversion/_script/convert.py\", line 102, in _main\n",
      "    ret = convertToIR._convert(ir_args)\n",
      "  File \"/home/emm06/birdclef-2023/venv/lib/python3.7/site-packages/mmdnn/conversion/_script/convertToIR.py\", line 59, in _convert\n",
      "    parser = TensorflowParser2(args.weights, inputshape, args.inNodeName, args.dstNodeName)\n",
      "  File \"/home/emm06/birdclef-2023/venv/lib/python3.7/site-packages/mmdnn/conversion/tensorflow/tensorflow_frozenparser.py\", line 120, in __init__\n",
      "    tensorflow.reset_default_graph()\n",
      "AttributeError: module 'tensorflow' has no attribute 'reset_default_graph'\n"
     ]
    }
   ],
   "source": [
    "! mmconvert -sf tensorflow -iw  ../vendor/BirdNET-Analyzer/checkpoints/V2.2/BirdNET_GLOBAL_3K_V2.2_Model/saved_model.pb --inNodeName INPUT --inputShape 144000 --dstNodeName CLASS_DENSE_1 -df pytorch -om  tf2torch_saved_model"
   ]
  },
  {
   "attachments": {},
   "cell_type": "markdown",
   "metadata": {},
   "source": [
    "Next part is with Tensorflow 2x, everything works fine...but when running the following command in bash, there are compatibility issues with mmdnn converter since it works in Tensorflow 1.15:\n",
    "\n",
    "!mmconvert -sf tensorflow -iw  vendor/BirdNET-Analyzer/checkpoints/V2.2/BirdNET_GLOBAL_3K_V2.2_Model/saved_model.pb --inNodeName INPUT --inputShape 144000 --dstNodeName CLASS_DENSE_1 -df pytorch -om  tf2torch_saved_model"
   ]
  },
  {
   "cell_type": "code",
   "execution_count": null,
   "metadata": {},
   "outputs": [],
   "source": []
  },
  {
   "cell_type": "code",
   "execution_count": 4,
   "metadata": {},
   "outputs": [],
   "source": [
    "export_path = \"/home/emm06/birdclef-2023/vendor/BirdNET-Analyzer/checkpoints/V2.2/BirdNET_GLOBAL_3K_V2.2_Model/\""
   ]
  },
  {
   "cell_type": "code",
   "execution_count": null,
   "metadata": {},
   "outputs": [],
   "source": [
    "pb_model = keras.models.load_model(export_path)"
   ]
  },
  {
   "cell_type": "code",
   "execution_count": 6,
   "metadata": {},
   "outputs": [
    {
     "data": {
      "text/plain": [
       "{'batch_input_shape': (None, 144000),\n",
       " 'dtype': 'float32',\n",
       " 'sparse': False,\n",
       " 'ragged': False,\n",
       " 'name': 'INPUT'}"
      ]
     },
     "execution_count": 6,
     "metadata": {},
     "output_type": "execute_result"
    }
   ],
   "source": [
    "pb_model.model.layers[0].get_config()"
   ]
  },
  {
   "cell_type": "code",
   "execution_count": 7,
   "metadata": {},
   "outputs": [
    {
     "data": {
      "text/plain": [
       "(None, 144000)"
      ]
     },
     "execution_count": 7,
     "metadata": {},
     "output_type": "execute_result"
    }
   ],
   "source": [
    "pb_model.model.layers[0].get_config()[\"batch_input_shape\"]"
   ]
  },
  {
   "cell_type": "code",
   "execution_count": 8,
   "metadata": {},
   "outputs": [
    {
     "data": {
      "text/plain": [
       "{'name': 'CLASS_DENSE_1',\n",
       " 'trainable': True,\n",
       " 'dtype': 'float32',\n",
       " 'units': 3337,\n",
       " 'activation': 'linear',\n",
       " 'use_bias': True,\n",
       " 'kernel_initializer': {'class_name': 'HeNormal', 'config': {'seed': 42}},\n",
       " 'bias_initializer': {'class_name': 'Zeros', 'config': {}},\n",
       " 'kernel_regularizer': None,\n",
       " 'bias_regularizer': None,\n",
       " 'activity_regularizer': None,\n",
       " 'kernel_constraint': None,\n",
       " 'bias_constraint': None}"
      ]
     },
     "execution_count": 8,
     "metadata": {},
     "output_type": "execute_result"
    }
   ],
   "source": [
    "pb_model.model.layers[-1].get_config()"
   ]
  },
  {
   "cell_type": "code",
   "execution_count": null,
   "metadata": {},
   "outputs": [],
   "source": [
    "pb_model.model.layers"
   ]
  },
  {
   "cell_type": "code",
   "execution_count": null,
   "metadata": {},
   "outputs": [],
   "source": [
    "[layer.name for layer in pb_model.model.layers]"
   ]
  },
  {
   "cell_type": "code",
   "execution_count": 24,
   "metadata": {},
   "outputs": [
    {
     "data": {
      "text/plain": [
       "{'name': 'ADVANCED_SPEC1',\n",
       " 'trainable': True,\n",
       " 'dtype': 'float32',\n",
       " 'data_format': 'channels_last',\n",
       " 'sample_rate': 48000,\n",
       " 'spec_shape': [64, 512],\n",
       " 'frame_step': 280,\n",
       " 'fmin': 150,\n",
       " 'fmax': 12000,\n",
       " 'frame_length': 512}"
      ]
     },
     "execution_count": 24,
     "metadata": {},
     "output_type": "execute_result"
    }
   ],
   "source": [
    "pb_model.model.layers[1].get_config()"
   ]
  },
  {
   "cell_type": "code",
   "execution_count": 34,
   "metadata": {},
   "outputs": [
    {
     "data": {
      "text/plain": [
       "<KerasTensor: shape=(None, 144000) dtype=float32 (created by layer 'INPUT')>"
      ]
     },
     "execution_count": 34,
     "metadata": {},
     "output_type": "execute_result"
    }
   ],
   "source": [
    "pb_model.model.layers[1].input"
   ]
  },
  {
   "cell_type": "code",
   "execution_count": 60,
   "metadata": {},
   "outputs": [],
   "source": [
    "def printTensors(pb_file):\n",
    "    # read pb into graph_def\n",
    "\n",
    "    with tf.io.gfile.GFile(pb_file, \"rb\") as f:\n",
    "        graph_def = tf.compat.v1.GraphDef()\n",
    "        graph_def.ParseFromString(f.read())\n",
    "\n",
    "    # import graph_def\n",
    "    with tf.Graph().as_default() as graph:\n",
    "        tf.import_graph_def(graph_def)\n",
    "\n",
    "    # print operations\n",
    "    for op in graph.get_operations():\n",
    "        print(op.name)"
   ]
  },
  {
   "cell_type": "code",
   "execution_count": 61,
   "metadata": {},
   "outputs": [],
   "source": [
    "path_pb = \"/home/emm06/birdclef-2023/vendor/BirdNET-Analyzer/checkpoints/V2.2/BirdNET_GLOBAL_3K_V2.2_Model/\""
   ]
  },
  {
   "cell_type": "code",
   "execution_count": null,
   "metadata": {},
   "outputs": [],
   "source": []
  },
  {
   "attachments": {},
   "cell_type": "markdown",
   "metadata": {},
   "source": [
    "Trying Onnyx..."
   ]
  },
  {
   "cell_type": "code",
   "execution_count": 35,
   "metadata": {},
   "outputs": [
    {
     "name": "stdout",
     "output_type": "stream",
     "text": [
      "/opt/conda/lib/python3.7/runpy.py:125: RuntimeWarning: 'tf2onnx.convert' found in sys.modules after import of package 'tf2onnx', but prior to execution of 'tf2onnx.convert'; this may result in unpredictable behaviour\n",
      "  warn(RuntimeWarning(msg))\n",
      "2023-02-20 04:52:54,801 - WARNING - '--tag' not specified for saved_model. Using --tag serve\n",
      "2023-02-20 04:52:55,124 - WARNING - Importing a function (__inference_BLOCK_4-2_ACT_1_layer_call_and_return_conditional_losses_15267) with ops with unsaved custom gradients. Will likely fail if a gradient is requested.\n",
      "2023-02-20 04:52:55,164 - WARNING - Importing a function (__inference_BLOCK_4-3_ACT_1_layer_call_and_return_conditional_losses_33161) with ops with unsaved custom gradients. Will likely fail if a gradient is requested.\n",
      "2023-02-20 04:52:55,180 - WARNING - Importing a function (__inference_BLOCK_3-3_ACT_2_layer_call_and_return_conditional_losses_14525) with ops with unsaved custom gradients. Will likely fail if a gradient is requested.\n",
      "2023-02-20 04:52:55,241 - WARNING - Importing a function (__inference_BLOCK_3-4_ACT_1_layer_call_and_return_conditional_losses_14681) with ops with unsaved custom gradients. Will likely fail if a gradient is requested.\n",
      "2023-02-20 04:52:55,246 - WARNING - Importing a function (__inference_BLOCK_3-4_ACT_2_layer_call_and_return_conditional_losses_14723) with ops with unsaved custom gradients. Will likely fail if a gradient is requested.\n",
      "2023-02-20 04:52:55,250 - WARNING - Importing a function (__inference_BLOCK_3-2_ACT_2_layer_call_and_return_conditional_losses_14327) with ops with unsaved custom gradients. Will likely fail if a gradient is requested.\n",
      "2023-02-20 04:52:55,273 - WARNING - Importing a function (__inference_BLOCK_4-2_ACT_2_layer_call_and_return_conditional_losses_32783) with ops with unsaved custom gradients. Will likely fail if a gradient is requested.\n",
      "2023-02-20 04:52:55,338 - WARNING - Importing a function (__inference_BLOCK_2-4_ACT_1_layer_call_and_return_conditional_losses_13993) with ops with unsaved custom gradients. Will likely fail if a gradient is requested.\n",
      "2023-02-20 04:52:55,398 - WARNING - Importing a function (__inference_BLOCK_3-3_ACT_2_layer_call_and_return_conditional_losses_30727) with ops with unsaved custom gradients. Will likely fail if a gradient is requested.\n",
      "2023-02-20 04:52:55,422 - WARNING - Importing a function (__inference_BLOCK_3-5_SE_CONV_1_layer_call_and_return_conditional_losses_14953) with ops with unsaved custom gradients. Will likely fail if a gradient is requested.\n",
      "2023-02-20 04:52:55,452 - WARNING - Importing a function (__inference_BLOCK_1-3_ACT_1_layer_call_and_return_conditional_losses_28018) with ops with unsaved custom gradients. Will likely fail if a gradient is requested.\n",
      "2023-02-20 04:52:55,527 - WARNING - Importing a function (__inference_BLOCK_3-2_ACT_2_layer_call_and_return_conditional_losses_30210) with ops with unsaved custom gradients. Will likely fail if a gradient is requested.\n",
      "2023-02-20 04:52:55,555 - WARNING - Importing a function (__inference_BLOCK_2-1_ACT_1_layer_call_and_return_conditional_losses_13695) with ops with unsaved custom gradients. Will likely fail if a gradient is requested.\n",
      "2023-02-20 04:52:55,563 - WARNING - Importing a function (__inference_BLOCK_4-3_ACT_2_layer_call_and_return_conditional_losses_15507) with ops with unsaved custom gradients. Will likely fail if a gradient is requested.\n",
      "2023-02-20 04:52:55,567 - WARNING - Importing a function (__inference_BLOCK_3-2_SE_CONV_1_layer_call_and_return_conditional_losses_14359) with ops with unsaved custom gradients. Will likely fail if a gradient is requested.\n",
      "2023-02-20 04:52:55,661 - WARNING - Importing a function (__inference_model_layer_call_and_return_conditional_losses_25336) with ops with unsaved custom gradients. Will likely fail if a gradient is requested.\n",
      "2023-02-20 04:52:55,844 - WARNING - Importing a function (__inference_BLOCK_3-1_SE_CONV_1_layer_call_and_return_conditional_losses_29744) with ops with unsaved custom gradients. Will likely fail if a gradient is requested.\n",
      "2023-02-20 04:52:55,891 - WARNING - Importing a function (__inference_BLOCK_4-1_ACT_1_layer_call_and_return_conditional_losses_15077) with ops with unsaved custom gradients. Will likely fail if a gradient is requested.\n",
      "2023-02-20 04:52:55,918 - WARNING - Importing a function (__inference_basic_5289) with ops with unsaved custom gradients. Will likely fail if a gradient is requested.\n",
      "2023-02-20 04:52:56,112 - WARNING - Importing a function (__inference_BLOCK_4-4_ACT_1_layer_call_and_return_conditional_losses_33678) with ops with unsaved custom gradients. Will likely fail if a gradient is requested.\n",
      "2023-02-20 04:52:56,213 - WARNING - Importing a function (__inference_BLOCK_4-4_ACT_2_layer_call_and_return_conditional_losses_15705) with ops with unsaved custom gradients. Will likely fail if a gradient is requested.\n",
      "2023-02-20 04:52:56,275 - WARNING - Importing a function (__inference_BLOCK_4-4_SE_CONV_1_layer_call_and_return_conditional_losses_33856) with ops with unsaved custom gradients. Will likely fail if a gradient is requested.\n",
      "2023-02-20 04:52:56,339 - WARNING - Importing a function (__inference_BLOCK_4-2_SE_CONV_1_layer_call_and_return_conditional_losses_15341) with ops with unsaved custom gradients. Will likely fail if a gradient is requested.\n",
      "2023-02-20 04:52:56,346 - WARNING - Importing a function (__inference_BLOCK_1-3_ACT_1_layer_call_and_return_conditional_losses_13593) with ops with unsaved custom gradients. Will likely fail if a gradient is requested.\n",
      "2023-02-20 04:52:56,367 - WARNING - Importing a function (__inference_BLOCK_4-3_SE_CONV_1_layer_call_and_return_conditional_losses_15539) with ops with unsaved custom gradients. Will likely fail if a gradient is requested.\n",
      "2023-02-20 04:52:56,395 - WARNING - Importing a function (__inference__wrapped_model_7115) with ops with unsaved custom gradients. Will likely fail if a gradient is requested.\n",
      "2023-02-20 04:52:56,785 - WARNING - Importing a function (__inference_BLOCK_2-3_ACT_1_layer_call_and_return_conditional_losses_13891) with ops with unsaved custom gradients. Will likely fail if a gradient is requested.\n",
      "2023-02-20 04:52:56,812 - WARNING - Importing a function (__inference_BLOCK_4-1_ACT_2_layer_call_and_return_conditional_losses_32278) with ops with unsaved custom gradients. Will likely fail if a gradient is requested.\n",
      "2023-02-20 04:52:56,833 - WARNING - Importing a function (__inference_BLOCK_3-5_ACT_1_layer_call_and_return_conditional_losses_14879) with ops with unsaved custom gradients. Will likely fail if a gradient is requested.\n",
      "2023-02-20 04:52:56,843 - WARNING - Importing a function (__inference_BLOCK_4-3_ACT_1_layer_call_and_return_conditional_losses_15465) with ops with unsaved custom gradients. Will likely fail if a gradient is requested.\n",
      "2023-02-20 04:52:56,870 - WARNING - Importing a function (__inference_BLOCK_3-1_ACT_1_layer_call_and_return_conditional_losses_29566) with ops with unsaved custom gradients. Will likely fail if a gradient is requested.\n",
      "2023-02-20 04:52:56,972 - WARNING - Importing a function (__inference_BLOCK_1-2_ACT_1_layer_call_and_return_conditional_losses_27706) with ops with unsaved custom gradients. Will likely fail if a gradient is requested.\n",
      "2023-02-20 04:52:57,005 - WARNING - Importing a function (__inference_BLOCK_2-1_ACT_1_layer_call_and_return_conditional_losses_28330) with ops with unsaved custom gradients. Will likely fail if a gradient is requested.\n",
      "2023-02-20 04:52:57,011 - WARNING - Importing a function (__inference_BLOCK_4-1_ACT_2_layer_call_and_return_conditional_losses_15119) with ops with unsaved custom gradients. Will likely fail if a gradient is requested.\n",
      "2023-02-20 04:52:57,097 - WARNING - Importing a function (__inference_BLOCK_4-3_SE_CONV_1_layer_call_and_return_conditional_losses_33339) with ops with unsaved custom gradients. Will likely fail if a gradient is requested.\n",
      "2023-02-20 04:52:57,129 - WARNING - Importing a function (__inference_BLOCK_1-1_ACT_1_layer_call_and_return_conditional_losses_13397) with ops with unsaved custom gradients. Will likely fail if a gradient is requested.\n",
      "2023-02-20 04:52:57,138 - WARNING - Importing a function (__inference_BLOCK_4-1_ACT_1_layer_call_and_return_conditional_losses_32139) with ops with unsaved custom gradients. Will likely fail if a gradient is requested.\n",
      "2023-02-20 04:52:57,152 - WARNING - Importing a function (__inference_BLOCK_3-2_SE_CONV_1_layer_call_and_return_conditional_losses_30249) with ops with unsaved custom gradients. Will likely fail if a gradient is requested.\n",
      "2023-02-20 04:52:57,180 - WARNING - Importing a function (__inference_BLOCK_3-1_ACT_2_layer_call_and_return_conditional_losses_29705) with ops with unsaved custom gradients. Will likely fail if a gradient is requested.\n",
      "2023-02-20 04:52:57,183 - WARNING - Importing a function (__inference_BLOCK_3-1_SE_CONV_1_layer_call_and_return_conditional_losses_14169) with ops with unsaved custom gradients. Will likely fail if a gradient is requested.\n",
      "2023-02-20 04:52:57,192 - WARNING - Importing a function (__inference_BLOCK_3-5_ACT_2_layer_call_and_return_conditional_losses_31761) with ops with unsaved custom gradients. Will likely fail if a gradient is requested.\n",
      "2023-02-20 04:52:57,197 - WARNING - Importing a function (__inference_BLOCK_3-4_ACT_1_layer_call_and_return_conditional_losses_31105) with ops with unsaved custom gradients. Will likely fail if a gradient is requested.\n",
      "2023-02-20 04:52:57,227 - WARNING - Importing a function (__inference_BLOCK_2-2_ACT_1_layer_call_and_return_conditional_losses_28630) with ops with unsaved custom gradients. Will likely fail if a gradient is requested.\n",
      "2023-02-20 04:52:57,230 - WARNING - Importing a function (__inference_BLOCK_1-1_ACT_1_layer_call_and_return_conditional_losses_27406) with ops with unsaved custom gradients. Will likely fail if a gradient is requested.\n",
      "2023-02-20 04:52:57,307 - WARNING - Importing a function (__inference_BLOCK_3-2_ACT_1_layer_call_and_return_conditional_losses_30071) with ops with unsaved custom gradients. Will likely fail if a gradient is requested.\n",
      "2023-02-20 04:52:57,335 - WARNING - Importing a function (__inference_BLOCK_3-5_SE_CONV_1_layer_call_and_return_conditional_losses_31800) with ops with unsaved custom gradients. Will likely fail if a gradient is requested.\n",
      "2023-02-20 04:52:57,344 - WARNING - Importing a function (__inference_BLOCK_3-3_SE_CONV_1_layer_call_and_return_conditional_losses_14557) with ops with unsaved custom gradients. Will likely fail if a gradient is requested.\n",
      "2023-02-20 04:52:57,432 - WARNING - Importing a function (__inference_BLOCK_3-4_SE_CONV_1_layer_call_and_return_conditional_losses_14755) with ops with unsaved custom gradients. Will likely fail if a gradient is requested.\n",
      "2023-02-20 04:52:57,460 - WARNING - Importing a function (__inference_BLOCK_3-3_ACT_1_layer_call_and_return_conditional_losses_14483) with ops with unsaved custom gradients. Will likely fail if a gradient is requested.\n",
      "2023-02-20 04:52:57,479 - WARNING - Importing a function (__inference_BLOCK_4-4_ACT_1_layer_call_and_return_conditional_losses_15663) with ops with unsaved custom gradients. Will likely fail if a gradient is requested.\n",
      "2023-02-20 04:52:57,549 - WARNING - Importing a function (__inference_model_layer_call_and_return_conditional_losses_26662) with ops with unsaved custom gradients. Will likely fail if a gradient is requested.\n",
      "2023-02-20 04:52:57,727 - WARNING - Importing a function (__inference_BLOCK_4-2_ACT_1_layer_call_and_return_conditional_losses_32644) with ops with unsaved custom gradients. Will likely fail if a gradient is requested.\n",
      "2023-02-20 04:52:57,738 - WARNING - Importing a function (__inference_BLOCK_4-2_ACT_2_layer_call_and_return_conditional_losses_15309) with ops with unsaved custom gradients. Will likely fail if a gradient is requested.\n",
      "2023-02-20 04:52:57,839 - WARNING - Importing a function (__inference_BLOCK_3-3_ACT_1_layer_call_and_return_conditional_losses_30588) with ops with unsaved custom gradients. Will likely fail if a gradient is requested.\n",
      "2023-02-20 04:52:57,909 - WARNING - Importing a function (__inference_BLOCK_3-2_ACT_1_layer_call_and_return_conditional_losses_14285) with ops with unsaved custom gradients. Will likely fail if a gradient is requested.\n",
      "2023-02-20 04:52:57,917 - WARNING - Importing a function (__inference_BLOCK_3-4_ACT_2_layer_call_and_return_conditional_losses_31244) with ops with unsaved custom gradients. Will likely fail if a gradient is requested.\n",
      "2023-02-20 04:52:57,919 - WARNING - Importing a function (__inference_BLOCK_4-1_SE_CONV_1_layer_call_and_return_conditional_losses_15151) with ops with unsaved custom gradients. Will likely fail if a gradient is requested.\n",
      "2023-02-20 04:52:57,925 - WARNING - Importing a function (__inference_BLOCK_3-5_ACT_1_layer_call_and_return_conditional_losses_31622) with ops with unsaved custom gradients. Will likely fail if a gradient is requested.\n",
      "2023-02-20 04:52:58,070 - WARNING - Importing a function (__inference_BLOCK_1-2_ACT_1_layer_call_and_return_conditional_losses_13491) with ops with unsaved custom gradients. Will likely fail if a gradient is requested.\n",
      "2023-02-20 04:52:58,112 - WARNING - Importing a function (__inference_BLOCK_2-3_ACT_1_layer_call_and_return_conditional_losses_28942) with ops with unsaved custom gradients. Will likely fail if a gradient is requested.\n",
      "2023-02-20 04:52:58,141 - WARNING - Importing a function (__inference_BLOCK_2-4_ACT_1_layer_call_and_return_conditional_losses_29254) with ops with unsaved custom gradients. Will likely fail if a gradient is requested.\n",
      "2023-02-20 04:52:58,180 - WARNING - Importing a function (__inference_BLOCK_4-4_ACT_2_layer_call_and_return_conditional_losses_33817) with ops with unsaved custom gradients. Will likely fail if a gradient is requested.\n",
      "2023-02-20 04:52:58,247 - WARNING - Importing a function (__inference_BLOCK_4-3_ACT_2_layer_call_and_return_conditional_losses_33300) with ops with unsaved custom gradients. Will likely fail if a gradient is requested.\n",
      "2023-02-20 04:52:58,308 - WARNING - Importing a function (__inference_BLOCK_3-3_SE_CONV_1_layer_call_and_return_conditional_losses_30766) with ops with unsaved custom gradients. Will likely fail if a gradient is requested.\n",
      "2023-02-20 04:52:58,420 - WARNING - Importing a function (__inference_BLOCK_4-1_SE_CONV_1_layer_call_and_return_conditional_losses_32317) with ops with unsaved custom gradients. Will likely fail if a gradient is requested.\n",
      "2023-02-20 04:52:58,429 - WARNING - Importing a function (__inference_BLOCK_3-4_SE_CONV_1_layer_call_and_return_conditional_losses_31283) with ops with unsaved custom gradients. Will likely fail if a gradient is requested.\n",
      "2023-02-20 04:52:58,436 - WARNING - Importing a function (__inference_BLOCK_3-5_ACT_2_layer_call_and_return_conditional_losses_14921) with ops with unsaved custom gradients. Will likely fail if a gradient is requested.\n",
      "2023-02-20 04:52:58,505 - WARNING - Importing a function (__inference_BLOCK_2-2_ACT_1_layer_call_and_return_conditional_losses_13789) with ops with unsaved custom gradients. Will likely fail if a gradient is requested.\n",
      "2023-02-20 04:52:58,690 - WARNING - Importing a function (__inference_BLOCK_3-1_ACT_1_layer_call_and_return_conditional_losses_14095) with ops with unsaved custom gradients. Will likely fail if a gradient is requested.\n",
      "2023-02-20 04:52:58,695 - WARNING - Importing a function (__inference_BLOCK_3-1_ACT_2_layer_call_and_return_conditional_losses_14137) with ops with unsaved custom gradients. Will likely fail if a gradient is requested.\n",
      "2023-02-20 04:52:58,733 - WARNING - Importing a function (__inference_BLOCK_4-4_SE_CONV_1_layer_call_and_return_conditional_losses_15737) with ops with unsaved custom gradients. Will likely fail if a gradient is requested.\n",
      "2023-02-20 04:52:58,739 - WARNING - Importing a function (__inference_BLOCK_4-2_SE_CONV_1_layer_call_and_return_conditional_losses_32822) with ops with unsaved custom gradients. Will likely fail if a gradient is requested.\n",
      "2023-02-20 04:53:00,531 - INFO - Signatures found in model: [basic].\n",
      "2023-02-20 04:53:00,531 - WARNING - '--signature_def' not specified, using first signature: basic\n",
      "2023-02-20 04:53:00,532 - INFO - Output names: ['scores']\n",
      "2023-02-20 04:53:03,234 - INFO - Using tensorflow=2.11.0, onnx=1.13.0, tf2onnx=1.13.0/2c1db5\n",
      "2023-02-20 04:53:03,234 - INFO - Using opset <onnx, 17>\n",
      "2023-02-20 04:53:03,628 - INFO - Computed 0 values for constant folding\n",
      "2023-02-20 04:53:04,217 - ERROR - Failed to convert node 'StatefulPartitionedCall/model/ADVANCED_SPEC1/stft/rfft' (fct=<bound method RFFTOp.version_13 of <class 'tf2onnx.onnx_opset.signal.RFFTOp'>>)\n",
      "'OP=RFFT\\nName=StatefulPartitionedCall/model/ADVANCED_SPEC1/stft/rfft\\nInputs:\\n\\tStatefulPartitionedCall/model/ADVANCED_SPEC1/stft/mul:0=Mul, [-1, -1, 512], 1\\n\\tStatefulPartitionedCall/model/ADVANCED_SPEC1/stft/rfft/fft_length:0=Const, [1], 6\\nOutpus:\\n\\tStatefulPartitionedCall/model/ADVANCED_SPEC1/stft/rfft:0=[-1, -1, 257], 14'\n",
      "Traceback (most recent call last):\n",
      "  File \"/home/emm06/birdclef-2023/venv/lib/python3.7/site-packages/tf2onnx/tfonnx.py\", line 292, in tensorflow_onnx_mapping\n",
      "    func(g, node, **kwargs, initialized_tables=initialized_tables, dequantize=dequantize)\n",
      "  File \"/home/emm06/birdclef-2023/venv/lib/python3.7/site-packages/tf2onnx/onnx_opset/signal.py\", line 359, in version_13\n",
      "    return cls.any_version(True, 13, ctx, node, **kwargs)\n",
      "  File \"/home/emm06/birdclef-2023/venv/lib/python3.7/site-packages/tf2onnx/onnx_opset/signal.py\", line 121, in any_version\n",
      "    consumer_types)\n",
      "  File \"/home/emm06/birdclef-2023/venv/lib/python3.7/site-packages/tf2onnx/utils.py\", line 264, in make_sure\n",
      "    raise ValueError(\"make_sure failure: \" + error_msg % args)\n",
      "ValueError: make_sure failure: Current implementation of RFFT or FFT only allows ComplexAbs as consumer not {'Cast'}\n",
      "Traceback (most recent call last):\n",
      "  File \"/opt/conda/lib/python3.7/runpy.py\", line 193, in _run_module_as_main\n",
      "    \"__main__\", mod_spec)\n",
      "  File \"/opt/conda/lib/python3.7/runpy.py\", line 85, in _run_code\n",
      "    exec(code, run_globals)\n",
      "  File \"/home/emm06/birdclef-2023/venv/lib/python3.7/site-packages/tf2onnx/convert.py\", line 706, in <module>\n",
      "    main()\n",
      "  File \"/home/emm06/birdclef-2023/venv/lib/python3.7/site-packages/tf2onnx/convert.py\", line 291, in main\n",
      "    output_path=args.output)\n",
      "  File \"/home/emm06/birdclef-2023/venv/lib/python3.7/site-packages/tf2onnx/convert.py\", line 165, in _convert_common\n",
      "    custom_op_handlers=custom_op_handlers, **kwargs)\n",
      "  File \"/home/emm06/birdclef-2023/venv/lib/python3.7/site-packages/tf2onnx/tfonnx.py\", line 465, in process_tf_graph\n",
      "    custom_rewriter, initialized_tables, tensors_to_rename, is_tflite, dequantize)\n",
      "  File \"/home/emm06/birdclef-2023/venv/lib/python3.7/site-packages/tf2onnx/tfonnx.py\", line 517, in process_graphs\n",
      "    custom_rewriter, initialized_tables, is_tflite, dequantize)\n",
      "  File \"/home/emm06/birdclef-2023/venv/lib/python3.7/site-packages/tf2onnx/tfonnx.py\", line 627, in process_parsed_graph\n",
      "    raise exceptions[0]\n",
      "  File \"/home/emm06/birdclef-2023/venv/lib/python3.7/site-packages/tf2onnx/tfonnx.py\", line 292, in tensorflow_onnx_mapping\n",
      "    func(g, node, **kwargs, initialized_tables=initialized_tables, dequantize=dequantize)\n",
      "  File \"/home/emm06/birdclef-2023/venv/lib/python3.7/site-packages/tf2onnx/onnx_opset/signal.py\", line 359, in version_13\n",
      "    return cls.any_version(True, 13, ctx, node, **kwargs)\n",
      "  File \"/home/emm06/birdclef-2023/venv/lib/python3.7/site-packages/tf2onnx/onnx_opset/signal.py\", line 121, in any_version\n",
      "    consumer_types)\n",
      "  File \"/home/emm06/birdclef-2023/venv/lib/python3.7/site-packages/tf2onnx/utils.py\", line 264, in make_sure\n",
      "    raise ValueError(\"make_sure failure: \" + error_msg % args)\n",
      "ValueError: make_sure failure: Current implementation of RFFT or FFT only allows ComplexAbs as consumer not {'Cast'}\n"
     ]
    }
   ],
   "source": [
    "!python -m tf2onnx.convert --saved-model ../vendor/BirdNET-Analyzer/checkpoints/V2.2/BirdNET_GLOBAL_3K_V2.2_Model/ --output data/logs/BirdNet0 --opset 17"
   ]
  },
  {
   "cell_type": "markdown",
   "metadata": {},
   "source": []
  },
  {
   "cell_type": "code",
   "execution_count": 43,
   "metadata": {},
   "outputs": [
    {
     "name": "stdout",
     "output_type": "stream",
     "text": [
      "/opt/conda/lib/python3.7/runpy.py:125: RuntimeWarning: 'tf2onnx.convert' found in sys.modules after import of package 'tf2onnx', but prior to execution of 'tf2onnx.convert'; this may result in unpredictable behaviour\n",
      "  warn(RuntimeWarning(msg))\n",
      "2023-02-20 04:55:57,760 - INFO - Using tensorflow=2.11.0, onnx=1.13.0, tf2onnx=1.13.0/2c1db5\n",
      "2023-02-20 04:55:57,761 - INFO - Using opset <onnx, 17>\n",
      "INFO: Created TensorFlow Lite XNNPACK delegate for CPU.\n",
      "2023-02-20 04:55:58,125 - ERROR - Failed to convert node 'model/ADVANCED_SPEC1/stft/rfft3' (fct=<bound method RFFT2DOp.version_13 of <class 'tf2onnx.onnx_opset.signal.RFFT2DOp'>>)\n",
      "'OP=RFFT2D\\nName=model/ADVANCED_SPEC1/stft/rfft3\\nInputs:\\n\\tmodel/ADVANCED_SPEC1/stft/rfft2=Unsqueeze, [-1, -1, 1, 512], 1\\n\\tmodel/ADVANCED_SPEC1/stft/rfft1=Const, [2], 6\\nOutpus:\\n\\tmodel/ADVANCED_SPEC1/stft/rfft3=[-1, -1, 1, 257], 14'\n",
      "Traceback (most recent call last):\n",
      "  File \"/home/emm06/birdclef-2023/venv/lib/python3.7/site-packages/tf2onnx/tfonnx.py\", line 292, in tensorflow_onnx_mapping\n",
      "    func(g, node, **kwargs, initialized_tables=initialized_tables, dequantize=dequantize)\n",
      "  File \"/home/emm06/birdclef-2023/venv/lib/python3.7/site-packages/tf2onnx/onnx_opset/signal.py\", line 906, in version_13\n",
      "    return cls.any_version_2d(True, 13, ctx, node, **kwargs)\n",
      "  File \"/home/emm06/birdclef-2023/venv/lib/python3.7/site-packages/tf2onnx/onnx_opset/signal.py\", line 468, in any_version_2d\n",
      "    consumer_types)\n",
      "  File \"/home/emm06/birdclef-2023/venv/lib/python3.7/site-packages/tf2onnx/utils.py\", line 264, in make_sure\n",
      "    raise ValueError(\"make_sure failure: \" + error_msg % args)\n",
      "ValueError: make_sure failure: Current implementation of RFFT2D only allows ComplexAbs as consumer not {'Squeeze'}\n",
      "Traceback (most recent call last):\n",
      "  File \"/opt/conda/lib/python3.7/runpy.py\", line 193, in _run_module_as_main\n",
      "    \"__main__\", mod_spec)\n",
      "  File \"/opt/conda/lib/python3.7/runpy.py\", line 85, in _run_code\n",
      "    exec(code, run_globals)\n",
      "  File \"/home/emm06/birdclef-2023/venv/lib/python3.7/site-packages/tf2onnx/convert.py\", line 706, in <module>\n",
      "    main()\n",
      "  File \"/home/emm06/birdclef-2023/venv/lib/python3.7/site-packages/tf2onnx/convert.py\", line 291, in main\n",
      "    output_path=args.output)\n",
      "  File \"/home/emm06/birdclef-2023/venv/lib/python3.7/site-packages/tf2onnx/convert.py\", line 165, in _convert_common\n",
      "    custom_op_handlers=custom_op_handlers, **kwargs)\n",
      "  File \"/home/emm06/birdclef-2023/venv/lib/python3.7/site-packages/tf2onnx/tfonnx.py\", line 465, in process_tf_graph\n",
      "    custom_rewriter, initialized_tables, tensors_to_rename, is_tflite, dequantize)\n",
      "  File \"/home/emm06/birdclef-2023/venv/lib/python3.7/site-packages/tf2onnx/tfonnx.py\", line 517, in process_graphs\n",
      "    custom_rewriter, initialized_tables, is_tflite, dequantize)\n",
      "  File \"/home/emm06/birdclef-2023/venv/lib/python3.7/site-packages/tf2onnx/tfonnx.py\", line 627, in process_parsed_graph\n",
      "    raise exceptions[0]\n",
      "  File \"/home/emm06/birdclef-2023/venv/lib/python3.7/site-packages/tf2onnx/tfonnx.py\", line 292, in tensorflow_onnx_mapping\n",
      "    func(g, node, **kwargs, initialized_tables=initialized_tables, dequantize=dequantize)\n",
      "  File \"/home/emm06/birdclef-2023/venv/lib/python3.7/site-packages/tf2onnx/onnx_opset/signal.py\", line 906, in version_13\n",
      "    return cls.any_version_2d(True, 13, ctx, node, **kwargs)\n",
      "  File \"/home/emm06/birdclef-2023/venv/lib/python3.7/site-packages/tf2onnx/onnx_opset/signal.py\", line 468, in any_version_2d\n",
      "    consumer_types)\n",
      "  File \"/home/emm06/birdclef-2023/venv/lib/python3.7/site-packages/tf2onnx/utils.py\", line 264, in make_sure\n",
      "    raise ValueError(\"make_sure failure: \" + error_msg % args)\n",
      "ValueError: make_sure failure: Current implementation of RFFT2D only allows ComplexAbs as consumer not {'Squeeze'}\n"
     ]
    }
   ],
   "source": [
    "!python -m tf2onnx.convert --opset 17 --tflite ../vendor/BirdNET-Analyzer/checkpoints/V2.2/BirdNET_GLOBAL_3K_V2.2_Model_FP32.tflite --output model.onnx"
   ]
  },
  {
   "cell_type": "code",
   "execution_count": null,
   "metadata": {},
   "outputs": [],
   "source": []
  }
 ],
 "metadata": {
  "kernelspec": {
   "display_name": "venv",
   "language": "python",
   "name": "python3"
  },
  "language_info": {
   "codemirror_mode": {
    "name": "ipython",
    "version": 3
   },
   "file_extension": ".py",
   "mimetype": "text/x-python",
   "name": "python",
   "nbconvert_exporter": "python",
   "pygments_lexer": "ipython3",
   "version": "3.7.12"
  },
  "orig_nbformat": 4,
  "vscode": {
   "interpreter": {
    "hash": "ea4eeff91cb61a7e5f284ffba0f05982ffffe17d8979fbab080658b7a8e6e35b"
   }
  }
 },
 "nbformat": 4,
 "nbformat_minor": 2
}
