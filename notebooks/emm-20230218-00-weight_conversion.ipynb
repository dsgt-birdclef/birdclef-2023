{
 "cells": [
  {
   "cell_type": "code",
   "execution_count": null,
   "metadata": {},
   "outputs": [],
   "source": [
    "import sys\n",
    "import os\n",
    "import argparse\n",
    "import datetime\n",
    "import numpy as np\n",
    "\n",
    "# import importlib\n",
    "import traceback\n",
    "\n",
    "from multiprocessing import Pool\n",
    "\n",
    "# from importlib.import(\"vendor.BirdNET-Analyzer.analyze\")\n",
    "# from vendor.BirdNET_Analyzer import analyze\n",
    "import analyze\n",
    "import model\n",
    "import os\n",
    "\n",
    "import numpy as np\n",
    "\n",
    "import warnings\n",
    "\n",
    "warnings.filterwarnings(\"ignore\")\n",
    "# import tflite2onnx\n",
    "# import tf2onnx\n",
    "import config as cfg\n",
    "import tensorflow as tf"
   ]
  },
  {
   "cell_type": "code",
   "execution_count": null,
   "metadata": {},
   "outputs": [],
   "source": [
    "imported_model = tf.saved_model.load(\"checkpoints/V2.2/BirdNET_GLOBAL_3K_V2.2_Model/\")"
   ]
  },
  {
   "cell_type": "code",
   "execution_count": null,
   "metadata": {},
   "outputs": [],
   "source": [
    "imported_model.basic.input_signature"
   ]
  },
  {
   "cell_type": "code",
   "execution_count": null,
   "metadata": {},
   "outputs": [],
   "source": [
    "imported_model.basic.input_signature"
   ]
  },
  {
   "cell_type": "code",
   "execution_count": null,
   "metadata": {},
   "outputs": [],
   "source": [
    "imported_model.basic.pretty_printed_concrete_signatures()"
   ]
  },
  {
   "cell_type": "code",
   "execution_count": null,
   "metadata": {},
   "outputs": [],
   "source": [
    "tflite_path = \"checkpoints/V2.2/BirdNET_GLOBAL_3K_V2.2_Model_FP16.tflite\"\n",
    "onnyx_path = \"example/\""
   ]
  },
  {
   "cell_type": "code",
   "execution_count": null,
   "metadata": {},
   "outputs": [],
   "source": [
    "def printTensors(pb_file):\n",
    "    # read pb into graph_def\n",
    "\n",
    "    with tf.io.gfile.GFile(pb_file, \"rb\") as f:\n",
    "        graph_def = tf.compat.v1.GraphDef()\n",
    "        graph_def.ParseFromString(f.read())\n",
    "\n",
    "    # import graph_def\n",
    "    with tf.Graph().as_default() as graph:\n",
    "        tf.import_graph_def(graph_def)\n",
    "\n",
    "    # print operations\n",
    "    for op in graph.get_operations():\n",
    "        print(op.name)"
   ]
  },
  {
   "cell_type": "code",
   "execution_count": null,
   "metadata": {},
   "outputs": [],
   "source": [
    "path_pb = \"checkpoints/V2.2/BirdNET_GLOBAL_3K_V2.2_Model/\""
   ]
  },
  {
   "cell_type": "code",
   "execution_count": null,
   "metadata": {},
   "outputs": [],
   "source": [
    "# printTensors(\"checkpoints/V2.2/BirdNET_GLOBAL_3K_V2.2_Model/saved_model.pb\")"
   ]
  },
  {
   "cell_type": "code",
   "execution_count": null,
   "metadata": {},
   "outputs": [],
   "source": [
    "# tf2onnx.convert.from_tflite(tflite_path=tflite_path, output_path= onnyx_path)"
   ]
  },
  {
   "cell_type": "code",
   "execution_count": null,
   "metadata": {},
   "outputs": [],
   "source": [
    "from tensorflow.python.platform import gfile\n",
    "from tensorflow.python.util import compat\n",
    "from tensorflow.core.protobuf import saved_model_pb2\n",
    "with tf.compat.v1.Session(graph = tf.Graph()) as sess:\n",
    "    model_filename = \"checkpoints/V2.2/BirdNET_GLOBAL_3K_V2.2_Model/saved_model.pb\"\n",
    "    with gfile.FastGFile(model_filename, 'rb') as f:\n",
    "\n",
    "            data = compat.as_bytes(f.read())\n",
    "            sm = saved_model_pb2.SavedModel()\n",
    "            sm.ParseFromString(data)\n",
    "            #print(sm)\n",
    "            if 1 != len(sm.meta_graphs):\n",
    "                    print('More than one graph found. Not sure which to write')\n",
    "                    sys.exit(1)\n",
    "\n",
    "            graph_def = tf.compat.v1.GraphDef()\\\n",
    "            g_in = tf.import_graph_def(sm.meta_graphs[0].graph_def)\n",
    "           \n",
    "            #test = [n.name + '=>' + n.op for n in graph_def.node]\n",
    "            \n",
    "    with graph.as_default():\n",
    "\n",
    "\n",
    "            saver1 = tf.compat.v1.train.import_meta_graph(sm.meta_graphs[0])\n",
    "\n",
    "\n",
    "#            #saver1.restore(sess, save_path='model')\n",
    " \n",
    "       \n",
    "#             for v in tf.compat.v1.global_variables():\n",
    "#                     print(v.name)"
   ]
  },
  {
   "cell_type": "code",
   "execution_count": null,
   "metadata": {},
   "outputs": [],
   "source": [
    "sm.meta_graphs"
   ]
  },
  {
   "cell_type": "code",
   "execution_count": null,
   "metadata": {},
   "outputs": [],
   "source": [
    "print(graph.get_operations())"
   ]
  },
  {
   "cell_type": "code",
   "execution_count": null,
   "metadata": {},
   "outputs": [],
   "source": []
  }
 ],
 "metadata": {
  "kernelspec": {
   "display_name": "venv",
   "language": "python",
   "name": "python3"
  },
  "language_info": {
   "codemirror_mode": {
    "name": "ipython",
    "version": 3
   },
   "file_extension": ".py",
   "mimetype": "text/x-python",
   "name": "python",
   "nbconvert_exporter": "python",
   "pygments_lexer": "ipython3",
   "version": "3.7.12"
  },
  "orig_nbformat": 4,
  "vscode": {
   "interpreter": {
    "hash": "ea4eeff91cb61a7e5f284ffba0f05982ffffe17d8979fbab080658b7a8e6e35b"
   }
  }
 },
 "nbformat": 4,
 "nbformat_minor": 2
}
