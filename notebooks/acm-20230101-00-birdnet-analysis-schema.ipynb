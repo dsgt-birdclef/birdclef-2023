{
 "cells": [
  {
   "cell_type": "code",
   "execution_count": 2,
   "metadata": {},
   "outputs": [
    {
     "name": "stderr",
     "output_type": "stream",
     "text": [
      "Setting default log level to \"WARN\".\n",
      "To adjust logging level use sc.setLogLevel(newLevel). For SparkR, use setLogLevel(newLevel).\n"
     ]
    },
    {
     "name": "stdout",
     "output_type": "stream",
     "text": [
      "23/01/02 04:01:39 WARN NativeCodeLoader: Unable to load native-hadoop library for your platform... using builtin-java classes where applicable\n"
     ]
    },
    {
     "data": {
      "text/html": [
       "\n",
       "            <div>\n",
       "                <p><b>SparkSession - in-memory</b></p>\n",
       "                \n",
       "        <div>\n",
       "            <p><b>SparkContext</b></p>\n",
       "\n",
       "            <p><a href=\"http://acmiyaguchi-dev-spot.us-central1-a.c.birdclef-2023.internal:4040\">Spark UI</a></p>\n",
       "\n",
       "            <dl>\n",
       "              <dt>Version</dt>\n",
       "                <dd><code>v3.3.1</code></dd>\n",
       "              <dt>Master</dt>\n",
       "                <dd><code>local[*]</code></dd>\n",
       "              <dt>AppName</dt>\n",
       "                <dd><code>pyspark-shell</code></dd>\n",
       "            </dl>\n",
       "        </div>\n",
       "        \n",
       "            </div>\n",
       "        "
      ],
      "text/plain": [
       "<pyspark.sql.session.SparkSession at 0x7fe99b5c8110>"
      ]
     },
     "execution_count": 2,
     "metadata": {},
     "output_type": "execute_result"
    }
   ],
   "source": [
    "%load_ext autoreload\n",
    "%autoreload 2\n",
    "%load_ext lab_black\n",
    "\n",
    "from birdclef.utils import get_spark\n",
    "\n",
    "spark = get_spark()\n",
    "spark"
   ]
  },
  {
   "cell_type": "code",
   "execution_count": 3,
   "metadata": {},
   "outputs": [
    {
     "name": "stderr",
     "output_type": "stream",
     "text": [
      "                                                                                \r"
     ]
    },
    {
     "name": "stdout",
     "output_type": "stream",
     "text": [
      "root\n",
      " |-- start_sec: double (nullable = true)\n",
      " |-- end_sec: double (nullable = true)\n",
      " |-- confidence: double (nullable = true)\n",
      " |-- birdnet_label: string (nullable = true)\n",
      " |-- birdnet_common_name: string (nullable = true)\n",
      " |-- filename: string (nullable = true)\n",
      "\n",
      "+---------+-------+----------+-------------+--------------------+--------------------+\n",
      "|start_sec|end_sec|confidence|birdnet_label| birdnet_common_name|            filename|\n",
      "+---------+-------+----------+-------------+--------------------+--------------------+\n",
      "|      0.0|    3.0|     0.903|      afrsil1|  African Silverbill|afrsil1/XC125458.ogg|\n",
      "|      0.0|    3.0|     0.472|       indsil|   Indian Silverbill|afrsil1/XC125458.ogg|\n",
      "|      3.0|    6.0|    0.7311|      afrsil1|  African Silverbill|afrsil1/XC125458.ogg|\n",
      "|      6.0|    9.0|    0.5888|      afrsil1|  African Silverbill|afrsil1/XC125458.ogg|\n",
      "|      0.0|    3.0|    0.7585|      whsflu1|White-spotted Flu...|afrsil1/XC175522.ogg|\n",
      "+---------+-------+----------+-------------+--------------------+--------------------+\n",
      "only showing top 5 rows\n",
      "\n"
     ]
    }
   ],
   "source": [
    "df = spark.read.parquet(\"../data/processed/birdclef-2022/birdnet-analysis.parquet\")\n",
    "df.printSchema()\n",
    "df.show(5)"
   ]
  },
  {
   "cell_type": "code",
   "execution_count": 4,
   "metadata": {},
   "outputs": [
    {
     "data": {
      "text/plain": [
       "280222"
      ]
     },
     "execution_count": 4,
     "metadata": {},
     "output_type": "execute_result"
    }
   ],
   "source": [
    "df.count()"
   ]
  },
  {
   "cell_type": "code",
   "execution_count": 7,
   "metadata": {},
   "outputs": [
    {
     "name": "stdout",
     "output_type": "stream",
     "text": [
      "+-------------+-----+-------------------+\n",
      "|birdnet_label|count|     avg_confidence|\n",
      "+-------------+-----+-------------------+\n",
      "|       houspa| 9127| 0.4247288813410748|\n",
      "|       skylar| 6925|  0.629220476534295|\n",
      "|       normoc| 5868| 0.4126573790047722|\n",
      "|       norcar| 4681| 0.5592362315744489|\n",
      "|       brnowl| 4136| 0.7471639506769838|\n",
      "|       cangoo| 4122| 0.6259550218340606|\n",
      "|      mallar3| 4095| 0.5611493040293055|\n",
      "|       wesmea| 4023| 0.5496222222222217|\n",
      "|       houfin| 3755|  0.556995552596537|\n",
      "|       comsan| 3686| 0.8578143787303291|\n",
      "|      unknown| 3599|0.24294392886913063|\n",
      "|       gamqua| 3391| 0.5771611618991443|\n",
      "|       gnwtea| 3254| 0.6862037185003076|\n",
      "|      itaspa1| 3067|0.22077835017932845|\n",
      "|       dunlin| 3006| 0.5445637391882899|\n",
      "|       comwax| 2682| 0.7895664056674117|\n",
      "|       snogoo| 2669| 0.7595032596478085|\n",
      "|       rorpar| 2585| 0.7140494003868476|\n",
      "|       gwfgoo| 2500| 0.6602976000000004|\n",
      "|       bcnher| 2387| 0.6735182656053624|\n",
      "+-------------+-----+-------------------+\n",
      "only showing top 20 rows\n",
      "\n"
     ]
    }
   ],
   "source": [
    "from pyspark.sql import functions as F\n",
    "\n",
    "df.groupBy(\"birdnet_label\").agg(\n",
    "    F.count(\"*\").alias(\"count\"), F.avg(\"confidence\").alias(\"avg_confidence\")\n",
    ").orderBy(F.desc(\"count\")).show()"
   ]
  }
 ],
 "metadata": {
  "kernelspec": {
   "display_name": "venv",
   "language": "python",
   "name": "python3"
  },
  "language_info": {
   "codemirror_mode": {
    "name": "ipython",
    "version": 3
   },
   "file_extension": ".py",
   "mimetype": "text/x-python",
   "name": "python",
   "nbconvert_exporter": "python",
   "pygments_lexer": "ipython3",
   "version": "3.7.12"
  },
  "orig_nbformat": 4,
  "vscode": {
   "interpreter": {
    "hash": "99e3fab793c0456e63ab83c372f8335ef479e5a9e573d0646094eb616eafc087"
   }
  }
 },
 "nbformat": 4,
 "nbformat_minor": 2
}
