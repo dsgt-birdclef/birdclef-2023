{
 "cells": [
  {
   "cell_type": "code",
   "execution_count": 1,
   "metadata": {},
   "outputs": [],
   "source": [
    "%load_ext autoreload\n",
    "%autoreload 2\n",
    "%load_ext lab_black"
   ]
  },
  {
   "cell_type": "code",
   "execution_count": 2,
   "metadata": {},
   "outputs": [
    {
     "name": "stderr",
     "output_type": "stream",
     "text": [
      "Setting default log level to \"WARN\".\n",
      "To adjust logging level use sc.setLogLevel(newLevel). For SparkR, use setLogLevel(newLevel).\n"
     ]
    },
    {
     "name": "stdout",
     "output_type": "stream",
     "text": [
      "23/01/03 01:40:16 WARN NativeCodeLoader: Unable to load native-hadoop library for your platform... using builtin-java classes where applicable\n"
     ]
    }
   ],
   "source": [
    "from birdclef.utils import get_spark\n",
    "\n",
    "spark = get_spark()"
   ]
  },
  {
   "cell_type": "code",
   "execution_count": 6,
   "metadata": {},
   "outputs": [
    {
     "name": "stdout",
     "output_type": "stream",
     "text": [
      "root\n",
      " |-- start_sec: double (nullable = true)\n",
      " |-- end_sec: double (nullable = true)\n",
      " |-- confidence: double (nullable = true)\n",
      " |-- birdnet_label: string (nullable = true)\n",
      " |-- birdnet_common_name: string (nullable = true)\n",
      " |-- filename: string (nullable = true)\n",
      "\n",
      "-RECORD 0-----------------------------------\n",
      " start_sec           | 0.0                  \n",
      " end_sec             | 3.0                  \n",
      " confidence          | 0.903                \n",
      " birdnet_label       | afrsil1              \n",
      " birdnet_common_name | African Silverbill   \n",
      " filename            | afrsil1/XC125458.ogg \n",
      "only showing top 1 row\n",
      "\n",
      "root\n",
      " |-- start_sec: float (nullable = true)\n",
      " |-- end_sec: float (nullable = true)\n",
      " |-- filename: string (nullable = true)\n",
      " |-- emb: array (nullable = true)\n",
      " |    |-- element: float (containsNull = true)\n",
      "\n",
      "-RECORD 0-------------------------------------------------------------------------------------\n",
      " start_sec | 0.0                                                                              \n",
      " end_sec   | 3.0                                                                              \n",
      " filename  | afrsil1/XC125458.ogg                                                             \n",
      " emb       | [0.50174934, 0.452431, 0.61352867, 0.8369665, 0.54199, 1.3026291, 1.0028511, ... \n",
      "only showing top 1 row\n",
      "\n",
      "root\n",
      " |-- primary_label: string (nullable = true)\n",
      " |-- secondary_labels: string (nullable = true)\n",
      " |-- type: string (nullable = true)\n",
      " |-- latitude: string (nullable = true)\n",
      " |-- longitude: string (nullable = true)\n",
      " |-- scientific_name: string (nullable = true)\n",
      " |-- common_name: string (nullable = true)\n",
      " |-- author: string (nullable = true)\n",
      " |-- license: string (nullable = true)\n",
      " |-- rating: string (nullable = true)\n",
      " |-- time: string (nullable = true)\n",
      " |-- url: string (nullable = true)\n",
      " |-- filename: string (nullable = true)\n",
      "\n",
      "-RECORD 0---------------------------------------------------------------------\n",
      " primary_label    | afrsil1                                                   \n",
      " secondary_labels | []                                                        \n",
      " type             | ['call', 'flight call']                                   \n",
      " latitude         | 12.391                                                    \n",
      " longitude        | -1.493                                                    \n",
      " scientific_name  | Euodice cantans                                           \n",
      " common_name      | African Silverbill                                        \n",
      " author           | Bram Piot                                                 \n",
      " license          | Creative Commons Attribution-NonCommercial-ShareAlike 3.0 \n",
      " rating           | 2.5                                                       \n",
      " time             | 08:00                                                     \n",
      " url              | https://www.xeno-canto.org/125458                         \n",
      " filename         | afrsil1/XC125458.ogg                                      \n",
      "only showing top 1 row\n",
      "\n"
     ]
    }
   ],
   "source": [
    "# lets combine several tables to get all the metadata that we need\n",
    "\n",
    "birdnet_analyze = spark.read.parquet(\n",
    "    \"../data/processed/birdclef-2022/birdnet-analyze.parquet\"\n",
    ")\n",
    "birdnet_embeddings = spark.read.parquet(\n",
    "    \"../data/processed/birdclef-2022/birdnet-embeddings.parquet\"\n",
    ")\n",
    "train_metadata = spark.read.csv(\n",
    "    \"../data/raw/birdclef-2022/train_metadata.csv\", header=True\n",
    ")\n",
    "\n",
    "birdnet_analyze.printSchema()\n",
    "birdnet_analyze.show(1, vertical=True, truncate=80)\n",
    "birdnet_embeddings.printSchema()\n",
    "birdnet_embeddings.show(1, vertical=True, truncate=80)\n",
    "train_metadata.printSchema()\n",
    "train_metadata.show(1, vertical=True, truncate=80)"
   ]
  },
  {
   "cell_type": "code",
   "execution_count": 7,
   "metadata": {},
   "outputs": [
    {
     "data": {
      "text/plain": [
       "(280222, 227660, 14852)"
      ]
     },
     "execution_count": 7,
     "metadata": {},
     "output_type": "execute_result"
    }
   ],
   "source": [
    "birdnet_analyze.count(), birdnet_embeddings.count(), train_metadata.count()"
   ]
  },
  {
   "cell_type": "code",
   "execution_count": 8,
   "metadata": {},
   "outputs": [
    {
     "data": {
      "text/plain": [
       "276866"
      ]
     },
     "execution_count": 8,
     "metadata": {},
     "output_type": "execute_result"
    }
   ],
   "source": [
    "# TODO: why is there this difference?\n",
    "birdnet_analyze.join(\n",
    "    birdnet_embeddings, on=[\"filename\", \"start_sec\", \"end_sec\"]\n",
    ").count()"
   ]
  },
  {
   "cell_type": "code",
   "execution_count": 13,
   "metadata": {},
   "outputs": [
    {
     "name": "stderr",
     "output_type": "stream",
     "text": [
      "[Stage 68:====================================================>   (15 + 1) / 16]\r"
     ]
    },
    {
     "name": "stdout",
     "output_type": "stream",
     "text": [
      "+--------------------+---------+-------+----------+-------------+--------------------+--------------------+-------------+--------------------+--------------------+---+\n",
      "|            filename|start_sec|end_sec|confidence|birdnet_label| birdnet_common_name|                 emb|primary_label|    secondary_labels|                type| id|\n",
      "+--------------------+---------+-------+----------+-------------+--------------------+--------------------+-------------+--------------------+--------------------+---+\n",
      "|afrsil1/XC125458.ogg|      0.0|    3.0|     0.472|       indsil|   Indian Silverbill|[0.50174934, 0.45...|      afrsil1|                  []|['call', 'flight ...|  0|\n",
      "|afrsil1/XC125458.ogg|      0.0|    3.0|     0.903|      afrsil1|  African Silverbill|[0.50174934, 0.45...|      afrsil1|                  []|['call', 'flight ...|  1|\n",
      "|afrsil1/XC125458.ogg|      3.0|    6.0|    0.7311|      afrsil1|  African Silverbill|[1.3441721, 0.464...|      afrsil1|                  []|['call', 'flight ...|  2|\n",
      "|afrsil1/XC125458.ogg|      6.0|    9.0|    0.5888|      afrsil1|  African Silverbill|[0.94136715, 0.75...|      afrsil1|                  []|['call', 'flight ...|  3|\n",
      "|afrsil1/XC175522.ogg|      0.0|    3.0|    0.1391|      azutit2|           Azure Tit|[0.7229609, 1.923...|      afrsil1|['houspa', 'redav...|            ['call']|  4|\n",
      "|afrsil1/XC175522.ogg|      0.0|    3.0|    0.1796|      sicswi1|        Sick's Swift|[0.7229609, 1.923...|      afrsil1|['houspa', 'redav...|            ['call']|  5|\n",
      "|afrsil1/XC175522.ogg|      0.0|    3.0|    0.4881|      afrsil1|  African Silverbill|[0.7229609, 1.923...|      afrsil1|['houspa', 'redav...|            ['call']|  6|\n",
      "|afrsil1/XC175522.ogg|      0.0|    3.0|     0.578|       indsil|   Indian Silverbill|[0.7229609, 1.923...|      afrsil1|['houspa', 'redav...|            ['call']|  7|\n",
      "|afrsil1/XC175522.ogg|      0.0|    3.0|    0.7585|      whsflu1|White-spotted Flu...|[0.7229609, 1.923...|      afrsil1|['houspa', 'redav...|            ['call']|  8|\n",
      "|afrsil1/XC175522.ogg|      3.0|    6.0|    0.2031|      eaywag1|Western Yellow Wa...|[1.2420697, 2.079...|      afrsil1|['houspa', 'redav...|            ['call']|  9|\n",
      "|afrsil1/XC175522.ogg|      6.0|    9.0|    0.1114|      whsflu1|White-spotted Flu...|[1.1459569, 1.816...|      afrsil1|['houspa', 'redav...|            ['call']| 10|\n",
      "|afrsil1/XC175522.ogg|      6.0|    9.0|     0.135|       redava|        Red Avadavat|[1.1459569, 1.816...|      afrsil1|['houspa', 'redav...|            ['call']| 11|\n",
      "|afrsil1/XC175522.ogg|      9.0|   12.0|    0.4658|      afrsil1|  African Silverbill|[0.3466868, 1.362...|      afrsil1|['houspa', 'redav...|            ['call']| 12|\n",
      "|afrsil1/XC175522.ogg|      9.0|   12.0|    0.6387|      pmtspi1|Plain-mantled Tit...|[0.3466868, 1.362...|      afrsil1|['houspa', 'redav...|            ['call']| 13|\n",
      "|afrsil1/XC175522.ogg|     15.0|   18.0|    0.3262|       zebdov|          Zebra Dove|[0.8329985, 1.998...|      afrsil1|['houspa', 'redav...|            ['call']| 14|\n",
      "|afrsil1/XC175522.ogg|     15.0|   18.0|    0.3509|      afrsil1|  African Silverbill|[0.8329985, 1.998...|      afrsil1|['houspa', 'redav...|            ['call']| 15|\n",
      "|afrsil1/XC175522.ogg|     18.0|   21.0|    0.9796|      afrsil1|  African Silverbill|[1.5603628, 1.264...|      afrsil1|['houspa', 'redav...|            ['call']| 16|\n",
      "|afrsil1/XC175522.ogg|     21.0|   24.0|    0.5756|       zebdov|          Zebra Dove|[1.0524819, 1.513...|      afrsil1|['houspa', 'redav...|            ['call']| 17|\n",
      "|afrsil1/XC175522.ogg|     21.0|   24.0|    0.8522|      afrsil1|  African Silverbill|[1.0524819, 1.513...|      afrsil1|['houspa', 'redav...|            ['call']| 18|\n",
      "|afrsil1/XC175522.ogg|     24.0|   27.0|    0.1064|      comkin1|   Common Kingfisher|[1.0323238, 1.571...|      afrsil1|['houspa', 'redav...|            ['call']| 19|\n",
      "+--------------------+---------+-------+----------+-------------+--------------------+--------------------+-------------+--------------------+--------------------+---+\n",
      "only showing top 20 rows\n",
      "\n"
     ]
    },
    {
     "name": "stderr",
     "output_type": "stream",
     "text": [
      "                                                                                \r"
     ]
    }
   ],
   "source": [
    "from pyspark.sql import functions as F, Window\n",
    "\n",
    "# joined, also with a canonical rank\n",
    "birdnet_joined = (\n",
    "    birdnet_analyze.join(birdnet_embeddings, on=[\"filename\", \"start_sec\", \"end_sec\"])\n",
    "    .join(\n",
    "        train_metadata.select(\"filename\", \"primary_label\", \"secondary_labels\", \"type\"),\n",
    "        on=\"filename\",\n",
    "    )\n",
    "    .orderBy(\"filename\", \"start_sec\")\n",
    "    .withColumn(\"id\", F.monotonically_increasing_id())\n",
    ")\n",
    "birdnet_joined.show()"
   ]
  },
  {
   "cell_type": "code",
   "execution_count": 14,
   "metadata": {},
   "outputs": [
    {
     "name": "stderr",
     "output_type": "stream",
     "text": [
      "                                                                                \r"
     ]
    },
    {
     "data": {
      "text/plain": [
       "(276748, 320)"
      ]
     },
     "execution_count": 14,
     "metadata": {},
     "output_type": "execute_result"
    }
   ],
   "source": [
    "# now lets generate nearest neighbors for each of the embeddings\n",
    "# we'll use pynndescent to do this\n",
    "import numpy as np\n",
    "\n",
    "# convert the embedding to a numpy matrix that we can run nn-descent over\n",
    "X = np.stack(birdnet_joined.select(\"emb\").toPandas().emb)\n",
    "X.shape"
   ]
  },
  {
   "cell_type": "code",
   "execution_count": 15,
   "metadata": {},
   "outputs": [
    {
     "data": {
      "text/plain": [
       "0.3299093246459961"
      ]
     },
     "execution_count": 15,
     "metadata": {},
     "output_type": "execute_result"
    }
   ],
   "source": [
    "# size in gb\n",
    "X.nbytes / 1024**3"
   ]
  },
  {
   "cell_type": "code",
   "execution_count": 16,
   "metadata": {},
   "outputs": [
    {
     "name": "stdout",
     "output_type": "stream",
     "text": [
      "Tue Jan  3 02:06:11 2023 Building RP forest with 28 trees\n",
      "Tue Jan  3 02:06:14 2023 NN descent for 18 iterations\n",
      "\t 1  /  18\n",
      "\t 2  /  18\n",
      "\t 3  /  18\n",
      "\t 4  /  18\n",
      "\t 5  /  18\n",
      "\t 6  /  18\n",
      "\t 7  /  18\n",
      "\tStopping threshold met -- exiting after 7 iterations\n"
     ]
    }
   ],
   "source": [
    "from pynndescent import NNDescent\n",
    "\n",
    "n_neighbors = 20\n",
    "index = NNDescent(X, n_neighbors=n_neighbors, verbose=True)"
   ]
  },
  {
   "cell_type": "code",
   "execution_count": 25,
   "metadata": {},
   "outputs": [
    {
     "data": {
      "text/plain": [
       "((276748, 20), (276748, 20))"
      ]
     },
     "execution_count": 25,
     "metadata": {},
     "output_type": "execute_result"
    }
   ],
   "source": [
    "neighbors, distances = index.query(X, k=n_neighbors)\n",
    "neighbors.shape, distances.shape"
   ]
  },
  {
   "cell_type": "code",
   "execution_count": 26,
   "metadata": {},
   "outputs": [
    {
     "data": {
      "text/html": [
       "<div>\n",
       "<style scoped>\n",
       "    .dataframe tbody tr th:only-of-type {\n",
       "        vertical-align: middle;\n",
       "    }\n",
       "\n",
       "    .dataframe tbody tr th {\n",
       "        vertical-align: top;\n",
       "    }\n",
       "\n",
       "    .dataframe thead th {\n",
       "        text-align: right;\n",
       "    }\n",
       "</style>\n",
       "<table border=\"1\" class=\"dataframe\">\n",
       "  <thead>\n",
       "    <tr style=\"text-align: right;\">\n",
       "      <th></th>\n",
       "      <th>origin</th>\n",
       "      <th>neighbor</th>\n",
       "      <th>distance</th>\n",
       "    </tr>\n",
       "  </thead>\n",
       "  <tbody>\n",
       "    <tr>\n",
       "      <th>0</th>\n",
       "      <td>0</td>\n",
       "      <td>0</td>\n",
       "      <td>0.000000</td>\n",
       "    </tr>\n",
       "    <tr>\n",
       "      <th>1</th>\n",
       "      <td>0</td>\n",
       "      <td>1</td>\n",
       "      <td>0.000000</td>\n",
       "    </tr>\n",
       "    <tr>\n",
       "      <th>2</th>\n",
       "      <td>0</td>\n",
       "      <td>3</td>\n",
       "      <td>6.548900</td>\n",
       "    </tr>\n",
       "    <tr>\n",
       "      <th>3</th>\n",
       "      <td>0</td>\n",
       "      <td>198010</td>\n",
       "      <td>7.179422</td>\n",
       "    </tr>\n",
       "    <tr>\n",
       "      <th>4</th>\n",
       "      <td>0</td>\n",
       "      <td>150</td>\n",
       "      <td>7.291882</td>\n",
       "    </tr>\n",
       "  </tbody>\n",
       "</table>\n",
       "</div>"
      ],
      "text/plain": [
       "   origin  neighbor  distance\n",
       "0       0         0  0.000000\n",
       "1       0         1  0.000000\n",
       "2       0         3  6.548900\n",
       "3       0    198010  7.179422\n",
       "4       0       150  7.291882"
      ]
     },
     "execution_count": 26,
     "metadata": {},
     "output_type": "execute_result"
    }
   ],
   "source": [
    "import pandas as pd\n",
    "\n",
    "\n",
    "def index_query_to_pandas(neighbors, distances) -> pd.DataFrame:\n",
    "    \"\"\"Convert the output of index.query to a pandas dataframe.\"\"\"\n",
    "    res = []\n",
    "    for origin, (neighbor, distance) in enumerate(zip(neighbors, distances)):\n",
    "        for n, d in zip(neighbor, distance):\n",
    "            res.append(dict(origin=origin, neighbor=n, distance=d))\n",
    "    return pd.DataFrame(res)\n",
    "\n",
    "\n",
    "index_query_to_pandas(neighbors, distances).head()"
   ]
  },
  {
   "cell_type": "code",
   "execution_count": 34,
   "metadata": {},
   "outputs": [
    {
     "name": "stdout",
     "output_type": "stream",
     "text": [
      "23/01/03 02:19:29 WARN TaskSetManager: Stage 78 contains a task of very large size (5680 KiB). The maximum recommended task size is 1000 KiB.\n"
     ]
    },
    {
     "name": "stderr",
     "output_type": "stream",
     "text": [
      "[Stage 85:===>                                                    (1 + 16) / 17]\r"
     ]
    },
    {
     "name": "stdout",
     "output_type": "stream",
     "text": [
      "+---+--------------------+---------+-------+----------+-------------+--------------------+--------------------+-------------+--------------------+--------------------+--------------------+--------------------+\n",
      "| id|            filename|start_sec|end_sec|confidence|birdnet_label| birdnet_common_name|                 emb|primary_label|    secondary_labels|                type|           neighbors|           distances|\n",
      "+---+--------------------+---------+-------+----------+-------------+--------------------+--------------------+-------------+--------------------+--------------------+--------------------+--------------------+\n",
      "|  0|afrsil1/XC125458.ogg|      0.0|    3.0|     0.472|       indsil|   Indian Silverbill|[0.50174934, 0.45...|      afrsil1|                  []|['call', 'flight ...|[0, 1, 3, 198010,...|[0.0, 0.0, 6.5489...|\n",
      "|  7|afrsil1/XC175522.ogg|      0.0|    3.0|     0.578|       indsil|   Indian Silverbill|[0.7229609, 1.923...|      afrsil1|['houspa', 'redav...|            ['call']|[4, 7, 5, 6, 8, 1...|[0.0, 0.0, 0.0, 0...|\n",
      "| 19|afrsil1/XC175522.ogg|     24.0|   27.0|    0.1064|      comkin1|   Common Kingfisher|[1.0323238, 1.571...|      afrsil1|['houspa', 'redav...|            ['call']|[19, 20, 27, 2070...|[0.0, 0.0, 5.5535...|\n",
      "| 22|afrsil1/XC175522.ogg|     39.0|   42.0|      0.19|      whsflu1|White-spotted Flu...|[1.1149163, 1.684...|      afrsil1|['houspa', 'redav...|            ['call']|[23, 22, 24, 21, ...|[0.0, 0.0, 0.0, 0...|\n",
      "| 26|afrsil1/XC175522.ogg|     42.0|   45.0|    0.8718|      afrsil1|  African Silverbill|[0.8364935, 1.177...|      afrsil1|['houspa', 'redav...|            ['call']|[26, 25, 20, 19, ...|[0.0, 0.0, 6.0602...|\n",
      "| 29|afrsil1/XC177993.ogg|      0.0|    3.0|    0.7886|      afrsil1|  African Silverbill|[0.6481519, 0.575...|      afrsil1|                  []|    ['call', 'song']|[28, 29, 41, 40, ...|[0.0, 0.0, 6.4114...|\n",
      "| 54|afrsil1/XC205893.ogg|      6.0|    9.0|    0.9771|      afrsil1|  African Silverbill|[0.21100014, 0.41...|      afrsil1|                  []|['alarm call', 'c...|[54, 53, 67, 66, ...|[0.0, 0.0, 4.1609...|\n",
      "| 65|afrsil1/XC205893.ogg|     24.0|   27.0|    0.9863|      afrsil1|  African Silverbill|[0.6652755, 0.699...|      afrsil1|                  []|['alarm call', 'c...|[64, 65, 55, 56, ...|[0.0, 0.0, 4.2861...|\n",
      "| 77|afrsil1/XC205893.ogg|     45.0|   48.0|    0.8449|      afrsil1|  African Silverbill|[0.7928329, 0.683...|      afrsil1|                  []|['alarm call', 'c...|[77, 81, 75, 76, ...|[0.0, 5.096575260...|\n",
      "|112|afrsil1/XC209513.ogg|     12.0|   15.0|    0.9499|      afrsil1|  African Silverbill|[3.3178341, 1.752...|      afrsil1|                  []|            ['call']|[112, 106, 113, 1...|[0.0, 5.792066097...|\n",
      "|113|afrsil1/XC209513.ogg|     15.0|   18.0|    0.4778|      afrsil1|  African Silverbill|[2.3401613, 1.305...|      afrsil1|                  []|            ['call']|[113, 112, 133, 1...|[0.0, 5.968457698...|\n",
      "|130|afrsil1/XC209513.ogg|     30.0|   33.0|    0.4238|      afrsil1|  African Silverbill|[1.6325856, 1.279...|      afrsil1|                  []|            ['call']|[128, 130, 129, 1...|[0.0, 0.0, 0.0, 5...|\n",
      "|155|afrsil1/XC317039.ogg|      3.0|    6.0|     0.977|      afrsil1|  African Silverbill|[0.3684138, 2.010...|      afrsil1|                  []|            ['call']|[155, 158, 163, 1...|[0.0, 4.310883045...|\n",
      "|167|afrsil1/XC317039.ogg|     24.0|   27.0|    0.3257|       lavwax|    Lavender Waxbill|[0.32889363, 1.54...|      afrsil1|                  []|            ['call']|[167, 166, 168, 1...|[0.0, 0.0, 0.0, 5...|\n",
      "|191|afrsil1/XC344134.ogg|      6.0|    9.0|    0.5161|       indsil|   Indian Silverbill|[0.2389323, 1.995...|      afrsil1|                  []|            ['call']|[192, 190, 193, 1...|[0.0, 0.0, 0.0, 0...|\n",
      "|196|afrsil1/XC344134.ogg|     12.0|   15.0|    0.1828|      pmtspi1|Plain-mantled Tit...|[0.7759676, 1.187...|      afrsil1|                  []|            ['call']|[195, 197, 196, 1...|[0.0, 0.0, 0.0, 0...|\n",
      "|198|afrsil1/XC344134.ogg|     12.0|   15.0|    0.6789|       indsil|   Indian Silverbill|[0.7759676, 1.187...|      afrsil1|                  []|            ['call']|[197, 195, 196, 1...|[0.0, 0.0, 0.0, 0...|\n",
      "|222|afrsil1/XC395771.ogg|      9.0|   12.0|    0.9633|      afrsil1|  African Silverbill|[1.5349308, 1.317...|      afrsil1|                  []|            ['call']|[222, 223, 224, 2...|[0.0, 5.553501129...|\n",
      "|237|afrsil1/XC597072.ogg|      3.0|    6.0|    0.2574|      sicswi1|        Sick's Swift|[1.0763413, 1.490...|      afrsil1|                  []|['adult', 'sex un...|[238, 239, 237, 2...|[0.0, 0.0, 0.0, 4...|\n",
      "|241|afrsil1/XC597072.ogg|      6.0|    9.0|    0.9752|      afrsil1|  African Silverbill|[1.2297133, 0.979...|      afrsil1|                  []|['adult', 'sex un...|[240, 241, 242, 2...|[0.0, 0.0, 4.3453...|\n",
      "+---+--------------------+---------+-------+----------+-------------+--------------------+--------------------+-------------+--------------------+--------------------+--------------------+--------------------+\n",
      "only showing top 20 rows\n",
      "\n"
     ]
    },
    {
     "name": "stderr",
     "output_type": "stream",
     "text": [
      "                                                                                \r"
     ]
    }
   ],
   "source": [
    "query_df = pd.DataFrame(\n",
    "    dict(\n",
    "        neighbors=neighbors.tolist(),\n",
    "        distances=distances.tolist(),\n",
    "        id=np.arange(neighbors.shape[0]),\n",
    "    )\n",
    ")\n",
    "\n",
    "birdnet_neighbors = birdnet_joined.join(spark.createDataFrame(query_df), on=\"id\")\n",
    "birdnet_neighbors.show()"
   ]
  }
 ],
 "metadata": {
  "kernelspec": {
   "display_name": "venv",
   "language": "python",
   "name": "python3"
  },
  "language_info": {
   "codemirror_mode": {
    "name": "ipython",
    "version": 3
   },
   "file_extension": ".py",
   "mimetype": "text/x-python",
   "name": "python",
   "nbconvert_exporter": "python",
   "pygments_lexer": "ipython3",
   "version": "3.7.12"
  },
  "orig_nbformat": 4,
  "vscode": {
   "interpreter": {
    "hash": "99e3fab793c0456e63ab83c372f8335ef479e5a9e573d0646094eb616eafc087"
   }
  }
 },
 "nbformat": 4,
 "nbformat_minor": 2
}
