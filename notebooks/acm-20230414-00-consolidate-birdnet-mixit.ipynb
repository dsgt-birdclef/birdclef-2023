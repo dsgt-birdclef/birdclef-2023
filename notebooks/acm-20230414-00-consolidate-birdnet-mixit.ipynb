{
 "cells": [
  {
   "cell_type": "code",
   "execution_count": 1,
   "metadata": {},
   "outputs": [],
   "source": [
    "%load_ext autoreload\n",
    "%autoreload 2\n",
    "%load_ext lab_black"
   ]
  },
  {
   "cell_type": "code",
   "execution_count": 3,
   "metadata": {},
   "outputs": [
    {
     "name": "stdout",
     "output_type": "stream",
     "text": [
      "23/04/14 07:18:51 WARN SparkSession: Using an existing Spark session; only runtime SQL configurations will take effect.\n"
     ]
    }
   ],
   "source": [
    "from birdclef.utils import get_spark\n",
    "from pyspark.sql import functions as F\n",
    "\n",
    "spark = get_spark(cores=16, memory=\"16g\")"
   ]
  },
  {
   "cell_type": "code",
   "execution_count": 12,
   "metadata": {},
   "outputs": [
    {
     "name": "stdout",
     "output_type": "stream",
     "text": [
      "audio  embeddings\n",
      "6639\n"
     ]
    }
   ],
   "source": [
    "root = \"../data/processed/birdclef-2023/train_embeddings\"\n",
    "! ls {root}\n",
    "# oops, this is nested too deeply\n",
    "! ls {root}/embeddings/*/*/*/*.parquet | wc -l"
   ]
  },
  {
   "cell_type": "code",
   "execution_count": 11,
   "metadata": {},
   "outputs": [
    {
     "name": "stderr",
     "output_type": "stream",
     "text": [
      "                                                                                \r"
     ]
    },
    {
     "name": "stdout",
     "output_type": "stream",
     "text": [
      "root\n",
      " |-- embedding: array (nullable = true)\n",
      " |    |-- element: double (containsNull = true)\n",
      " |-- predictions: array (nullable = true)\n",
      " |    |-- element: map (containsNull = true)\n",
      " |    |    |-- key: string\n",
      " |    |    |-- value: long (valueContainsNull = true)\n",
      " |-- track_name: string (nullable = true)\n",
      "\n"
     ]
    },
    {
     "name": "stderr",
     "output_type": "stream",
     "text": [
      "                                                                                \r"
     ]
    },
    {
     "data": {
      "text/plain": [
       "504954"
      ]
     },
     "execution_count": 11,
     "metadata": {},
     "output_type": "execute_result"
    }
   ],
   "source": [
    "df = spark.read.parquet(f\"{root}/embeddings/*/*/*/*.parquet\")\n",
    "df.printSchema()\n",
    "df.count()"
   ]
  },
  {
   "cell_type": "code",
   "execution_count": 13,
   "metadata": {},
   "outputs": [
    {
     "name": "stderr",
     "output_type": "stream",
     "text": [
      "                                                                                \r"
     ]
    }
   ],
   "source": [
    "# write this out to a new location\n",
    "df.repartition(16).write.parquet(f\"{root}/consolidated\", mode=\"overwrite\")"
   ]
  },
  {
   "cell_type": "code",
   "execution_count": 14,
   "metadata": {},
   "outputs": [
    {
     "name": "stdout",
     "output_type": "stream",
     "text": [
      "total 9.3G\n",
      "drwxr-xr-x 2 anthony anthony 4.0K Apr 14 07:29 .\n",
      "drwxrwxr-x 5 anthony anthony 4.0K Apr 14 07:28 ..\n",
      "-rw-r--r-- 1 anthony anthony    8 Apr 14 07:29 ._SUCCESS.crc\n",
      "-rw-r--r-- 1 anthony anthony 4.6M Apr 14 07:29 .part-00000-701500ef-1a90-4c3b-9ae0-e71e6b2c5f03-c000.snappy.parquet.crc\n",
      "-rw-r--r-- 1 anthony anthony 4.6M Apr 14 07:29 .part-00001-701500ef-1a90-4c3b-9ae0-e71e6b2c5f03-c000.snappy.parquet.crc\n",
      "-rw-r--r-- 1 anthony anthony 4.6M Apr 14 07:29 .part-00002-701500ef-1a90-4c3b-9ae0-e71e6b2c5f03-c000.snappy.parquet.crc\n",
      "-rw-r--r-- 1 anthony anthony 4.6M Apr 14 07:29 .part-00003-701500ef-1a90-4c3b-9ae0-e71e6b2c5f03-c000.snappy.parquet.crc\n",
      "-rw-r--r-- 1 anthony anthony 4.6M Apr 14 07:29 .part-00004-701500ef-1a90-4c3b-9ae0-e71e6b2c5f03-c000.snappy.parquet.crc\n",
      "-rw-r--r-- 1 anthony anthony 4.6M Apr 14 07:29 .part-00005-701500ef-1a90-4c3b-9ae0-e71e6b2c5f03-c000.snappy.parquet.crc\n",
      "-rw-r--r-- 1 anthony anthony 4.6M Apr 14 07:29 .part-00006-701500ef-1a90-4c3b-9ae0-e71e6b2c5f03-c000.snappy.parquet.crc\n",
      "-rw-r--r-- 1 anthony anthony 4.6M Apr 14 07:29 .part-00007-701500ef-1a90-4c3b-9ae0-e71e6b2c5f03-c000.snappy.parquet.crc\n",
      "-rw-r--r-- 1 anthony anthony 4.6M Apr 14 07:29 .part-00008-701500ef-1a90-4c3b-9ae0-e71e6b2c5f03-c000.snappy.parquet.crc\n",
      "-rw-r--r-- 1 anthony anthony 4.6M Apr 14 07:29 .part-00009-701500ef-1a90-4c3b-9ae0-e71e6b2c5f03-c000.snappy.parquet.crc\n",
      "-rw-r--r-- 1 anthony anthony 4.6M Apr 14 07:29 .part-00010-701500ef-1a90-4c3b-9ae0-e71e6b2c5f03-c000.snappy.parquet.crc\n",
      "-rw-r--r-- 1 anthony anthony 4.6M Apr 14 07:29 .part-00011-701500ef-1a90-4c3b-9ae0-e71e6b2c5f03-c000.snappy.parquet.crc\n",
      "-rw-r--r-- 1 anthony anthony 4.6M Apr 14 07:29 .part-00012-701500ef-1a90-4c3b-9ae0-e71e6b2c5f03-c000.snappy.parquet.crc\n",
      "-rw-r--r-- 1 anthony anthony 4.6M Apr 14 07:29 .part-00013-701500ef-1a90-4c3b-9ae0-e71e6b2c5f03-c000.snappy.parquet.crc\n",
      "-rw-r--r-- 1 anthony anthony 4.6M Apr 14 07:29 .part-00014-701500ef-1a90-4c3b-9ae0-e71e6b2c5f03-c000.snappy.parquet.crc\n",
      "-rw-r--r-- 1 anthony anthony 4.6M Apr 14 07:29 .part-00015-701500ef-1a90-4c3b-9ae0-e71e6b2c5f03-c000.snappy.parquet.crc\n",
      "-rw-r--r-- 1 anthony anthony    0 Apr 14 07:29 _SUCCESS\n",
      "-rw-r--r-- 1 anthony anthony 588M Apr 14 07:29 part-00000-701500ef-1a90-4c3b-9ae0-e71e6b2c5f03-c000.snappy.parquet\n",
      "-rw-r--r-- 1 anthony anthony 588M Apr 14 07:29 part-00001-701500ef-1a90-4c3b-9ae0-e71e6b2c5f03-c000.snappy.parquet\n",
      "-rw-r--r-- 1 anthony anthony 588M Apr 14 07:29 part-00002-701500ef-1a90-4c3b-9ae0-e71e6b2c5f03-c000.snappy.parquet\n",
      "-rw-r--r-- 1 anthony anthony 588M Apr 14 07:29 part-00003-701500ef-1a90-4c3b-9ae0-e71e6b2c5f03-c000.snappy.parquet\n",
      "-rw-r--r-- 1 anthony anthony 588M Apr 14 07:29 part-00004-701500ef-1a90-4c3b-9ae0-e71e6b2c5f03-c000.snappy.parquet\n",
      "-rw-r--r-- 1 anthony anthony 588M Apr 14 07:29 part-00005-701500ef-1a90-4c3b-9ae0-e71e6b2c5f03-c000.snappy.parquet\n",
      "-rw-r--r-- 1 anthony anthony 588M Apr 14 07:29 part-00006-701500ef-1a90-4c3b-9ae0-e71e6b2c5f03-c000.snappy.parquet\n",
      "-rw-r--r-- 1 anthony anthony 588M Apr 14 07:29 part-00007-701500ef-1a90-4c3b-9ae0-e71e6b2c5f03-c000.snappy.parquet\n",
      "-rw-r--r-- 1 anthony anthony 588M Apr 14 07:29 part-00008-701500ef-1a90-4c3b-9ae0-e71e6b2c5f03-c000.snappy.parquet\n",
      "-rw-r--r-- 1 anthony anthony 588M Apr 14 07:29 part-00009-701500ef-1a90-4c3b-9ae0-e71e6b2c5f03-c000.snappy.parquet\n",
      "-rw-r--r-- 1 anthony anthony 588M Apr 14 07:29 part-00010-701500ef-1a90-4c3b-9ae0-e71e6b2c5f03-c000.snappy.parquet\n",
      "-rw-r--r-- 1 anthony anthony 588M Apr 14 07:29 part-00011-701500ef-1a90-4c3b-9ae0-e71e6b2c5f03-c000.snappy.parquet\n",
      "-rw-r--r-- 1 anthony anthony 588M Apr 14 07:29 part-00012-701500ef-1a90-4c3b-9ae0-e71e6b2c5f03-c000.snappy.parquet\n",
      "-rw-r--r-- 1 anthony anthony 588M Apr 14 07:29 part-00013-701500ef-1a90-4c3b-9ae0-e71e6b2c5f03-c000.snappy.parquet\n",
      "-rw-r--r-- 1 anthony anthony 588M Apr 14 07:29 part-00014-701500ef-1a90-4c3b-9ae0-e71e6b2c5f03-c000.snappy.parquet\n",
      "-rw-r--r-- 1 anthony anthony 588M Apr 14 07:29 part-00015-701500ef-1a90-4c3b-9ae0-e71e6b2c5f03-c000.snappy.parquet\n"
     ]
    }
   ],
   "source": [
    "! ls -alh {root}/consolidated"
   ]
  },
  {
   "cell_type": "code",
   "execution_count": 15,
   "metadata": {},
   "outputs": [],
   "source": [
    "df = spark.read.parquet(f\"{root}/consolidated\")"
   ]
  },
  {
   "cell_type": "code",
   "execution_count": 17,
   "metadata": {},
   "outputs": [
    {
     "name": "stderr",
     "output_type": "stream",
     "text": [
      "                                                                                \r"
     ]
    },
    {
     "data": {
      "text/plain": [
       "39816"
      ]
     },
     "execution_count": 17,
     "metadata": {},
     "output_type": "execute_result"
    }
   ],
   "source": [
    "df.select(\"track_name\").distinct().count()"
   ]
  },
  {
   "cell_type": "code",
   "execution_count": 21,
   "metadata": {},
   "outputs": [
    {
     "name": "stderr",
     "output_type": "stream",
     "text": [
      "[Stage 23:=================================================>      (71 + 9) / 80]\r"
     ]
    },
    {
     "name": "stdout",
     "output_type": "stream",
     "text": [
      "+----------------------------+\n",
      "|track_name                  |\n",
      "+----------------------------+\n",
      "|abethr1/XC128013.mp3        |\n",
      "|abethr1/XC128013.wav        |\n",
      "|abethr1/XC128013_source0.mp3|\n",
      "|abethr1/XC128013_source1.mp3|\n",
      "|abethr1/XC128013_source2.mp3|\n",
      "|abethr1/XC128013_source3.mp3|\n",
      "|abethr1/XC363501.mp3        |\n",
      "|abethr1/XC363501.wav        |\n",
      "|abethr1/XC363501_source0.mp3|\n",
      "|abethr1/XC363501_source1.mp3|\n",
      "+----------------------------+\n",
      "only showing top 10 rows\n",
      "\n"
     ]
    },
    {
     "name": "stderr",
     "output_type": "stream",
     "text": [
      "                                                                                \r"
     ]
    }
   ],
   "source": [
    "df.select(\"track_name\").distinct().orderBy(\"track_name\").show(10, False)\n",
    "# oops, I made a bunch of duplicates in this dataset"
   ]
  },
  {
   "cell_type": "code",
   "execution_count": 33,
   "metadata": {},
   "outputs": [
    {
     "name": "stderr",
     "output_type": "stream",
     "text": [
      "                                                                                \r"
     ]
    },
    {
     "name": "stdout",
     "output_type": "stream",
     "text": [
      "+----------------+\n",
      "|      track_name|\n",
      "+----------------+\n",
      "|combuz1/XC144397|\n",
      "|cohmar1/XC417422|\n",
      "|carwoo1/XC435801|\n",
      "|cohmar1/XC183788|\n",
      "|blakit1/XC511558|\n",
      "|eaywag1/XC642065|\n",
      "|carcha1/XC720297|\n",
      "|combuz1/XC144232|\n",
      "|combul2/XC443092|\n",
      "|afrthr1/XC582597|\n",
      "| barswa/XC337983|\n",
      "|eaywag1/XC246326|\n",
      "|blakit1/XC542603|\n",
      "|combul2/XC401371|\n",
      "|combuz1/XC524749|\n",
      "|colsun2/XC517237|\n",
      "| egygoo/XC109700|\n",
      "| barswa/XC337979|\n",
      "| barswa/XC375299|\n",
      "|afrthr1/XC466165|\n",
      "+----------------+\n",
      "only showing top 20 rows\n",
      "\n"
     ]
    },
    {
     "name": "stderr",
     "output_type": "stream",
     "text": [
      "                                                                                \r"
     ]
    },
    {
     "data": {
      "text/plain": [
       "6636"
      ]
     },
     "execution_count": 33,
     "metadata": {},
     "output_type": "execute_result"
    }
   ],
   "source": [
    "names = (\n",
    "    df.select(F.split(F.col(\"track_name\"), \"_\")[0].alias(\"track_name\"))\n",
    "    .where(\"track_name not like '%wav' and track_name not like '%mp3'\")\n",
    "    .orderBy(\"track_name\")\n",
    "    .distinct()\n",
    ")\n",
    "names.show()\n",
    "names.count()"
   ]
  },
  {
   "cell_type": "code",
   "execution_count": 34,
   "metadata": {},
   "outputs": [
    {
     "name": "stdout",
     "output_type": "stream",
     "text": [
      "Building synchronization state...\n",
      "Starting synchronization...\n",
      "Copying file://../data/processed/birdclef-2023/train_embeddings/consolidated/._SUCCESS.crc [Content-Type=application/octet-stream]...\n",
      "Copying file://../data/processed/birdclef-2023/train_embeddings/consolidated/.part-00005-701500ef-1a90-4c3b-9ae0-e71e6b2c5f03-c000.snappy.parquet.crc [Content-Type=application/octet-stream]...\n",
      "Copying file://../data/processed/birdclef-2023/train_embeddings/consolidated/.part-00002-701500ef-1a90-4c3b-9ae0-e71e6b2c5f03-c000.snappy.parquet.crc [Content-Type=application/octet-stream]...\n",
      "Copying file://../data/processed/birdclef-2023/train_embeddings/consolidated/.part-00001-701500ef-1a90-4c3b-9ae0-e71e6b2c5f03-c000.snappy.parquet.crc [Content-Type=application/octet-stream]...\n",
      "Copying file://../data/processed/birdclef-2023/train_embeddings/consolidated/.part-00003-701500ef-1a90-4c3b-9ae0-e71e6b2c5f03-c000.snappy.parquet.crc [Content-Type=application/octet-stream]...\n",
      "Copying file://../data/processed/birdclef-2023/train_embeddings/consolidated/.part-00006-701500ef-1a90-4c3b-9ae0-e71e6b2c5f03-c000.snappy.parquet.crc [Content-Type=application/octet-stream]...\n",
      "Copying file://../data/processed/birdclef-2023/train_embeddings/consolidated/.part-00008-701500ef-1a90-4c3b-9ae0-e71e6b2c5f03-c000.snappy.parquet.crc [Content-Type=application/octet-stream]...\n",
      "Copying file://../data/processed/birdclef-2023/train_embeddings/consolidated/.part-00000-701500ef-1a90-4c3b-9ae0-e71e6b2c5f03-c000.snappy.parquet.crc [Content-Type=application/octet-stream]...\n",
      "Copying file://../data/processed/birdclef-2023/train_embeddings/consolidated/.part-00004-701500ef-1a90-4c3b-9ae0-e71e6b2c5f03-c000.snappy.parquet.crc [Content-Type=application/octet-stream]...\n",
      "Copying file://../data/processed/birdclef-2023/train_embeddings/consolidated/.part-00007-701500ef-1a90-4c3b-9ae0-e71e6b2c5f03-c000.snappy.parquet.crc [Content-Type=application/octet-stream]...\n",
      "Copying file://../data/processed/birdclef-2023/train_embeddings/consolidated/.part-00012-701500ef-1a90-4c3b-9ae0-e71e6b2c5f03-c000.snappy.parquet.crc [Content-Type=application/octet-stream]...\n",
      "Copying file://../data/processed/birdclef-2023/train_embeddings/consolidated/.part-00010-701500ef-1a90-4c3b-9ae0-e71e6b2c5f03-c000.snappy.parquet.crc [Content-Type=application/octet-stream]...\n",
      "Copying file://../data/processed/birdclef-2023/train_embeddings/consolidated/.part-00009-701500ef-1a90-4c3b-9ae0-e71e6b2c5f03-c000.snappy.parquet.crc [Content-Type=application/octet-stream]...\n",
      "Copying file://../data/processed/birdclef-2023/train_embeddings/consolidated/.part-00014-701500ef-1a90-4c3b-9ae0-e71e6b2c5f03-c000.snappy.parquet.crc [Content-Type=application/octet-stream]...\n",
      "Copying file://../data/processed/birdclef-2023/train_embeddings/consolidated/.part-00015-701500ef-1a90-4c3b-9ae0-e71e6b2c5f03-c000.snappy.parquet.crc [Content-Type=application/octet-stream]...\n",
      "Copying file://../data/processed/birdclef-2023/train_embeddings/consolidated/part-00001-701500ef-1a90-4c3b-9ae0-e71e6b2c5f03-c000.snappy.parquet [Content-Type=application/octet-stream]...\n",
      "Copying file://../data/processed/birdclef-2023/train_embeddings/consolidated/part-00004-701500ef-1a90-4c3b-9ae0-e71e6b2c5f03-c000.snappy.parquet [Content-Type=application/octet-stream]...\n",
      "==> NOTE: You are uploading one or more large file(s), which would run\n",
      "significantly faster if you enable parallel composite uploads. This\n",
      "feature can be enabled by editing the\n",
      "\"parallel_composite_upload_threshold\" value in your .boto\n",
      "configuration file. However, note that if you do this large files will\n",
      "be uploaded as `composite objects\n",
      "<https://cloud.google.com/storage/docs/composite-objects>`_,which\n",
      "means that any user who downloads such objects will need to have a\n",
      "compiled crcmod installed (see \"gsutil help crcmod\"). This is because\n",
      "without a compiled crcmod, computing checksums on composite objects is\n",
      "so slow that gsutil disables downloads of composite objects.\n",
      "\n",
      "Copying file://../data/processed/birdclef-2023/train_embeddings/consolidated/part-00009-701500ef-1a90-4c3b-9ae0-e71e6b2c5f03-c000.snappy.parquet [Content-Type=application/octet-stream]...\n",
      "Copying file://../data/processed/birdclef-2023/train_embeddings/consolidated/.part-00011-701500ef-1a90-4c3b-9ae0-e71e6b2c5f03-c000.snappy.parquet.crc [Content-Type=application/octet-stream]...\n",
      "Copying file://../data/processed/birdclef-2023/train_embeddings/consolidated/part-00000-701500ef-1a90-4c3b-9ae0-e71e6b2c5f03-c000.snappy.parquet [Content-Type=application/octet-stream]...\n",
      "Copying file://../data/processed/birdclef-2023/train_embeddings/consolidated/.part-00013-701500ef-1a90-4c3b-9ae0-e71e6b2c5f03-c000.snappy.parquet.crc [Content-Type=application/octet-stream]...\n",
      "Copying file://../data/processed/birdclef-2023/train_embeddings/consolidated/part-00012-701500ef-1a90-4c3b-9ae0-e71e6b2c5f03-c000.snappy.parquet [Content-Type=application/octet-stream]...\n",
      "Copying file://../data/processed/birdclef-2023/train_embeddings/consolidated/_SUCCESS [Content-Type=application/octet-stream]...\n",
      "Copying file://../data/processed/birdclef-2023/train_embeddings/consolidated/part-00003-701500ef-1a90-4c3b-9ae0-e71e6b2c5f03-c000.snappy.parquet [Content-Type=application/octet-stream]...\n",
      "Copying file://../data/processed/birdclef-2023/train_embeddings/consolidated/part-00010-701500ef-1a90-4c3b-9ae0-e71e6b2c5f03-c000.snappy.parquet [Content-Type=application/octet-stream]...\n",
      "Copying file://../data/processed/birdclef-2023/train_embeddings/consolidated/part-00007-701500ef-1a90-4c3b-9ae0-e71e6b2c5f03-c000.snappy.parquet [Content-Type=application/octet-stream]...\n",
      "Copying file://../data/processed/birdclef-2023/train_embeddings/consolidated/part-00005-701500ef-1a90-4c3b-9ae0-e71e6b2c5f03-c000.snappy.parquet [Content-Type=application/octet-stream]...\n",
      "Copying file://../data/processed/birdclef-2023/train_embeddings/consolidated/part-00011-701500ef-1a90-4c3b-9ae0-e71e6b2c5f03-c000.snappy.parquet [Content-Type=application/octet-stream]...\n",
      "Copying file://../data/processed/birdclef-2023/train_embeddings/consolidated/part-00013-701500ef-1a90-4c3b-9ae0-e71e6b2c5f03-c000.snappy.parquet [Content-Type=application/octet-stream]...\n",
      "Copying file://../data/processed/birdclef-2023/train_embeddings/consolidated/part-00008-701500ef-1a90-4c3b-9ae0-e71e6b2c5f03-c000.snappy.parquet [Content-Type=application/octet-stream]...\n",
      "Copying file://../data/processed/birdclef-2023/train_embeddings/consolidated/part-00002-701500ef-1a90-4c3b-9ae0-e71e6b2c5f03-c000.snappy.parquet [Content-Type=application/octet-stream]...\n",
      "Copying file://../data/processed/birdclef-2023/train_embeddings/consolidated/part-00006-701500ef-1a90-4c3b-9ae0-e71e6b2c5f03-c000.snappy.parquet [Content-Type=application/octet-stream]...\n",
      "Copying file://../data/processed/birdclef-2023/train_embeddings/consolidated/part-00015-701500ef-1a90-4c3b-9ae0-e71e6b2c5f03-c000.snappy.parquet [Content-Type=application/octet-stream]...\n",
      "Copying file://../data/processed/birdclef-2023/train_embeddings/consolidated/part-00014-701500ef-1a90-4c3b-9ae0-e71e6b2c5f03-c000.snappy.parquet [Content-Type=application/octet-stream]...\n",
      "| [34/34 files][  9.2 GiB/  9.2 GiB] 100% Done 110.1 MiB/s ETA 00:00:00         \n",
      "Operation completed over 34 objects/9.2 GiB.                                     \n"
     ]
    }
   ],
   "source": [
    "# upload the dataset to gcs\n",
    "! gsutil -m rsync -r {root}/consolidated/      gs://birdclef-2023/data/processed/birdclef-2023/train_embeddings_consolidated_v1/"
   ]
  }
 ],
 "metadata": {
  "kernelspec": {
   "display_name": "venv",
   "language": "python",
   "name": "python3"
  },
  "language_info": {
   "codemirror_mode": {
    "name": "ipython",
    "version": 3
   },
   "file_extension": ".py",
   "mimetype": "text/x-python",
   "name": "python",
   "nbconvert_exporter": "python",
   "pygments_lexer": "ipython3",
   "version": "3.10.6"
  },
  "orig_nbformat": 4
 },
 "nbformat": 4,
 "nbformat_minor": 2
}
