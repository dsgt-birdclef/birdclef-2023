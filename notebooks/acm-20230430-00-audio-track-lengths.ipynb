{
 "cells": [
  {
   "attachments": {},
   "cell_type": "markdown",
   "metadata": {},
   "source": [
    "# audio track lengths for birdclef-2023\n",
    "\n",
    "Let's take a look at how long these tracks are, and see if we should split them up."
   ]
  },
  {
   "cell_type": "code",
   "execution_count": 2,
   "metadata": {},
   "outputs": [
    {
     "name": "stderr",
     "output_type": "stream",
     "text": [
      "Setting default log level to \"WARN\".\n",
      "To adjust logging level use sc.setLogLevel(newLevel). For SparkR, use setLogLevel(newLevel).\n"
     ]
    },
    {
     "name": "stdout",
     "output_type": "stream",
     "text": [
      "23/05/01 06:45:08 WARN NativeCodeLoader: Unable to load native-hadoop library for your platform... using builtin-java classes where applicable\n"
     ]
    }
   ],
   "source": [
    "%load_ext autoreload\n",
    "%autoreload 2\n",
    "%load_ext lab_black\n",
    "\n",
    "from birdclef.utils import get_spark\n",
    "from pyspark.sql import functions as F\n",
    "\n",
    "spark = get_spark()"
   ]
  },
  {
   "cell_type": "code",
   "execution_count": 3,
   "metadata": {},
   "outputs": [
    {
     "name": "stderr",
     "output_type": "stream",
     "text": [
      "                                                                                \r"
     ]
    },
    {
     "name": "stdout",
     "output_type": "stream",
     "text": [
      "+--------------------+------------------+\n",
      "|            filename|          duration|\n",
      "+--------------------+------------------+\n",
      "|abethr1/XC128013.ogg| 45.60979591836735|\n",
      "|abethr1/XC363501.ogg|18.677596371882085|\n",
      "|abethr1/XC363502.ogg| 38.76575963718821|\n",
      "|abethr1/XC363503.ogg|29.257188208616782|\n",
      "|abethr1/XC363504.ogg| 42.34453514739229|\n",
      "+--------------------+------------------+\n",
      "only showing top 5 rows\n",
      "\n"
     ]
    }
   ],
   "source": [
    "df = spark.read.parquet(\n",
    "    \"gs://birdclef-2023/data/processed/birdclef-2023/train_durations_v2.parquet\"\n",
    ")\n",
    "df.show(n=5)"
   ]
  },
  {
   "cell_type": "code",
   "execution_count": 4,
   "metadata": {},
   "outputs": [
    {
     "name": "stderr",
     "output_type": "stream",
     "text": [
      "[Stage 2:>                                                          (0 + 1) / 1]\r"
     ]
    },
    {
     "name": "stdout",
     "output_type": "stream",
     "text": [
      "+-------+--------------------+------------------+\n",
      "|summary|            filename|          duration|\n",
      "+-------+--------------------+------------------+\n",
      "|  count|               16941|             16941|\n",
      "|   mean|                null| 40.88558617402471|\n",
      "| stddev|                null| 69.61028594350307|\n",
      "|    min|abethr1/XC128013.ogg|0.5480272108843537|\n",
      "|    25%|                null|12.773877551020409|\n",
      "|    50%|                null| 24.60734693877551|\n",
      "|    75%|                null| 45.87106575963719|\n",
      "|    max|yewgre1/XC753190.ogg|2373.5280272108844|\n",
      "+-------+--------------------+------------------+\n",
      "\n"
     ]
    },
    {
     "name": "stderr",
     "output_type": "stream",
     "text": [
      "                                                                                \r"
     ]
    }
   ],
   "source": [
    "df.summary().show()"
   ]
  },
  {
   "cell_type": "code",
   "execution_count": 5,
   "metadata": {},
   "outputs": [
    {
     "name": "stdout",
     "output_type": "stream",
     "text": [
      "+--------------------+------------------+\n",
      "|            filename|          duration|\n",
      "+--------------------+------------------+\n",
      "| grecor/XC629875.ogg|2373.5280272108844|\n",
      "| wlwwar/XC475384.ogg|2043.1673469387756|\n",
      "| grecor/XC627838.ogg|1896.5280272108844|\n",
      "|thrnig1/XC660166.ogg|1787.8465759637188|\n",
      "|thrnig1/XC660170.ogg|1422.9159183673469|\n",
      "|combuz1/XC579931.ogg|1391.5951020408163|\n",
      "|thrnig1/XC725851.ogg|1380.0220408163266|\n",
      "| greegr/XC558126.ogg|1255.0560090702947|\n",
      "|thrnig1/XC667666.ogg|1144.0320181405896|\n",
      "| lawgol/XC661823.ogg| 915.8160090702947|\n",
      "|thrnig1/XC372879.ogg| 906.1090249433106|\n",
      "|eubeat1/XC392195.ogg| 873.2996371882086|\n",
      "|eubeat1/XC392182.ogg| 873.2212244897959|\n",
      "|eubeat1/XC392184.ogg| 873.2212244897959|\n",
      "|eubeat1/XC392188.ogg| 873.0645351473922|\n",
      "|eubeat1/XC392183.ogg| 872.9338775510204|\n",
      "|eubeat1/XC392185.ogg| 872.8293877551021|\n",
      "|eubeat1/XC392191.ogg| 872.8293877551021|\n",
      "|eubeat1/XC392193.ogg| 872.7771882086167|\n",
      "|eubeat1/XC392192.ogg| 872.7771882086167|\n",
      "+--------------------+------------------+\n",
      "only showing top 20 rows\n",
      "\n"
     ]
    }
   ],
   "source": [
    "df.orderBy(F.desc(\"duration\")).show()"
   ]
  },
  {
   "cell_type": "code",
   "execution_count": 6,
   "metadata": {},
   "outputs": [
    {
     "name": "stdout",
     "output_type": "stream",
     "text": [
      "411\n"
     ]
    }
   ],
   "source": [
    "res = df.where(\"duration >= 60*3\")\n",
    "print(res.count())"
   ]
  },
  {
   "cell_type": "code",
   "execution_count": 7,
   "metadata": {},
   "outputs": [
    {
     "name": "stdout",
     "output_type": "stream",
     "text": [
      "Removed 684 files and 14 directories\n"
     ]
    }
   ],
   "source": [
    "from pathlib import Path\n",
    "import shutil\n",
    "\n",
    "output_path = \"../data/processed/birdclef-2023/train_embeddings\"\n",
    "\n",
    "# we need to restart from scratch...\n",
    "n_files = 0\n",
    "n_dirs = 0\n",
    "for row in res.collect():\n",
    "    stem = row.filename.replace(\".ogg\", \"\")\n",
    "    # find anything that matches the stem\n",
    "    for path in Path(output_path).glob(f\"**/{stem}*\"):\n",
    "        if path.is_file():\n",
    "            path.unlink()\n",
    "            n_files += 1\n",
    "        else:\n",
    "            shutil.rmtree(path)\n",
    "            n_dirs += 1\n",
    "print(f\"Removed {n_files} files and {n_dirs} directories\")"
   ]
  },
  {
   "cell_type": "code",
   "execution_count": 11,
   "metadata": {},
   "outputs": [
    {
     "name": "stdout",
     "output_type": "stream",
     "text": [
      "+-------+------------------+-------+\n",
      "|species|          duration|n_files|\n",
      "+-------+------------------+-------+\n",
      "|refwar2|304.09233560090706|      9|\n",
      "|refbar2| 305.0696598639456|     12|\n",
      "|bltapa1| 313.6170975056689|     11|\n",
      "|blwlap1|320.21691609977324|     15|\n",
      "|malkin1| 324.5280725623584|     15|\n",
      "|brcale1|325.31981859410433|     10|\n",
      "|whbcan1|333.95074829931974|     10|\n",
      "|macshr1| 334.3459410430839|      6|\n",
      "|brrwhe3| 336.1178684807257|      8|\n",
      "|easmog1| 343.5940589569161|     15|\n",
      "|spfbar1| 347.6136507936508|     13|\n",
      "|mcptit1|350.91909297052155|      8|\n",
      "|yespet1| 360.6465306122449|     15|\n",
      "|palfly2| 364.1446258503401|     14|\n",
      "|whbwea1| 366.0772335600907|     19|\n",
      "|huncis1| 366.7497505668935|     16|\n",
      "|yebduc1| 371.2188662131519|     17|\n",
      "|blhher1|386.93877551020404|     16|\n",
      "|hipbab1| 395.6754648526078|      8|\n",
      "|whihel1| 399.2384126984127|     14|\n",
      "+-------+------------------+-------+\n",
      "only showing top 20 rows\n",
      "\n"
     ]
    }
   ],
   "source": [
    "df.withColumn(\"species\", F.split(\"filename\", \"/\").getItem(0)).groupBy(\"species\").agg(\n",
    "    F.sum(\"duration\").alias(\"duration\"),\n",
    "    F.count(\"*\").alias(\"n_files\"),\n",
    ").orderBy(F.asc(\"duration\")).where(\"duration > 3*100\").show()"
   ]
  }
 ],
 "metadata": {
  "kernelspec": {
   "display_name": "venv",
   "language": "python",
   "name": "python3"
  },
  "language_info": {
   "codemirror_mode": {
    "name": "ipython",
    "version": 3
   },
   "file_extension": ".py",
   "mimetype": "text/x-python",
   "name": "python",
   "nbconvert_exporter": "python",
   "pygments_lexer": "ipython3",
   "version": "3.10.6"
  },
  "orig_nbformat": 4
 },
 "nbformat": 4,
 "nbformat_minor": 2
}
