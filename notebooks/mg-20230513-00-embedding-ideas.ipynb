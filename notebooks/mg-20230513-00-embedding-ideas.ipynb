{
 "cells": [
  {
   "cell_type": "code",
   "execution_count": 1,
   "metadata": {},
   "outputs": [],
   "source": [
    "%load_ext autoreload\n",
    "%autoreload 2\n",
    "%load_ext lab_black"
   ]
  },
  {
   "attachments": {},
   "cell_type": "markdown",
   "metadata": {},
   "source": [
    "# embedding ideas\n",
    "\n",
    "This notebook has some code to get started, and some ideas on how to achieve the following goals:\n",
    "\n",
    "- Building a KNN classifer\n",
    "- Annotating each track\n",
    "\n",
    "## setup\n",
    "\n",
    "### downloading the dataset\n",
    "\n",
    "Make sure that you have the dataset downloaded locally.\n",
    "At the root of the project, run this command:\n",
    "\n",
    "```bash\n",
    "gsutil -m rsync \\\n",
    "    gs://birdclef-2023/data/processed/birdclef-2023/train_embeddings/consolidated_v3_pre1/ \\\n",
    "    data/processed/birdclef-2023/train_embeddings/consolidated_v3_pre1/ \n",
    "```\n",
    "\n",
    "### using spark"
   ]
  },
  {
   "cell_type": "code",
   "execution_count": 2,
   "metadata": {},
   "outputs": [
    {
     "name": "stderr",
     "output_type": "stream",
     "text": [
      "Setting default log level to \"WARN\".\n",
      "To adjust logging level use sc.setLogLevel(newLevel). For SparkR, use setLogLevel(newLevel).\n"
     ]
    },
    {
     "name": "stdout",
     "output_type": "stream",
     "text": [
      "23/05/13 18:45:38 WARN NativeCodeLoader: Unable to load native-hadoop library for your platform... using builtin-java classes where applicable\n"
     ]
    }
   ],
   "source": [
    "from birdclef.utils import get_spark\n",
    "from pyspark.sql import functions as F\n",
    "\n",
    "# modify cores and memory as needed\n",
    "spark = get_spark(cores=8, memory=\"16g\")"
   ]
  },
  {
   "cell_type": "code",
   "execution_count": 6,
   "metadata": {},
   "outputs": [
    {
     "name": "stdout",
     "output_type": "stream",
     "text": [
      "/home/mgustine/birdclef-2023/notebooks\n"
     ]
    }
   ],
   "source": [
    "import os\n",
    "\n",
    "print(os.getcwd())"
   ]
  },
  {
   "cell_type": "code",
   "execution_count": 7,
   "metadata": {},
   "outputs": [
    {
     "name": "stderr",
     "output_type": "stream",
     "text": [
      "                                                                                \r"
     ]
    },
    {
     "name": "stdout",
     "output_type": "stream",
     "text": [
      "root\n",
      " |-- species: string (nullable = true)\n",
      " |-- track_stem: string (nullable = true)\n",
      " |-- track_type: string (nullable = true)\n",
      " |-- track_name: string (nullable = true)\n",
      " |-- embedding: array (nullable = true)\n",
      " |    |-- element: double (containsNull = true)\n",
      " |-- prediction_vec: array (nullable = true)\n",
      " |    |-- element: double (containsNull = true)\n",
      " |-- predictions: array (nullable = true)\n",
      " |    |-- element: struct (containsNull = true)\n",
      " |    |    |-- rank: long (nullable = true)\n",
      " |    |    |-- index: long (nullable = true)\n",
      " |    |    |-- label: string (nullable = true)\n",
      " |    |    |-- mapped_label: string (nullable = true)\n",
      " |    |    |-- probability: double (nullable = true)\n",
      " |-- start_time: long (nullable = true)\n",
      " |-- energy: double (nullable = true)\n",
      "\n"
     ]
    },
    {
     "name": "stderr",
     "output_type": "stream",
     "text": [
      "                                                                                \r"
     ]
    },
    {
     "data": {
      "text/plain": [
       "1198860"
      ]
     },
     "execution_count": 7,
     "metadata": {},
     "output_type": "execute_result"
    }
   ],
   "source": [
    "path = \"../data/processed/birdclef-2023/train_embeddings/consolidated_v3/\"\n",
    "df = spark.read.parquet(path)\n",
    "df.printSchema()\n",
    "df.count()"
   ]
  },
  {
   "cell_type": "code",
   "execution_count": 9,
   "metadata": {},
   "outputs": [
    {
     "name": "stdout",
     "output_type": "stream",
     "text": [
      "-RECORD 0------------------------------------------------------------------------------------------\n",
      " species        | wlwwar                                                                           \n",
      " track_stem     | XC475384_part003                                                                 \n",
      " track_type     | original                                                                         \n",
      " track_name     | wlwwar/XC475384_part003.mp3                                                      \n",
      " embedding      | [0.6336879134178162, 0.699510395526886, 0.43676260113716125, 1.18983256816864... \n",
      " prediction_vec | [-10.213504791259766, -9.510478973388672, -12.938481330871582, -9.79550075531... \n",
      " predictions    | [{0, 2005, Nucifraga caryocatactes_Eurasian Nutcracker, eurnut1, 0.0690114870... \n",
      " start_time     | 18                                                                               \n",
      " energy         | 1.2206932306289673                                                               \n",
      "-RECORD 1------------------------------------------------------------------------------------------\n",
      " species        | grecor                                                                           \n",
      " track_stem     | XC629875_part015                                                                 \n",
      " track_type     | source1                                                                          \n",
      " track_name     | grecor/XC629875_part015_source1.mp3                                              \n",
      " embedding      | [0.4763871431350708, 0.8781195282936096, 0.6997694969177246, 0.97224330902099... \n",
      " prediction_vec | [-8.629256248474121, -8.008709907531738, -10.350841522216797, -11.35367202758... \n",
      " predictions    | [{0, 291, Atlanticus testaceus_Protean Shieldback, t-11844441, 0.010979887098... \n",
      " start_time     | 60                                                                               \n",
      " energy         | 0.02938658744096756                                                              \n",
      "-RECORD 2------------------------------------------------------------------------------------------\n",
      " species        | grecor                                                                           \n",
      " track_stem     | XC629875_part006                                                                 \n",
      " track_type     | source3                                                                          \n",
      " track_name     | grecor/XC629875_part006_source3.mp3                                              \n",
      " embedding      | [1.277891755104065, 2.446718454360962, 0.7948735356330872, 0.8446668982505798... \n",
      " prediction_vec | [-13.74133586883545, -14.372939109802246, -13.05613899230957, -10.80665588378... \n",
      " predictions    | [{0, 1079, Egretta tricolor_Tricolored Heron, triher, 0.5416293740272522}, {1... \n",
      " start_time     | 87                                                                               \n",
      " energy         | 1.1638777256011963                                                               \n",
      "-RECORD 3------------------------------------------------------------------------------------------\n",
      " species        | wlwwar                                                                           \n",
      " track_stem     | XC475384_part000                                                                 \n",
      " track_type     | source0                                                                          \n",
      " track_name     | wlwwar/XC475384_part000_source0.mp3                                              \n",
      " embedding      | [1.042157530784607, 0.980938732624054, 0.26936259865760803, 2.047674894332885... \n",
      " prediction_vec | [-14.561668395996094, -15.171517372131348, -13.448974609375, -12.831357002258... \n",
      " predictions    | [{0, 2343, Phylloscopus trochilus_Willow Warbler, wlwwar, 0.9938302636146545}... \n",
      " start_time     | 51                                                                               \n",
      " energy         | 14.041417121887207                                                               \n",
      "-RECORD 4------------------------------------------------------------------------------------------\n",
      " species        | grecor                                                                           \n",
      " track_stem     | XC629875_part004                                                                 \n",
      " track_type     | source3                                                                          \n",
      " track_name     | grecor/XC629875_part004_source3.mp3                                              \n",
      " embedding      | [1.4064692258834839, 1.3224740028381348, 0.6532403230667114, 0.08462373167276... \n",
      " prediction_vec | [-15.395846366882324, -13.203960418701172, -11.997428894042969, -14.028895378... \n",
      " predictions    | [{0, 824, Corvus monedula_Eurasian Jackdaw, eurjac, 0.798206627368927}, {1, 2... \n",
      " start_time     | 15                                                                               \n",
      " energy         | 10.609950065612793                                                               \n",
      "only showing top 5 rows\n",
      "\n"
     ]
    }
   ],
   "source": [
    "df.show(5, vertical=True, truncate=80)"
   ]
  },
  {
   "cell_type": "code",
   "execution_count": 14,
   "metadata": {},
   "outputs": [
    {
     "name": "stderr",
     "output_type": "stream",
     "text": [
      "[Stage 27:>                                                         (0 + 1) / 1]\r"
     ]
    },
    {
     "name": "stdout",
     "output_type": "stream",
     "text": [
      "+-------+----------------+----------+--------------------+--------------------+--------------------+--------------------+----------+--------------------+\n",
      "|species|      track_stem|track_type|          track_name|           embedding|      prediction_vec|         predictions|start_time|              energy|\n",
      "+-------+----------------+----------+--------------------+--------------------+--------------------+--------------------+----------+--------------------+\n",
      "| wlwwar|XC475384_part003|  original|wlwwar/XC475384_p...|[0.63368791341781...|[-10.213504791259...|[{0, 2005, Nucifr...|        18|  1.2206932306289673|\n",
      "| grecor|XC629875_part015|   source1|grecor/XC629875_p...|[0.47638714313507...|[-8.6292562484741...|[{0, 291, Atlanti...|        60| 0.02938658744096756|\n",
      "| grecor|XC629875_part006|   source3|grecor/XC629875_p...|[1.27789175510406...|[-13.741335868835...|[{0, 1079, Egrett...|        87|  1.1638777256011963|\n",
      "| wlwwar|XC475384_part000|   source0|wlwwar/XC475384_p...|[1.04215753078460...|[-14.561668395996...|[{0, 2343, Phyllo...|        51|  14.041417121887207|\n",
      "| grecor|XC629875_part004|   source3|grecor/XC629875_p...|[1.40646922588348...|[-15.395846366882...|[{0, 824, Corvus ...|        15|  10.609950065612793|\n",
      "| grecor|XC629875_part013|   source0|grecor/XC629875_p...|[1.52420341968536...|[-12.121448516845...|[{0, 218, Aplonis...|        96| 0.15435950458049774|\n",
      "| grecor|XC629875_part009|   source3|grecor/XC629875_p...|[1.47978460788726...|[-13.287464141845...|[{0, 2352, Pica p...|        60|   3.351954698562622|\n",
      "| wlwwar|XC475384_part003|   source2|wlwwar/XC475384_p...|[0.92958122491836...|[-11.373017311096...|[{0, 980, Dendroc...|        66|  1.0065091848373413|\n",
      "| wlwwar|XC475384_part007|   source1|wlwwar/XC475384_p...|[0.46993312239646...|[-7.6409249305725...|[{0, 1437, Hippol...|        21|0.016603998839855194|\n",
      "| grecor|XC629875_part012|   source0|grecor/XC629875_p...|[1.10040688514709...|[-14.156658172607...|[{0, 2935, Sturnu...|       117|  1.4235236644744873|\n",
      "| wlwwar|XC475384_part000|  original|wlwwar/XC475384_p...|[1.20464932918548...|[-10.123322486877...|[{0, 2356, Picoid...|         9|  1.9960569143295288|\n",
      "| grecor|XC629875_part015|   source3|grecor/XC629875_p...|[1.52604115009307...|[-15.098612785339...|[{0, 824, Corvus ...|        21|  13.791864395141602|\n",
      "| grecor|XC629875_part010|   source2|grecor/XC629875_p...|[1.09770095348358...|[-10.553102493286...|[{0, 2077, Oriolu...|        84|   4.027913570404053|\n",
      "| grecor|XC629875_part007|   source3|grecor/XC629875_p...|[1.03657412528991...|[-17.432664871215...|[{0, 163, Anser a...|        51|     65.850830078125|\n",
      "| grecor|XC629875_part015|   source3|grecor/XC629875_p...|[1.10262870788574...|[-11.859588623046...|[{0, 2352, Pica p...|        78| 0.03858273848891258|\n",
      "| wlwwar|XC475384_part002|   source0|wlwwar/XC475384_p...|[0.85798233747482...|[-15.649844169616...|[{0, 2343, Phyllo...|       108|  12.837133407592773|\n",
      "| wlwwar|XC475384_part000|   source3|wlwwar/XC475384_p...|[1.07169687747955...|[-7.3436188697814...|[{0, 1151, Erporn...|        48|0.003633054438978...|\n",
      "| grecor|XC629875_part007|   source2|grecor/XC629875_p...|[0.49804612994194...|[-10.932131767272...|[{0, 1022, Dog_Do...|        93|  1.9762864112854004|\n",
      "| grecor|XC629875_part011|   source3|grecor/XC629875_p...|[1.24460518360137...|[-13.444816589355...|[{0, 801, Coracia...|       147|    6.52481746673584|\n",
      "| wlwwar|XC475384_part004|   source1|wlwwar/XC475384_p...|[0.66851824522018...|[-8.4985179901123...|[{0, 2364, Picus ...|        27|0.015501908957958221|\n",
      "+-------+----------------+----------+--------------------+--------------------+--------------------+--------------------+----------+--------------------+\n",
      "only showing top 20 rows\n",
      "\n"
     ]
    },
    {
     "name": "stderr",
     "output_type": "stream",
     "text": [
      "                                                                                \r"
     ]
    }
   ],
   "source": [
    "df.show()"
   ]
  },
  {
   "cell_type": "code",
   "execution_count": 10,
   "metadata": {},
   "outputs": [
    {
     "name": "stderr",
     "output_type": "stream",
     "text": [
      "[Stage 6:=====================================================> (190 + 4) / 195]\r"
     ]
    },
    {
     "name": "stdout",
     "output_type": "stream",
     "text": [
      "+-------+------+\n",
      "|species| count|\n",
      "+-------+------+\n",
      "|thrnig1|104440|\n",
      "| wlwwar| 57260|\n",
      "|eubeat1| 52810|\n",
      "| hoopoe| 42995|\n",
      "|combuz1| 42650|\n",
      "|cohmar1| 35210|\n",
      "| barswa| 33355|\n",
      "|eaywag1| 29165|\n",
      "| comsan| 27180|\n",
      "|combul2| 24855|\n",
      "| woosan| 23710|\n",
      "|rbsrob1| 19910|\n",
      "|blakit1| 19880|\n",
      "| litegr| 16710|\n",
      "| grecor| 16030|\n",
      "|somgre1| 15280|\n",
      "|gnbcam2| 13945|\n",
      "|rerswa1| 13660|\n",
      "|colsun2| 12545|\n",
      "|carcha1| 12440|\n",
      "+-------+------+\n",
      "only showing top 20 rows\n",
      "\n"
     ]
    },
    {
     "name": "stderr",
     "output_type": "stream",
     "text": [
      "                                                                                \r"
     ]
    }
   ],
   "source": [
    "df.groupBy(\"species\").count().orderBy(F.desc(\"count\")).show(20)"
   ]
  },
  {
   "cell_type": "code",
   "execution_count": 11,
   "metadata": {},
   "outputs": [
    {
     "name": "stderr",
     "output_type": "stream",
     "text": [
      "                                                                                \r"
     ]
    },
    {
     "data": {
      "text/plain": [
       "63500"
      ]
     },
     "execution_count": 11,
     "metadata": {},
     "output_type": "execute_result"
    }
   ],
   "source": [
    "# use a sample of tracks that will make things easier to work with\n",
    "\n",
    "sample = df.where(\"species in ('woosan', 'blakit1', 'rbsrob1')\").cache()\n",
    "sample.count()"
   ]
  },
  {
   "attachments": {},
   "cell_type": "markdown",
   "metadata": {},
   "source": [
    "## plot of embeddings of high confidence prediction"
   ]
  },
  {
   "cell_type": "code",
   "execution_count": 12,
   "metadata": {},
   "outputs": [
    {
     "name": "stderr",
     "output_type": "stream",
     "text": [
      "[Stage 14:>                                                         (0 + 2) / 2]\r"
     ]
    },
    {
     "name": "stdout",
     "output_type": "stream",
     "text": [
      "+-------+----------------+----------+\n",
      "|species|      track_stem|track_type|\n",
      "+-------+----------------+----------+\n",
      "| woosan|        XC146456|   source2|\n",
      "|blakit1|        XC572730|   source0|\n",
      "|rbsrob1|        XC363495|   source1|\n",
      "|blakit1|XC511559_part000|   source3|\n",
      "| woosan|        XC647846|   source3|\n",
      "|rbsrob1|        XC756771|   source0|\n",
      "| woosan|        XC587077|   source0|\n",
      "|blakit1|        XC138441|   source3|\n",
      "| woosan|        XC500452|   source0|\n",
      "| woosan|        XC747301|   source2|\n",
      "|blakit1|        XC292781|   source0|\n",
      "|blakit1|        XC485012|   source0|\n",
      "|rbsrob1|        XC523609|   source3|\n",
      "| woosan|        XC381829|   source0|\n",
      "| woosan|        XC184898|   source0|\n",
      "|blakit1|        XC418986|   source0|\n",
      "|rbsrob1|        XC467151|   source0|\n",
      "|rbsrob1|        XC547963|   source0|\n",
      "| woosan|        XC575862|   source2|\n",
      "| woosan|        XC747318|   source2|\n",
      "+-------+----------------+----------+\n",
      "only showing top 20 rows\n",
      "\n"
     ]
    },
    {
     "name": "stderr",
     "output_type": "stream",
     "text": [
      "                                                                                \r"
     ]
    }
   ],
   "source": [
    "from pyspark.sql import Window, functions as F\n",
    "\n",
    "# keep the track_type for each\n",
    "highest_energy_channel = (\n",
    "    sample\n",
    "    # get the track stem without the part\n",
    "    .withColumn(\"original_track_stem\", F.split(F.col(\"track_stem\"), \"_\").getItem(0))\n",
    "    .where(\"track_type != 'original'\")\n",
    "    # get the track type that has the most energy\n",
    "    .withColumn(\n",
    "        \"rank\",\n",
    "        F.rank().over(\n",
    "            Window.partitionBy(\"original_track_stem\").orderBy(F.desc(\"energy\"))\n",
    "        ),\n",
    "    )\n",
    "    # keep the first row\n",
    "    .where(F.col(\"rank\") == 1)\n",
    "    # drop the rank column\n",
    "    .select(\"species\", \"track_stem\", \"track_type\")\n",
    "    .distinct()\n",
    ")\n",
    "\n",
    "highest_energy_channel.show()"
   ]
  },
  {
   "cell_type": "code",
   "execution_count": 13,
   "metadata": {},
   "outputs": [
    {
     "name": "stderr",
     "output_type": "stream",
     "text": [
      "                                                                                \r"
     ]
    },
    {
     "name": "stdout",
     "output_type": "stream",
     "text": [
      "+-------+----------------+----------+----------+--------------------+----+-----+--------------------+------------+------------------+\n",
      "|species|      track_stem|track_type|start_time|          track_name|rank|index|               label|mapped_label|       probability|\n",
      "+-------+----------------+----------+----------+--------------------+----+-----+--------------------+------------+------------------+\n",
      "|blakit1|        XC511558|   source0|       126|blakit1/XC511558_...|   0| 1817|Milvus migrans_Bl...|     blakit1|0.6752714514732361|\n",
      "|rbsrob1|        XC665538|   source3|        81|rbsrob1/XC665538_...|   0|  592|Chalcomitra seneg...|     sccsun2|0.9221712350845337|\n",
      "| woosan|XC664809_part001|   source0|        30|woosan/XC664809_p...|   0| 3121|Tringa glareola_W...|      woosan|0.9884689450263977|\n",
      "| woosan|XC664809_part001|   source0|        81|woosan/XC664809_p...|   0| 3121|Tringa glareola_W...|      woosan| 0.816118061542511|\n",
      "|blakit1|XC542603_part000|   source1|        33|blakit1/XC542603_...|   0| 3241|Urosphena squamei...|     asistu1|0.9218317270278931|\n",
      "| woosan|        XC578599|   source0|        57|woosan/XC578599_s...|   0| 3121|Tringa glareola_W...|      woosan|0.9442085027694702|\n",
      "| woosan|        XC190517|   source2|        30|woosan/XC190517_s...|   0|  450|Calidris pugnax_Ruff|        ruff|0.6541837453842163|\n",
      "|rbsrob1|        XC647969|   source0|        30|rbsrob1/XC647969_...|   0|  575|Cercotrichas leuc...|     rbsrob1|0.9221624135971069|\n",
      "| woosan|        XC647846|   source3|        21|woosan/XC647846_s...|   0| 2892|Stercorarius long...|      lotjae|0.5616514682769775|\n",
      "|rbsrob1|        XC470344|   source0|        48|rbsrob1/XC470344_...|   0|  575|Cercotrichas leuc...|     rbsrob1|0.9900434017181396|\n",
      "| woosan|        XC509675|   source3|        87|woosan/XC509675_s...|   0| 3121|Tringa glareola_W...|      woosan|0.9225179553031921|\n",
      "| woosan|         XC64713|   source3|         9|woosan/XC64713_so...|   0| 3121|Tringa glareola_W...|      woosan|0.9042179584503174|\n",
      "|rbsrob1|        XC307279|   source0|        33|rbsrob1/XC307279_...|   0|  575|Cercotrichas leuc...|     rbsrob1|0.9912893772125244|\n",
      "|rbsrob1|        XC307279|   source0|        39|rbsrob1/XC307279_...|   0|  575|Cercotrichas leuc...|     rbsrob1|0.8758447170257568|\n",
      "| woosan|        XC668879|   source0|        27|woosan/XC668879_s...|   0| 3121|Tringa glareola_W...|      woosan|0.7186775207519531|\n",
      "|rbsrob1|        XC645932|   source0|         9|rbsrob1/XC645932_...|   0|  575|Cercotrichas leuc...|     rbsrob1|0.5052623748779297|\n",
      "| woosan|        XC382143|   source0|        30|woosan/XC382143_s...|   0| 3121|Tringa glareola_W...|      woosan|0.9987733960151672|\n",
      "|rbsrob1|        XC667026|   source3|         3|rbsrob1/XC667026_...|   0|  575|Cercotrichas leuc...|     rbsrob1|0.9748334884643555|\n",
      "|rbsrob1|        XC212555|   source3|        36|rbsrob1/XC212555_...|   0|  592|Chalcomitra seneg...|     sccsun2|0.8372339010238647|\n",
      "|rbsrob1|        XC636130|   source0|         9|rbsrob1/XC636130_...|   0|  575|Cercotrichas leuc...|     rbsrob1|0.8397167325019836|\n",
      "+-------+----------------+----------+----------+--------------------+----+-----+--------------------+------------+------------------+\n",
      "only showing top 20 rows\n",
      "\n"
     ]
    }
   ],
   "source": [
    "# get the highest predictions by exploding the values\n",
    "\n",
    "exploded_embeddings = (\n",
    "    sample\n",
    "    # join against the highest energy channel\n",
    "    .join(\n",
    "        highest_energy_channel,\n",
    "        on=[\"species\", \"track_stem\", \"track_type\"],\n",
    "        how=\"inner\",\n",
    "    )\n",
    "    # explode the embeddings, these are ordered by confidence\n",
    "    .withColumn(\"predictions\", F.explode(\"predictions\")).select(\n",
    "        \"species\",\n",
    "        \"track_stem\",\n",
    "        \"track_type\",\n",
    "        \"start_time\",\n",
    "        \"track_name\",\n",
    "        \"embedding\",\n",
    "        \"predictions.*\",\n",
    "    )\n",
    "    # simplifying assumption: we assume the prediction with the highest confidence is the true label\n",
    "    .where(\"rank = 0 and probability > 0.5\")\n",
    ")\n",
    "\n",
    "exploded_embeddings.drop(\"embedding\").show()"
   ]
  },
  {
   "cell_type": "code",
   "execution_count": 15,
   "metadata": {},
   "outputs": [
    {
     "name": "stderr",
     "output_type": "stream",
     "text": [
      "                                                                                \r"
     ]
    },
    {
     "data": {
      "text/plain": [
       "5.722834645669291"
      ]
     },
     "execution_count": 15,
     "metadata": {},
     "output_type": "execute_result"
    }
   ],
   "source": [
    "# percentage of clips that have a prediction of any kind\n",
    "positive = exploded_embeddings.count()\n",
    "total = sample.count()\n",
    "positive / total * 100"
   ]
  },
  {
   "cell_type": "code",
   "execution_count": 16,
   "metadata": {},
   "outputs": [
    {
     "name": "stderr",
     "output_type": "stream",
     "text": [
      "                                                                                \r"
     ]
    }
   ],
   "source": [
    "predictions = exploded_embeddings.select(\n",
    "    \"species\", \"probability\", \"embedding\"\n",
    ").toPandas()"
   ]
  },
  {
   "cell_type": "code",
   "execution_count": 17,
   "metadata": {},
   "outputs": [
    {
     "name": "stderr",
     "output_type": "stream",
     "text": [
      "/home/mgustine/venv/lib/python3.10/site-packages/tqdm/auto.py:22: TqdmWarning: IProgress not found. Please update jupyter and ipywidgets. See https://ipywidgets.readthedocs.io/en/stable/user_install.html\n",
      "  from .autonotebook import tqdm as notebook_tqdm\n",
      "2023-05-13 19:06:36.976695: I tensorflow/core/platform/cpu_feature_guard.cc:193] This TensorFlow binary is optimized with oneAPI Deep Neural Network Library (oneDNN) to use the following CPU instructions in performance-critical operations:  AVX2 AVX512F AVX512_VNNI FMA\n",
      "To enable them in other operations, rebuild TensorFlow with the appropriate compiler flags.\n",
      "2023-05-13 19:06:40.699079: I tensorflow/core/util/port.cc:104] oneDNN custom operations are on. You may see slightly different numerical results due to floating-point round-off errors from different computation orders. To turn them off, set the environment variable `TF_ENABLE_ONEDNN_OPTS=0`.\n",
      "2023-05-13 19:06:53.095457: W tensorflow/compiler/xla/stream_executor/platform/default/dso_loader.cc:64] Could not load dynamic library 'libnvinfer.so.7'; dlerror: libnvinfer.so.7: cannot open shared object file: No such file or directory\n",
      "2023-05-13 19:06:53.098324: W tensorflow/compiler/xla/stream_executor/platform/default/dso_loader.cc:64] Could not load dynamic library 'libnvinfer_plugin.so.7'; dlerror: libnvinfer_plugin.so.7: cannot open shared object file: No such file or directory\n",
      "2023-05-13 19:06:53.098354: W tensorflow/compiler/tf2tensorrt/utils/py_utils.cc:38] TF-TRT Warning: Cannot dlopen some TensorRT libraries. If you would like to use Nvidia GPU with TensorRT, please make sure the missing libraries mentioned above are installed properly.\n"
     ]
    }
   ],
   "source": [
    "import numpy as np\n",
    "import matplotlib.pyplot as plt\n",
    "from umap import UMAP\n",
    "from sklearn.preprocessing import LabelEncoder\n",
    "\n",
    "# get the embeddings\n",
    "X = np.stack(predictions.embedding.values)\n",
    "\n",
    "# get the species\n",
    "species = predictions.species.values\n",
    "le = LabelEncoder()\n",
    "y = le.fit_transform(species)\n",
    "\n",
    "# fit the umap model\n",
    "umap = UMAP(n_components=2)\n",
    "X_umap = umap.fit_transform(X)"
   ]
  },
  {
   "cell_type": "code",
   "execution_count": 18,
   "metadata": {},
   "outputs": [
    {
     "data": {
      "image/png": "[encoded data removed]",
      "text/plain": [
       "<Figure size 640x480 with 1 Axes>"
      ]
     },
     "metadata": {},
     "output_type": "display_data"
    }
   ],
   "source": [
    "# plot the results\n",
    "plt.scatter(X_umap[:, 0], X_umap[:, 1], c=y, s=10, alpha=0.1)\n",
    "# add dummy plot with label for each species\n",
    "for i, species in enumerate(le.classes_):\n",
    "    plt.scatter([], [], label=species)\n",
    "plt.legend()\n",
    "plt.title(\"UMAP of blakit1, rbsrob, and woosan\")\n",
    "plt.show()"
   ]
  },
  {
   "attachments": {},
   "cell_type": "markdown",
   "metadata": {},
   "source": [
    "If we wanted to find the most representative points of each of these species, we could compute the K-means of each species.\n",
    "We would also want to take care to find all of the points are noisy (human voices, machines, dogs, footsteps, environmental, etc) and create a separate no-call class for them."
   ]
  },
  {
   "attachments": {},
   "cell_type": "markdown",
   "metadata": {},
   "source": [
    "## labels from prediction logits\n",
    "\n",
    "Instead of using the predictions struct, we can derive probabilities from the raw prediction logits.\n",
    "This could be useful if we're looking to analyze a specific class across all the tracks."
   ]
  },
  {
   "cell_type": "code",
   "execution_count": 21,
   "metadata": {},
   "outputs": [
    {
     "data": {
      "text/plain": [
       "[('Abroscopus albogularis_Rufous-faced Warbler', 'rufwar1'),\n",
       " ('Abroscopus superciliaris_Yellow-bellied Warbler', 'yebwar1'),\n",
       " ('Aburria aburri_Wattled Guan', 'watgua1'),\n",
       " ('Acanthagenys rufogularis_Spiny-cheeked Honeyeater', 'spchon1'),\n",
       " ('Acanthis cabaret_Lesser Redpoll', 'lesred1'),\n",
       " ('Acanthis flammea_Common Redpoll', 'comred'),\n",
       " ('Acanthis hornemanni_Hoary Redpoll', 'hoared'),\n",
       " ('Acanthiza chrysorrhoa_Yellow-rumped Thornbill', 'yertho1'),\n",
       " ('Acanthiza ewingii_Tasmanian Thornbill', 'tastho1'),\n",
       " ('Acanthiza pusilla_Brown Thornbill', 'brotho1'),\n",
       " ('Acanthiza reguloides_Buff-rumped Thornbill', 'burtho1'),\n",
       " ('Acanthorhynchus tenuirostris_Eastern Spinebill', 'easspi1'),\n",
       " ('Accipiter badius_Shikra', 'shikra1'),\n",
       " ('Accipiter bicolor_Bicolored Hawk', 'bichaw1'),\n",
       " (\"Accipiter cooperii_Cooper's Hawk\", 'coohaw'),\n",
       " ('Accipiter fasciatus_Brown Goshawk', 'brogos1'),\n",
       " ('Accipiter gentilis_Northern Goshawk', 'norgos'),\n",
       " ('Accipiter nisus_Eurasian Sparrowhawk', 'eurspa1'),\n",
       " ('Accipiter striatus_Sharp-shinned Hawk', 'shshaw'),\n",
       " ('Accipiter tachiro_African Goshawk', 'afrgos1')]"
      ]
     },
     "execution_count": 21,
     "metadata": {},
     "output_type": "execute_result"
    }
   ],
   "source": [
    "from birdclef import birdnet\n",
    "\n",
    "# labels = birdnet.load_labels(\"../vendor/BirdNET-Analyzer\")\n",
    "# mapped_labels = birdnet.load_mapped_labels(\"../vendor/BirdNET-Analyzer\")\n",
    "\n",
    "labels = birdnet.load_labels(\"../data/models/birdnet-analyzer-pruned\")\n",
    "mapped_labels = birdnet.load_mapped_labels(\"../data/models/birdnet-analyzer-pruned\")\n",
    "list(zip(labels, mapped_labels))[:20]"
   ]
  },
  {
   "cell_type": "code",
   "execution_count": 22,
   "metadata": {},
   "outputs": [
    {
     "data": {
      "text/plain": [
       "[(1449, 'Human non-vocal_Human non-vocal'),\n",
       " (1450, 'Human vocal_Human vocal'),\n",
       " (1451, 'Human whistle_Human whistle')]"
      ]
     },
     "execution_count": 22,
     "metadata": {},
     "output_type": "execute_result"
    }
   ],
   "source": [
    "# label with human voice\n",
    "[(i, x) for i, x in enumerate(labels) if \"human\" in x.lower()]"
   ]
  },
  {
   "cell_type": "code",
   "execution_count": 23,
   "metadata": {},
   "outputs": [
    {
     "name": "stderr",
     "output_type": "stream",
     "text": [
      "[Stage 52:>                                                         (0 + 1) / 1]\r"
     ]
    },
    {
     "name": "stdout",
     "output_type": "stream",
     "text": [
      "+-----+--------------------+------------+\n",
      "|index|               label|mapped_label|\n",
      "+-----+--------------------+------------+\n",
      "|    0|Abroscopus albogu...|     rufwar1|\n",
      "|    1|Abroscopus superc...|     yebwar1|\n",
      "|    2|Aburria aburri_Wa...|     watgua1|\n",
      "|    3|Acanthagenys rufo...|     spchon1|\n",
      "|    4|Acanthis cabaret_...|     lesred1|\n",
      "+-----+--------------------+------------+\n",
      "only showing top 5 rows\n",
      "\n"
     ]
    },
    {
     "name": "stderr",
     "output_type": "stream",
     "text": [
      "                                                                                \r"
     ]
    }
   ],
   "source": [
    "label_df = spark.createDataFrame(\n",
    "    [\n",
    "        {\n",
    "            \"label\": label,\n",
    "            \"mapped_label\": mapped_label,\n",
    "            \"index\": i,\n",
    "        }\n",
    "        for i, (label, mapped_label) in enumerate(zip(labels, mapped_labels))\n",
    "    ]\n",
    ")\n",
    "label_df.show(n=5)"
   ]
  },
  {
   "cell_type": "code",
   "execution_count": 24,
   "metadata": {},
   "outputs": [
    {
     "name": "stderr",
     "output_type": "stream",
     "text": [
      "                                                                                \r"
     ]
    },
    {
     "data": {
      "text/html": [
       "<div>\n",
       "<style scoped>\n",
       "    .dataframe tbody tr th:only-of-type {\n",
       "        vertical-align: middle;\n",
       "    }\n",
       "\n",
       "    .dataframe tbody tr th {\n",
       "        vertical-align: top;\n",
       "    }\n",
       "\n",
       "    .dataframe thead th {\n",
       "        text-align: right;\n",
       "    }\n",
       "</style>\n",
       "<table border=\"1\" class=\"dataframe\">\n",
       "  <thead>\n",
       "    <tr style=\"text-align: right;\">\n",
       "      <th></th>\n",
       "      <th>index</th>\n",
       "      <th>species</th>\n",
       "      <th>track_name</th>\n",
       "      <th>start_time</th>\n",
       "      <th>logit</th>\n",
       "      <th>label</th>\n",
       "      <th>mapped_label</th>\n",
       "      <th>probability</th>\n",
       "    </tr>\n",
       "  </thead>\n",
       "  <tbody>\n",
       "    <tr>\n",
       "      <th>0</th>\n",
       "      <td>1450</td>\n",
       "      <td>blakit1</td>\n",
       "      <td>blakit1/XC740481_part000_source2.mp3</td>\n",
       "      <td>60</td>\n",
       "      <td>-9.323709</td>\n",
       "      <td>Human vocal_Human vocal</td>\n",
       "      <td>humvoc</td>\n",
       "      <td>0.000089</td>\n",
       "    </tr>\n",
       "    <tr>\n",
       "      <th>1</th>\n",
       "      <td>1450</td>\n",
       "      <td>blakit1</td>\n",
       "      <td>blakit1/XC740481_part002_source2.mp3</td>\n",
       "      <td>105</td>\n",
       "      <td>-8.242433</td>\n",
       "      <td>Human vocal_Human vocal</td>\n",
       "      <td>humvoc</td>\n",
       "      <td>0.000263</td>\n",
       "    </tr>\n",
       "    <tr>\n",
       "      <th>2</th>\n",
       "      <td>1450</td>\n",
       "      <td>blakit1</td>\n",
       "      <td>blakit1/XC740481_part003_source0.mp3</td>\n",
       "      <td>30</td>\n",
       "      <td>-10.041925</td>\n",
       "      <td>Human vocal_Human vocal</td>\n",
       "      <td>humvoc</td>\n",
       "      <td>0.000044</td>\n",
       "    </tr>\n",
       "    <tr>\n",
       "      <th>3</th>\n",
       "      <td>1450</td>\n",
       "      <td>blakit1</td>\n",
       "      <td>blakit1/XC740481_part003_source3.mp3</td>\n",
       "      <td>57</td>\n",
       "      <td>-9.478200</td>\n",
       "      <td>Human vocal_Human vocal</td>\n",
       "      <td>humvoc</td>\n",
       "      <td>0.000076</td>\n",
       "    </tr>\n",
       "    <tr>\n",
       "      <th>4</th>\n",
       "      <td>1450</td>\n",
       "      <td>blakit1</td>\n",
       "      <td>blakit1/XC740481_part000_source1.mp3</td>\n",
       "      <td>60</td>\n",
       "      <td>-10.683513</td>\n",
       "      <td>Human vocal_Human vocal</td>\n",
       "      <td>humvoc</td>\n",
       "      <td>0.000023</td>\n",
       "    </tr>\n",
       "    <tr>\n",
       "      <th>...</th>\n",
       "      <td>...</td>\n",
       "      <td>...</td>\n",
       "      <td>...</td>\n",
       "      <td>...</td>\n",
       "      <td>...</td>\n",
       "      <td>...</td>\n",
       "      <td>...</td>\n",
       "      <td>...</td>\n",
       "    </tr>\n",
       "    <tr>\n",
       "      <th>63495</th>\n",
       "      <td>1450</td>\n",
       "      <td>woosan</td>\n",
       "      <td>woosan/XC580751_source3.mp3</td>\n",
       "      <td>0</td>\n",
       "      <td>-10.280706</td>\n",
       "      <td>Human vocal_Human vocal</td>\n",
       "      <td>humvoc</td>\n",
       "      <td>0.000034</td>\n",
       "    </tr>\n",
       "    <tr>\n",
       "      <th>63496</th>\n",
       "      <td>1450</td>\n",
       "      <td>woosan</td>\n",
       "      <td>woosan/XC376849.mp3</td>\n",
       "      <td>0</td>\n",
       "      <td>-11.883453</td>\n",
       "      <td>Human vocal_Human vocal</td>\n",
       "      <td>humvoc</td>\n",
       "      <td>0.000007</td>\n",
       "    </tr>\n",
       "    <tr>\n",
       "      <th>63497</th>\n",
       "      <td>1450</td>\n",
       "      <td>woosan</td>\n",
       "      <td>woosan/XC557396_source0.mp3</td>\n",
       "      <td>3</td>\n",
       "      <td>-7.679912</td>\n",
       "      <td>Human vocal_Human vocal</td>\n",
       "      <td>humvoc</td>\n",
       "      <td>0.000462</td>\n",
       "    </tr>\n",
       "    <tr>\n",
       "      <th>63498</th>\n",
       "      <td>1450</td>\n",
       "      <td>woosan</td>\n",
       "      <td>woosan/XC554677_source2.mp3</td>\n",
       "      <td>3</td>\n",
       "      <td>-8.163547</td>\n",
       "      <td>Human vocal_Human vocal</td>\n",
       "      <td>humvoc</td>\n",
       "      <td>0.000285</td>\n",
       "    </tr>\n",
       "    <tr>\n",
       "      <th>63499</th>\n",
       "      <td>1450</td>\n",
       "      <td>blakit1</td>\n",
       "      <td>blakit1/XC740069_source0.mp3</td>\n",
       "      <td>3</td>\n",
       "      <td>-7.523470</td>\n",
       "      <td>Human vocal_Human vocal</td>\n",
       "      <td>humvoc</td>\n",
       "      <td>0.000540</td>\n",
       "    </tr>\n",
       "  </tbody>\n",
       "</table>\n",
       "<p>63500 rows × 8 columns</p>\n",
       "</div>"
      ],
      "text/plain": [
       "       index  species                            track_name  start_time  \\\n",
       "0       1450  blakit1  blakit1/XC740481_part000_source2.mp3          60   \n",
       "1       1450  blakit1  blakit1/XC740481_part002_source2.mp3         105   \n",
       "2       1450  blakit1  blakit1/XC740481_part003_source0.mp3          30   \n",
       "3       1450  blakit1  blakit1/XC740481_part003_source3.mp3          57   \n",
       "4       1450  blakit1  blakit1/XC740481_part000_source1.mp3          60   \n",
       "...      ...      ...                                   ...         ...   \n",
       "63495   1450   woosan           woosan/XC580751_source3.mp3           0   \n",
       "63496   1450   woosan                   woosan/XC376849.mp3           0   \n",
       "63497   1450   woosan           woosan/XC557396_source0.mp3           3   \n",
       "63498   1450   woosan           woosan/XC554677_source2.mp3           3   \n",
       "63499   1450  blakit1          blakit1/XC740069_source0.mp3           3   \n",
       "\n",
       "           logit                    label mapped_label  probability  \n",
       "0      -9.323709  Human vocal_Human vocal       humvoc     0.000089  \n",
       "1      -8.242433  Human vocal_Human vocal       humvoc     0.000263  \n",
       "2     -10.041925  Human vocal_Human vocal       humvoc     0.000044  \n",
       "3      -9.478200  Human vocal_Human vocal       humvoc     0.000076  \n",
       "4     -10.683513  Human vocal_Human vocal       humvoc     0.000023  \n",
       "...          ...                      ...          ...          ...  \n",
       "63495 -10.280706  Human vocal_Human vocal       humvoc     0.000034  \n",
       "63496 -11.883453  Human vocal_Human vocal       humvoc     0.000007  \n",
       "63497  -7.679912  Human vocal_Human vocal       humvoc     0.000462  \n",
       "63498  -8.163547  Human vocal_Human vocal       humvoc     0.000285  \n",
       "63499  -7.523470  Human vocal_Human vocal       humvoc     0.000540  \n",
       "\n",
       "[63500 rows x 8 columns]"
      ]
     },
     "execution_count": 24,
     "metadata": {},
     "output_type": "execute_result"
    }
   ],
   "source": [
    "human_vocals = (\n",
    "    sample\n",
    "    # explode the predictions with their indices\n",
    "    .select(\n",
    "        \"species\",\n",
    "        \"track_name\",\n",
    "        \"start_time\",\n",
    "        F.posexplode(\"prediction_vec\").alias(\"index\", \"logit\"),\n",
    "    )\n",
    "    # join with the labels, in case we want to use it for anything\n",
    "    .join(label_df, on=\"index\", how=\"inner\")\n",
    "    # now only keep human vocals\n",
    "    .where(\"index = 1450\")\n",
    "    # and convert the logit to a probability via sigmoid\n",
    "    .withColumn(\"probability\", F.expr(\"1/(1+exp(-logit))\"))\n",
    ").toPandas()\n",
    "\n",
    "human_vocals"
   ]
  },
  {
   "cell_type": "code",
   "execution_count": 25,
   "metadata": {},
   "outputs": [
    {
     "data": {
      "image/png": "[encoded data removed]",
      "text/plain": [
       "<Figure size 640x480 with 1 Axes>"
      ]
     },
     "metadata": {},
     "output_type": "display_data"
    }
   ],
   "source": [
    "np.log(human_vocals.probability).hist(bins=100)\n",
    "plt.title(\"log probability of human vocals\")\n",
    "plt.show()"
   ]
  },
  {
   "cell_type": "code",
   "execution_count": 26,
   "metadata": {},
   "outputs": [
    {
     "data": {
      "text/html": [
       "<div>\n",
       "<style scoped>\n",
       "    .dataframe tbody tr th:only-of-type {\n",
       "        vertical-align: middle;\n",
       "    }\n",
       "\n",
       "    .dataframe tbody tr th {\n",
       "        vertical-align: top;\n",
       "    }\n",
       "\n",
       "    .dataframe thead th {\n",
       "        text-align: right;\n",
       "    }\n",
       "</style>\n",
       "<table border=\"1\" class=\"dataframe\">\n",
       "  <thead>\n",
       "    <tr style=\"text-align: right;\">\n",
       "      <th></th>\n",
       "      <th>index</th>\n",
       "      <th>species</th>\n",
       "      <th>track_name</th>\n",
       "      <th>start_time</th>\n",
       "      <th>logit</th>\n",
       "      <th>label</th>\n",
       "      <th>mapped_label</th>\n",
       "      <th>probability</th>\n",
       "    </tr>\n",
       "  </thead>\n",
       "  <tbody>\n",
       "    <tr>\n",
       "      <th>34160</th>\n",
       "      <td>1450</td>\n",
       "      <td>rbsrob1</td>\n",
       "      <td>rbsrob1/XC393114_source2.mp3</td>\n",
       "      <td>36</td>\n",
       "      <td>-0.051290</td>\n",
       "      <td>Human vocal_Human vocal</td>\n",
       "      <td>humvoc</td>\n",
       "      <td>0.487180</td>\n",
       "    </tr>\n",
       "    <tr>\n",
       "      <th>15919</th>\n",
       "      <td>1450</td>\n",
       "      <td>woosan</td>\n",
       "      <td>woosan/XC567028_source2.mp3</td>\n",
       "      <td>3</td>\n",
       "      <td>-0.207987</td>\n",
       "      <td>Human vocal_Human vocal</td>\n",
       "      <td>humvoc</td>\n",
       "      <td>0.448190</td>\n",
       "    </tr>\n",
       "    <tr>\n",
       "      <th>21323</th>\n",
       "      <td>1450</td>\n",
       "      <td>rbsrob1</td>\n",
       "      <td>rbsrob1/XC393114_source2.mp3</td>\n",
       "      <td>30</td>\n",
       "      <td>-0.544033</td>\n",
       "      <td>Human vocal_Human vocal</td>\n",
       "      <td>humvoc</td>\n",
       "      <td>0.367250</td>\n",
       "    </tr>\n",
       "    <tr>\n",
       "      <th>23288</th>\n",
       "      <td>1450</td>\n",
       "      <td>rbsrob1</td>\n",
       "      <td>rbsrob1/XC624181_source3.mp3</td>\n",
       "      <td>27</td>\n",
       "      <td>-0.795864</td>\n",
       "      <td>Human vocal_Human vocal</td>\n",
       "      <td>humvoc</td>\n",
       "      <td>0.310911</td>\n",
       "    </tr>\n",
       "    <tr>\n",
       "      <th>25275</th>\n",
       "      <td>1450</td>\n",
       "      <td>rbsrob1</td>\n",
       "      <td>rbsrob1/XC393114_source2.mp3</td>\n",
       "      <td>15</td>\n",
       "      <td>-0.836876</td>\n",
       "      <td>Human vocal_Human vocal</td>\n",
       "      <td>humvoc</td>\n",
       "      <td>0.302193</td>\n",
       "    </tr>\n",
       "    <tr>\n",
       "      <th>46966</th>\n",
       "      <td>1450</td>\n",
       "      <td>blakit1</td>\n",
       "      <td>blakit1/XC442940_source2.mp3</td>\n",
       "      <td>3</td>\n",
       "      <td>-0.877798</td>\n",
       "      <td>Human vocal_Human vocal</td>\n",
       "      <td>humvoc</td>\n",
       "      <td>0.293634</td>\n",
       "    </tr>\n",
       "    <tr>\n",
       "      <th>1862</th>\n",
       "      <td>1450</td>\n",
       "      <td>rbsrob1</td>\n",
       "      <td>rbsrob1/XC382932_source2.mp3</td>\n",
       "      <td>6</td>\n",
       "      <td>-0.971475</td>\n",
       "      <td>Human vocal_Human vocal</td>\n",
       "      <td>humvoc</td>\n",
       "      <td>0.274587</td>\n",
       "    </tr>\n",
       "    <tr>\n",
       "      <th>30174</th>\n",
       "      <td>1450</td>\n",
       "      <td>rbsrob1</td>\n",
       "      <td>rbsrob1/XC624181_source3.mp3</td>\n",
       "      <td>15</td>\n",
       "      <td>-0.987376</td>\n",
       "      <td>Human vocal_Human vocal</td>\n",
       "      <td>humvoc</td>\n",
       "      <td>0.271431</td>\n",
       "    </tr>\n",
       "    <tr>\n",
       "      <th>17411</th>\n",
       "      <td>1450</td>\n",
       "      <td>woosan</td>\n",
       "      <td>woosan/XC345156_source2.mp3</td>\n",
       "      <td>33</td>\n",
       "      <td>-1.035372</td>\n",
       "      <td>Human vocal_Human vocal</td>\n",
       "      <td>humvoc</td>\n",
       "      <td>0.262044</td>\n",
       "    </tr>\n",
       "    <tr>\n",
       "      <th>39112</th>\n",
       "      <td>1450</td>\n",
       "      <td>rbsrob1</td>\n",
       "      <td>rbsrob1/XC624181_source3.mp3</td>\n",
       "      <td>18</td>\n",
       "      <td>-1.160185</td>\n",
       "      <td>Human vocal_Human vocal</td>\n",
       "      <td>humvoc</td>\n",
       "      <td>0.238634</td>\n",
       "    </tr>\n",
       "    <tr>\n",
       "      <th>7885</th>\n",
       "      <td>1450</td>\n",
       "      <td>woosan</td>\n",
       "      <td>woosan/XC567028_source2.mp3</td>\n",
       "      <td>6</td>\n",
       "      <td>-1.262026</td>\n",
       "      <td>Human vocal_Human vocal</td>\n",
       "      <td>humvoc</td>\n",
       "      <td>0.220625</td>\n",
       "    </tr>\n",
       "    <tr>\n",
       "      <th>43573</th>\n",
       "      <td>1450</td>\n",
       "      <td>rbsrob1</td>\n",
       "      <td>rbsrob1/XC382932_source2.mp3</td>\n",
       "      <td>9</td>\n",
       "      <td>-1.379046</td>\n",
       "      <td>Human vocal_Human vocal</td>\n",
       "      <td>humvoc</td>\n",
       "      <td>0.201162</td>\n",
       "    </tr>\n",
       "  </tbody>\n",
       "</table>\n",
       "</div>"
      ],
      "text/plain": [
       "       index  species                    track_name  start_time     logit  \\\n",
       "34160   1450  rbsrob1  rbsrob1/XC393114_source2.mp3          36 -0.051290   \n",
       "15919   1450   woosan   woosan/XC567028_source2.mp3           3 -0.207987   \n",
       "21323   1450  rbsrob1  rbsrob1/XC393114_source2.mp3          30 -0.544033   \n",
       "23288   1450  rbsrob1  rbsrob1/XC624181_source3.mp3          27 -0.795864   \n",
       "25275   1450  rbsrob1  rbsrob1/XC393114_source2.mp3          15 -0.836876   \n",
       "46966   1450  blakit1  blakit1/XC442940_source2.mp3           3 -0.877798   \n",
       "1862    1450  rbsrob1  rbsrob1/XC382932_source2.mp3           6 -0.971475   \n",
       "30174   1450  rbsrob1  rbsrob1/XC624181_source3.mp3          15 -0.987376   \n",
       "17411   1450   woosan   woosan/XC345156_source2.mp3          33 -1.035372   \n",
       "39112   1450  rbsrob1  rbsrob1/XC624181_source3.mp3          18 -1.160185   \n",
       "7885    1450   woosan   woosan/XC567028_source2.mp3           6 -1.262026   \n",
       "43573   1450  rbsrob1  rbsrob1/XC382932_source2.mp3           9 -1.379046   \n",
       "\n",
       "                         label mapped_label  probability  \n",
       "34160  Human vocal_Human vocal       humvoc     0.487180  \n",
       "15919  Human vocal_Human vocal       humvoc     0.448190  \n",
       "21323  Human vocal_Human vocal       humvoc     0.367250  \n",
       "23288  Human vocal_Human vocal       humvoc     0.310911  \n",
       "25275  Human vocal_Human vocal       humvoc     0.302193  \n",
       "46966  Human vocal_Human vocal       humvoc     0.293634  \n",
       "1862   Human vocal_Human vocal       humvoc     0.274587  \n",
       "30174  Human vocal_Human vocal       humvoc     0.271431  \n",
       "17411  Human vocal_Human vocal       humvoc     0.262044  \n",
       "39112  Human vocal_Human vocal       humvoc     0.238634  \n",
       "7885   Human vocal_Human vocal       humvoc     0.220625  \n",
       "43573  Human vocal_Human vocal       humvoc     0.201162  "
      ]
     },
     "execution_count": 26,
     "metadata": {},
     "output_type": "execute_result"
    }
   ],
   "source": [
    "human_vocals[human_vocals.probability > 0.2].sort_values(\"probability\", ascending=False)"
   ]
  },
  {
   "cell_type": "code",
   "execution_count": 28,
   "metadata": {},
   "outputs": [
    {
     "ename": "ValueError",
     "evalue": "rate must be specified when data is a numpy array or list of audio samples.",
     "output_type": "error",
     "traceback": [
      "\u001b[0;31m---------------------------------------------------------------------------\u001b[0m",
      "\u001b[0;31mValueError\u001b[0m                                Traceback (most recent call last)",
      "Cell \u001b[0;32mIn[28], line 6\u001b[0m\n\u001b[1;32m      4\u001b[0m train_embeddings_path \u001b[39m=\u001b[39m \u001b[39m\"\u001b[39m\u001b[39m../data/processed/birdclef-2023/train_embeddings/consolidated_v3\u001b[39m\u001b[39m\"\u001b[39m\n\u001b[1;32m      5\u001b[0m track_name \u001b[39m=\u001b[39m \u001b[39m\"\u001b[39m\u001b[39mrbsrob1/XC393114_source2.mp3\u001b[39m\u001b[39m\"\u001b[39m\n\u001b[0;32m----> 6\u001b[0m ipd\u001b[39m.\u001b[39;49mAudio(\u001b[39mf\u001b[39;49m\u001b[39m\"\u001b[39;49m\u001b[39m{\u001b[39;49;00mtrain_embeddings_path\u001b[39m}\u001b[39;49;00m\u001b[39m/audio/\u001b[39;49m\u001b[39m{\u001b[39;49;00mtrack_name\u001b[39m}\u001b[39;49;00m\u001b[39m\"\u001b[39;49m)\n",
      "File \u001b[0;32m~/venv/lib/python3.10/site-packages/IPython/lib/display.py:129\u001b[0m, in \u001b[0;36mAudio.__init__\u001b[0;34m(self, data, filename, url, embed, rate, autoplay, normalize, element_id)\u001b[0m\n\u001b[1;32m    127\u001b[0m \u001b[39mif\u001b[39;00m \u001b[39mself\u001b[39m\u001b[39m.\u001b[39mdata \u001b[39mis\u001b[39;00m \u001b[39mnot\u001b[39;00m \u001b[39mNone\u001b[39;00m \u001b[39mand\u001b[39;00m \u001b[39mnot\u001b[39;00m \u001b[39misinstance\u001b[39m(\u001b[39mself\u001b[39m\u001b[39m.\u001b[39mdata, \u001b[39mbytes\u001b[39m):\n\u001b[1;32m    128\u001b[0m     \u001b[39mif\u001b[39;00m rate \u001b[39mis\u001b[39;00m \u001b[39mNone\u001b[39;00m:\n\u001b[0;32m--> 129\u001b[0m         \u001b[39mraise\u001b[39;00m \u001b[39mValueError\u001b[39;00m(\u001b[39m\"\u001b[39m\u001b[39mrate must be specified when data is a numpy array or list of audio samples.\u001b[39m\u001b[39m\"\u001b[39m)\n\u001b[1;32m    130\u001b[0m     \u001b[39mself\u001b[39m\u001b[39m.\u001b[39mdata \u001b[39m=\u001b[39m Audio\u001b[39m.\u001b[39m_make_wav(data, rate, normalize)\n",
      "\u001b[0;31mValueError\u001b[0m: rate must be specified when data is a numpy array or list of audio samples."
     ]
    }
   ],
   "source": [
    "# let's listen to the audio\n",
    "import IPython.display as ipd\n",
    "\n",
    "train_embeddings_path = (\"../data/processed/birdclef-2023/train_embeddings/consolidated_v3\")\n",
    "track_name = \"rbsrob1/XC393114_source2.mp3\"\n",
    "ipd.Audio(f\"{train_embeddings_path}/audio/{track_name}\")"
   ]
  },
  {
   "attachments": {},
   "cell_type": "markdown",
   "metadata": {},
   "source": [
    "We can hear very muffled human voices in this track."
   ]
  },
  {
   "attachments": {},
   "cell_type": "markdown",
   "metadata": {},
   "source": [
    "## track annotation\n",
    "\n",
    "The code here is similar; we also need a classifier to reasonably annotate the other channels.\n",
    "However, the output schema is good enough to get started."
   ]
  },
  {
   "cell_type": "code",
   "execution_count": 29,
   "metadata": {},
   "outputs": [
    {
     "name": "stderr",
     "output_type": "stream",
     "text": [
      "                                                                                \r"
     ]
    },
    {
     "name": "stdout",
     "output_type": "stream",
     "text": [
      "+-------+--------------------+----------+-------+\n",
      "|species|          track_name|start_time|  label|\n",
      "+-------+--------------------+----------+-------+\n",
      "|blakit1|blakit1/XC115289.mp3|         0|   none|\n",
      "|blakit1|blakit1/XC115289.mp3|         3|   none|\n",
      "|blakit1|blakit1/XC115289.mp3|         6|   none|\n",
      "|blakit1|blakit1/XC115289.mp3|         9|   none|\n",
      "|blakit1|blakit1/XC115289.mp3|        12|   none|\n",
      "|blakit1|blakit1/XC115289.mp3|        15|   none|\n",
      "|blakit1|blakit1/XC115289.mp3|        18|   none|\n",
      "|blakit1|blakit1/XC115289.mp3|        21|   none|\n",
      "|blakit1|blakit1/XC115289.mp3|        24|   none|\n",
      "|blakit1|blakit1/XC115289.mp3|        27|   none|\n",
      "|blakit1|blakit1/XC115289.mp3|        30|   none|\n",
      "|blakit1|blakit1/XC115289_...|         0|blakit1|\n",
      "|blakit1|blakit1/XC115289_...|         3|   none|\n",
      "|blakit1|blakit1/XC115289_...|         6|   none|\n",
      "|blakit1|blakit1/XC115289_...|         9|   none|\n",
      "|blakit1|blakit1/XC115289_...|        12|   none|\n",
      "|blakit1|blakit1/XC115289_...|        15|   none|\n",
      "|blakit1|blakit1/XC115289_...|        18|blakit1|\n",
      "|blakit1|blakit1/XC115289_...|        21|   none|\n",
      "|blakit1|blakit1/XC115289_...|        24|blakit1|\n",
      "+-------+--------------------+----------+-------+\n",
      "only showing top 20 rows\n",
      "\n"
     ]
    }
   ],
   "source": [
    "join_cols = [\"species\", \"track_name\", \"start_time\"]\n",
    "annotation = (\n",
    "    sample.select(*join_cols)\n",
    "    .join(\n",
    "        # We add a column with our \"prediction\", which could can be from a more\n",
    "        # sophisticated model. Here, we're just using the simplifying assumption\n",
    "        # that the most confident prediction of the highest energy channel\n",
    "        # matches the species of the track.\n",
    "        exploded_embeddings.select(*join_cols).withColumn(\"label\", F.col(\"species\")),\n",
    "        on=join_cols,\n",
    "        how=\"outer\",\n",
    "    )\n",
    "    .fillna(\"none\")\n",
    "    .orderBy(\"species\", \"track_name\", \"start_time\")\n",
    ")\n",
    "\n",
    "# TODO: note how only the track name for the source above has labels. This needs\n",
    "# to be handled so every track has a label. This is probably best left until\n",
    "# there's a proper model for predictions.\n",
    "annotation.show()"
   ]
  },
  {
   "cell_type": "code",
   "execution_count": null,
   "metadata": {},
   "outputs": [],
   "source": []
  }
 ],
 "metadata": {
  "kernelspec": {
   "display_name": "venv",
   "language": "python",
   "name": "python3"
  },
  "language_info": {
   "codemirror_mode": {
    "name": "ipython",
    "version": 3
   },
   "file_extension": ".py",
   "mimetype": "text/x-python",
   "name": "python",
   "nbconvert_exporter": "python",
   "pygments_lexer": "ipython3",
   "version": "3.10.6"
  },
  "orig_nbformat": 4
 },
 "nbformat": 4,
 "nbformat_minor": 2
}
