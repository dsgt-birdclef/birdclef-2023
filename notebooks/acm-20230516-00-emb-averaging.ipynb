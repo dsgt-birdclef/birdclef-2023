{
 "cells": [
  {
   "cell_type": "code",
   "execution_count": 144,
   "metadata": {},
   "outputs": [
    {
     "name": "stdout",
     "output_type": "stream",
     "text": [
      "The autoreload extension is already loaded. To reload it, use:\n",
      "  %reload_ext autoreload\n",
      "The lab_black extension is already loaded. To reload it, use:\n",
      "  %reload_ext lab_black\n"
     ]
    }
   ],
   "source": [
    "%load_ext autoreload\n",
    "%autoreload 2\n",
    "%load_ext lab_black"
   ]
  },
  {
   "cell_type": "code",
   "execution_count": 39,
   "metadata": {},
   "outputs": [
    {
     "name": "stdout",
     "output_type": "stream",
     "text": [
      "root\n",
      " |-- species: string (nullable = true)\n",
      " |-- track_stem: string (nullable = true)\n",
      " |-- track_type: string (nullable = true)\n",
      " |-- track_name: string (nullable = true)\n",
      " |-- embedding: array (nullable = true)\n",
      " |    |-- element: double (containsNull = true)\n",
      " |-- prediction_vec: array (nullable = true)\n",
      " |    |-- element: double (containsNull = true)\n",
      " |-- predictions: array (nullable = true)\n",
      " |    |-- element: struct (containsNull = true)\n",
      " |    |    |-- rank: long (nullable = true)\n",
      " |    |    |-- index: long (nullable = true)\n",
      " |    |    |-- label: string (nullable = true)\n",
      " |    |    |-- mapped_label: string (nullable = true)\n",
      " |    |    |-- probability: double (nullable = true)\n",
      " |-- start_time: long (nullable = true)\n",
      " |-- energy: double (nullable = true)\n",
      "\n",
      "root\n",
      " |-- track_name: string (nullable = true)\n",
      " |-- start_time: long (nullable = true)\n",
      " |-- prediction: string (nullable = true)\n",
      " |-- probability: double (nullable = true)\n",
      "\n",
      "root\n",
      " |-- primary_label: string (nullable = true)\n",
      " |-- secondary_labels: string (nullable = true)\n",
      " |-- type: string (nullable = true)\n",
      " |-- latitude: string (nullable = true)\n",
      " |-- longitude: string (nullable = true)\n",
      " |-- scientific_name: string (nullable = true)\n",
      " |-- common_name: string (nullable = true)\n",
      " |-- author: string (nullable = true)\n",
      " |-- license: string (nullable = true)\n",
      " |-- rating: string (nullable = true)\n",
      " |-- url: string (nullable = true)\n",
      " |-- filename: string (nullable = true)\n",
      "\n"
     ]
    }
   ],
   "source": [
    "from birdclef.utils import get_spark\n",
    "from pyspark.sql import Window, functions as F\n",
    "import os\n",
    "\n",
    "os.environ[\"SPARK_LOCAL_DIRS\"] = \"../data/tmp/spark\"\n",
    "\n",
    "spark = get_spark(cores=16, memory=\"20g\")\n",
    "df = spark.read.parquet(\n",
    "    \"../data/processed/birdclef-2023/train_embeddings/consolidated_v3\"\n",
    ")\n",
    "df.printSchema()\n",
    "\n",
    "preds = spark.read.parquet(\"../data/processed/birdclef-2023/consolidated_v3_with_preds\")\n",
    "preds.printSchema()\n",
    "\n",
    "# also include the metadata\n",
    "birdclef_root = \"../data/raw/birdclef-2023\"\n",
    "train_metadata = spark.read.csv(f\"{birdclef_root}/train_metadata.csv\", header=True)\n",
    "train_metadata.printSchema()"
   ]
  },
  {
   "cell_type": "code",
   "execution_count": 145,
   "metadata": {},
   "outputs": [
    {
     "name": "stdout",
     "output_type": "stream",
     "text": [
      "+----+---+\n",
      "|freq|  n|\n",
      "+----+---+\n",
      "|   1|  7|\n",
      "|   2|  3|\n",
      "|   3|  5|\n",
      "|   4|  2|\n",
      "|   5|  5|\n",
      "+----+---+\n",
      "only showing top 5 rows\n",
      "\n",
      "+----+---+\n",
      "|freq|  n|\n",
      "+----+---+\n",
      "| 349|  1|\n",
      "| 200|  1|\n",
      "| 152|  1|\n",
      "| 130|  1|\n",
      "| 100|  1|\n",
      "+----+---+\n",
      "only showing top 5 rows\n",
      "\n",
      "+----+----+\n",
      "|freq|   n|\n",
      "+----+----+\n",
      "|   1|1520|\n",
      "|   2| 564|\n",
      "|   3| 164|\n",
      "|   4|  39|\n",
      "|   5|  11|\n",
      "|   6|   4|\n",
      "|   7|   1|\n",
      "|   8|   1|\n",
      "|   9|   1|\n",
      "+----+----+\n",
      "\n"
     ]
    }
   ],
   "source": [
    "import ast\n",
    "\n",
    "\n",
    "@F.udf(returnType=\"array<string>\")\n",
    "def parse_labels(label_str: str):\n",
    "    # use literal eval to parse the string\n",
    "    return ast.literal_eval(label_str)\n",
    "\n",
    "\n",
    "def calc_histogram(df, col):\n",
    "    return (\n",
    "        df.groupBy(col)\n",
    "        .count()\n",
    "        .groupBy(\"count\")\n",
    "        .agg(F.count(\"*\").alias(\"n\"))\n",
    "        .orderBy(\"count\")\n",
    "        .selectExpr(\"count as freq\", \"n\")\n",
    "    )\n",
    "\n",
    "\n",
    "# whats the lowest number tracks for a species?\n",
    "primary_labels = train_metadata.select(\n",
    "    F.col(\"primary_label\").alias(\"species\"), \"filename\"\n",
    ")\n",
    "calc_histogram(primary_labels, \"species\").show(n=5)\n",
    "\n",
    "# now find all the secondary labels and see how frequent they can be\n",
    "secondary_labels = train_metadata.select(\n",
    "    F.explode(parse_labels(\"secondary_labels\")).alias(\"species\"), \"filename\"\n",
    ")\n",
    "calc_histogram(secondary_labels, \"species\").orderBy(F.desc(\"freq\")).show(n=5)\n",
    "\n",
    "# generally, how many secondary labels are there?\n",
    "calc_histogram(secondary_labels, \"filename\").show()"
   ]
  },
  {
   "cell_type": "code",
   "execution_count": 49,
   "metadata": {},
   "outputs": [
    {
     "name": "stdout",
     "output_type": "stream",
     "text": [
      "+----+---+\n",
      "|freq|  n|\n",
      "+----+---+\n",
      "|   1|  4|\n",
      "|   2|  5|\n",
      "|   3|  4|\n",
      "|   4|  2|\n",
      "|   5|  6|\n",
      "+----+---+\n",
      "only showing top 5 rows\n",
      "\n"
     ]
    }
   ],
   "source": [
    "labels = primary_labels.union(secondary_labels).distinct()\n",
    "calc_histogram(labels, \"species\").show(n=5)"
   ]
  },
  {
   "cell_type": "code",
   "execution_count": 57,
   "metadata": {},
   "outputs": [
    {
     "name": "stdout",
     "output_type": "stream",
     "text": [
      "+------------------+----+\n",
      "|             items|freq|\n",
      "+------------------+----+\n",
      "| [thrnig1, wlwwar]|  34|\n",
      "| [eswdov1, rindov]|  29|\n",
      "|[reftin1, somgre1]|  29|\n",
      "|[tafpri1, combul2]|  26|\n",
      "| [ratcis1, rindov]|  23|\n",
      "|[grbcam1, combul2]|  23|\n",
      "|[abhori1, somgre1]|  20|\n",
      "| [rbsrob1, rindov]|  19|\n",
      "|[eswdov1, somgre1]|  18|\n",
      "|[piecro1, combul2]|  18|\n",
      "+------------------+----+\n",
      "only showing top 10 rows\n",
      "\n"
     ]
    }
   ],
   "source": [
    "from pyspark.ml.fpm import FPGrowth\n",
    "\n",
    "fp = FPGrowth(itemsCol=\"items\", minSupport=0.001, minConfidence=0.01)\n",
    "model = fp.fit(\n",
    "    labels.groupBy(\"filename\")\n",
    "    .agg(F.collect_list(\"species\").alias(\"items\"))\n",
    "    .where(F.size(\"items\") > 1)\n",
    ")\n",
    "model.freqItemsets.where(F.size(\"items\") > 1).orderBy(F.desc(\"freq\")).show(n=10)"
   ]
  },
  {
   "cell_type": "code",
   "execution_count": 61,
   "metadata": {},
   "outputs": [
    {
     "name": "stdout",
     "output_type": "stream",
     "text": [
      "+--------------------+--------------------+------+\n",
      "|            filename|               items| xc_id|\n",
      "+--------------------+--------------------+------+\n",
      "|abethr1/XC379322.ogg|  [abethr1, rbsrob1]|379322|\n",
      "|abethr1/XC606253.ogg|[abethr1, eswdov1...|606253|\n",
      "|abhori1/XC120250.ogg|  [abhori1, combul2]|120250|\n",
      "+--------------------+--------------------+------+\n",
      "only showing top 3 rows\n",
      "\n"
     ]
    },
    {
     "data": {
      "text/plain": [
       "2269"
      ]
     },
     "execution_count": 61,
     "metadata": {},
     "output_type": "execute_result"
    }
   ],
   "source": [
    "# let's average embeddings for the tracks and see if this matches with\n",
    "# the frequencies of labels in the original dataset\n",
    "multi_label = (\n",
    "    labels.groupBy(\"filename\")\n",
    "    .agg(F.collect_list(\"species\").alias(\"items\"))\n",
    "    .where(F.size(\"items\") > 1)\n",
    "    # extract the xeno-canto id with regex\n",
    "    .withColumn(\"xc_id\", F.regexp_extract(F.col(\"filename\"), r\"XC(\\d+)\", 1))\n",
    ")\n",
    "multi_label.show(n=3)\n",
    "multi_label.count()"
   ]
  },
  {
   "cell_type": "code",
   "execution_count": 79,
   "metadata": {},
   "outputs": [
    {
     "name": "stderr",
     "output_type": "stream",
     "text": [
      "f:\\code\\kaggle\\birdclef-2023\\venv\\lib\\site-packages\\pyspark\\sql\\pandas\\functions.py:394: UserWarning: In Python 3.6+ and Spark 3.0+, it is preferred to specify type hints for pandas UDF instead of specifying pandas UDF type which will be deprecated in the future releases. See SPARK-28264 for more details.\n",
      "  warnings.warn(\n"
     ]
    },
    {
     "name": "stdout",
     "output_type": "stream",
     "text": [
      "+--------------------+--------------------+--------------------+\n",
      "|          track_name|               items|           embedding|\n",
      "+--------------------+--------------------+--------------------+\n",
      "|didcuc1/XC429232.mp3|  [afmdov1, didcuc1]|[1.1478785, 0.996...|\n",
      "|eaywag1/XC378218.mp3|  [eaywag1, eubeat1]|[1.0860075, 2.002...|\n",
      "|eubeat1/XC392184_...|  [cohmar1, eubeat1]|[1.2816447, 1.073...|\n",
      "|eubeat1/XC392792_...|   [eubeat1, barswa]|[1.1441039, 0.970...|\n",
      "|klacuc1/XC338493.mp3|[combul2, beasun2...|[0.8740882, 1.374...|\n",
      "|meypar1/XC120249.mp3|  [combul2, meypar1]|[1.4814115, 1.110...|\n",
      "|scthon1/XC294934.mp3|[combul2, bswdov1...|[1.1448605, 1.607...|\n",
      "|soufis1/XC506981.mp3|[rindov, quailf1,...|[1.926908, 1.7022...|\n",
      "|yebere1/XC635004.mp3|  [eubeat1, yebere1]|[1.1386919, 1.401...|\n",
      "| yefcan/XC489237.mp3|[egygoo, brubru1,...|[1.3020878, 1.857...|\n",
      "|afghor1/XC640727.mp3|  [reedov1, afghor1]|[1.1457127, 1.027...|\n",
      "|combul2/XC206449.mp3|  [gyhspa1, combul2]|[1.075186, 1.4356...|\n",
      "|crohor1/XC396576.mp3|[refcro1, whbtit5...|[1.3017629, 1.116...|\n",
      "|didcuc1/XC614370.mp3|  [wfbeat1, didcuc1]|[1.2225937, 1.042...|\n",
      "|eubeat1/XC392792_...|   [eubeat1, barswa]|[1.0502093, 0.911...|\n",
      "|fatwid1/XC157135.mp3|  [bswdov1, fatwid1]|[1.3323832, 1.370...|\n",
      "|grbcam1/XC316925.mp3|  [somgre1, grbcam1]|[1.3120967, 0.797...|\n",
      "| hoopoe/XC208453.mp3|   [hoopoe, wookin1]|[1.6323771, 1.410...|\n",
      "|reftin1/XC457009.mp3|  [reftin1, rewsta1]|[1.5151334, 1.409...|\n",
      "|tafpri1/XC252299.mp3|[somgre1, tafpri1...|[0.70665395, 1.55...|\n",
      "+--------------------+--------------------+--------------------+\n",
      "only showing top 20 rows\n",
      "\n"
     ]
    }
   ],
   "source": [
    "# create a udf to average the embeddings\n",
    "import numpy as np\n",
    "\n",
    "\n",
    "@F.pandas_udf(\"array<float>\", F.PandasUDFType.GROUPED_AGG)\n",
    "def embedding_mean(v):\n",
    "    return np.stack(v).mean(axis=0).tolist()\n",
    "\n",
    "\n",
    "averaged = (\n",
    "    df.withColumn(\"xc_id\", F.regexp_extract(F.col(\"track_name\"), r\"XC(\\d+)\", 1))\n",
    "    .join(multi_label, on=\"xc_id\")\n",
    "    .where(\"track_type = 'original'\")\n",
    "    .groupBy(\"track_name\", \"items\")\n",
    "    .agg(embedding_mean(\"embedding\").alias(\"embedding\"))\n",
    ").cache()\n",
    "averaged.show()"
   ]
  },
  {
   "cell_type": "code",
   "execution_count": 91,
   "metadata": {},
   "outputs": [],
   "source": [
    "import pickle\n",
    "from pathlib import Path\n",
    "\n",
    "model_path = Path(\"../data/models/baseline/svc-ss-no-opt-v2.pkl\")\n",
    "clf = pickle.loads(model_path.read_bytes())"
   ]
  },
  {
   "cell_type": "code",
   "execution_count": 123,
   "metadata": {},
   "outputs": [
    {
     "data": {
      "text/plain": [
       "array(['didcuc1', 'eaywag1', 'eubeat1'], dtype=object)"
      ]
     },
     "execution_count": 123,
     "metadata": {},
     "output_type": "execute_result"
    }
   ],
   "source": [
    "X = np.stack(averaged.limit(3).toPandas().embedding.values)\n",
    "clf.predict(X)"
   ]
  },
  {
   "cell_type": "code",
   "execution_count": 141,
   "metadata": {},
   "outputs": [
    {
     "name": "stderr",
     "output_type": "stream",
     "text": [
      "f:\\code\\kaggle\\birdclef-2023\\venv\\lib\\site-packages\\pyspark\\sql\\pandas\\functions.py:394: UserWarning: In Python 3.6+ and Spark 3.0+, it is preferred to specify type hints for pandas UDF instead of specifying pandas UDF type which will be deprecated in the future releases. See SPARK-28264 for more details.\n",
      "  warnings.warn(\n"
     ]
    },
    {
     "name": "stdout",
     "output_type": "stream",
     "text": [
      "+--------------------+--------------------+--------------------+--------------------+\n",
      "|          track_name|               items|           embedding|               preds|\n",
      "+--------------------+--------------------+--------------------+--------------------+\n",
      "|didcuc1/XC429232.mp3|  [afmdov1, didcuc1]|[1.1478785, 0.996...|[5.7473383E-4, 8....|\n",
      "|eaywag1/XC378218.mp3|  [eaywag1, eubeat1]|[1.0860075, 2.002...|[4.8543775E-6, 5....|\n",
      "|eubeat1/XC392184_...|  [cohmar1, eubeat1]|[1.2816447, 1.073...|[2.2094253E-5, 6....|\n",
      "|eubeat1/XC392792_...|   [eubeat1, barswa]|[1.1441039, 0.970...|[2.4831541E-5, 8....|\n",
      "|klacuc1/XC338493.mp3|[combul2, beasun2...|[0.8740882, 1.374...|[0.008993781, 0.0...|\n",
      "|meypar1/XC120249.mp3|  [combul2, meypar1]|[1.4814115, 1.110...|[0.008664646, 0.0...|\n",
      "|scthon1/XC294934.mp3|[combul2, bswdov1...|[1.1448605, 1.607...|[0.0014440634, 0....|\n",
      "|soufis1/XC506981.mp3|[rindov, quailf1,...|[1.926908, 1.7022...|[0.009351604, 0.0...|\n",
      "|yebere1/XC635004.mp3|  [eubeat1, yebere1]|[1.1386919, 1.401...|[0.011576289, 0.0...|\n",
      "| yefcan/XC489237.mp3|[egygoo, brubru1,...|[1.3020878, 1.857...|[0.0020373862, 0....|\n",
      "|afghor1/XC640727.mp3|  [reedov1, afghor1]|[1.1457127, 1.027...|[5.7289953E-4, 0....|\n",
      "|combul2/XC206449.mp3|  [gyhspa1, combul2]|[1.075186, 1.4356...|[6.6931307E-4, 0....|\n",
      "|crohor1/XC396576.mp3|[refcro1, whbtit5...|[1.3017629, 1.116...|[0.003158053, 0.0...|\n",
      "|didcuc1/XC614370.mp3|  [wfbeat1, didcuc1]|[1.2225937, 1.042...|[0.0063125864, 0....|\n",
      "|eubeat1/XC392792_...|   [eubeat1, barswa]|[1.0502093, 0.911...|[3.0568364E-5, 1....|\n",
      "|fatwid1/XC157135.mp3|  [bswdov1, fatwid1]|[1.3323832, 1.370...|[0.006965403, 0.0...|\n",
      "|grbcam1/XC316925.mp3|  [somgre1, grbcam1]|[1.3120967, 0.797...|[0.0017070393, 0....|\n",
      "| hoopoe/XC208453.mp3|   [hoopoe, wookin1]|[1.6323771, 1.410...|[1.6845191E-4, 1....|\n",
      "|reftin1/XC457009.mp3|  [reftin1, rewsta1]|[1.5151334, 1.409...|[0.004123767, 0.0...|\n",
      "|tafpri1/XC252299.mp3|[somgre1, tafpri1...|[0.70665395, 1.55...|[1.0109662E-4, 2....|\n",
      "+--------------------+--------------------+--------------------+--------------------+\n",
      "only showing top 20 rows\n",
      "\n"
     ]
    }
   ],
   "source": [
    "# apply classifier\n",
    "import pandas as pd\n",
    "\n",
    "\n",
    "@F.pandas_udf(\"array<float>\", F.PandasUDFType.SCALAR)\n",
    "def make_prediction_proba(embedding_series: pd.Series) -> pd.Series:\n",
    "    X = np.vstack(embedding_series.values)\n",
    "    probs = clf.predict_proba(X)\n",
    "    return pd.Series(list(probs))\n",
    "\n",
    "\n",
    "averaged_preds = averaged.withColumn(\n",
    "    \"preds\", make_prediction_proba(\"embedding\")\n",
    ").cache()\n",
    "averaged_preds.show()"
   ]
  },
  {
   "cell_type": "code",
   "execution_count": 142,
   "metadata": {},
   "outputs": [
    {
     "name": "stdout",
     "output_type": "stream",
     "text": [
      "+-------+------------+\n",
      "|species|        pred|\n",
      "+-------+------------+\n",
      "|afmdov1|  8.22493E-4|\n",
      "|didcuc1|   0.9047674|\n",
      "|eaywag1|   0.9992482|\n",
      "|eubeat1| 9.327878E-6|\n",
      "|cohmar1|4.7719195E-6|\n",
      "|eubeat1|  0.99945927|\n",
      "|eubeat1|   0.9675821|\n",
      "| barswa| 4.352399E-4|\n",
      "|combul2| 0.040591132|\n",
      "|beasun2|0.0014955534|\n",
      "|klacuc1|  0.16132608|\n",
      "|combul2| 0.011914682|\n",
      "|meypar1| 5.298243E-4|\n",
      "|combul2|  0.00585833|\n",
      "|bswdov1|0.0034789084|\n",
      "|scthon1|   0.4400962|\n",
      "| rindov|0.0010154371|\n",
      "|quailf1| 3.545207E-4|\n",
      "|didcuc1|0.0015017022|\n",
      "|soufis1|  0.51612276|\n",
      "+-------+------------+\n",
      "only showing top 20 rows\n",
      "\n"
     ]
    }
   ],
   "source": [
    "# let's see what the average accuracy is here\n",
    "@F.udf(\"integer\")\n",
    "def get_clf_index(species):\n",
    "    return clf.classes_.tolist().index(species)\n",
    "\n",
    "\n",
    "probs = (\n",
    "    (averaged_preds.select(F.explode(\"items\").alias(\"species\"), \"preds\"))\n",
    "    .withColumn(\"index\", get_clf_index(\"species\"))\n",
    "    .select(\"species\", F.col(\"preds\")[F.col(\"index\")].alias(\"pred\"))\n",
    ")\n",
    "probs.show()"
   ]
  },
  {
   "cell_type": "code",
   "execution_count": 143,
   "metadata": {},
   "outputs": [],
   "source": [
    "pdf = probs.toPandas()\n",
    "\n",
    "print(f\"Accuracy: {np.mean(pdf.pred)}\")"
   ]
  },
  {
   "cell_type": "code",
   "execution_count": null,
   "metadata": {},
   "outputs": [
    {
     "data": {
      "text/plain": [
       "<Axes: >"
      ]
     },
     "execution_count": 140,
     "metadata": {},
     "output_type": "execute_result"
    },
    {
     "data": {
      "image/png": "[encoded data removed]",
      "text/plain": [
       "<Figure size 640x480 with 1 Axes>"
      ]
     },
     "metadata": {},
     "output_type": "display_data"
    }
   ],
   "source": [
    "# show histogram\n",
    "pdf.pred.hist(bins=100)"
   ]
  }
 ],
 "metadata": {
  "kernelspec": {
   "display_name": "Python 3",
   "language": "python",
   "name": "python3"
  },
  "language_info": {
   "codemirror_mode": {
    "name": "ipython",
    "version": 3
   },
   "file_extension": ".py",
   "mimetype": "text/x-python",
   "name": "python",
   "nbconvert_exporter": "python",
   "pygments_lexer": "ipython3",
   "version": "3.10.5"
  },
  "orig_nbformat": 4
 },
 "nbformat": 4,
 "nbformat_minor": 2
}
