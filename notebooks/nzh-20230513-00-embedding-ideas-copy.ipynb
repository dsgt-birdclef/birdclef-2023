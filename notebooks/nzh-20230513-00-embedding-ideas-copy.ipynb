{
 "cells": [
  {
   "cell_type": "code",
   "execution_count": 3,
   "metadata": {},
   "outputs": [
    {
     "name": "stderr",
     "output_type": "stream",
     "text": [
      "                                                                                \r"
     ]
    },
    {
     "name": "stdout",
     "output_type": "stream",
     "text": [
      "root\n",
      " |-- species: string (nullable = true)\n",
      " |-- track_stem: string (nullable = true)\n",
      " |-- track_type: string (nullable = true)\n",
      " |-- track_name: string (nullable = true)\n",
      " |-- embedding: array (nullable = true)\n",
      " |    |-- element: double (containsNull = true)\n",
      " |-- prediction_vec: array (nullable = true)\n",
      " |    |-- element: double (containsNull = true)\n",
      " |-- predictions: array (nullable = true)\n",
      " |    |-- element: struct (containsNull = true)\n",
      " |    |    |-- rank: long (nullable = true)\n",
      " |    |    |-- index: long (nullable = true)\n",
      " |    |    |-- label: string (nullable = true)\n",
      " |    |    |-- mapped_label: string (nullable = true)\n",
      " |    |    |-- probability: double (nullable = true)\n",
      " |-- start_time: long (nullable = true)\n",
      " |-- energy: double (nullable = true)\n",
      "\n"
     ]
    },
    {
     "name": "stderr",
     "output_type": "stream",
     "text": [
      "                                                                                \r"
     ]
    },
    {
     "data": {
      "text/plain": [
       "1198860"
      ]
     },
     "execution_count": 3,
     "metadata": {},
     "output_type": "execute_result"
    }
   ],
   "source": [
    "from birdclef.utils import get_spark\n",
    "from pyspark.sql import functions as F\n",
    "\n",
    "# modify cores and memory as needed\n",
    "spark = get_spark(cores=8, memory=\"16g\")\n",
    "\n",
    "path = \"../../data/processed/birdclef-2023/consolidated_v3/\"\n",
    "df = spark.read.parquet(path)\n",
    "df.printSchema()\n",
    "df.count()"
   ]
  },
  {
   "cell_type": "code",
   "execution_count": 4,
   "metadata": {},
   "outputs": [
    {
     "name": "stderr",
     "output_type": "stream",
     "text": [
      "[Stage 6:>                                                          (0 + 4) / 4]\r"
     ]
    },
    {
     "name": "stdout",
     "output_type": "stream",
     "text": [
      "+-------+----------+----------+\n",
      "|species|track_stem|track_type|\n",
      "+-------+----------+----------+\n",
      "|refcro1|  XC239955|   source0|\n",
      "|gyhspa1|  XC270259|   source0|\n",
      "|yebbar1|  XC292826|   source2|\n",
      "| reccor|  XC312724|   source0|\n",
      "| litegr|  XC333916|   source2|\n",
      "|gnbcam2|  XC395639|   source0|\n",
      "|afpfly1|  XC418708|   source0|\n",
      "|purgre2|  XC432646|   source2|\n",
      "|combuz1|  XC463273|   source2|\n",
      "|walsta1|  XC516711|   source0|\n",
      "| hoopoe|  XC542705|   source2|\n",
      "|laudov1|  XC558438|   source2|\n",
      "|blakit1|  XC572730|   source0|\n",
      "|afrjac1|  XC585200|   source0|\n",
      "| comsan|  XC595918|   source2|\n",
      "|blbpuf2|  XC633870|   source2|\n",
      "|yertin1|  XC634144|   source1|\n",
      "|eaywag1|  XC642065|   source0|\n",
      "|afghor1|  XC720728|   source2|\n",
      "|afrgos1|  XC147873|   source3|\n",
      "+-------+----------+----------+\n",
      "only showing top 20 rows\n",
      "\n"
     ]
    },
    {
     "name": "stderr",
     "output_type": "stream",
     "text": [
      "                                                                                \r"
     ]
    }
   ],
   "source": [
    "from pyspark.sql import Window, functions as F\n",
    "\n",
    "# keep the track_type for each\n",
    "highest_energy_channel = (\n",
    "    df\n",
    "    # get the track stem without the part\n",
    "    .withColumn(\"original_track_stem\", F.split(F.col(\"track_stem\"), \"_\").getItem(0))\n",
    "    .where(\"track_type != 'original'\")\n",
    "    # get the track type that has the most energy\n",
    "    .withColumn(\n",
    "        \"rank\",\n",
    "        F.rank().over(\n",
    "            Window.partitionBy(\"original_track_stem\").orderBy(F.desc(\"energy\"))\n",
    "        ),\n",
    "    )\n",
    "    # keep the first row\n",
    "    .where(F.col(\"rank\") == 1)\n",
    "    # drop the rank column\n",
    "    .select(\"species\", \"track_stem\", \"track_type\")\n",
    "    .distinct()\n",
    ")\n",
    "\n",
    "highest_energy_channel.show()"
   ]
  },
  {
   "cell_type": "code",
   "execution_count": 9,
   "metadata": {},
   "outputs": [],
   "source": [
    "with open(\"../../data/models/birdnet-analyzer-pruned/labels.txt\") as f:\n",
    "    labels = [x.strip() for x in f.readlines()]\n",
    "\n"
   ]
  },
  {
   "cell_type": "code",
   "execution_count": 30,
   "metadata": {},
   "outputs": [],
   "source": [
    "import json\n",
    "with open('../../data/models/birdnet-analyzer-pruned/eBird_taxonomy_codes_2021E.json') as json_file:\n",
    "    mapped = json.load(json_file)"
   ]
  },
  {
   "cell_type": "code",
   "execution_count": 43,
   "metadata": {},
   "outputs": [
    {
     "name": "stdout",
     "output_type": "stream",
     "text": [
      "[(1022, 'Dog_Dog'), (1136, 'Engine_Engine'), (1141, 'Environmental_Environmental'), (1219, 'Fireworks_Fireworks'), (1352, 'Gun_Gun'), (1449, 'Human non-vocal_Human non-vocal'), (1450, 'Human vocal_Human vocal'), (1451, 'Human whistle_Human whistle'), (1997, 'Noise_Noise'), (2812, 'Siren_Siren')]\n",
      "[1022, 1136, 1141, 1219, 1352, 1449, 1450, 1451, 1997, 2812]\n"
     ]
    }
   ],
   "source": [
    "noise = [(i, x) for i,x in enumerate(labels) if \"human\" in x.lower() or len(x.split(\" \")) < 2]\n",
    "index = [x[0] for x in noise]\n",
    "print(noise)\n",
    "print(index)"
   ]
  },
  {
   "cell_type": "code",
   "execution_count": 42,
   "metadata": {},
   "outputs": [
    {
     "name": "stderr",
     "output_type": "stream",
     "text": [
      "[Stage 10:>                                                         (0 + 1) / 1]\r"
     ]
    },
    {
     "name": "stdout",
     "output_type": "stream",
     "text": [
      "+-----+--------------------+--------------------+\n",
      "|index|               label|        mapped_label|\n",
      "+-----+--------------------+--------------------+\n",
      "|    0|Abroscopus albogu...|             ostric2|\n",
      "|    1|Abroscopus superc...|Struthio camelus_...|\n",
      "|    2|Aburria aburri_Wa...|             ostric3|\n",
      "|    3|Acanthagenys rufo...|Struthio molybdop...|\n",
      "|    4|Acanthis cabaret_...|             grerhe1|\n",
      "+-----+--------------------+--------------------+\n",
      "only showing top 5 rows\n",
      "\n"
     ]
    },
    {
     "name": "stderr",
     "output_type": "stream",
     "text": [
      "                                                                                \r"
     ]
    }
   ],
   "source": [
    "label_df = spark.createDataFrame(\n",
    "    [\n",
    "        {\n",
    "            \"label\": label,\n",
    "            \"mapped_label\": mapped_label,\n",
    "            \"index\": i,\n",
    "        }\n",
    "        for i, (label, mapped_label) in enumerate(zip(labels, mapped))\n",
    "    ]\n",
    ")\n",
    "label_df.show(n=5)"
   ]
  },
  {
   "cell_type": "code",
   "execution_count": 47,
   "metadata": {},
   "outputs": [
    {
     "name": "stderr",
     "output_type": "stream",
     "text": [
      "                                                                                \r"
     ]
    },
    {
     "name": "stdout",
     "output_type": "stream",
     "text": [
      "+-----+-------+--------------------+----------+-------------------+-----------+------------+--------------------+\n",
      "|index|species|          track_name|start_time|              logit|      label|mapped_label|         probability|\n",
      "+-----+-------+--------------------+----------+-------------------+-----------+------------+--------------------+\n",
      "| 2812| grecor|grecor/XC629875_p...|        69| -9.145736694335938|Siren_Siren|     stther2|1.066622388732338E-4|\n",
      "| 2812| grecor|grecor/XC629875_p...|        33| -13.65604305267334|Siren_Siren|     stther2|1.172884773347008...|\n",
      "| 2812| wlwwar|wlwwar/XC475384_p...|        54|-11.956526756286621|Siren_Siren|     stther2|6.417171116191094E-6|\n",
      "| 2812| grecor|grecor/XC629875_p...|       126| -8.804743766784668|Siren_Siren|     stther2|1.499972233170989E-4|\n",
      "| 2812| grecor|grecor/XC629875_p...|       126| -15.09192180633545|Siren_Siren|     stther2|2.790368219906542E-7|\n",
      "+-----+-------+--------------------+----------+-------------------+-----------+------------+--------------------+\n",
      "only showing top 5 rows\n",
      "\n"
     ]
    }
   ],
   "source": [
    "temp = (\n",
    "    df\n",
    "    # explode the predictions with their indices\n",
    "    .select(\n",
    "        \"species\",\n",
    "        \"track_name\",\n",
    "        \"start_time\",\n",
    "        F.posexplode(\"prediction_vec\").alias(\"index\", \"logit\"),\n",
    "    )\n",
    "    # join with the labels, in case we want to use it for anything\n",
    "    .join(label_df, on=\"index\", how=\"inner\")\n",
    "    # now only keep human vocals\n",
    "    .where(\"index in (1022, 1136, 1141, 1219, 1352, 1449, 1450, 1451, 1997, 2812)\")\n",
    "    # and convert the logit to a probability via sigmoid\n",
    "    .withColumn(\"probability\", F.expr(\"1/(1+exp(-logit))\"))\n",
    ")\n",
    "\n",
    "temp.show(n=5)"
   ]
  },
  {
   "cell_type": "code",
   "execution_count": 49,
   "metadata": {},
   "outputs": [
    {
     "name": "stderr",
     "output_type": "stream",
     "text": [
      "                                                                                \r"
     ]
    },
    {
     "name": "stdout",
     "output_type": "stream",
     "text": [
      "+-----+-------+--------------------+----------+-------------------+--------------------+------------+------------------+\n",
      "|index|species|          track_name|start_time|              logit|               label|mapped_label|       probability|\n",
      "+-----+-------+--------------------+----------+-------------------+--------------------+------------+------------------+\n",
      "| 1136| grecor|grecor/XC629875_p...|        39| 0.2663832902908325|       Engine_Engine|     stodov1|0.5662047934675343|\n",
      "| 1136|combuz1|combuz1/XC579931_...|        51| 1.8115729093551636|       Engine_Engine|     stodov1| 0.859551867154321|\n",
      "| 1136| grecor|grecor/XC505211_s...|        84| 0.5453298687934875|       Engine_Engine|     stodov1|0.6330514076807028|\n",
      "| 1450|thrnig1|thrnig1/XC412630_...|        51| 1.8050605058670044|Human vocal_Human...|     obqdov1|0.8587638313808836|\n",
      "| 1450|afrthr1|afrthr1/XC652884_...|       108|0.11409962177276611|Human vocal_Human...|     obqdov1|0.5284939991900475|\n",
      "+-----+-------+--------------------+----------+-------------------+--------------------+------------+------------------+\n",
      "only showing top 5 rows\n",
      "\n"
     ]
    },
    {
     "name": "stderr",
     "output_type": "stream",
     "text": [
      "ERROR:root:KeyboardInterrupt while sending command.                 (0 + 0) / 4]\n",
      "Traceback (most recent call last):\n",
      "  File \"/home/nzhon/.local/lib/python3.10/site-packages/py4j/java_gateway.py\", line 1038, in send_command\n",
      "    response = connection.send_command(command)\n",
      "  File \"/home/nzhon/.local/lib/python3.10/site-packages/py4j/clientserver.py\", line 511, in send_command\n",
      "    answer = smart_decode(self.stream.readline()[:-1])\n",
      "  File \"/usr/lib/python3.10/socket.py\", line 705, in readinto\n",
      "    return self._sock.recv_into(b)\n",
      "KeyboardInterrupt\n"
     ]
    },
    {
     "ename": "KeyboardInterrupt",
     "evalue": "",
     "output_type": "error",
     "traceback": [
      "\u001b[0;31m---------------------------------------------------------------------------\u001b[0m",
      "\u001b[0;31mKeyboardInterrupt\u001b[0m                         Traceback (most recent call last)",
      "Cell \u001b[0;32mIn[49], line 3\u001b[0m\n\u001b[1;32m      1\u001b[0m high_prob \u001b[39m=\u001b[39m temp\u001b[39m.\u001b[39mwhere(\u001b[39m\"\u001b[39m\u001b[39mprobability > 0.5\u001b[39m\u001b[39m\"\u001b[39m)\n\u001b[1;32m      2\u001b[0m high_prob\u001b[39m.\u001b[39mshow(n\u001b[39m=\u001b[39m\u001b[39m5\u001b[39m)\n\u001b[0;32m----> 3\u001b[0m \u001b[39mprint\u001b[39m(high_prob\u001b[39m.\u001b[39;49mcount())\n",
      "File \u001b[0;32m~/.local/lib/python3.10/site-packages/pyspark/sql/dataframe.py:804\u001b[0m, in \u001b[0;36mDataFrame.count\u001b[0;34m(self)\u001b[0m\n\u001b[1;32m    794\u001b[0m \u001b[39mdef\u001b[39;00m \u001b[39mcount\u001b[39m(\u001b[39mself\u001b[39m) \u001b[39m-\u001b[39m\u001b[39m>\u001b[39m \u001b[39mint\u001b[39m:\n\u001b[1;32m    795\u001b[0m \u001b[39m    \u001b[39m\u001b[39m\"\"\"Returns the number of rows in this :class:`DataFrame`.\u001b[39;00m\n\u001b[1;32m    796\u001b[0m \n\u001b[1;32m    797\u001b[0m \u001b[39m    .. versionadded:: 1.3.0\u001b[39;00m\n\u001b[0;32m   (...)\u001b[0m\n\u001b[1;32m    802\u001b[0m \u001b[39m    2\u001b[39;00m\n\u001b[1;32m    803\u001b[0m \u001b[39m    \"\"\"\u001b[39;00m\n\u001b[0;32m--> 804\u001b[0m     \u001b[39mreturn\u001b[39;00m \u001b[39mint\u001b[39m(\u001b[39mself\u001b[39;49m\u001b[39m.\u001b[39;49m_jdf\u001b[39m.\u001b[39;49mcount())\n",
      "File \u001b[0;32m~/.local/lib/python3.10/site-packages/py4j/java_gateway.py:1320\u001b[0m, in \u001b[0;36mJavaMember.__call__\u001b[0;34m(self, *args)\u001b[0m\n\u001b[1;32m   1313\u001b[0m args_command, temp_args \u001b[39m=\u001b[39m \u001b[39mself\u001b[39m\u001b[39m.\u001b[39m_build_args(\u001b[39m*\u001b[39margs)\n\u001b[1;32m   1315\u001b[0m command \u001b[39m=\u001b[39m proto\u001b[39m.\u001b[39mCALL_COMMAND_NAME \u001b[39m+\u001b[39m\\\n\u001b[1;32m   1316\u001b[0m     \u001b[39mself\u001b[39m\u001b[39m.\u001b[39mcommand_header \u001b[39m+\u001b[39m\\\n\u001b[1;32m   1317\u001b[0m     args_command \u001b[39m+\u001b[39m\\\n\u001b[1;32m   1318\u001b[0m     proto\u001b[39m.\u001b[39mEND_COMMAND_PART\n\u001b[0;32m-> 1320\u001b[0m answer \u001b[39m=\u001b[39m \u001b[39mself\u001b[39;49m\u001b[39m.\u001b[39;49mgateway_client\u001b[39m.\u001b[39;49msend_command(command)\n\u001b[1;32m   1321\u001b[0m return_value \u001b[39m=\u001b[39m get_return_value(\n\u001b[1;32m   1322\u001b[0m     answer, \u001b[39mself\u001b[39m\u001b[39m.\u001b[39mgateway_client, \u001b[39mself\u001b[39m\u001b[39m.\u001b[39mtarget_id, \u001b[39mself\u001b[39m\u001b[39m.\u001b[39mname)\n\u001b[1;32m   1324\u001b[0m \u001b[39mfor\u001b[39;00m temp_arg \u001b[39min\u001b[39;00m temp_args:\n",
      "File \u001b[0;32m~/.local/lib/python3.10/site-packages/py4j/java_gateway.py:1038\u001b[0m, in \u001b[0;36mGatewayClient.send_command\u001b[0;34m(self, command, retry, binary)\u001b[0m\n\u001b[1;32m   1036\u001b[0m connection \u001b[39m=\u001b[39m \u001b[39mself\u001b[39m\u001b[39m.\u001b[39m_get_connection()\n\u001b[1;32m   1037\u001b[0m \u001b[39mtry\u001b[39;00m:\n\u001b[0;32m-> 1038\u001b[0m     response \u001b[39m=\u001b[39m connection\u001b[39m.\u001b[39;49msend_command(command)\n\u001b[1;32m   1039\u001b[0m     \u001b[39mif\u001b[39;00m binary:\n\u001b[1;32m   1040\u001b[0m         \u001b[39mreturn\u001b[39;00m response, \u001b[39mself\u001b[39m\u001b[39m.\u001b[39m_create_connection_guard(connection)\n",
      "File \u001b[0;32m~/.local/lib/python3.10/site-packages/py4j/clientserver.py:511\u001b[0m, in \u001b[0;36mClientServerConnection.send_command\u001b[0;34m(self, command)\u001b[0m\n\u001b[1;32m    509\u001b[0m \u001b[39mtry\u001b[39;00m:\n\u001b[1;32m    510\u001b[0m     \u001b[39mwhile\u001b[39;00m \u001b[39mTrue\u001b[39;00m:\n\u001b[0;32m--> 511\u001b[0m         answer \u001b[39m=\u001b[39m smart_decode(\u001b[39mself\u001b[39;49m\u001b[39m.\u001b[39;49mstream\u001b[39m.\u001b[39;49mreadline()[:\u001b[39m-\u001b[39m\u001b[39m1\u001b[39m])\n\u001b[1;32m    512\u001b[0m         logger\u001b[39m.\u001b[39mdebug(\u001b[39m\"\u001b[39m\u001b[39mAnswer received: \u001b[39m\u001b[39m{0}\u001b[39;00m\u001b[39m\"\u001b[39m\u001b[39m.\u001b[39mformat(answer))\n\u001b[1;32m    513\u001b[0m         \u001b[39m# Happens when a the other end is dead. There might be an empty\u001b[39;00m\n\u001b[1;32m    514\u001b[0m         \u001b[39m# answer before the socket raises an error.\u001b[39;00m\n",
      "File \u001b[0;32m/usr/lib/python3.10/socket.py:705\u001b[0m, in \u001b[0;36mSocketIO.readinto\u001b[0;34m(self, b)\u001b[0m\n\u001b[1;32m    703\u001b[0m \u001b[39mwhile\u001b[39;00m \u001b[39mTrue\u001b[39;00m:\n\u001b[1;32m    704\u001b[0m     \u001b[39mtry\u001b[39;00m:\n\u001b[0;32m--> 705\u001b[0m         \u001b[39mreturn\u001b[39;00m \u001b[39mself\u001b[39;49m\u001b[39m.\u001b[39;49m_sock\u001b[39m.\u001b[39;49mrecv_into(b)\n\u001b[1;32m    706\u001b[0m     \u001b[39mexcept\u001b[39;00m timeout:\n\u001b[1;32m    707\u001b[0m         \u001b[39mself\u001b[39m\u001b[39m.\u001b[39m_timeout_occurred \u001b[39m=\u001b[39m \u001b[39mTrue\u001b[39;00m\n",
      "\u001b[0;31mKeyboardInterrupt\u001b[0m: "
     ]
    },
    {
     "name": "stderr",
     "output_type": "stream",
     "text": [
      "[Stage 29:=======>      (111 + 4) / 195][Stage 30:>                 (0 + 0) / 4]\r"
     ]
    }
   ],
   "source": [
    "high_prob = temp.where(\"probability > 0.5\")\n",
    "high_prob.show(n=5)\n",
    "print(high_prob.count())"
   ]
  },
  {
   "cell_type": "code",
   "execution_count": null,
   "metadata": {},
   "outputs": [],
   "source": []
  }
 ],
 "metadata": {
  "kernelspec": {
   "display_name": "Python 3",
   "language": "python",
   "name": "python3"
  },
  "language_info": {
   "codemirror_mode": {
    "name": "ipython",
    "version": 3
   },
   "file_extension": ".py",
   "mimetype": "text/x-python",
   "name": "python",
   "nbconvert_exporter": "python",
   "pygments_lexer": "ipython3",
   "version": "3.10.6"
  },
  "orig_nbformat": 4
 },
 "nbformat": 4,
 "nbformat_minor": 2
}
