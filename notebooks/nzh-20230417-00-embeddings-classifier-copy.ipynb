{
 "cells": [
  {
   "cell_type": "code",
   "execution_count": 1,
   "metadata": {},
   "outputs": [],
   "source": [
    "from birdclef.utils import get_spark\n",
    "import pyspark.sql.functions as F"
   ]
  },
  {
   "cell_type": "code",
   "execution_count": 2,
   "metadata": {},
   "outputs": [
    {
     "name": "stderr",
     "output_type": "stream",
     "text": [
      "Setting default log level to \"WARN\".\n",
      "To adjust logging level use sc.setLogLevel(newLevel). For SparkR, use setLogLevel(newLevel).\n"
     ]
    },
    {
     "name": "stdout",
     "output_type": "stream",
     "text": [
      "23/05/13 14:29:07 WARN NativeCodeLoader: Unable to load native-hadoop library for your platform... using builtin-java classes where applicable\n"
     ]
    }
   ],
   "source": [
    "spark = get_spark()"
   ]
  },
  {
   "cell_type": "code",
   "execution_count": 3,
   "metadata": {},
   "outputs": [
    {
     "name": "stderr",
     "output_type": "stream",
     "text": [
      "                                                                                \r"
     ]
    },
    {
     "name": "stdout",
     "output_type": "stream",
     "text": [
      "root\n",
      " |-- species: string (nullable = true)\n",
      " |-- track_stem: string (nullable = true)\n",
      " |-- track_type: string (nullable = true)\n",
      " |-- track_name: string (nullable = true)\n",
      " |-- embedding: array (nullable = true)\n",
      " |    |-- element: double (containsNull = true)\n",
      " |-- prediction_vec: array (nullable = true)\n",
      " |    |-- element: double (containsNull = true)\n",
      " |-- predictions: array (nullable = true)\n",
      " |    |-- element: struct (containsNull = true)\n",
      " |    |    |-- rank: long (nullable = true)\n",
      " |    |    |-- index: long (nullable = true)\n",
      " |    |    |-- label: string (nullable = true)\n",
      " |    |    |-- mapped_label: string (nullable = true)\n",
      " |    |    |-- probability: double (nullable = true)\n",
      " |-- start_time: long (nullable = true)\n",
      " |-- energy: double (nullable = true)\n",
      "\n"
     ]
    },
    {
     "name": "stderr",
     "output_type": "stream",
     "text": [
      "[Stage 4:>                                                          (0 + 1) / 1]\r"
     ]
    },
    {
     "name": "stdout",
     "output_type": "stream",
     "text": [
      "-RECORD 0------------------------------\n",
      " species        | grecor               \n",
      " track_stem     | XC629875_part006     \n",
      " track_type     | source0              \n",
      " track_name     | grecor/XC629875_p... \n",
      " embedding      | [0.65114879608154... \n",
      " prediction_vec | [-13.598222732543... \n",
      " predictions    | [{0, 1451, Human ... \n",
      " start_time     | 69                   \n",
      " energy         | 5.219668388366699    \n",
      "-RECORD 1------------------------------\n",
      " species        | grecor               \n",
      " track_stem     | XC629875_part008     \n",
      " track_type     | source2              \n",
      " track_name     | grecor/XC629875_p... \n",
      " embedding      | [1.43535864353179... \n",
      " prediction_vec | [-14.157649040222... \n",
      " predictions    | [{0, 163, Anser a... \n",
      " start_time     | 33                   \n",
      " energy         | 2.388000249862671    \n",
      "-RECORD 2------------------------------\n",
      " species        | wlwwar               \n",
      " track_stem     | XC475384_part001     \n",
      " track_type     | original             \n",
      " track_name     | wlwwar/XC475384_p... \n",
      " embedding      | [0.82979518175125... \n",
      " prediction_vec | [-12.042873382568... \n",
      " predictions    | [{0, 1657, Locust... \n",
      " start_time     | 54                   \n",
      " energy         | 10.812362670898438   \n",
      "-RECORD 3------------------------------\n",
      " species        | grecor               \n",
      " track_stem     | XC629875_part003     \n",
      " track_type     | source2              \n",
      " track_name     | grecor/XC629875_p... \n",
      " embedding      | [0.33093771338462... \n",
      " prediction_vec | [-8.3993158340454... \n",
      " predictions    | [{0, 2247, Phalac... \n",
      " start_time     | 126                  \n",
      " energy         | 6.252483367919922    \n",
      "-RECORD 4------------------------------\n",
      " species        | grecor               \n",
      " track_stem     | XC629875_part012     \n",
      " track_type     | original             \n",
      " track_name     | grecor/XC629875_p... \n",
      " embedding      | [1.80716621875762... \n",
      " prediction_vec | [-16.839342117309... \n",
      " predictions    | [{0, 242, Ardea c... \n",
      " start_time     | 126                  \n",
      " energy         | 30.46211051940918    \n",
      "only showing top 5 rows\n",
      "\n"
     ]
    },
    {
     "name": "stderr",
     "output_type": "stream",
     "text": [
      "                                                                                \r"
     ]
    }
   ],
   "source": [
    "df = spark.read.parquet(\"../../data/processed/birdclef-2023/consolidated_v3\")\n",
    "df.printSchema()\n",
    "df.count()\n",
    "df.show(n=5, vertical=True)"
   ]
  },
  {
   "cell_type": "code",
   "execution_count": 4,
   "metadata": {},
   "outputs": [
    {
     "name": "stderr",
     "output_type": "stream",
     "text": [
      "                                                                                \r"
     ]
    },
    {
     "name": "stdout",
     "output_type": "stream",
     "text": [
      "+-------+------+\n",
      "|species| count|\n",
      "+-------+------+\n",
      "|thrnig1|104440|\n",
      "| wlwwar| 57260|\n",
      "|eubeat1| 52810|\n",
      "| hoopoe| 42995|\n",
      "|combuz1| 42650|\n",
      "|cohmar1| 35210|\n",
      "| barswa| 33355|\n",
      "|eaywag1| 29165|\n",
      "| comsan| 27180|\n",
      "|combul2| 24855|\n",
      "| woosan| 23710|\n",
      "|rbsrob1| 19910|\n",
      "|blakit1| 19880|\n",
      "| litegr| 16710|\n",
      "| grecor| 16030|\n",
      "|somgre1| 15280|\n",
      "|gnbcam2| 13945|\n",
      "|rerswa1| 13660|\n",
      "|colsun2| 12545|\n",
      "|carcha1| 12440|\n",
      "+-------+------+\n",
      "only showing top 20 rows\n",
      "\n"
     ]
    },
    {
     "name": "stderr",
     "output_type": "stream",
     "text": [
      "                                                                                \r"
     ]
    },
    {
     "name": "stdout",
     "output_type": "stream",
     "text": [
      "+-------+-----+\n",
      "|species|count|\n",
      "+-------+-----+\n",
      "|afpkin1|   15|\n",
      "|whhsaw1|   20|\n",
      "|whctur2|   20|\n",
      "|golher1|   25|\n",
      "|rehblu1|   40|\n",
      "|lotlap1|   40|\n",
      "|brtcha1|   50|\n",
      "|lotcor1|   60|\n",
      "|dotbar1|   60|\n",
      "|crefra2|   70|\n",
      "|brcwea1|   75|\n",
      "|yebsto1|   90|\n",
      "|fatwid1|  155|\n",
      "|gobsta5|  160|\n",
      "|darter3|  170|\n",
      "|palpri1|  170|\n",
      "|witswa1|  195|\n",
      "|sacibi2|  200|\n",
      "|rufcha2|  225|\n",
      "|joygre1|  255|\n",
      "+-------+-----+\n",
      "only showing top 20 rows\n",
      "\n"
     ]
    },
    {
     "name": "stderr",
     "output_type": "stream",
     "text": [
      "                                                                                \r"
     ]
    },
    {
     "name": "stdout",
     "output_type": "stream",
     "text": [
      "264\n"
     ]
    }
   ],
   "source": [
    "df.groupBy(\"species\").count().orderBy(F.desc(\"count\")).show(20)\n",
    "df.groupBy(\"species\").count().orderBy(F.asc(\"count\")).show(20)\n",
    "print(len(set(list(df.select(\"species\").collect()))))"
   ]
  },
  {
   "cell_type": "code",
   "execution_count": 5,
   "metadata": {},
   "outputs": [
    {
     "name": "stderr",
     "output_type": "stream",
     "text": [
      "[Stage 14:>                                                         (0 + 4) / 4]\r"
     ]
    },
    {
     "name": "stdout",
     "output_type": "stream",
     "text": [
      "+-------+----------+----------+\n",
      "|species|track_stem|track_type|\n",
      "+-------+----------+----------+\n",
      "|refcro1|  XC239955|   source0|\n",
      "|gyhspa1|  XC270259|   source0|\n",
      "|yebbar1|  XC292826|   source2|\n",
      "| reccor|  XC312724|   source0|\n",
      "| litegr|  XC333916|   source2|\n",
      "|gnbcam2|  XC395639|   source0|\n",
      "|afpfly1|  XC418708|   source0|\n",
      "|purgre2|  XC432646|   source2|\n",
      "|combuz1|  XC463273|   source2|\n",
      "|walsta1|  XC516711|   source0|\n",
      "| hoopoe|  XC542705|   source2|\n",
      "|laudov1|  XC558438|   source2|\n",
      "|blakit1|  XC572730|   source0|\n",
      "|afrjac1|  XC585200|   source0|\n",
      "| comsan|  XC595918|   source2|\n",
      "|blbpuf2|  XC633870|   source2|\n",
      "|yertin1|  XC634144|   source1|\n",
      "|eaywag1|  XC642065|   source0|\n",
      "|afghor1|  XC720728|   source2|\n",
      "|afrgos1|  XC147873|   source3|\n",
      "+-------+----------+----------+\n",
      "only showing top 20 rows\n",
      "\n"
     ]
    },
    {
     "name": "stderr",
     "output_type": "stream",
     "text": [
      "                                                                                \r"
     ]
    }
   ],
   "source": [
    "from pyspark.sql import Window, functions as F\n",
    "\n",
    "# keep the track_type for each\n",
    "highest_energy_channel = (\n",
    "    df\n",
    "    # get the track stem without the part\n",
    "    .withColumn(\"original_track_stem\", F.split(F.col(\"track_stem\"), \"_\").getItem(0))\n",
    "    .where(\"track_type != 'original'\")\n",
    "    # get the track type that has the most energy\n",
    "    .withColumn(\n",
    "        \"rank\",\n",
    "        F.rank().over(\n",
    "            Window.partitionBy(\"original_track_stem\").orderBy(F.desc(\"energy\"))\n",
    "        ),\n",
    "    )\n",
    "    # keep the first row\n",
    "    .where(F.col(\"rank\") == 1)\n",
    "    # drop the rank column\n",
    "    .select(\"species\", \"track_stem\", \"track_type\")\n",
    "    .distinct()\n",
    ")\n",
    "\n",
    "highest_energy_channel.show()"
   ]
  },
  {
   "cell_type": "code",
   "execution_count": 6,
   "metadata": {},
   "outputs": [
    {
     "name": "stderr",
     "output_type": "stream",
     "text": [
      "                                                                                \r"
     ]
    },
    {
     "name": "stdout",
     "output_type": "stream",
     "text": [
      "+--------------------+-------+----------------+----------+----------+--------------------+----+-----+--------------------+------------+-------------------+\n",
      "|            track_id|species|      track_stem|track_type|start_time|          track_name|rank|index|               label|mapped_label|        probability|\n",
      "+--------------------+-------+----------------+----------+----------+--------------------+----+-----+--------------------+------------+-------------------+\n",
      "|thrnig1/XC563365_...|thrnig1|XC563365_part003|   source3|        99|thrnig1/XC563365_...|   0| 1686|Luscinia luscinia...|     thrnig1| 0.9531567692756653|\n",
      "|eubeat1/XC584820_...|eubeat1|XC584820_part000|   source3|        39|eubeat1/XC584820_...|   0| 1787|Merops apiaster_E...|     eubeat1|  0.992747962474823|\n",
      "|blacuc1/XC420239_...|blacuc1|        XC420239|   source3|        63|blacuc1/XC420239_...|   0|  883|Cuculus clamosus_...|     blacuc1| 0.9119369387626648|\n",
      "|eaywag1/XC642065_...|eaywag1|        XC642065|   source0|       111|eaywag1/XC642065_...|   0| 1868|Motacilla flava_W...|     eaywag1| 0.5851900577545166|\n",
      "|hoopoe/XC367873_s...| hoopoe|        XC367873|   source2|         6|hoopoe/XC367873_s...|   0| 3233|Upupa epops_Euras...|      hoopoe| 0.9675107002258301|\n",
      "|combul2/XC440328_...|combul2|XC440328_part001|   source0|        90|combul2/XC440328_...|   0| 2591|Pycnonotus barbat...|     combul2|0.43702757358551025|\n",
      "|gbesta1/XC602219_...|gbesta1|        XC602219|   source0|        81|gbesta1/XC602219_...|   0| 1508|Icterus pyrrhopte...|     epaori4| 0.5584782361984253|\n",
      "|combul2/XC443484_...|combul2|XC443484_part000|   source3|        51|combul2/XC443484_...|   0| 2591|Pycnonotus barbat...|     combul2|  0.816865086555481|\n",
      "|tamdov1/XC515256_...|tamdov1|        XC515256|   source2|       126|tamdov1/XC515256_...|   0| 3213|Turtur tympanistr...|     tamdov1| 0.8997253179550171|\n",
      "|tamdov1/XC515256_...|tamdov1|        XC515256|   source2|        30|tamdov1/XC515256_...|   0| 3213|Turtur tympanistr...|     tamdov1| 0.8587538599967957|\n",
      "|eubeat1/XC392184_...|eubeat1|XC392184_part007|   source3|         0|eubeat1/XC392184_...|   0| 1787|Merops apiaster_E...|     eubeat1| 0.5943900942802429|\n",
      "|eaywag1/XC675504_...|eaywag1|        XC675504|   source0|        18|eaywag1/XC675504_...|   0| 1868|Motacilla flava_W...|     eaywag1| 0.8157906532287598|\n",
      "|hoopoe/XC278456_p...| hoopoe|XC278456_part001|   source2|        60|hoopoe/XC278456_p...|   0| 3233|Upupa epops_Euras...|      hoopoe| 0.9378969073295593|\n",
      "|reccuc1/XC208451_...|reccuc1|        XC208451|   source3|        27|reccuc1/XC208451_...|   0|  889|Cuculus solitariu...|     reccuc1| 0.9792708158493042|\n",
      "|cohmar1/XC581969_...|cohmar1|        XC581969|   source0|        45|cohmar1/XC581969_...|   0|  965|Delichon urbicum_...|     cohmar1| 0.9991554021835327|\n",
      "|rindov/XC539236_s...| rindov|        XC539236|   source3|        78|rindov/XC539236_s...|   0| 2911|Streptopelia capi...|      rindov| 0.9929289221763611|\n",
      "|hoopoe/XC716753_p...| hoopoe|XC716753_part000|   source2|       135|hoopoe/XC716753_p...|   0| 3233|Upupa epops_Euras...|      hoopoe| 0.9918568134307861|\n",
      "|hoopoe/XC716753_p...| hoopoe|XC716753_part000|   source2|        60|hoopoe/XC716753_p...|   0| 3233|Upupa epops_Euras...|      hoopoe| 0.7463425397872925|\n",
      "|thrnig1/XC557584_...|thrnig1|XC557584_part001|   source3|         3|thrnig1/XC557584_...|   0| 1686|Luscinia luscinia...|     thrnig1| 0.8014627695083618|\n",
      "|woosan/XC664811_s...| woosan|        XC664811|   source0|         6|woosan/XC664811_s...|   0| 3121|Tringa glareola_W...|      woosan| 0.8432317972183228|\n",
      "+--------------------+-------+----------------+----------+----------+--------------------+----+-----+--------------------+------------+-------------------+\n",
      "only showing top 20 rows\n",
      "\n"
     ]
    }
   ],
   "source": [
    "from pyspark.sql.functions import concat\n",
    "\n",
    "# get the highest predictions by exploding the values\n",
    "\n",
    "exploded_embeddings = (\n",
    "    df\n",
    "    # join against the highest energy channel\n",
    "    .join(\n",
    "        highest_energy_channel,\n",
    "        on=[\"species\", \"track_stem\", \"track_type\"],\n",
    "        how=\"inner\",\n",
    "    )\n",
    "    # explode the embeddings, these are ordered by confidence\n",
    "    .withColumn(\"predictions\", F.explode(\"predictions\")).select(\n",
    "        concat(df.track_name, df.start_time, df.track_type).alias(\"track_id\"),\n",
    "        \"species\",\n",
    "        \"track_stem\",\n",
    "        \"track_type\",\n",
    "        \"start_time\",\n",
    "        \"track_name\",\n",
    "        \"embedding\",\n",
    "        \"predictions.*\",\n",
    "    )\n",
    "    # simplifying assumption: we assume the prediction with the highest confidence is the true label\n",
    "    .where(\"rank = 0 and probability > 0.4\")\n",
    ")\n",
    "exploded_embeddings.drop(\"embedding\").show()"
   ]
  },
  {
   "cell_type": "code",
   "execution_count": 7,
   "metadata": {},
   "outputs": [
    {
     "name": "stderr",
     "output_type": "stream",
     "text": [
      "                                                                                \r"
     ]
    },
    {
     "name": "stdout",
     "output_type": "stream",
     "text": [
      "253\n"
     ]
    }
   ],
   "source": [
    "from collections import Counter\n",
    "\n",
    "species = [s[\"species\"] for s in exploded_embeddings.select(\"species\").collect()]\n",
    "\n",
    "cnts = Counter(species)\n",
    "for c in cnts:\n",
    "    if cnts[c] == 1:\n",
    "        species.remove(c)\n",
    "\n",
    "species = set(species)\n",
    "print(len(species))"
   ]
  },
  {
   "cell_type": "code",
   "execution_count": 8,
   "metadata": {},
   "outputs": [
    {
     "name": "stderr",
     "output_type": "stream",
     "text": [
      "                                                                                \r"
     ]
    },
    {
     "name": "stdout",
     "output_type": "stream",
     "text": [
      "+--------------------+-------+----------+----------+----------+--------------------+----+-----+--------------------+------------+--------------------+\n",
      "|            track_id|species|track_stem|track_type|start_time|          track_name|rank|index|               label|mapped_label|         probability|\n",
      "+--------------------+-------+----------+----------+----------+--------------------+----+-----+--------------------+------------+--------------------+\n",
      "|blksaw1/XC517147_...|blksaw1|  XC517147|   source0|         3|blksaw1/XC517147_...|   0| 3070|Thraupis palmarum...|     paltan1| 0.07397492229938507|\n",
      "|blksaw1/XC517147_...|blksaw1|  XC517147|   source0|         0|blksaw1/XC517147_...|   0| 3070|Thraupis palmarum...|     paltan1|0.054684724658727646|\n",
      "|blksaw1/XC292874_...|blksaw1|  XC292874|   source0|         0|blksaw1/XC292874_...|   0| 2935|Sturnus unicolor_...|     sposta1|0.060267090797424316|\n",
      "|blksaw1/XC516846_...|blksaw1|  XC516846|   source1|         6|blksaw1/XC516846_...|   0|  123|Ammospiza nelsoni...|      nstspa| 0.06618042290210724|\n",
      "|blksaw1/XC516764_...|blksaw1|  XC516764|   source2|         3|blksaw1/XC516764_...|   0| 2338|Phylloscopus sibi...|      woowar| 0.05070174112915993|\n",
      "|whctur2/XC444635_...|whctur2|  XC444635|   source2|         0|whctur2/XC444635_...|   0| 1136|       Engine_Engine|      engine| 0.06623633205890656|\n",
      "|whctur2/XC444635_...|whctur2|  XC444635|   source2|         9|whctur2/XC444635_...|   0| 1136|       Engine_Engine|      engine| 0.07712662220001221|\n",
      "|rehblu1/XC390823_...|rehblu1|  XC390823|   source0|         3|rehblu1/XC390823_...|   0| 2622|Quiscalus lugubri...|     cargra1| 0.23347043991088867|\n",
      "|rehblu1/XC390823_...|rehblu1|  XC390823|   source0|         0|rehblu1/XC390823_...|   0| 2266|Pheugopedius cora...|     corwre1| 0.15148133039474487|\n",
      "|sacibi2/XC505935_...|sacibi2|  XC505935|   source2|         6|sacibi2/XC505935_...|   0| 1022|             Dog_Dog|      dogdog| 0.05382217466831207|\n",
      "|sacibi2/XC505935_...|sacibi2|  XC505935|   source2|        18|sacibi2/XC505935_...|   0|  365|Branta canadensis...|      cangoo|0.061447158455848694|\n",
      "|sacibi2/XC505935_...|sacibi2|  XC505935|   source2|        21|sacibi2/XC505935_...|   0| 1077|Egretta garzetta_...|      litegr|  0.1003374308347702|\n",
      "|sacibi2/XC505935_...|sacibi2|  XC505935|   source2|        27|sacibi2/XC505935_...|   0| 1077|Egretta garzetta_...|      litegr|  0.2986465096473694|\n",
      "|sacibi2/XC505935_...|sacibi2|  XC505935|   source2|        15|sacibi2/XC505935_...|   0|  814|Corvus corax_Comm...|      comrav| 0.16045565903186798|\n",
      "|sacibi2/XC505935_...|sacibi2|  XC505935|   source2|        24|sacibi2/XC505935_...|   0|  486|Campylorhynchus g...|     bicwre1| 0.10634931921958923|\n",
      "|blksaw1/XC236860_...|blksaw1|  XC236860|   source2|         3|blksaw1/XC236860_...|   0| 3005|Tauraco porphyreo...|     puctur2|0.052125513553619385|\n",
      "|golher1/XC248014_...|golher1|  XC248014|   source2|         3|golher1/XC248014_...|   0|  244|Ardea herodias_Gr...|     grbher3| 0.13928687572479248|\n",
      "|golher1/XC248014_...|golher1|  XC248014|   source2|         0|golher1/XC248014_...|   0|  244|Ardea herodias_Gr...|     grbher3|  0.1282949149608612|\n",
      "|sacibi2/XC652185_...|sacibi2|  XC652185|   source0|        15|sacibi2/XC652185_...|   0| 1142|Eolophus roseicap...|       galah| 0.22323410212993622|\n",
      "|sacibi2/XC652185_...|sacibi2|  XC652185|   source0|        12|sacibi2/XC652185_...|   0| 2405|Platalea ajaja_Ro...|     rosspo1|  0.5225735306739807|\n",
      "+--------------------+-------+----------+----------+----------+--------------------+----+-----+--------------------+------------+--------------------+\n",
      "only showing top 20 rows\n",
      "\n"
     ]
    },
    {
     "name": "stderr",
     "output_type": "stream",
     "text": [
      "[Stage 50:>                                                         (0 + 4) / 4]\r"
     ]
    },
    {
     "name": "stdout",
     "output_type": "stream",
     "text": [
      "['afpkin1', 'blksaw1', 'crefra2', 'gobsta5', 'golher1', 'lotlap1', 'rehblu1', 'sacibi2', 'whctur2', 'whhsaw1', 'witswa1']\n"
     ]
    },
    {
     "name": "stderr",
     "output_type": "stream",
     "text": [
      "                                                                                \r"
     ]
    }
   ],
   "source": [
    "rare_species = (\n",
    "    df\n",
    "    # join against the highest energy channel\n",
    "    .join(\n",
    "        highest_energy_channel,\n",
    "        on=[\"species\", \"track_stem\", \"track_type\"],\n",
    "        how=\"inner\",\n",
    "    )\n",
    "    # explode the embeddings, these are ordered by confidence\n",
    "    .withColumn(\"predictions\", F.explode(\"predictions\")).select(\n",
    "        concat(df.track_name, df.start_time, df.track_type).alias(\"track_id\"),\n",
    "        \"species\",\n",
    "        \"track_stem\",\n",
    "        \"track_type\",\n",
    "        \"start_time\",\n",
    "        \"track_name\",\n",
    "        \"embedding\",\n",
    "        \"predictions.*\",\n",
    "    )\n",
    "    .filter(~df.species.isin(species))\n",
    "    # simplifying assumption: we assume the prediction with the highest confidence is the true label\n",
    "    .where(\"rank = 0 and probability > 0.05\")\n",
    ")\n",
    "rare_species.drop(\"embedding\").show()\n",
    "print(sorted(set(([s[\"species\"] for s in rare_species.select(\"species\").collect()]))))\n"
   ]
  },
  {
   "cell_type": "code",
   "execution_count": 9,
   "metadata": {},
   "outputs": [
    {
     "name": "stderr",
     "output_type": "stream",
     "text": [
      "                                                                                \r"
     ]
    },
    {
     "name": "stdout",
     "output_type": "stream",
     "text": [
      "+--------------------+-------+----------------+----------+----------+--------------------+----+-----+--------------------+------------+-------------------+\n",
      "|            track_id|species|      track_stem|track_type|start_time|          track_name|rank|index|               label|mapped_label|        probability|\n",
      "+--------------------+-------+----------------+----------+----------+--------------------+----+-----+--------------------+------------+-------------------+\n",
      "|thrnig1/XC563365_...|thrnig1|XC563365_part003|   source3|        99|thrnig1/XC563365_...|   0| 1686|Luscinia luscinia...|     thrnig1| 0.9531567692756653|\n",
      "|eubeat1/XC584820_...|eubeat1|XC584820_part000|   source3|        39|eubeat1/XC584820_...|   0| 1787|Merops apiaster_E...|     eubeat1|  0.992747962474823|\n",
      "|blacuc1/XC420239_...|blacuc1|        XC420239|   source3|        63|blacuc1/XC420239_...|   0|  883|Cuculus clamosus_...|     blacuc1| 0.9119369387626648|\n",
      "|eaywag1/XC642065_...|eaywag1|        XC642065|   source0|       111|eaywag1/XC642065_...|   0| 1868|Motacilla flava_W...|     eaywag1| 0.5851900577545166|\n",
      "|hoopoe/XC367873_s...| hoopoe|        XC367873|   source2|         6|hoopoe/XC367873_s...|   0| 3233|Upupa epops_Euras...|      hoopoe| 0.9675107002258301|\n",
      "|combul2/XC440328_...|combul2|XC440328_part001|   source0|        90|combul2/XC440328_...|   0| 2591|Pycnonotus barbat...|     combul2|0.43702757358551025|\n",
      "|gbesta1/XC602219_...|gbesta1|        XC602219|   source0|        81|gbesta1/XC602219_...|   0| 1508|Icterus pyrrhopte...|     epaori4| 0.5584782361984253|\n",
      "|combul2/XC443484_...|combul2|XC443484_part000|   source3|        51|combul2/XC443484_...|   0| 2591|Pycnonotus barbat...|     combul2|  0.816865086555481|\n",
      "|tamdov1/XC515256_...|tamdov1|        XC515256|   source2|       126|tamdov1/XC515256_...|   0| 3213|Turtur tympanistr...|     tamdov1| 0.8997253179550171|\n",
      "|tamdov1/XC515256_...|tamdov1|        XC515256|   source2|        30|tamdov1/XC515256_...|   0| 3213|Turtur tympanistr...|     tamdov1| 0.8587538599967957|\n",
      "|eubeat1/XC392184_...|eubeat1|XC392184_part007|   source3|         0|eubeat1/XC392184_...|   0| 1787|Merops apiaster_E...|     eubeat1| 0.5943900942802429|\n",
      "|eaywag1/XC675504_...|eaywag1|        XC675504|   source0|        18|eaywag1/XC675504_...|   0| 1868|Motacilla flava_W...|     eaywag1| 0.8157906532287598|\n",
      "|hoopoe/XC278456_p...| hoopoe|XC278456_part001|   source2|        60|hoopoe/XC278456_p...|   0| 3233|Upupa epops_Euras...|      hoopoe| 0.9378969073295593|\n",
      "|reccuc1/XC208451_...|reccuc1|        XC208451|   source3|        27|reccuc1/XC208451_...|   0|  889|Cuculus solitariu...|     reccuc1| 0.9792708158493042|\n",
      "|cohmar1/XC581969_...|cohmar1|        XC581969|   source0|        45|cohmar1/XC581969_...|   0|  965|Delichon urbicum_...|     cohmar1| 0.9991554021835327|\n",
      "|rindov/XC539236_s...| rindov|        XC539236|   source3|        78|rindov/XC539236_s...|   0| 2911|Streptopelia capi...|      rindov| 0.9929289221763611|\n",
      "|hoopoe/XC716753_p...| hoopoe|XC716753_part000|   source2|       135|hoopoe/XC716753_p...|   0| 3233|Upupa epops_Euras...|      hoopoe| 0.9918568134307861|\n",
      "|hoopoe/XC716753_p...| hoopoe|XC716753_part000|   source2|        60|hoopoe/XC716753_p...|   0| 3233|Upupa epops_Euras...|      hoopoe| 0.7463425397872925|\n",
      "|thrnig1/XC557584_...|thrnig1|XC557584_part001|   source3|         3|thrnig1/XC557584_...|   0| 1686|Luscinia luscinia...|     thrnig1| 0.8014627695083618|\n",
      "|woosan/XC664811_s...| woosan|        XC664811|   source0|         6|woosan/XC664811_s...|   0| 3121|Tringa glareola_W...|      woosan| 0.8432317972183228|\n",
      "+--------------------+-------+----------------+----------+----------+--------------------+----+-----+--------------------+------------+-------------------+\n",
      "only showing top 20 rows\n",
      "\n"
     ]
    }
   ],
   "source": [
    "exploded_embeddings = exploded_embeddings.union(rare_species)\n",
    "\n",
    "exploded_embeddings.drop(\"embedding\").show()"
   ]
  },
  {
   "cell_type": "code",
   "execution_count": 10,
   "metadata": {},
   "outputs": [
    {
     "name": "stderr",
     "output_type": "stream",
     "text": [
      "                                                                                \r"
     ]
    },
    {
     "data": {
      "text/plain": [
       "6.135578799859867"
      ]
     },
     "execution_count": 10,
     "metadata": {},
     "output_type": "execute_result"
    }
   ],
   "source": [
    "# percentage of clips that have a prediction of any kind\n",
    "positive = exploded_embeddings.count()\n",
    "total = df.count()\n",
    "positive / total * 100"
   ]
  },
  {
   "cell_type": "code",
   "execution_count": 11,
   "metadata": {},
   "outputs": [
    {
     "name": "stderr",
     "output_type": "stream",
     "text": [
      "                                                                                \r"
     ]
    },
    {
     "name": "stdout",
     "output_type": "stream",
     "text": [
      "23/05/13 14:33:04 WARN package: Truncated the string representation of a plan since it was too large. This behavior can be adjusted by setting 'spark.sql.debug.maxToStringFields'.\n"
     ]
    },
    {
     "name": "stderr",
     "output_type": "stream",
     "text": [
      "                                                                                \r"
     ]
    },
    {
     "name": "stdout",
     "output_type": "stream",
     "text": [
      "73551\n"
     ]
    },
    {
     "data": {
      "text/html": [
       "<div>\n",
       "<style scoped>\n",
       "    .dataframe tbody tr th:only-of-type {\n",
       "        vertical-align: middle;\n",
       "    }\n",
       "\n",
       "    .dataframe tbody tr th {\n",
       "        vertical-align: top;\n",
       "    }\n",
       "\n",
       "    .dataframe thead th {\n",
       "        text-align: right;\n",
       "    }\n",
       "</style>\n",
       "<table border=\"1\" class=\"dataframe\">\n",
       "  <thead>\n",
       "    <tr style=\"text-align: right;\">\n",
       "      <th></th>\n",
       "      <th>track_id</th>\n",
       "      <th>species</th>\n",
       "      <th>probability</th>\n",
       "      <th>embedding0</th>\n",
       "      <th>embedding1</th>\n",
       "      <th>embedding2</th>\n",
       "      <th>embedding3</th>\n",
       "      <th>embedding4</th>\n",
       "      <th>embedding5</th>\n",
       "      <th>embedding6</th>\n",
       "      <th>...</th>\n",
       "      <th>embedding310</th>\n",
       "      <th>embedding311</th>\n",
       "      <th>embedding312</th>\n",
       "      <th>embedding313</th>\n",
       "      <th>embedding314</th>\n",
       "      <th>embedding315</th>\n",
       "      <th>embedding316</th>\n",
       "      <th>embedding317</th>\n",
       "      <th>embedding318</th>\n",
       "      <th>embedding319</th>\n",
       "    </tr>\n",
       "  </thead>\n",
       "  <tbody>\n",
       "    <tr>\n",
       "      <th>0</th>\n",
       "      <td>wlwwar/XC511760_source0.mp33source0</td>\n",
       "      <td>wlwwar</td>\n",
       "      <td>0.990845</td>\n",
       "      <td>1.177170</td>\n",
       "      <td>1.746815</td>\n",
       "      <td>0.715745</td>\n",
       "      <td>2.384658</td>\n",
       "      <td>1.818686</td>\n",
       "      <td>1.827207</td>\n",
       "      <td>1.473857</td>\n",
       "      <td>...</td>\n",
       "      <td>1.126522</td>\n",
       "      <td>0.906444</td>\n",
       "      <td>0.285072</td>\n",
       "      <td>1.045414</td>\n",
       "      <td>1.230909</td>\n",
       "      <td>1.457099</td>\n",
       "      <td>0.959544</td>\n",
       "      <td>0.850391</td>\n",
       "      <td>2.009273</td>\n",
       "      <td>1.737481</td>\n",
       "    </tr>\n",
       "    <tr>\n",
       "      <th>1</th>\n",
       "      <td>afghor1/XC360437_source2.mp36source2</td>\n",
       "      <td>afghor1</td>\n",
       "      <td>0.685700</td>\n",
       "      <td>0.577780</td>\n",
       "      <td>1.400259</td>\n",
       "      <td>1.028308</td>\n",
       "      <td>0.667330</td>\n",
       "      <td>0.435210</td>\n",
       "      <td>0.775852</td>\n",
       "      <td>0.205147</td>\n",
       "      <td>...</td>\n",
       "      <td>0.557882</td>\n",
       "      <td>0.662112</td>\n",
       "      <td>1.197826</td>\n",
       "      <td>0.648741</td>\n",
       "      <td>0.404160</td>\n",
       "      <td>0.397750</td>\n",
       "      <td>0.566021</td>\n",
       "      <td>0.361707</td>\n",
       "      <td>1.284315</td>\n",
       "      <td>1.494746</td>\n",
       "    </tr>\n",
       "    <tr>\n",
       "      <th>2</th>\n",
       "      <td>fotdro5/XC338365_source3.mp333source3</td>\n",
       "      <td>fotdro5</td>\n",
       "      <td>0.401600</td>\n",
       "      <td>0.429557</td>\n",
       "      <td>0.963952</td>\n",
       "      <td>0.317579</td>\n",
       "      <td>0.731593</td>\n",
       "      <td>0.421621</td>\n",
       "      <td>1.461481</td>\n",
       "      <td>0.575758</td>\n",
       "      <td>...</td>\n",
       "      <td>2.391057</td>\n",
       "      <td>0.357111</td>\n",
       "      <td>1.558307</td>\n",
       "      <td>0.748199</td>\n",
       "      <td>1.260942</td>\n",
       "      <td>1.577218</td>\n",
       "      <td>0.716577</td>\n",
       "      <td>0.780029</td>\n",
       "      <td>1.546573</td>\n",
       "      <td>1.779061</td>\n",
       "    </tr>\n",
       "    <tr>\n",
       "      <th>3</th>\n",
       "      <td>combuz1/XC538678_source3.mp312source3</td>\n",
       "      <td>combuz1</td>\n",
       "      <td>0.997282</td>\n",
       "      <td>1.656315</td>\n",
       "      <td>0.714701</td>\n",
       "      <td>0.539804</td>\n",
       "      <td>1.122327</td>\n",
       "      <td>2.557522</td>\n",
       "      <td>1.375711</td>\n",
       "      <td>0.927457</td>\n",
       "      <td>...</td>\n",
       "      <td>2.710279</td>\n",
       "      <td>1.513208</td>\n",
       "      <td>0.790886</td>\n",
       "      <td>0.901417</td>\n",
       "      <td>1.176507</td>\n",
       "      <td>1.826294</td>\n",
       "      <td>1.698841</td>\n",
       "      <td>0.739044</td>\n",
       "      <td>0.565447</td>\n",
       "      <td>1.740610</td>\n",
       "    </tr>\n",
       "    <tr>\n",
       "      <th>4</th>\n",
       "      <td>grecor/XC323326_source3.mp3108source3</td>\n",
       "      <td>grecor</td>\n",
       "      <td>0.970848</td>\n",
       "      <td>1.704013</td>\n",
       "      <td>1.268294</td>\n",
       "      <td>0.321613</td>\n",
       "      <td>0.425985</td>\n",
       "      <td>1.554827</td>\n",
       "      <td>1.114459</td>\n",
       "      <td>0.206989</td>\n",
       "      <td>...</td>\n",
       "      <td>1.523228</td>\n",
       "      <td>0.876873</td>\n",
       "      <td>0.281301</td>\n",
       "      <td>0.832200</td>\n",
       "      <td>0.577132</td>\n",
       "      <td>0.438741</td>\n",
       "      <td>0.895232</td>\n",
       "      <td>1.552744</td>\n",
       "      <td>0.335283</td>\n",
       "      <td>1.287564</td>\n",
       "    </tr>\n",
       "  </tbody>\n",
       "</table>\n",
       "<p>5 rows × 323 columns</p>\n",
       "</div>"
      ],
      "text/plain": [
       "                                track_id  species  probability  embedding0  \\\n",
       "0    wlwwar/XC511760_source0.mp33source0   wlwwar     0.990845    1.177170   \n",
       "1   afghor1/XC360437_source2.mp36source2  afghor1     0.685700    0.577780   \n",
       "2  fotdro5/XC338365_source3.mp333source3  fotdro5     0.401600    0.429557   \n",
       "3  combuz1/XC538678_source3.mp312source3  combuz1     0.997282    1.656315   \n",
       "4  grecor/XC323326_source3.mp3108source3   grecor     0.970848    1.704013   \n",
       "\n",
       "   embedding1  embedding2  embedding3  embedding4  embedding5  embedding6  \\\n",
       "0    1.746815    0.715745    2.384658    1.818686    1.827207    1.473857   \n",
       "1    1.400259    1.028308    0.667330    0.435210    0.775852    0.205147   \n",
       "2    0.963952    0.317579    0.731593    0.421621    1.461481    0.575758   \n",
       "3    0.714701    0.539804    1.122327    2.557522    1.375711    0.927457   \n",
       "4    1.268294    0.321613    0.425985    1.554827    1.114459    0.206989   \n",
       "\n",
       "   ...  embedding310  embedding311  embedding312  embedding313  embedding314  \\\n",
       "0  ...      1.126522      0.906444      0.285072      1.045414      1.230909   \n",
       "1  ...      0.557882      0.662112      1.197826      0.648741      0.404160   \n",
       "2  ...      2.391057      0.357111      1.558307      0.748199      1.260942   \n",
       "3  ...      2.710279      1.513208      0.790886      0.901417      1.176507   \n",
       "4  ...      1.523228      0.876873      0.281301      0.832200      0.577132   \n",
       "\n",
       "   embedding315  embedding316  embedding317  embedding318  embedding319  \n",
       "0      1.457099      0.959544      0.850391      2.009273      1.737481  \n",
       "1      0.397750      0.566021      0.361707      1.284315      1.494746  \n",
       "2      1.577218      0.716577      0.780029      1.546573      1.779061  \n",
       "3      1.826294      1.698841      0.739044      0.565447      1.740610  \n",
       "4      0.438741      0.895232      1.552744      0.335283      1.287564  \n",
       "\n",
       "[5 rows x 323 columns]"
      ]
     },
     "execution_count": 11,
     "metadata": {},
     "output_type": "execute_result"
    }
   ],
   "source": [
    "from pyspark.sql.functions import rand\n",
    "\n",
    "length = len(exploded_embeddings.select(\"embedding\").take(1)[0][\"embedding\"])\n",
    "\n",
    "# explode_preds_bird_calls = exploded_embeddings.drop(\"probability\")\n",
    "explode_preds_bird_calls = exploded_embeddings.dropDuplicates([\"track_id\"])\n",
    "data = explode_preds_bird_calls.select(\n",
    "    [\"track_id\", \"species\", \"probability\"]\n",
    "    + [\n",
    "        explode_preds_bird_calls.embedding[i].alias(\"embedding\" + str(i))\n",
    "        for i in range(length)\n",
    "    ]\n",
    ")\n",
    "data = data.orderBy(rand())\n",
    "data = data.toPandas()\n",
    "print(len(data))\n",
    "data.head()"
   ]
  },
  {
   "cell_type": "code",
   "execution_count": 12,
   "metadata": {},
   "outputs": [
    {
     "name": "stdout",
     "output_type": "stream",
     "text": [
      "73551\n",
      "1198860\n"
     ]
    }
   ],
   "source": [
    "print(len(data))\n",
    "print(df.count())"
   ]
  },
  {
   "attachments": {},
   "cell_type": "markdown",
   "metadata": {},
   "source": [
    "base classifiers"
   ]
  },
  {
   "cell_type": "code",
   "execution_count": 13,
   "metadata": {},
   "outputs": [],
   "source": [
    "from sklearn.model_selection import train_test_split\n",
    "import numpy as np\n",
    "from sklearn.metrics import accuracy_score, precision_score, recall_score, f1_score, average_precision_score\n",
    "\n",
    "\n",
    "train_x, test_x, train_y, test_y = train_test_split(\n",
    "    data.loc[:, (data.columns != \"species\") & (data.columns != \"track_id\")],\n",
    "    data[\"species\"],\n",
    "    test_size=0.33,\n",
    "    stratify=data[\"species\"]\n",
    ")\n",
    "\n",
    "# train_x = pd.concat([train_x, temp.loc[:, (temp.columns != \"species\") & (temp.columns != \"track_id\")]])\n",
    "# train_y = pd.concat([train_y, temp[\"species\"]])\n",
    "\n",
    "def eval(truth, preds):\n",
    "    print(\"Average Precision (Kaggle)\", average_precision_score(truth, preds))\n",
    "    print(\"Accuracy:\", accuracy_score(truth, preds))\n",
    "    print(\n",
    "        \"Precision:\",\n",
    "        # precision_score(truth, preds, average=None),\n",
    "        precision_score(truth, preds, average=\"macro\"),\n",
    "    )\n",
    "    print(\n",
    "        \"Recall:\",\n",
    "        # recall_score(truth, preds, average=None),\n",
    "        recall_score(truth, preds, average=\"macro\"),\n",
    "    )\n",
    "    print(\n",
    "        \"F1 Score:\",\n",
    "        # f1_score(truth, preds, average=None),\n",
    "        f1_score(truth, preds, average=\"macro\"),\n",
    "    )"
   ]
  },
  {
   "cell_type": "code",
   "execution_count": 23,
   "metadata": {},
   "outputs": [
    {
     "name": "stdout",
     "output_type": "stream",
     "text": [
      "Fitting 1 folds for each of 1 candidates, totalling 1 fits\n"
     ]
    }
   ],
   "source": [
    "from sklearn.model_selection import GridSearchCV\n",
    "from sklearn.linear_model import LogisticRegression\n",
    "from skopt import BayesSearchCV\n",
    "from skopt.space import Real\n",
    "\n",
    "logs = BayesSearchCV(\n",
    "    LogisticRegression(max_iter=2000, solver='saga', penalty='elasticnet'),\n",
    "    {\n",
    "        'C': Real(1e-3, 1e+3, prior='log-uniform'),\n",
    "        'l1_ratio': Real(0, 1, prior='uniform')\n",
    "    },\n",
    "    n_iter=15,\n",
    "    scoring=\"precision_macro\",\n",
    "    n_jobs=-1,\n",
    "    n_points=1,\n",
    "    cv=zip([np.arange(0, int(len(train_x)*0.67))], [np.arange(int(len(train_x)*0.67) + 1, len(train_x))]),\n",
    "    verbose=4\n",
    ")\n",
    "\n",
    "logs.fit(train_x, train_y)\n",
    "print(logs.best_params_)\n",
    "preds = logs.predict(test_x)\n",
    "eval(test_y, preds)\n",
    "\n",
    "# params = {\n",
    "#     \"penalty\": ['l2'],\n",
    "#     \"solver\": [\"newton-cg\", \"sag\", \"lbfgs\"],\n",
    "#     \"C\": [0.01, 1, 100],\n",
    "# }\n",
    "\n",
    "\n",
    "# search = GridSearchCV(\n",
    "#     estimator=LogisticRegression(max_iter=2000), param_grid=params, scoring=\"precision_macro\", n_jobs=-1, cv=zip([np.arange(0, int(len(train_x)*0.67))], [np.arange(int(len(train_x)*0.67) + 1, len(train_x))]), verbose=4\n",
    "# )\n",
    "# search.fit(train_x, train_y)\n",
    "# print(search.best_params_)\n",
    "# preds = search.predict(test_x)\n",
    "\n",
    "# eval(test_y, preds)"
   ]
  },
  {
   "cell_type": "code",
   "execution_count": 14,
   "metadata": {},
   "outputs": [],
   "source": [
    "from xgboost import XGBClassifier\n",
    "from sklearn.preprocessing import LabelEncoder\n",
    "\n",
    "le = LabelEncoder()\n",
    "le.fit(train_y)\n",
    "\n",
    "xgbc = XGBClassifier()\n",
    "xgbc.fit(train_x, le.transform(train_y))\n",
    "preds = xgbc.predict(test_x)\n",
    "\n",
    "eval(le.transform(test_y), preds)"
   ]
  },
  {
   "attachments": {},
   "cell_type": "markdown",
   "metadata": {},
   "source": [
    "Saving models to disk"
   ]
  },
  {
   "cell_type": "code",
   "execution_count": null,
   "metadata": {},
   "outputs": [],
   "source": [
    "import pickle\n",
    "\n",
    "# pickle.dump(\n",
    "#     log, open(\"../../data/models/baseline/logistic_reg_2.pkl\", \"wb\"), protocol=2\n",
    "# )\n",
    "pickle.dump(\n",
    "    search, open(\"../../data/models/baseline/logistic_updated.pkl\", \"wb\"), protocol=3\n",
    ")"
   ]
  },
  {
   "attachments": {},
   "cell_type": "markdown",
   "metadata": {},
   "source": [
    "Generating submission.csv"
   ]
  },
  {
   "cell_type": "code",
   "execution_count": 49,
   "metadata": {},
   "outputs": [],
   "source": [
    "import pandas as pd\n",
    "\n",
    "results = log.predict_proba(test_x)\n",
    "species = sorted(set(species))\n",
    "res = []\n",
    "i = 0\n",
    "\n",
    "for row in results:\n",
    "    assert len(species) == len(row)\n",
    "    d = dict(zip(species, row))\n",
    "    d[\"row_id\"] = f\"{data.iloc[i]['track_id'][:16]}\"\n",
    "    res.append(d)\n",
    "    i += 1\n",
    "res_df = pd.DataFrame(res, columns=[\"row_id\"] + species)\n",
    "res_df.to_csv(\"../submission.csv\", index=False)"
   ]
  }
 ],
 "metadata": {
  "kernelspec": {
   "display_name": "Python 3",
   "language": "python",
   "name": "python3"
  },
  "language_info": {
   "codemirror_mode": {
    "name": "ipython",
    "version": 3
   },
   "file_extension": ".py",
   "mimetype": "text/x-python",
   "name": "python",
   "nbconvert_exporter": "python",
   "pygments_lexer": "ipython3",
   "version": "3.10.6"
  },
  "orig_nbformat": 4
 },
 "nbformat": 4,
 "nbformat_minor": 2
}
