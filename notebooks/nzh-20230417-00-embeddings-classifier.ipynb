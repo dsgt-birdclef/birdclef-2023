{
 "cells": [
  {
   "cell_type": "code",
   "execution_count": 2,
   "metadata": {},
   "outputs": [],
   "source": [
    "from birdclef.utils import get_spark\n",
    "import pyspark.sql.functions as f"
   ]
  },
  {
   "cell_type": "code",
   "execution_count": 3,
   "metadata": {},
   "outputs": [
    {
     "name": "stderr",
     "output_type": "stream",
     "text": [
      "Setting default log level to \"WARN\".\n",
      "To adjust logging level use sc.setLogLevel(newLevel). For SparkR, use setLogLevel(newLevel).\n"
     ]
    },
    {
     "name": "stdout",
     "output_type": "stream",
     "text": [
      "23/04/24 18:00:48 WARN NativeCodeLoader: Unable to load native-hadoop library for your platform... using builtin-java classes where applicable\n"
     ]
    }
   ],
   "source": [
    "spark = get_spark()"
   ]
  },
  {
   "cell_type": "code",
   "execution_count": 4,
   "metadata": {},
   "outputs": [
    {
     "name": "stderr",
     "output_type": "stream",
     "text": [
      "[Stage 1:>                                                          (0 + 1) / 1]\r"
     ]
    },
    {
     "name": "stdout",
     "output_type": "stream",
     "text": [
      "+-------+----------+----------+--------------------+--------------------+--------------------+----------+\n",
      "|species|track_stem|track_type|          track_name|           embedding|         predictions|start_time|\n",
      "+-------+----------+----------+--------------------+--------------------+--------------------+----------+\n",
      "|abhori1|  XC737347|   source2|abhori1/XC737347_...|[-9.7301635742187...|[{0, 1815, Milvag...|       195|\n",
      "|abhori1|  XC513159|   source0|abhori1/XC513159_...|[-13.383581161499...|[{0, 1847, Moloth...|        54|\n",
      "|abhori1|  XC513159|   source1|abhori1/XC513159_...|[-5.6110315322875...|[{0, 2975, Syrigm...|       111|\n",
      "|abhori1|  XC611614|   source0|abhori1/XC611614_...|[-8.1713380813598...|[{0, 1565, Lanius...|        78|\n",
      "|abhori1|  XC513159|   source0|abhori1/XC513159_...|[-15.172685623168...|[{0, 2156, Passer...|        69|\n",
      "+-------+----------+----------+--------------------+--------------------+--------------------+----------+\n",
      "only showing top 5 rows\n",
      "\n"
     ]
    },
    {
     "name": "stderr",
     "output_type": "stream",
     "text": [
      "                                                                                \r"
     ]
    }
   ],
   "source": [
    "df = spark.read.parquet(\n",
    "    \"../../data/processed/birdclef-2023/train_embeddings_consolidated_v2_sample\"\n",
    ")\n",
    "df.show(n=5)"
   ]
  },
  {
   "attachments": {},
   "cell_type": "markdown",
   "metadata": {},
   "source": [
    "Extract embeddings from source track only"
   ]
  },
  {
   "cell_type": "code",
   "execution_count": 5,
   "metadata": {},
   "outputs": [
    {
     "name": "stdout",
     "output_type": "stream",
     "text": [
      "+-------+----------+----------+--------------------+--------------------+--------------------+----------+\n",
      "|species|track_stem|track_type|          track_name|           embedding|         predictions|start_time|\n",
      "+-------+----------+----------+--------------------+--------------------+--------------------+----------+\n",
      "|abhori1|  XC641917|          |abhori1/XC641917.mp3|[-11.481126785278...|[{0, 2205, Periso...|        72|\n",
      "|abhori1|  XC611614|          |abhori1/XC611614.mp3|[-15.695769309997...|[{0, 2076, Oriolu...|         3|\n",
      "|abhori1|  XC398787|          |abhori1/XC398787.mp3|[-13.638436317443...|[{0, 2076, Oriolu...|        39|\n",
      "|abhori1|  XC737347|          |abhori1/XC737347.mp3|[-19.533819198608...|[{0, 2076, Oriolu...|        84|\n",
      "|abhori1|  XC737347|          |abhori1/XC737347.mp3|[-19.749326705932...|[{0, 2076, Oriolu...|       189|\n",
      "|abhori1|  XC398787|          |abhori1/XC398787.mp3|[-11.859894752502...|[{0, 2076, Oriolu...|         0|\n",
      "|abhori1|  XC737347|          |abhori1/XC737347.mp3|[-21.518583297729...|[{0, 2076, Oriolu...|        75|\n",
      "|abhori1|  XC737347|          |abhori1/XC737347.mp3|[-19.770784378051...|[{0, 2076, Oriolu...|       150|\n",
      "|abhori1|  XC602953|          |abhori1/XC602953.mp3|[-10.097889900207...|[{0, 2076, Oriolu...|        18|\n",
      "|abhori1|  XC737347|          |abhori1/XC737347.mp3|[-22.434242248535...|[{0, 1555, Laniar...|        12|\n",
      "|abhori1|  XC611614|          |abhori1/XC611614.mp3|[-15.915067672729...|[{0, 2076, Oriolu...|        30|\n",
      "|abhori1|  XC513159|          |abhori1/XC513159.mp3|[-8.4836721420288...|[{0, 2076, Oriolu...|         0|\n",
      "|abhori1|  XC513159|          |abhori1/XC513159.mp3|[-13.180394172668...|[{0, 2076, Oriolu...|        54|\n",
      "|abhori1|  XC737347|          |abhori1/XC737347.mp3|[-20.074771881103...|[{0, 2076, Oriolu...|        96|\n",
      "|abhori1|  XC602953|          |abhori1/XC602953.mp3|[-13.757353782653...|[{0, 2076, Oriolu...|        69|\n",
      "|abhori1|  XC513159|          |abhori1/XC513159.mp3|[-14.875592231750...|[{0, 2076, Oriolu...|        99|\n",
      "|abhori1|  XC737347|          |abhori1/XC737347.mp3|[-8.8006639480590...|[{0, 3212, Turtur...|       216|\n",
      "|abhori1|  XC737347|          |abhori1/XC737347.mp3|[-20.046503067016...|[{0, 2076, Oriolu...|       153|\n",
      "|abhori1|  XC611614|          |abhori1/XC611614.mp3|[-15.915269851684...|[{0, 2076, Oriolu...|        12|\n",
      "|abythr1|  XC366683|          |abythr1/XC366683.mp3|[-13.950959205627...|[{0, 3164, Turdus...|        33|\n",
      "+-------+----------+----------+--------------------+--------------------+--------------------+----------+\n",
      "only showing top 20 rows\n",
      "\n"
     ]
    }
   ],
   "source": [
    "source = df.filter(df[\"track_type\"] == \"\")\n",
    "source.show()\n"
   ]
  },
  {
   "attachments": {},
   "cell_type": "markdown",
   "metadata": {},
   "source": [
    "Exploded predictions"
   ]
  },
  {
   "cell_type": "code",
   "execution_count": 6,
   "metadata": {},
   "outputs": [
    {
     "name": "stdout",
     "output_type": "stream",
     "text": [
      "Row(track_name='abhori1/XC641917.mp3')\n"
     ]
    },
    {
     "data": {
      "text/plain": [
       "[Row(rank=0, index=2205, label='Perisoreus infaustus_Siberian Jay', mapped_label='sibjay1', probability=0.003058952046558261),\n",
       " Row(rank=1, index=2076, label='Oriolus larvatus_African Black-headed Oriole', mapped_label='abhori1', probability=0.0022603634279221296),\n",
       " Row(rank=2, index=3012, label='Telophorus zeylonus_Bokmakierie', mapped_label='bokmak1', probability=0.0014614507090300322),\n",
       " Row(rank=3, index=2077, label='Oriolus oriolus_Eurasian Golden Oriole', mapped_label='eugori2', probability=0.0011656048009172082),\n",
       " Row(rank=4, index=2079, label='Oriolus traillii_Maroon Oriole', mapped_label='marori2', probability=0.000852204451803118),\n",
       " Row(rank=5, index=2081, label='Oriolus xanthornus_Black-hooded Oriole', mapped_label='blhori1', probability=0.0008248982485383749),\n",
       " Row(rank=6, index=2073, label='Oriolus chinensis_Black-naped Oriole', mapped_label='blnori1', probability=0.0003854174865409732),\n",
       " Row(rank=7, index=2072, label='Oriolus brachyrynchus_Western Black-headed Oriole', mapped_label='wbhori1', probability=7.539185753557831e-05),\n",
       " Row(rank=8, index=2071, label='Oriolus auratus_African Golden Oriole', mapped_label='afgori2', probability=7.443779759341851e-05),\n",
       " Row(rank=9, index=1558, label='Laniarius major_Tropical Boubou', mapped_label='trobou1', probability=1.9416405848460272e-05)]"
      ]
     },
     "execution_count": 6,
     "metadata": {},
     "output_type": "execute_result"
    }
   ],
   "source": [
    "print(source.select(source.track_name).take(1)[0])\n",
    "\n",
    "source.select(source.predictions).take(1)[0][\"predictions\"]"
   ]
  },
  {
   "cell_type": "code",
   "execution_count": 7,
   "metadata": {},
   "outputs": [
    {
     "name": "stdout",
     "output_type": "stream",
     "text": [
      "+-------+----------+--------------------+--------------------+----------+--------------------+------------+--------------------+\n",
      "|species|track_stem|          track_name|           embedding|start_time|               label|mapped_label|         probability|\n",
      "+-------+----------+--------------------+--------------------+----------+--------------------+------------+--------------------+\n",
      "|abhori1|  XC641917|abhori1/XC641917.mp3|[-11.481126785278...|        72|Perisoreus infaus...|     sibjay1|0.003058952046558261|\n",
      "|abhori1|  XC641917|abhori1/XC641917.mp3|[-11.481126785278...|        72|Oriolus larvatus_...|     abhori1|0.002260363427922...|\n",
      "|abhori1|  XC641917|abhori1/XC641917.mp3|[-11.481126785278...|        72|Telophorus zeylon...|     bokmak1|0.001461450709030...|\n",
      "|abhori1|  XC641917|abhori1/XC641917.mp3|[-11.481126785278...|        72|Oriolus oriolus_E...|     eugori2|0.001165604800917...|\n",
      "|abhori1|  XC641917|abhori1/XC641917.mp3|[-11.481126785278...|        72|Oriolus traillii_...|     marori2| 8.52204451803118E-4|\n",
      "|abhori1|  XC641917|abhori1/XC641917.mp3|[-11.481126785278...|        72|Oriolus xanthornu...|     blhori1|8.248982485383749E-4|\n",
      "|abhori1|  XC641917|abhori1/XC641917.mp3|[-11.481126785278...|        72|Oriolus chinensis...|     blnori1|3.854174865409732E-4|\n",
      "|abhori1|  XC641917|abhori1/XC641917.mp3|[-11.481126785278...|        72|Oriolus brachyryn...|     wbhori1|7.539185753557831E-5|\n",
      "|abhori1|  XC641917|abhori1/XC641917.mp3|[-11.481126785278...|        72|Oriolus auratus_A...|     afgori2|7.443779759341851E-5|\n",
      "|abhori1|  XC641917|abhori1/XC641917.mp3|[-11.481126785278...|        72|Laniarius major_T...|     trobou1|1.941640584846027...|\n",
      "|abhori1|  XC611614|abhori1/XC611614.mp3|[-15.695769309997...|         3|Oriolus larvatus_...|     abhori1|  0.9318422675132751|\n",
      "|abhori1|  XC611614|abhori1/XC611614.mp3|[-15.695769309997...|         3|Oriolus xanthornu...|     blhori1| 0.09221190959215164|\n",
      "|abhori1|  XC611614|abhori1/XC611614.mp3|[-15.695769309997...|         3|Pheugopedius fasc...|     blbwre1|0.011515442281961441|\n",
      "|abhori1|  XC611614|abhori1/XC611614.mp3|[-15.695769309997...|         3|Oriolus flavocinc...|     greori1|0.001813878421671...|\n",
      "|abhori1|  XC611614|abhori1/XC611614.mp3|[-15.695769309997...|         3|Oriolus auratus_A...|     afgori2|0.001185690285637...|\n",
      "|abhori1|  XC611614|abhori1/XC611614.mp3|[-15.695769309997...|         3|Centropus superci...|     whbcou1|0.001108249765820...|\n",
      "|abhori1|  XC611614|abhori1/XC611614.mp3|[-15.695769309997...|         3|Laniarius major_T...|     trobou1|9.438413544557989E-4|\n",
      "|abhori1|  XC611614|abhori1/XC611614.mp3|[-15.695769309997...|         3|Cracticus quoyi_B...|     blabut1|7.719722925685346E-4|\n",
      "|abhori1|  XC611614|abhori1/XC611614.mp3|[-15.695769309997...|         3|Oriolus brachyryn...|     wbhori1|1.061475049937143...|\n",
      "|abhori1|  XC611614|abhori1/XC611614.mp3|[-15.695769309997...|         3|Streptopelia vina...|     vindov1|3.036917951249052E-5|\n",
      "+-------+----------+--------------------+--------------------+----------+--------------------+------------+--------------------+\n",
      "only showing top 20 rows\n",
      "\n"
     ]
    }
   ],
   "source": [
    "explode_preds = source.select(\"species\", \"track_stem\", \"track_name\", \"embedding\", \"start_time\", f.explode(source.predictions))\n",
    "explode_preds = explode_preds.select(\"species\", \"track_stem\", \"track_name\", \"embedding\", \"start_time\", \n",
    "                                     explode_preds.col[\"label\"].alias(\"label\"),\n",
    "                                     explode_preds.col[\"mapped_label\"].alias(\"mapped_label\"),\n",
    "                                     explode_preds.col[\"probability\"].alias(\"probability\"))\n",
    "explode_preds.show()\n",
    "\n",
    "# temp = source.select(source.track_name, f.explode(source.predictions))\n",
    "# temp = temp.select(temp.track_name, temp.col[\"label\"].alias(\"label\"), temp.col[\"mapped_label\"].alias(\"mapped_label\"), \n",
    "#                    temp.col[\"probability\"].alias(\"probability\"))\n",
    "# temp.show()\n",
    "# source.show()\n"
   ]
  },
  {
   "attachments": {},
   "cell_type": "markdown",
   "metadata": {},
   "source": [
    "Sigmoid"
   ]
  },
  {
   "cell_type": "code",
   "execution_count": 8,
   "metadata": {},
   "outputs": [
    {
     "data": {
      "image/png": "[encoded data removed]",
      "text/plain": [
       "<Figure size 640x480 with 1 Axes>"
      ]
     },
     "metadata": {},
     "output_type": "display_data"
    },
    {
     "data": {
      "image/png": "[encoded data removed]",
      "text/plain": [
       "<Figure size 640x480 with 1 Axes>"
      ]
     },
     "metadata": {},
     "output_type": "display_data"
    }
   ],
   "source": [
    "import matplotlib.pyplot as plt\n",
    "\n",
    "explode_preds_sig = explode_preds.select(\"species\", \"track_stem\", \"track_name\", \"embedding\", \"start_time\", \"label\", \"mapped_label\",\n",
    "                     (1 / (1 + f.exp(-1 * explode_preds.probability))).alias(\"probability\"))\n",
    "probs_no_sig = [x[\"probability\"] for x in explode_preds.select(\"probability\").collect()]\n",
    "plt.hist(probs_no_sig)\n",
    "plt.show()\n",
    "probs = [x[\"probability\"] for x in explode_preds_sig.select(\"probability\").collect()]\n",
    "x_axis = [i / 10 for i in range(10)]\n",
    "plt.hist(probs, range = [0, 1])\n",
    "plt.show()"
   ]
  },
  {
   "attachments": {},
   "cell_type": "markdown",
   "metadata": {},
   "source": [
    "Taking species with prob > 0.5"
   ]
  },
  {
   "cell_type": "code",
   "execution_count": 9,
   "metadata": {},
   "outputs": [
    {
     "name": "stdout",
     "output_type": "stream",
     "text": [
      "+-------+----------+--------------------+--------------------+----------+--------------------+------------+------------------+\n",
      "|species|track_stem|          track_name|           embedding|start_time|               label|mapped_label|       probability|\n",
      "+-------+----------+--------------------+--------------------+----------+--------------------+------------+------------------+\n",
      "|abhori1|  XC611614|abhori1/XC611614.mp3|[-15.695769309997...|         3|Oriolus larvatus_...|     abhori1|0.9318422675132751|\n",
      "|abhori1|  XC737347|abhori1/XC737347.mp3|[-19.533819198608...|        84|Oriolus larvatus_...|     abhori1|0.5274410843849182|\n",
      "|abhori1|  XC737347|abhori1/XC737347.mp3|[-19.749326705932...|       189|Oriolus larvatus_...|     abhori1|0.8413838744163513|\n",
      "|abhori1|  XC737347|abhori1/XC737347.mp3|[-21.518583297729...|        75|Oriolus larvatus_...|     abhori1|0.7677854895591736|\n",
      "|abhori1|  XC611614|abhori1/XC611614.mp3|[-15.915067672729...|        30|Oriolus larvatus_...|     abhori1|0.9922745823860168|\n",
      "|abhori1|  XC602953|abhori1/XC602953.mp3|[-13.757353782653...|        69|Oriolus larvatus_...|     abhori1|0.9948679208755493|\n",
      "|abhori1|  XC513159|abhori1/XC513159.mp3|[-14.875592231750...|        99|Oriolus larvatus_...|     abhori1|0.7357236742973328|\n",
      "|abhori1|  XC737347|abhori1/XC737347.mp3|[-20.046503067016...|       153|Oriolus larvatus_...|     abhori1|0.5799147486686707|\n",
      "|abhori1|  XC611614|abhori1/XC611614.mp3|[-15.915269851684...|        12|Oriolus larvatus_...|     abhori1|0.9853238463401794|\n",
      "|abythr1|  XC366683|abythr1/XC366683.mp3|[-13.950959205627...|        33|Turdus abyssinicu...|     abythr1|0.5807830095291138|\n",
      "|abythr1|  XC366683|abythr1/XC366683.mp3|[-15.360429763793...|        30|Turdus abyssinicu...|     abythr1|0.8948919773101807|\n",
      "|abhori1|  XC389623|abhori1/XC389623.mp3|[-20.718292236328...|       111|Oriolus larvatus_...|     abhori1|0.9951005578041077|\n",
      "|abhori1|  XC389623|abhori1/XC389623.mp3|[-14.357187271118...|        27|Oriolus larvatus_...|     abhori1|0.9752099514007568|\n",
      "|abhori1|  XC368179|abhori1/XC368179.mp3|[-23.123886108398...|        87|Oriolus larvatus_...|     abhori1|0.9994895458221436|\n",
      "|abhori1|  XC399447|abhori1/XC399447.mp3|[-19.589572906494...|        39|Oriolus larvatus_...|     abhori1|0.9706832766532898|\n",
      "|abhori1|  XC462061|abhori1/XC462061.mp3|[-15.173925399780...|        12|Oriolus larvatus_...|     abhori1|0.9424049854278564|\n",
      "|abythr1|  XC366683|abythr1/XC366683.mp3|[-13.181108474731...|        27|Turdus abyssinicu...|     abythr1|0.9715585112571716|\n",
      "|abythr1|  XC366683|abythr1/XC366683.mp3|[-13.181108474731...|        27|Turdus leucomelas...|     pabthr1|0.8952601552009583|\n",
      "|abhori1|  XC389623|abhori1/XC389623.mp3|[-14.417852401733...|        57|Turtur chalcospil...|     eswdov1|0.9199936389923096|\n",
      "|abhori1|  XC462061|abhori1/XC462061.mp3|[-15.939218521118...|        45|Oriolus larvatus_...|     abhori1|0.9339160919189453|\n",
      "+-------+----------+--------------------+--------------------+----------+--------------------+------------+------------------+\n",
      "only showing top 20 rows\n",
      "\n",
      "1408\n"
     ]
    }
   ],
   "source": [
    "explode_preds_bird_calls = explode_preds.filter(explode_preds[\"probability\"] >= 0.5)\n",
    "explode_preds_bird_calls.show()\n",
    "print(explode_preds_bird_calls.count())"
   ]
  },
  {
   "attachments": {},
   "cell_type": "markdown",
   "metadata": {},
   "source": [
    "parsing species name"
   ]
  },
  {
   "cell_type": "code",
   "execution_count": 10,
   "metadata": {},
   "outputs": [
    {
     "name": "stdout",
     "output_type": "stream",
     "text": [
      "{'abythr1', 'abhori1', 'abethr1'}\n",
      "2498\n"
     ]
    }
   ],
   "source": [
    "species = [s[\"species\"] for s in source.select(\"species\").collect()]\n",
    "print(set(species))\n",
    "print(len(species))"
   ]
  },
  {
   "attachments": {},
   "cell_type": "markdown",
   "metadata": {},
   "source": [
    "final dataset"
   ]
  },
  {
   "cell_type": "code",
   "execution_count": 11,
   "metadata": {},
   "outputs": [
    {
     "name": "stdout",
     "output_type": "stream",
     "text": [
      "23/04/24 18:01:15 WARN package: Truncated the string representation of a plan since it was too large. This behavior can be adjusted by setting 'spark.sql.debug.maxToStringFields'.\n"
     ]
    },
    {
     "name": "stderr",
     "output_type": "stream",
     "text": [
      "                                                                                \r"
     ]
    },
    {
     "data": {
      "text/html": [
       "<div>\n",
       "<style scoped>\n",
       "    .dataframe tbody tr th:only-of-type {\n",
       "        vertical-align: middle;\n",
       "    }\n",
       "\n",
       "    .dataframe tbody tr th {\n",
       "        vertical-align: top;\n",
       "    }\n",
       "\n",
       "    .dataframe thead th {\n",
       "        text-align: right;\n",
       "    }\n",
       "</style>\n",
       "<table border=\"1\" class=\"dataframe\">\n",
       "  <thead>\n",
       "    <tr style=\"text-align: right;\">\n",
       "      <th></th>\n",
       "      <th>species</th>\n",
       "      <th>probability</th>\n",
       "      <th>embedding[0]</th>\n",
       "      <th>embedding[1]</th>\n",
       "      <th>embedding[2]</th>\n",
       "      <th>embedding[3]</th>\n",
       "      <th>embedding[4]</th>\n",
       "      <th>embedding[5]</th>\n",
       "      <th>embedding[6]</th>\n",
       "      <th>embedding[7]</th>\n",
       "      <th>...</th>\n",
       "      <th>embedding[3327]</th>\n",
       "      <th>embedding[3328]</th>\n",
       "      <th>embedding[3329]</th>\n",
       "      <th>embedding[3330]</th>\n",
       "      <th>embedding[3331]</th>\n",
       "      <th>embedding[3332]</th>\n",
       "      <th>embedding[3333]</th>\n",
       "      <th>embedding[3334]</th>\n",
       "      <th>embedding[3335]</th>\n",
       "      <th>embedding[3336]</th>\n",
       "    </tr>\n",
       "  </thead>\n",
       "  <tbody>\n",
       "    <tr>\n",
       "      <th>0</th>\n",
       "      <td>abhori1</td>\n",
       "      <td>0.931842</td>\n",
       "      <td>-15.695769</td>\n",
       "      <td>-14.175133</td>\n",
       "      <td>-14.107721</td>\n",
       "      <td>-15.785131</td>\n",
       "      <td>-15.412916</td>\n",
       "      <td>-14.258154</td>\n",
       "      <td>-16.648735</td>\n",
       "      <td>-17.852036</td>\n",
       "      <td>...</td>\n",
       "      <td>-13.420475</td>\n",
       "      <td>-14.661019</td>\n",
       "      <td>-12.913609</td>\n",
       "      <td>-12.781441</td>\n",
       "      <td>-11.813440</td>\n",
       "      <td>-16.250906</td>\n",
       "      <td>-12.645384</td>\n",
       "      <td>-13.045488</td>\n",
       "      <td>-12.198296</td>\n",
       "      <td>-15.637187</td>\n",
       "    </tr>\n",
       "    <tr>\n",
       "      <th>1</th>\n",
       "      <td>abhori1</td>\n",
       "      <td>0.527441</td>\n",
       "      <td>-19.533819</td>\n",
       "      <td>-16.186634</td>\n",
       "      <td>-12.176779</td>\n",
       "      <td>-11.817211</td>\n",
       "      <td>-15.650982</td>\n",
       "      <td>-14.040951</td>\n",
       "      <td>-14.823906</td>\n",
       "      <td>-16.595118</td>\n",
       "      <td>...</td>\n",
       "      <td>-12.638477</td>\n",
       "      <td>-15.555634</td>\n",
       "      <td>-15.871542</td>\n",
       "      <td>-12.380343</td>\n",
       "      <td>-9.460049</td>\n",
       "      <td>-14.972944</td>\n",
       "      <td>-14.483743</td>\n",
       "      <td>-9.331749</td>\n",
       "      <td>-12.910712</td>\n",
       "      <td>-11.881019</td>\n",
       "    </tr>\n",
       "    <tr>\n",
       "      <th>2</th>\n",
       "      <td>abhori1</td>\n",
       "      <td>0.841384</td>\n",
       "      <td>-19.749327</td>\n",
       "      <td>-15.550808</td>\n",
       "      <td>-11.639582</td>\n",
       "      <td>-12.933417</td>\n",
       "      <td>-18.489109</td>\n",
       "      <td>-17.498230</td>\n",
       "      <td>-17.191210</td>\n",
       "      <td>-17.753681</td>\n",
       "      <td>...</td>\n",
       "      <td>-14.857538</td>\n",
       "      <td>-16.427847</td>\n",
       "      <td>-15.909166</td>\n",
       "      <td>-11.827403</td>\n",
       "      <td>-13.136386</td>\n",
       "      <td>-17.146564</td>\n",
       "      <td>-15.114254</td>\n",
       "      <td>-10.958441</td>\n",
       "      <td>-14.703631</td>\n",
       "      <td>-13.515043</td>\n",
       "    </tr>\n",
       "    <tr>\n",
       "      <th>3</th>\n",
       "      <td>abhori1</td>\n",
       "      <td>0.767785</td>\n",
       "      <td>-21.518583</td>\n",
       "      <td>-18.931110</td>\n",
       "      <td>-13.217918</td>\n",
       "      <td>-11.979479</td>\n",
       "      <td>-14.901256</td>\n",
       "      <td>-15.360685</td>\n",
       "      <td>-17.736120</td>\n",
       "      <td>-15.968261</td>\n",
       "      <td>...</td>\n",
       "      <td>-14.281636</td>\n",
       "      <td>-15.552175</td>\n",
       "      <td>-16.286346</td>\n",
       "      <td>-12.225875</td>\n",
       "      <td>-13.201905</td>\n",
       "      <td>-16.558741</td>\n",
       "      <td>-14.998167</td>\n",
       "      <td>-12.965591</td>\n",
       "      <td>-14.886533</td>\n",
       "      <td>-13.775451</td>\n",
       "    </tr>\n",
       "    <tr>\n",
       "      <th>4</th>\n",
       "      <td>abhori1</td>\n",
       "      <td>0.992275</td>\n",
       "      <td>-15.915068</td>\n",
       "      <td>-13.532173</td>\n",
       "      <td>-13.717117</td>\n",
       "      <td>-11.389903</td>\n",
       "      <td>-12.852736</td>\n",
       "      <td>-11.249538</td>\n",
       "      <td>-14.087188</td>\n",
       "      <td>-13.257503</td>\n",
       "      <td>...</td>\n",
       "      <td>-13.322052</td>\n",
       "      <td>-12.597613</td>\n",
       "      <td>-10.335143</td>\n",
       "      <td>-13.245964</td>\n",
       "      <td>-11.704409</td>\n",
       "      <td>-15.318541</td>\n",
       "      <td>-14.019773</td>\n",
       "      <td>-10.212161</td>\n",
       "      <td>-11.268396</td>\n",
       "      <td>-11.581400</td>\n",
       "    </tr>\n",
       "  </tbody>\n",
       "</table>\n",
       "<p>5 rows × 3339 columns</p>\n",
       "</div>"
      ],
      "text/plain": [
       "   species  probability  embedding[0]  embedding[1]  embedding[2]  \\\n",
       "0  abhori1     0.931842    -15.695769    -14.175133    -14.107721   \n",
       "1  abhori1     0.527441    -19.533819    -16.186634    -12.176779   \n",
       "2  abhori1     0.841384    -19.749327    -15.550808    -11.639582   \n",
       "3  abhori1     0.767785    -21.518583    -18.931110    -13.217918   \n",
       "4  abhori1     0.992275    -15.915068    -13.532173    -13.717117   \n",
       "\n",
       "   embedding[3]  embedding[4]  embedding[5]  embedding[6]  embedding[7]  ...  \\\n",
       "0    -15.785131    -15.412916    -14.258154    -16.648735    -17.852036  ...   \n",
       "1    -11.817211    -15.650982    -14.040951    -14.823906    -16.595118  ...   \n",
       "2    -12.933417    -18.489109    -17.498230    -17.191210    -17.753681  ...   \n",
       "3    -11.979479    -14.901256    -15.360685    -17.736120    -15.968261  ...   \n",
       "4    -11.389903    -12.852736    -11.249538    -14.087188    -13.257503  ...   \n",
       "\n",
       "   embedding[3327]  embedding[3328]  embedding[3329]  embedding[3330]  \\\n",
       "0       -13.420475       -14.661019       -12.913609       -12.781441   \n",
       "1       -12.638477       -15.555634       -15.871542       -12.380343   \n",
       "2       -14.857538       -16.427847       -15.909166       -11.827403   \n",
       "3       -14.281636       -15.552175       -16.286346       -12.225875   \n",
       "4       -13.322052       -12.597613       -10.335143       -13.245964   \n",
       "\n",
       "   embedding[3331]  embedding[3332]  embedding[3333]  embedding[3334]  \\\n",
       "0       -11.813440       -16.250906       -12.645384       -13.045488   \n",
       "1        -9.460049       -14.972944       -14.483743        -9.331749   \n",
       "2       -13.136386       -17.146564       -15.114254       -10.958441   \n",
       "3       -13.201905       -16.558741       -14.998167       -12.965591   \n",
       "4       -11.704409       -15.318541       -14.019773       -10.212161   \n",
       "\n",
       "   embedding[3335]  embedding[3336]  \n",
       "0       -12.198296       -15.637187  \n",
       "1       -12.910712       -11.881019  \n",
       "2       -14.703631       -13.515043  \n",
       "3       -14.886533       -13.775451  \n",
       "4       -11.268396       -11.581400  \n",
       "\n",
       "[5 rows x 3339 columns]"
      ]
     },
     "execution_count": 11,
     "metadata": {},
     "output_type": "execute_result"
    }
   ],
   "source": [
    "data = explode_preds_bird_calls.select([\"species\", \"probability\"] + [explode_preds_bird_calls.embedding[i] for i in range(3337)])\n",
    "data = data.toPandas()\n",
    "data.head()"
   ]
  },
  {
   "attachments": {},
   "cell_type": "markdown",
   "metadata": {},
   "source": [
    "classifier?"
   ]
  },
  {
   "cell_type": "code",
   "execution_count": 12,
   "metadata": {},
   "outputs": [],
   "source": [
    "from sklearn.model_selection import train_test_split\n",
    "\n",
    "train_x, test_x, train_y, test_y = train_test_split(data.loc[:, data.columns != \"species\"], data[\"species\"], test_size=0.25)"
   ]
  },
  {
   "cell_type": "code",
   "execution_count": 13,
   "metadata": {},
   "outputs": [
    {
     "name": "stdout",
     "output_type": "stream",
     "text": [
      "0.9801136363636364\n"
     ]
    }
   ],
   "source": [
    "from sklearn.tree import DecisionTreeClassifier\n",
    "\n",
    "treeClassifier = DecisionTreeClassifier()\n",
    "treeClassifier.fit(train_x, train_y)\n",
    "\n",
    "print(treeClassifier.score(test_x, test_y))\n"
   ]
  },
  {
   "cell_type": "code",
   "execution_count": 14,
   "metadata": {},
   "outputs": [
    {
     "name": "stdout",
     "output_type": "stream",
     "text": [
      "0.9886363636363636\n"
     ]
    }
   ],
   "source": [
    "from sklearn.neighbors import KNeighborsClassifier\n",
    "\n",
    "knn = KNeighborsClassifier(n_neighbors=5)\n",
    "knn.fit(train_x, train_y)\n",
    "print(knn.score(test_x, test_y))"
   ]
  },
  {
   "cell_type": "code",
   "execution_count": null,
   "metadata": {},
   "outputs": [],
   "source": []
  }
 ],
 "metadata": {
  "kernelspec": {
   "display_name": "Python 3",
   "language": "python",
   "name": "python3"
  },
  "language_info": {
   "codemirror_mode": {
    "name": "ipython",
    "version": 3
   },
   "file_extension": ".py",
   "mimetype": "text/x-python",
   "name": "python",
   "nbconvert_exporter": "python",
   "pygments_lexer": "ipython3",
   "version": "3.10.6"
  },
  "orig_nbformat": 4
 },
 "nbformat": 4,
 "nbformat_minor": 2
}
