{
 "cells": [
  {
   "cell_type": "code",
   "execution_count": 1,
   "metadata": {},
   "outputs": [],
   "source": [
    "from birdclef.utils import get_spark\n",
    "import pyspark.sql.functions as F"
   ]
  },
  {
   "cell_type": "code",
   "execution_count": 2,
   "metadata": {},
   "outputs": [
    {
     "name": "stderr",
     "output_type": "stream",
     "text": [
      "Setting default log level to \"WARN\".\n",
      "To adjust logging level use sc.setLogLevel(newLevel). For SparkR, use setLogLevel(newLevel).\n"
     ]
    },
    {
     "name": "stdout",
     "output_type": "stream",
     "text": [
      "23/05/10 01:17:48 WARN NativeCodeLoader: Unable to load native-hadoop library for your platform... using builtin-java classes where applicable\n"
     ]
    }
   ],
   "source": [
    "spark = get_spark()"
   ]
  },
  {
   "cell_type": "code",
   "execution_count": 27,
   "metadata": {},
   "outputs": [
    {
     "name": "stdout",
     "output_type": "stream",
     "text": [
      "+-------+----------+----------+--------------------+--------------------+--------------------+--------------------+----------+-------------------+\n",
      "|species|track_stem|track_type|          track_name|           embedding|      prediction_vec|         predictions|start_time|             energy|\n",
      "+-------+----------+----------+--------------------+--------------------+--------------------+--------------------+----------+-------------------+\n",
      "|malkin1|  XC132986|  original|malkin1/XC132986.mp3|[0.75343722105026...|[-10.260432243347...|[{0, 2342, Phyllo...|        36|0.25369036197662354|\n",
      "|refwar2|  XC128009|   source1|refwar2/XC128009_...|[0.19527475535869...|[-9.6245841979980...|[{0, 684, Cinclor...|        36| 20.364137649536133|\n",
      "|malkin1|  XC132986|  original|malkin1/XC132986.mp3|[1.32953834533691...|[-13.427273750305...|[{0, 890, Culicic...|        69|0.18416672945022583|\n",
      "|refwar2|  XC128009|  original|refwar2/XC128009.mp3|[1.89621150493621...|[-17.041515350341...|[{0, 185, Anthus ...|        99|  2101.175048828125|\n",
      "|refwar2|  XC128009|   source3|refwar2/XC128009_...|[0.73843997716903...|[-12.684206008911...|[{0, 3284, Xenoda...|        54|  5.671290874481201|\n",
      "+-------+----------+----------+--------------------+--------------------+--------------------+--------------------+----------+-------------------+\n",
      "only showing top 5 rows\n",
      "\n"
     ]
    }
   ],
   "source": [
    "df = spark.read.parquet(\"../../data/processed/birdclef-2023/consolidated_v3_sample\")\n",
    "df.show(n=5)"
   ]
  },
  {
   "cell_type": "code",
   "execution_count": 28,
   "metadata": {},
   "outputs": [
    {
     "data": {
      "image/png": "[encoded data removed]",
      "text/plain": [
       "<Figure size 640x480 with 1 Axes>"
      ]
     },
     "metadata": {},
     "output_type": "display_data"
    }
   ],
   "source": [
    "import matplotlib.pyplot as plt\n",
    "\n",
    "energies = [x[\"energy\"] for x in df.select(\"energy\").collect()]\n",
    "\n",
    "plt.hist(energies, bins=[250 * x for x in range(14)])\n",
    "plt.show()"
   ]
  },
  {
   "attachments": {},
   "cell_type": "markdown",
   "metadata": {},
   "source": [
    "Exploded predictions"
   ]
  },
  {
   "cell_type": "code",
   "execution_count": 30,
   "metadata": {},
   "outputs": [
    {
     "name": "stdout",
     "output_type": "stream",
     "text": [
      "Row(track_name='malkin1/XC132986.mp3')\n"
     ]
    },
    {
     "data": {
      "text/plain": [
       "[Row(rank=0, index=2342, label='Phylloscopus trochiloides_Greenish Warbler', mapped_label='grewar3', probability=0.14227834343910217),\n",
       " Row(rank=1, index=1068, label='Ducula badia_Mountain Imperial-Pigeon', mapped_label='moipig1', probability=0.09622656553983688),\n",
       " Row(rank=2, index=1702, label='Macropygia ruficeps_Little Cuckoo-Dove', mapped_label='licdov1', probability=0.038490768522024155),\n",
       " Row(rank=3, index=359, label='Brachypteryx leucophris_Lesser Shortwing', mapped_label='lessho1', probability=0.018337246030569077),\n",
       " Row(rank=4, index=360, label='Brachypteryx montana_White-browed Shortwing', mapped_label='whbsho12', probability=0.006928994785994291),\n",
       " Row(rank=5, index=2335, label='Phylloscopus pulcher_Buff-barred Warbler', mapped_label='bubwar1', probability=0.005631797481328249),\n",
       " Row(rank=6, index=1588, label='Larvivora brunnea_Indian Blue Robin', mapped_label='inbrob1', probability=0.005230042617768049),\n",
       " Row(rank=7, index=890, label='Culicicapa ceylonensis_Gray-headed Canary-Flycatcher', mapped_label='gyhcaf1', probability=0.004220428876578808),\n",
       " Row(rank=8, index=1217, label='Ficedula westermanni_Little Pied Flycatcher', mapped_label='lipfly1', probability=0.004019459243863821),\n",
       " Row(rank=9, index=2316, label='Phylloscopus castaniceps_Chestnut-crowned Warbler', mapped_label='chcwar2', probability=0.0028943561483174562)]"
      ]
     },
     "execution_count": 30,
     "metadata": {},
     "output_type": "execute_result"
    }
   ],
   "source": [
    "print(df.select(df.track_name).take(1)[0])\n",
    "\n",
    "df.select(df.predictions).take(1)[0][\"predictions\"]"
   ]
  },
  {
   "cell_type": "code",
   "execution_count": 31,
   "metadata": {},
   "outputs": [
    {
     "name": "stdout",
     "output_type": "stream",
     "text": [
      "+--------------------+--------------------+-------+--------------------+--------------------+------------+--------------------+\n",
      "|            track_id|          track_name|species|           embedding|               label|mapped_label|         probability|\n",
      "+--------------------+--------------------+-------+--------------------+--------------------+------------+--------------------+\n",
      "|malkin1/XC132986....|malkin1/XC132986.mp3|malkin1|[0.75343722105026...|Phylloscopus troc...|     grewar3| 0.14227834343910217|\n",
      "|malkin1/XC132986....|malkin1/XC132986.mp3|malkin1|[0.75343722105026...|Ducula badia_Moun...|     moipig1| 0.09622656553983688|\n",
      "|malkin1/XC132986....|malkin1/XC132986.mp3|malkin1|[0.75343722105026...|Macropygia rufice...|     licdov1|0.038490768522024155|\n",
      "|malkin1/XC132986....|malkin1/XC132986.mp3|malkin1|[0.75343722105026...|Brachypteryx leuc...|     lessho1|0.018337246030569077|\n",
      "|malkin1/XC132986....|malkin1/XC132986.mp3|malkin1|[0.75343722105026...|Brachypteryx mont...|    whbsho12|0.006928994785994291|\n",
      "|malkin1/XC132986....|malkin1/XC132986.mp3|malkin1|[0.75343722105026...|Phylloscopus pulc...|     bubwar1|0.005631797481328249|\n",
      "|malkin1/XC132986....|malkin1/XC132986.mp3|malkin1|[0.75343722105026...|Larvivora brunnea...|     inbrob1|0.005230042617768049|\n",
      "|malkin1/XC132986....|malkin1/XC132986.mp3|malkin1|[0.75343722105026...|Culicicapa ceylon...|     gyhcaf1|0.004220428876578808|\n",
      "|malkin1/XC132986....|malkin1/XC132986.mp3|malkin1|[0.75343722105026...|Ficedula westerma...|     lipfly1|0.004019459243863821|\n",
      "|malkin1/XC132986....|malkin1/XC132986.mp3|malkin1|[0.75343722105026...|Phylloscopus cast...|     chcwar2|0.002894356148317...|\n",
      "|refwar2/XC128009_...|refwar2/XC128009_...|refwar2|[0.19527475535869...|Cincloramphus tim...|     tawgra3|0.009071148000657558|\n",
      "|refwar2/XC128009_...|refwar2/XC128009_...|refwar2|[0.19527475535869...|Phylloscopus triv...|     mouwar2|0.003600701922550...|\n",
      "|refwar2/XC128009_...|refwar2/XC128009_...|refwar2|[0.19527475535869...|Vermivora chrysop...|      gowwar|0.003418316598981619|\n",
      "|refwar2/XC128009_...|refwar2/XC128009_...|refwar2|[0.19527475535869...|Cistothorus stell...|     sedwre1|0.002931338269263506|\n",
      "|refwar2/XC128009_...|refwar2/XC128009_...|refwar2|[0.19527475535869...|Cistothorus plate...|      sedwre|0.001278864685446024|\n",
      "|refwar2/XC128009_...|refwar2/XC128009_...|refwar2|[0.19527475535869...|Brachypteryx leuc...|     lessho1|3.827429900411516...|\n",
      "|refwar2/XC128009_...|refwar2/XC128009_...|refwar2|[0.19527475535869...|Emberizoides ypir...|     lesgrf1|2.836520434357226E-4|\n",
      "|refwar2/XC128009_...|refwar2/XC128009_...|refwar2|[0.19527475535869...|Cyanoderma erythr...|     chwbab1|2.233149716630578E-4|\n",
      "|refwar2/XC128009_...|refwar2/XC128009_...|refwar2|[0.19527475535869...|Pellorneum malacc...|     shtbab1|1.159774983534589...|\n",
      "|refwar2/XC128009_...|refwar2/XC128009_...|refwar2|[0.19527475535869...|Stachyris nigrice...|     gytbab1|1.004490986815653...|\n",
      "+--------------------+--------------------+-------+--------------------+--------------------+------------+--------------------+\n",
      "only showing top 20 rows\n",
      "\n"
     ]
    }
   ],
   "source": [
    "from pyspark.sql.functions import concat\n",
    "\n",
    "explode_preds = df.select(\n",
    "    \"species\",\n",
    "    \"track_stem\",\n",
    "    \"track_name\",\n",
    "    \"embedding\",\n",
    "    \"start_time\",\n",
    "    \"track_type\",\n",
    "    F.explode(df.predictions).alias(\"col\"),\n",
    ")\n",
    "explode_preds = explode_preds.select(\n",
    "    concat(\n",
    "        explode_preds.track_name, explode_preds.start_time, explode_preds.track_type\n",
    "    ).alias(\"track_id\"),\n",
    "    \"track_name\",\n",
    "    \"species\",\n",
    "    \"embedding\",\n",
    "    explode_preds.col.label.alias(\"label\"),\n",
    "    explode_preds.col.mapped_label.alias(\"mapped_label\"),\n",
    "    explode_preds.col.probability.alias(\"probability\"),\n",
    ")\n",
    "explode_preds.show()"
   ]
  },
  {
   "attachments": {},
   "cell_type": "markdown",
   "metadata": {},
   "source": [
    "Visualizing Distribution of Probability"
   ]
  },
  {
   "cell_type": "code",
   "execution_count": 50,
   "metadata": {},
   "outputs": [
    {
     "data": {
      "image/png": "[encoded data removed]",
      "text/plain": [
       "<Figure size 640x480 with 1 Axes>"
      ]
     },
     "metadata": {},
     "output_type": "display_data"
    }
   ],
   "source": [
    "import matplotlib.pyplot as plt\n",
    "\n",
    "probs_no_sig = [x[\"probability\"] for x in explode_preds.select(\"probability\").collect()]\n",
    "plt.hist(probs_no_sig)\n",
    "plt.show()"
   ]
  },
  {
   "attachments": {},
   "cell_type": "markdown",
   "metadata": {},
   "source": [
    "Taking rows with prob > 0.5"
   ]
  },
  {
   "cell_type": "code",
   "execution_count": 33,
   "metadata": {},
   "outputs": [
    {
     "name": "stdout",
     "output_type": "stream",
     "text": [
      "+--------------------+--------------------+-------+--------------------+--------------------+------------+------------------+\n",
      "|            track_id|          track_name|species|           embedding|               label|mapped_label|       probability|\n",
      "+--------------------+--------------------+-------+--------------------+--------------------+------------+------------------+\n",
      "|refwar2/XC596322_...|refwar2/XC596322_...|refwar2|[0.99149847030639...|Human vocal_Human...|      humvoc|0.6938544511795044|\n",
      "|refwar2/XC525931_...|refwar2/XC525931_...|refwar2|[1.43871796131134...|Prinia sylvatica_...|     junpri1|0.8636960387229919|\n",
      "|malkin1/XC369825_...|malkin1/XC369825_...|malkin1|[1.16651332378387...|Limnothlypis swai...|      swawar|0.5569329857826233|\n",
      "|malkin1/XC574560....|malkin1/XC574560.mp3|malkin1|[1.23353230953216...|Cinnyris jugulari...|     olbsun4|0.6094335913658142|\n",
      "|malkin1/XC132991....|malkin1/XC132991.mp3|malkin1|[1.14792478084564...|Phylloscopus orie...|     eabwar1|0.5228896737098694|\n",
      "|bltapa1/XC289706_...|bltapa1/XC289706_...|bltapa1|[0.71383780241012...|Xiphorhynchus sus...|     cocwoo1|0.8647496104240417|\n",
      "|bltapa1/XC289706_...|bltapa1/XC289706_...|bltapa1|[0.98918461799621...|Xiphorhynchus sus...|     cocwoo1| 0.801962673664093|\n",
      "|bltapa1/XC289706_...|bltapa1/XC289706_...|bltapa1|[0.98918461799621...|Furnarius leucopu...|     palhor2| 0.627217173576355|\n",
      "|malkin1/XC307594....|malkin1/XC307594.mp3|malkin1|[1.07799017429351...|Anthus spinoletta...|     watpip1| 0.879819929599762|\n",
      "|refwar2/XC525931_...|refwar2/XC525931_...|refwar2|[1.09649407863616...|Prinia sylvatica_...|     junpri1|0.6881818771362305|\n",
      "|malkin1/XC547973_...|malkin1/XC547973_...|malkin1|[1.62626707553863...|Auriparus flavice...|      verdin|0.7102518677711487|\n",
      "|refwar2/XC128009....|refwar2/XC128009.mp3|refwar2|[1.69489586353302...|Anthus pratensis_...|     meapip1|0.6515790224075317|\n",
      "|refwar2/XC128009....|refwar2/XC128009.mp3|refwar2|[1.69489586353302...|Prinia inornata_P...|     plapri1| 0.607141375541687|\n",
      "|bltapa1/XC289706....|bltapa1/XC289706.mp3|bltapa1|[1.50694429874420...|Xiphorhynchus sus...|     cocwoo1|0.8408746719360352|\n",
      "|malkin1/XC404445_...|malkin1/XC404445_...|malkin1|[1.69940221309661...|Atlapetes pileatu...|     rcbfin1|0.5260032415390015|\n",
      "|malkin1/XC369825_...|malkin1/XC369825_...|malkin1|[1.50728714466094...|Eugenes fulgens_R...|     maghum1|0.5614622831344604|\n",
      "|malkin1/XC132991_...|malkin1/XC132991_...|malkin1|[0.73143559694290...|Megascops albogul...|     whtsco1|0.7207900881767273|\n",
      "|refwar2/XC596322_...|refwar2/XC596322_...|refwar2|[0.35633978247642...|Human vocal_Human...|      humvoc| 0.745672881603241|\n",
      "|malkin1/XC371182_...|malkin1/XC371182_...|malkin1|[0.47538444399833...|Pycnonotus barbat...|     combul2|0.8933798670768738|\n",
      "|malkin1/XC515910_...|malkin1/XC515910_...|malkin1|[1.54663288593292...|Eugenes fulgens_R...|     maghum1|0.8457401394844055|\n",
      "+--------------------+--------------------+-------+--------------------+--------------------+------------+------------------+\n",
      "only showing top 20 rows\n",
      "\n",
      "127\n"
     ]
    }
   ],
   "source": [
    "explode_preds_bird_calls = explode_preds.filter(explode_preds.probability > 0.5)\n",
    "explode_preds_bird_calls.show()\n",
    "print(explode_preds_bird_calls.count())"
   ]
  },
  {
   "attachments": {},
   "cell_type": "markdown",
   "metadata": {},
   "source": [
    "parsing species name"
   ]
  },
  {
   "cell_type": "code",
   "execution_count": 34,
   "metadata": {},
   "outputs": [
    {
     "data": {
      "image/png": "[encoded data removed]",
      "text/plain": [
       "<Figure size 640x480 with 1 Axes>"
      ]
     },
     "metadata": {},
     "output_type": "display_data"
    }
   ],
   "source": [
    "species = [s[\"species\"] for s in explode_preds_bird_calls.select(\"species\").collect()]\n",
    "species_count = dict()\n",
    "for s in species:\n",
    "    species_count[s] = species_count.get(s, 0) + 1\n",
    "plt.bar(list(species_count.keys()), list(species_count.values()))\n",
    "plt.show()"
   ]
  },
  {
   "attachments": {},
   "cell_type": "markdown",
   "metadata": {},
   "source": [
    "final dataset"
   ]
  },
  {
   "cell_type": "code",
   "execution_count": 35,
   "metadata": {},
   "outputs": [
    {
     "name": "stdout",
     "output_type": "stream",
     "text": [
      "121\n"
     ]
    },
    {
     "data": {
      "text/html": [
       "<div>\n",
       "<style scoped>\n",
       "    .dataframe tbody tr th:only-of-type {\n",
       "        vertical-align: middle;\n",
       "    }\n",
       "\n",
       "    .dataframe tbody tr th {\n",
       "        vertical-align: top;\n",
       "    }\n",
       "\n",
       "    .dataframe thead th {\n",
       "        text-align: right;\n",
       "    }\n",
       "</style>\n",
       "<table border=\"1\" class=\"dataframe\">\n",
       "  <thead>\n",
       "    <tr style=\"text-align: right;\">\n",
       "      <th></th>\n",
       "      <th>track_id</th>\n",
       "      <th>species</th>\n",
       "      <th>embedding0</th>\n",
       "      <th>embedding1</th>\n",
       "      <th>embedding2</th>\n",
       "      <th>embedding3</th>\n",
       "      <th>embedding4</th>\n",
       "      <th>embedding5</th>\n",
       "      <th>embedding6</th>\n",
       "      <th>embedding7</th>\n",
       "      <th>...</th>\n",
       "      <th>embedding310</th>\n",
       "      <th>embedding311</th>\n",
       "      <th>embedding312</th>\n",
       "      <th>embedding313</th>\n",
       "      <th>embedding314</th>\n",
       "      <th>embedding315</th>\n",
       "      <th>embedding316</th>\n",
       "      <th>embedding317</th>\n",
       "      <th>embedding318</th>\n",
       "      <th>embedding319</th>\n",
       "    </tr>\n",
       "  </thead>\n",
       "  <tbody>\n",
       "    <tr>\n",
       "      <th>0</th>\n",
       "      <td>bltapa1/XC289706_source3.mp33source3</td>\n",
       "      <td>bltapa1</td>\n",
       "      <td>0.747837</td>\n",
       "      <td>0.826928</td>\n",
       "      <td>0.920046</td>\n",
       "      <td>0.107157</td>\n",
       "      <td>0.802774</td>\n",
       "      <td>0.766423</td>\n",
       "      <td>1.526463</td>\n",
       "      <td>0.315954</td>\n",
       "      <td>...</td>\n",
       "      <td>0.767657</td>\n",
       "      <td>0.458525</td>\n",
       "      <td>0.785656</td>\n",
       "      <td>1.492056</td>\n",
       "      <td>0.392541</td>\n",
       "      <td>0.196696</td>\n",
       "      <td>0.636081</td>\n",
       "      <td>0.831117</td>\n",
       "      <td>0.717517</td>\n",
       "      <td>1.051443</td>\n",
       "    </tr>\n",
       "    <tr>\n",
       "      <th>1</th>\n",
       "      <td>malkin1/XC515910_source0.mp321source0</td>\n",
       "      <td>malkin1</td>\n",
       "      <td>1.475721</td>\n",
       "      <td>1.143599</td>\n",
       "      <td>0.831729</td>\n",
       "      <td>0.853280</td>\n",
       "      <td>1.068583</td>\n",
       "      <td>1.012339</td>\n",
       "      <td>0.675018</td>\n",
       "      <td>0.666281</td>\n",
       "      <td>...</td>\n",
       "      <td>1.713068</td>\n",
       "      <td>0.863107</td>\n",
       "      <td>0.731349</td>\n",
       "      <td>1.507534</td>\n",
       "      <td>0.610455</td>\n",
       "      <td>0.909536</td>\n",
       "      <td>1.500529</td>\n",
       "      <td>0.346067</td>\n",
       "      <td>0.712522</td>\n",
       "      <td>0.561404</td>\n",
       "    </tr>\n",
       "    <tr>\n",
       "      <th>2</th>\n",
       "      <td>malkin1/XC515910.mp336original</td>\n",
       "      <td>malkin1</td>\n",
       "      <td>1.250038</td>\n",
       "      <td>1.441285</td>\n",
       "      <td>0.517047</td>\n",
       "      <td>0.769446</td>\n",
       "      <td>0.914989</td>\n",
       "      <td>0.045104</td>\n",
       "      <td>0.266528</td>\n",
       "      <td>0.394065</td>\n",
       "      <td>...</td>\n",
       "      <td>1.806681</td>\n",
       "      <td>1.303210</td>\n",
       "      <td>0.659017</td>\n",
       "      <td>0.718031</td>\n",
       "      <td>0.155429</td>\n",
       "      <td>1.212442</td>\n",
       "      <td>1.867978</td>\n",
       "      <td>0.354417</td>\n",
       "      <td>0.955492</td>\n",
       "      <td>0.199649</td>\n",
       "    </tr>\n",
       "    <tr>\n",
       "      <th>3</th>\n",
       "      <td>bltapa1/XC552197_source0.mp33source0</td>\n",
       "      <td>bltapa1</td>\n",
       "      <td>1.419320</td>\n",
       "      <td>0.722742</td>\n",
       "      <td>0.402076</td>\n",
       "      <td>1.055211</td>\n",
       "      <td>1.733959</td>\n",
       "      <td>1.353318</td>\n",
       "      <td>0.533325</td>\n",
       "      <td>0.926222</td>\n",
       "      <td>...</td>\n",
       "      <td>0.768342</td>\n",
       "      <td>0.430095</td>\n",
       "      <td>0.721536</td>\n",
       "      <td>0.925512</td>\n",
       "      <td>0.698033</td>\n",
       "      <td>0.756105</td>\n",
       "      <td>0.460456</td>\n",
       "      <td>0.540027</td>\n",
       "      <td>1.388826</td>\n",
       "      <td>0.880988</td>\n",
       "    </tr>\n",
       "    <tr>\n",
       "      <th>4</th>\n",
       "      <td>refwar2/XC596322_source3.mp30source3</td>\n",
       "      <td>refwar2</td>\n",
       "      <td>0.413504</td>\n",
       "      <td>1.714097</td>\n",
       "      <td>0.999521</td>\n",
       "      <td>0.749864</td>\n",
       "      <td>0.641617</td>\n",
       "      <td>1.168537</td>\n",
       "      <td>0.789732</td>\n",
       "      <td>1.023274</td>\n",
       "      <td>...</td>\n",
       "      <td>0.497542</td>\n",
       "      <td>0.742261</td>\n",
       "      <td>1.179353</td>\n",
       "      <td>1.255932</td>\n",
       "      <td>0.658759</td>\n",
       "      <td>0.704522</td>\n",
       "      <td>0.557756</td>\n",
       "      <td>0.934936</td>\n",
       "      <td>0.510510</td>\n",
       "      <td>1.085886</td>\n",
       "    </tr>\n",
       "  </tbody>\n",
       "</table>\n",
       "<p>5 rows × 322 columns</p>\n",
       "</div>"
      ],
      "text/plain": [
       "                                track_id  species  embedding0  embedding1  \\\n",
       "0   bltapa1/XC289706_source3.mp33source3  bltapa1    0.747837    0.826928   \n",
       "1  malkin1/XC515910_source0.mp321source0  malkin1    1.475721    1.143599   \n",
       "2         malkin1/XC515910.mp336original  malkin1    1.250038    1.441285   \n",
       "3   bltapa1/XC552197_source0.mp33source0  bltapa1    1.419320    0.722742   \n",
       "4   refwar2/XC596322_source3.mp30source3  refwar2    0.413504    1.714097   \n",
       "\n",
       "   embedding2  embedding3  embedding4  embedding5  embedding6  embedding7  \\\n",
       "0    0.920046    0.107157    0.802774    0.766423    1.526463    0.315954   \n",
       "1    0.831729    0.853280    1.068583    1.012339    0.675018    0.666281   \n",
       "2    0.517047    0.769446    0.914989    0.045104    0.266528    0.394065   \n",
       "3    0.402076    1.055211    1.733959    1.353318    0.533325    0.926222   \n",
       "4    0.999521    0.749864    0.641617    1.168537    0.789732    1.023274   \n",
       "\n",
       "   ...  embedding310  embedding311  embedding312  embedding313  embedding314  \\\n",
       "0  ...      0.767657      0.458525      0.785656      1.492056      0.392541   \n",
       "1  ...      1.713068      0.863107      0.731349      1.507534      0.610455   \n",
       "2  ...      1.806681      1.303210      0.659017      0.718031      0.155429   \n",
       "3  ...      0.768342      0.430095      0.721536      0.925512      0.698033   \n",
       "4  ...      0.497542      0.742261      1.179353      1.255932      0.658759   \n",
       "\n",
       "   embedding315  embedding316  embedding317  embedding318  embedding319  \n",
       "0      0.196696      0.636081      0.831117      0.717517      1.051443  \n",
       "1      0.909536      1.500529      0.346067      0.712522      0.561404  \n",
       "2      1.212442      1.867978      0.354417      0.955492      0.199649  \n",
       "3      0.756105      0.460456      0.540027      1.388826      0.880988  \n",
       "4      0.704522      0.557756      0.934936      0.510510      1.085886  \n",
       "\n",
       "[5 rows x 322 columns]"
      ]
     },
     "execution_count": 35,
     "metadata": {},
     "output_type": "execute_result"
    }
   ],
   "source": [
    "from pyspark.sql.functions import rand\n",
    "\n",
    "length = len(explode_preds_bird_calls.select(\"embedding\").take(1)[0][\"embedding\"])\n",
    "\n",
    "explode_preds_bird_calls = explode_preds_bird_calls.drop(\"probability\")\n",
    "explode_preds_bird_calls = explode_preds_bird_calls.dropDuplicates([\"track_id\"])\n",
    "data = explode_preds_bird_calls.select(\n",
    "    [\"track_id\", \"species\"]\n",
    "    + [\n",
    "        explode_preds_bird_calls.embedding[i].alias(\"embedding\" + str(i))\n",
    "        for i in range(length)\n",
    "    ]\n",
    ")\n",
    "data = data.orderBy(rand())\n",
    "data = data.toPandas()\n",
    "print(len(data))\n",
    "data.head()"
   ]
  },
  {
   "attachments": {},
   "cell_type": "markdown",
   "metadata": {},
   "source": [
    "base classifiers"
   ]
  },
  {
   "cell_type": "code",
   "execution_count": 12,
   "metadata": {},
   "outputs": [],
   "source": [
    "from sklearn.model_selection import train_test_split\n",
    "import numpy as np\n",
    "from sklearn.metrics import accuracy_score, precision_score, recall_score, f1_score\n",
    "\n",
    "train_x, test_x, train_y, test_y = train_test_split(\n",
    "    data.loc[:, (data.columns != \"species\") & (data.columns != \"track_id\")],\n",
    "    data[\"species\"],\n",
    "    test_size=0.25,\n",
    "    stratify=sorted(data[\"species\"]),\n",
    ")\n",
    "\n",
    "\n",
    "def eval(truth, preds):\n",
    "    print(\"Accuracy:\", accuracy_score(truth, preds))\n",
    "    print(\n",
    "        \"Precision:\",\n",
    "        precision_score(truth, preds, average=None),\n",
    "        precision_score(truth, preds, average=\"macro\"),\n",
    "    )\n",
    "    print(\n",
    "        \"Recall:\",\n",
    "        recall_score(truth, preds, average=None),\n",
    "        recall_score(truth, preds, average=\"macro\"),\n",
    "    )\n",
    "    print(\n",
    "        \"F1 Score:\",\n",
    "        f1_score(truth, preds, average=None),\n",
    "        f1_score(truth, preds, average=\"macro\"),\n",
    "    )"
   ]
  },
  {
   "cell_type": "code",
   "execution_count": 13,
   "metadata": {},
   "outputs": [
    {
     "name": "stdout",
     "output_type": "stream",
     "text": [
      "Accuracy: 0.7741935483870968\n",
      "Precision: [0.8        0.77777778 0.75      ] 0.775925925925926\n",
      "Recall: [0.88888889 0.7        0.75      ] 0.7796296296296296\n",
      "F1 Score: [0.84210526 0.73684211 0.75      ] 0.7763157894736842\n"
     ]
    }
   ],
   "source": [
    "from sklearn.tree import DecisionTreeClassifier\n",
    "\n",
    "treeClassifier = DecisionTreeClassifier()\n",
    "treeClassifier.fit(train_x, train_y)\n",
    "preds = treeClassifier.predict(test_x)\n",
    "\n",
    "eval(test_y, preds)"
   ]
  },
  {
   "cell_type": "code",
   "execution_count": 14,
   "metadata": {},
   "outputs": [
    {
     "name": "stdout",
     "output_type": "stream",
     "text": [
      "Accuracy: 0.967741935483871\n",
      "Precision: [0.9 1.  1. ] 0.9666666666666667\n",
      "Recall: [1.  0.9 1. ] 0.9666666666666667\n",
      "F1 Score: [0.94736842 0.94736842 1.        ] 0.9649122807017544\n"
     ]
    }
   ],
   "source": [
    "from sklearn.neighbors import KNeighborsClassifier\n",
    "\n",
    "knn = KNeighborsClassifier(n_neighbors=5)\n",
    "knn.fit(train_x, train_y)\n",
    "preds = knn.predict(test_x)\n",
    "\n",
    "eval(test_y, preds)"
   ]
  },
  {
   "cell_type": "code",
   "execution_count": 15,
   "metadata": {},
   "outputs": [
    {
     "name": "stdout",
     "output_type": "stream",
     "text": [
      "Accuracy: 0.967741935483871\n",
      "Precision: [1.         1.         0.92307692] 0.9743589743589745\n",
      "Recall: [1.  0.9 1. ] 0.9666666666666667\n",
      "F1 Score: [1.         0.94736842 0.96      ] 0.9691228070175439\n"
     ]
    }
   ],
   "source": [
    "from sklearn.linear_model import LogisticRegression\n",
    "\n",
    "log = LogisticRegression(max_iter=1000)\n",
    "log.fit(train_x, train_y)\n",
    "preds = log.predict(test_x)\n",
    "\n",
    "eval(test_y, preds)"
   ]
  },
  {
   "cell_type": "code",
   "execution_count": 16,
   "metadata": {},
   "outputs": [
    {
     "name": "stdout",
     "output_type": "stream",
     "text": [
      "Accuracy: 0.8064516129032258\n",
      "Precision: [0.88888889 0.8        0.75      ] 0.812962962962963\n",
      "Recall: [0.88888889 0.8        0.75      ] 0.812962962962963\n",
      "F1 Score: [0.88888889 0.8        0.75      ] 0.812962962962963\n"
     ]
    }
   ],
   "source": [
    "from xgboost import XGBClassifier\n",
    "from sklearn.preprocessing import LabelEncoder\n",
    "\n",
    "le = LabelEncoder()\n",
    "le.fit(train_y)\n",
    "\n",
    "xgbc = XGBClassifier()\n",
    "xgbc.fit(train_x, le.transform(train_y))\n",
    "preds = xgbc.predict(test_x)\n",
    "\n",
    "eval(le.transform(test_y), preds)"
   ]
  },
  {
   "cell_type": "code",
   "execution_count": 18,
   "metadata": {},
   "outputs": [
    {
     "name": "stdout",
     "output_type": "stream",
     "text": [
      "{'n_estimators': 25}\n",
      "Accuracy: 0.8387096774193549\n",
      "Precision: [0.88888889 0.76923077 0.88888889] 0.849002849002849\n",
      "Recall: [0.8        0.90909091 0.8       ] 0.8363636363636363\n",
      "F1 Score: [0.84210526 0.83333333 0.84210526] 0.8391812865497076\n"
     ]
    }
   ],
   "source": [
    "from sklearn.model_selection import GridSearchCV\n",
    "\n",
    "params = {\n",
    "    \"n_estimators\": [25 * i for i in range(1, 10)],\n",
    "}\n",
    "\n",
    "search = GridSearchCV(\n",
    "    estimator=xgbc, param_grid=params, scoring=\"precision_macro\", n_jobs=-1, cv=2\n",
    ")\n",
    "search.fit(train_x, le.transform(train_y))\n",
    "print(search.best_params_)\n",
    "preds = search.predict(test_x)\n",
    "\n",
    "eval(le.transform(test_y), preds)"
   ]
  },
  {
   "attachments": {},
   "cell_type": "markdown",
   "metadata": {},
   "source": [
    "Saving models to disk"
   ]
  },
  {
   "cell_type": "code",
   "execution_count": 20,
   "metadata": {},
   "outputs": [],
   "source": [
    "import pickle\n",
    "\n",
    "pickle.dump(\n",
    "    log, open(\"../../data/models/baseline/logistic_reg_2.pkl\", \"wb\"), protocol=2\n",
    ")\n",
    "pickle.dump(\n",
    "    log, open(\"../../data/models/baseline/logistic_reg_3.pkl\", \"wb\"), protocol=3\n",
    ")"
   ]
  },
  {
   "attachments": {},
   "cell_type": "markdown",
   "metadata": {},
   "source": [
    "Generating submission.csv"
   ]
  },
  {
   "cell_type": "code",
   "execution_count": 49,
   "metadata": {},
   "outputs": [],
   "source": [
    "import pandas as pd\n",
    "\n",
    "results = log.predict_proba(test_x)\n",
    "species = sorted(set(species))\n",
    "res = []\n",
    "i = 0\n",
    "\n",
    "for row in results:\n",
    "    assert len(species) == len(row)\n",
    "    d = dict(zip(species, row))\n",
    "    d[\"row_id\"] = f\"{data.iloc[i]['track_id'][:16]}\"\n",
    "    res.append(d)\n",
    "    i += 1\n",
    "res_df = pd.DataFrame(res, columns=[\"row_id\"] + species)\n",
    "res_df.to_csv(\"../submission.csv\", index=False)"
   ]
  }
 ],
 "metadata": {
  "kernelspec": {
   "display_name": "Python 3",
   "language": "python",
   "name": "python3"
  },
  "language_info": {
   "codemirror_mode": {
    "name": "ipython",
    "version": 3
   },
   "file_extension": ".py",
   "mimetype": "text/x-python",
   "name": "python",
   "nbconvert_exporter": "python",
   "pygments_lexer": "ipython3",
   "version": "3.10.6"
  },
  "orig_nbformat": 4
 },
 "nbformat": 4,
 "nbformat_minor": 2
}
