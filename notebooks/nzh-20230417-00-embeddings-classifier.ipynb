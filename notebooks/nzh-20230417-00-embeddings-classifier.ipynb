{
 "cells": [
  {
   "cell_type": "code",
   "execution_count": 1,
   "metadata": {},
   "outputs": [],
   "source": [
    "from birdclef.utils import get_spark\n",
    "import pyspark.sql.functions as F"
   ]
  },
  {
   "cell_type": "code",
   "execution_count": 2,
   "metadata": {},
   "outputs": [
    {
     "name": "stderr",
     "output_type": "stream",
     "text": [
      "Setting default log level to \"WARN\".\n",
      "To adjust logging level use sc.setLogLevel(newLevel). For SparkR, use setLogLevel(newLevel).\n"
     ]
    },
    {
     "name": "stdout",
     "output_type": "stream",
     "text": [
      "23/05/08 02:05:22 WARN NativeCodeLoader: Unable to load native-hadoop library for your platform... using builtin-java classes where applicable\n"
     ]
    }
   ],
   "source": [
    "spark = get_spark()"
   ]
  },
  {
   "cell_type": "code",
   "execution_count": 3,
   "metadata": {},
   "outputs": [
    {
     "name": "stderr",
     "output_type": "stream",
     "text": [
      "[Stage 1:>                                                          (0 + 1) / 1]\r"
     ]
    },
    {
     "name": "stdout",
     "output_type": "stream",
     "text": [
      "+-------+----------+----------+--------------------+--------------------+--------------------+--------------------+----------+-------------------+\n",
      "|species|track_stem|track_type|          track_name|           embedding|      prediction_vec|         predictions|start_time|             energy|\n",
      "+-------+----------+----------+--------------------+--------------------+--------------------+--------------------+----------+-------------------+\n",
      "|malkin1|  XC132986|  original|malkin1/XC132986.mp3|[0.75343722105026...|[-10.260432243347...|[{0, 2342, Phyllo...|        36|0.25369036197662354|\n",
      "|refwar2|  XC128009|   source1|refwar2/XC128009_...|[0.19527475535869...|[-9.6245841979980...|[{0, 684, Cinclor...|        36| 20.364137649536133|\n",
      "|malkin1|  XC132986|  original|malkin1/XC132986.mp3|[1.32953834533691...|[-13.427273750305...|[{0, 890, Culicic...|        69|0.18416672945022583|\n",
      "|refwar2|  XC128009|  original|refwar2/XC128009.mp3|[1.89621150493621...|[-17.041515350341...|[{0, 185, Anthus ...|        99|  2101.175048828125|\n",
      "|refwar2|  XC128009|   source3|refwar2/XC128009_...|[0.73843997716903...|[-12.684206008911...|[{0, 3284, Xenoda...|        54|  5.671290874481201|\n",
      "+-------+----------+----------+--------------------+--------------------+--------------------+--------------------+----------+-------------------+\n",
      "only showing top 5 rows\n",
      "\n"
     ]
    },
    {
     "name": "stderr",
     "output_type": "stream",
     "text": [
      "                                                                                \r"
     ]
    }
   ],
   "source": [
    "df = spark.read.parquet(\n",
    "    \"../../data/processed/birdclef-2023/consolidated_v3_sample\"\n",
    ")\n",
    "df.show(n=5)"
   ]
  },
  {
   "cell_type": "code",
   "execution_count": 4,
   "metadata": {},
   "outputs": [
    {
     "data": {
      "image/png": "[encoded data removed]",
      "text/plain": [
       "<Figure size 640x480 with 1 Axes>"
      ]
     },
     "metadata": {},
     "output_type": "display_data"
    }
   ],
   "source": [
    "import matplotlib.pyplot as plt\n",
    "\n",
    "energies = [x[\"energy\"] for x in df.select(\"energy\").collect()]\n",
    "\n",
    "plt.hist(energies, bins=[250*x for x in range(14)])\n",
    "plt.show()"
   ]
  },
  {
   "attachments": {},
   "cell_type": "markdown",
   "metadata": {},
   "source": [
    "Extract embeddings from source track only"
   ]
  },
  {
   "cell_type": "code",
   "execution_count": 5,
   "metadata": {},
   "outputs": [],
   "source": [
    "# bird_call = df.filter(df[\"energy\"] >= 250)\n",
    "# bird_call.show()\n",
    "# print(bird_call.count())"
   ]
  },
  {
   "attachments": {},
   "cell_type": "markdown",
   "metadata": {},
   "source": [
    "Exploded predictions"
   ]
  },
  {
   "cell_type": "code",
   "execution_count": 6,
   "metadata": {},
   "outputs": [
    {
     "name": "stdout",
     "output_type": "stream",
     "text": [
      "Row(track_name='malkin1/XC132986.mp3')\n"
     ]
    },
    {
     "data": {
      "text/plain": [
       "[Row(rank=0, index=2342, label='Phylloscopus trochiloides_Greenish Warbler', mapped_label='grewar3', probability=0.14227834343910217),\n",
       " Row(rank=1, index=1068, label='Ducula badia_Mountain Imperial-Pigeon', mapped_label='moipig1', probability=0.09622656553983688),\n",
       " Row(rank=2, index=1702, label='Macropygia ruficeps_Little Cuckoo-Dove', mapped_label='licdov1', probability=0.038490768522024155),\n",
       " Row(rank=3, index=359, label='Brachypteryx leucophris_Lesser Shortwing', mapped_label='lessho1', probability=0.018337246030569077),\n",
       " Row(rank=4, index=360, label='Brachypteryx montana_White-browed Shortwing', mapped_label='whbsho12', probability=0.006928994785994291),\n",
       " Row(rank=5, index=2335, label='Phylloscopus pulcher_Buff-barred Warbler', mapped_label='bubwar1', probability=0.005631797481328249),\n",
       " Row(rank=6, index=1588, label='Larvivora brunnea_Indian Blue Robin', mapped_label='inbrob1', probability=0.005230042617768049),\n",
       " Row(rank=7, index=890, label='Culicicapa ceylonensis_Gray-headed Canary-Flycatcher', mapped_label='gyhcaf1', probability=0.004220428876578808),\n",
       " Row(rank=8, index=1217, label='Ficedula westermanni_Little Pied Flycatcher', mapped_label='lipfly1', probability=0.004019459243863821),\n",
       " Row(rank=9, index=2316, label='Phylloscopus castaniceps_Chestnut-crowned Warbler', mapped_label='chcwar2', probability=0.0028943561483174562)]"
      ]
     },
     "execution_count": 6,
     "metadata": {},
     "output_type": "execute_result"
    }
   ],
   "source": [
    "print(df.select(df.track_name).take(1)[0])\n",
    "\n",
    "df.select(df.predictions).take(1)[0][\"predictions\"]"
   ]
  },
  {
   "cell_type": "code",
   "execution_count": 7,
   "metadata": {},
   "outputs": [
    {
     "name": "stdout",
     "output_type": "stream",
     "text": [
      "+--------------------+-------+--------------------+--------------------+------------+--------------------+\n",
      "|            track_id|species|           embedding|               label|mapped_label|         probability|\n",
      "+--------------------+-------+--------------------+--------------------+------------+--------------------+\n",
      "|malkin1/XC132986....|malkin1|[0.75343722105026...|Phylloscopus troc...|     grewar3| 0.14227834343910217|\n",
      "|malkin1/XC132986....|malkin1|[0.75343722105026...|Ducula badia_Moun...|     moipig1| 0.09622656553983688|\n",
      "|malkin1/XC132986....|malkin1|[0.75343722105026...|Macropygia rufice...|     licdov1|0.038490768522024155|\n",
      "|malkin1/XC132986....|malkin1|[0.75343722105026...|Brachypteryx leuc...|     lessho1|0.018337246030569077|\n",
      "|malkin1/XC132986....|malkin1|[0.75343722105026...|Brachypteryx mont...|    whbsho12|0.006928994785994291|\n",
      "|malkin1/XC132986....|malkin1|[0.75343722105026...|Phylloscopus pulc...|     bubwar1|0.005631797481328249|\n",
      "|malkin1/XC132986....|malkin1|[0.75343722105026...|Larvivora brunnea...|     inbrob1|0.005230042617768049|\n",
      "|malkin1/XC132986....|malkin1|[0.75343722105026...|Culicicapa ceylon...|     gyhcaf1|0.004220428876578808|\n",
      "|malkin1/XC132986....|malkin1|[0.75343722105026...|Ficedula westerma...|     lipfly1|0.004019459243863821|\n",
      "|malkin1/XC132986....|malkin1|[0.75343722105026...|Phylloscopus cast...|     chcwar2|0.002894356148317...|\n",
      "|refwar2/XC128009_...|refwar2|[0.19527475535869...|Cincloramphus tim...|     tawgra3|0.009071148000657558|\n",
      "|refwar2/XC128009_...|refwar2|[0.19527475535869...|Phylloscopus triv...|     mouwar2|0.003600701922550...|\n",
      "|refwar2/XC128009_...|refwar2|[0.19527475535869...|Vermivora chrysop...|      gowwar|0.003418316598981619|\n",
      "|refwar2/XC128009_...|refwar2|[0.19527475535869...|Cistothorus stell...|     sedwre1|0.002931338269263506|\n",
      "|refwar2/XC128009_...|refwar2|[0.19527475535869...|Cistothorus plate...|      sedwre|0.001278864685446024|\n",
      "|refwar2/XC128009_...|refwar2|[0.19527475535869...|Brachypteryx leuc...|     lessho1|3.827429900411516...|\n",
      "|refwar2/XC128009_...|refwar2|[0.19527475535869...|Emberizoides ypir...|     lesgrf1|2.836520434357226E-4|\n",
      "|refwar2/XC128009_...|refwar2|[0.19527475535869...|Cyanoderma erythr...|     chwbab1|2.233149716630578E-4|\n",
      "|refwar2/XC128009_...|refwar2|[0.19527475535869...|Pellorneum malacc...|     shtbab1|1.159774983534589...|\n",
      "|refwar2/XC128009_...|refwar2|[0.19527475535869...|Stachyris nigrice...|     gytbab1|1.004490986815653...|\n",
      "+--------------------+-------+--------------------+--------------------+------------+--------------------+\n",
      "only showing top 20 rows\n",
      "\n"
     ]
    }
   ],
   "source": [
    "from pyspark.sql.functions import concat\n",
    "\n",
    "explode_preds = df.select(\n",
    "    \"species\",\n",
    "    \"track_stem\",\n",
    "    \"track_name\",\n",
    "    \"embedding\",\n",
    "    \"start_time\",\n",
    "    \"track_type\",\n",
    "    F.explode(df.predictions).alias(\"col\"),\n",
    ")\n",
    "explode_preds = explode_preds.select(\n",
    "    concat(explode_preds.track_name, explode_preds.start_time, explode_preds.track_type).alias(\"track_id\"),\n",
    "    \"species\",\n",
    "    \"embedding\",\n",
    "    explode_preds.col.label.alias(\"label\"),\n",
    "    explode_preds.col.mapped_label.alias(\"mapped_label\"),\n",
    "    explode_preds.col.probability.alias(\"probability\"),\n",
    ")\n",
    "explode_preds.show()\n",
    "\n",
    "# temp = source.select(source.track_name, f.explode(source.predictions))\n",
    "# temp = temp.select(temp.track_name, temp.col[\"label\"].alias(\"label\"), temp.col[\"mapped_label\"].alias(\"mapped_label\"),\n",
    "#                    temp.col[\"probability\"].alias(\"probability\"))\n",
    "# temp.show()\n",
    "# source.show()"
   ]
  },
  {
   "attachments": {},
   "cell_type": "markdown",
   "metadata": {},
   "source": [
    "Sigmoid"
   ]
  },
  {
   "cell_type": "code",
   "execution_count": 8,
   "metadata": {},
   "outputs": [
    {
     "data": {
      "image/png": "[encoded data removed]",
      "text/plain": [
       "<Figure size 640x480 with 1 Axes>"
      ]
     },
     "metadata": {},
     "output_type": "display_data"
    },
    {
     "data": {
      "image/png": "[encoded data removed]",
      "text/plain": [
       "<Figure size 640x480 with 1 Axes>"
      ]
     },
     "metadata": {},
     "output_type": "display_data"
    }
   ],
   "source": [
    "import matplotlib.pyplot as plt\n",
    "\n",
    "explode_preds_sig = explode_preds.select(\n",
    "    \"species\",\n",
    "    \"track_id\",\n",
    "    \"embedding\",\n",
    "    \"label\",\n",
    "    \"mapped_label\",\n",
    "    (1 / (1 + F.exp(-1 * explode_preds.probability))).alias(\"probability\"),\n",
    ")\n",
    "probs_no_sig = [x[\"probability\"] for x in explode_preds.select(\"probability\").collect()]\n",
    "plt.hist(probs_no_sig)\n",
    "plt.show()\n",
    "probs = [x[\"probability\"] for x in explode_preds_sig.select(\"probability\").collect()]\n",
    "x_axis = [i / 10 for i in range(10)]\n",
    "plt.hist(probs, range=[0, 1])\n",
    "plt.show()"
   ]
  },
  {
   "attachments": {},
   "cell_type": "markdown",
   "metadata": {},
   "source": [
    "Taking species with prob > 0.5"
   ]
  },
  {
   "cell_type": "code",
   "execution_count": 9,
   "metadata": {},
   "outputs": [
    {
     "name": "stdout",
     "output_type": "stream",
     "text": [
      "+--------------------+-------+--------------------+--------------------+------------+------------------+\n",
      "|            track_id|species|           embedding|               label|mapped_label|       probability|\n",
      "+--------------------+-------+--------------------+--------------------+------------+------------------+\n",
      "|refwar2/XC596322_...|refwar2|[0.99149847030639...|Human vocal_Human...|      humvoc|0.6938544511795044|\n",
      "|refwar2/XC525931_...|refwar2|[1.43871796131134...|Prinia sylvatica_...|     junpri1|0.8636960387229919|\n",
      "|malkin1/XC369825_...|malkin1|[1.16651332378387...|Limnothlypis swai...|      swawar|0.5569329857826233|\n",
      "|malkin1/XC574560....|malkin1|[1.23353230953216...|Cinnyris jugulari...|     olbsun4|0.6094335913658142|\n",
      "|malkin1/XC132991....|malkin1|[1.14792478084564...|Phylloscopus orie...|     eabwar1|0.5228896737098694|\n",
      "|bltapa1/XC289706_...|bltapa1|[0.71383780241012...|Xiphorhynchus sus...|     cocwoo1|0.8647496104240417|\n",
      "|bltapa1/XC289706_...|bltapa1|[0.98918461799621...|Xiphorhynchus sus...|     cocwoo1| 0.801962673664093|\n",
      "|bltapa1/XC289706_...|bltapa1|[0.98918461799621...|Furnarius leucopu...|     palhor2| 0.627217173576355|\n",
      "|malkin1/XC307594....|malkin1|[1.07799017429351...|Anthus spinoletta...|     watpip1| 0.879819929599762|\n",
      "|refwar2/XC525931_...|refwar2|[1.09649407863616...|Prinia sylvatica_...|     junpri1|0.6881818771362305|\n",
      "|malkin1/XC547973_...|malkin1|[1.62626707553863...|Auriparus flavice...|      verdin|0.7102518677711487|\n",
      "|refwar2/XC128009....|refwar2|[1.69489586353302...|Anthus pratensis_...|     meapip1|0.6515790224075317|\n",
      "|refwar2/XC128009....|refwar2|[1.69489586353302...|Prinia inornata_P...|     plapri1| 0.607141375541687|\n",
      "|bltapa1/XC289706....|bltapa1|[1.50694429874420...|Xiphorhynchus sus...|     cocwoo1|0.8408746719360352|\n",
      "|malkin1/XC404445_...|malkin1|[1.69940221309661...|Atlapetes pileatu...|     rcbfin1|0.5260032415390015|\n",
      "|malkin1/XC369825_...|malkin1|[1.50728714466094...|Eugenes fulgens_R...|     maghum1|0.5614622831344604|\n",
      "|malkin1/XC132991_...|malkin1|[0.73143559694290...|Megascops albogul...|     whtsco1|0.7207900881767273|\n",
      "|refwar2/XC596322_...|refwar2|[0.35633978247642...|Human vocal_Human...|      humvoc| 0.745672881603241|\n",
      "|malkin1/XC371182_...|malkin1|[0.47538444399833...|Pycnonotus barbat...|     combul2|0.8933798670768738|\n",
      "|malkin1/XC515910_...|malkin1|[1.54663288593292...|Eugenes fulgens_R...|     maghum1|0.8457401394844055|\n",
      "+--------------------+-------+--------------------+--------------------+------------+------------------+\n",
      "only showing top 20 rows\n",
      "\n",
      "127\n"
     ]
    }
   ],
   "source": [
    "explode_preds_bird_calls = explode_preds.filter(explode_preds.probability > 0.5)\n",
    "explode_preds_bird_calls.show()\n",
    "print(explode_preds_bird_calls.count())"
   ]
  },
  {
   "attachments": {},
   "cell_type": "markdown",
   "metadata": {},
   "source": [
    "parsing species name"
   ]
  },
  {
   "cell_type": "code",
   "execution_count": 10,
   "metadata": {},
   "outputs": [
    {
     "data": {
      "image/png": "[encoded data removed]",
      "text/plain": [
       "<Figure size 640x480 with 1 Axes>"
      ]
     },
     "metadata": {},
     "output_type": "display_data"
    }
   ],
   "source": [
    "species = [s[\"species\"] for s in explode_preds_bird_calls.select(\"species\").collect()]\n",
    "species_count = dict()\n",
    "for s in species:\n",
    "    species_count[s] = species_count.get(s, 0) + 1\n",
    "plt.bar(list(species_count.keys()), list(species_count.values()))\n",
    "plt.show()"
   ]
  },
  {
   "attachments": {},
   "cell_type": "markdown",
   "metadata": {},
   "source": [
    "final dataset"
   ]
  },
  {
   "cell_type": "code",
   "execution_count": 11,
   "metadata": {},
   "outputs": [
    {
     "name": "stdout",
     "output_type": "stream",
     "text": [
      "23/05/08 02:05:50 WARN package: Truncated the string representation of a plan since it was too large. This behavior can be adjusted by setting 'spark.sql.debug.maxToStringFields'.\n"
     ]
    },
    {
     "name": "stderr",
     "output_type": "stream",
     "text": [
      "                                                                                \r"
     ]
    },
    {
     "name": "stdout",
     "output_type": "stream",
     "text": [
      "121\n"
     ]
    },
    {
     "data": {
      "text/html": [
       "<div>\n",
       "<style scoped>\n",
       "    .dataframe tbody tr th:only-of-type {\n",
       "        vertical-align: middle;\n",
       "    }\n",
       "\n",
       "    .dataframe tbody tr th {\n",
       "        vertical-align: top;\n",
       "    }\n",
       "\n",
       "    .dataframe thead th {\n",
       "        text-align: right;\n",
       "    }\n",
       "</style>\n",
       "<table border=\"1\" class=\"dataframe\">\n",
       "  <thead>\n",
       "    <tr style=\"text-align: right;\">\n",
       "      <th></th>\n",
       "      <th>track_id</th>\n",
       "      <th>species</th>\n",
       "      <th>embedding0</th>\n",
       "      <th>embedding1</th>\n",
       "      <th>embedding2</th>\n",
       "      <th>embedding3</th>\n",
       "      <th>embedding4</th>\n",
       "      <th>embedding5</th>\n",
       "      <th>embedding6</th>\n",
       "      <th>embedding7</th>\n",
       "      <th>...</th>\n",
       "      <th>embedding310</th>\n",
       "      <th>embedding311</th>\n",
       "      <th>embedding312</th>\n",
       "      <th>embedding313</th>\n",
       "      <th>embedding314</th>\n",
       "      <th>embedding315</th>\n",
       "      <th>embedding316</th>\n",
       "      <th>embedding317</th>\n",
       "      <th>embedding318</th>\n",
       "      <th>embedding319</th>\n",
       "    </tr>\n",
       "  </thead>\n",
       "  <tbody>\n",
       "    <tr>\n",
       "      <th>0</th>\n",
       "      <td>refwar2/XC128009_source2.mp387source2</td>\n",
       "      <td>refwar2</td>\n",
       "      <td>0.334503</td>\n",
       "      <td>1.117398</td>\n",
       "      <td>0.767471</td>\n",
       "      <td>0.169196</td>\n",
       "      <td>0.590562</td>\n",
       "      <td>1.129125</td>\n",
       "      <td>1.040234</td>\n",
       "      <td>0.613251</td>\n",
       "      <td>...</td>\n",
       "      <td>0.111500</td>\n",
       "      <td>0.757088</td>\n",
       "      <td>2.077208</td>\n",
       "      <td>1.318005</td>\n",
       "      <td>0.394392</td>\n",
       "      <td>0.341446</td>\n",
       "      <td>0.506529</td>\n",
       "      <td>0.301138</td>\n",
       "      <td>1.716311</td>\n",
       "      <td>1.200186</td>\n",
       "    </tr>\n",
       "    <tr>\n",
       "      <th>1</th>\n",
       "      <td>malkin1/XC369825_source0.mp30source0</td>\n",
       "      <td>malkin1</td>\n",
       "      <td>1.735671</td>\n",
       "      <td>0.849088</td>\n",
       "      <td>1.164086</td>\n",
       "      <td>0.643067</td>\n",
       "      <td>0.901944</td>\n",
       "      <td>1.153336</td>\n",
       "      <td>0.890980</td>\n",
       "      <td>0.578234</td>\n",
       "      <td>...</td>\n",
       "      <td>1.933536</td>\n",
       "      <td>0.265540</td>\n",
       "      <td>0.911633</td>\n",
       "      <td>1.167722</td>\n",
       "      <td>0.424585</td>\n",
       "      <td>1.107135</td>\n",
       "      <td>0.711796</td>\n",
       "      <td>0.381645</td>\n",
       "      <td>1.983452</td>\n",
       "      <td>0.076618</td>\n",
       "    </tr>\n",
       "    <tr>\n",
       "      <th>2</th>\n",
       "      <td>refwar2/XC128009.mp3105original</td>\n",
       "      <td>refwar2</td>\n",
       "      <td>1.581102</td>\n",
       "      <td>1.186679</td>\n",
       "      <td>0.970910</td>\n",
       "      <td>0.451714</td>\n",
       "      <td>0.953258</td>\n",
       "      <td>0.566743</td>\n",
       "      <td>0.854205</td>\n",
       "      <td>0.433167</td>\n",
       "      <td>...</td>\n",
       "      <td>1.018052</td>\n",
       "      <td>0.635094</td>\n",
       "      <td>0.964010</td>\n",
       "      <td>1.376136</td>\n",
       "      <td>1.570095</td>\n",
       "      <td>1.249430</td>\n",
       "      <td>1.038199</td>\n",
       "      <td>0.785575</td>\n",
       "      <td>1.379798</td>\n",
       "      <td>0.827938</td>\n",
       "    </tr>\n",
       "    <tr>\n",
       "      <th>3</th>\n",
       "      <td>refwar2/XC172869_source1.mp324source1</td>\n",
       "      <td>refwar2</td>\n",
       "      <td>1.244236</td>\n",
       "      <td>1.265282</td>\n",
       "      <td>0.594945</td>\n",
       "      <td>0.394637</td>\n",
       "      <td>0.891382</td>\n",
       "      <td>0.490170</td>\n",
       "      <td>0.143033</td>\n",
       "      <td>0.592258</td>\n",
       "      <td>...</td>\n",
       "      <td>0.547754</td>\n",
       "      <td>1.338107</td>\n",
       "      <td>0.662016</td>\n",
       "      <td>1.193642</td>\n",
       "      <td>0.567820</td>\n",
       "      <td>0.591769</td>\n",
       "      <td>0.402267</td>\n",
       "      <td>0.296385</td>\n",
       "      <td>0.508532</td>\n",
       "      <td>0.649239</td>\n",
       "    </tr>\n",
       "    <tr>\n",
       "      <th>4</th>\n",
       "      <td>malkin1/XC132990_source3.mp39source3</td>\n",
       "      <td>malkin1</td>\n",
       "      <td>0.468584</td>\n",
       "      <td>0.986242</td>\n",
       "      <td>0.578137</td>\n",
       "      <td>1.177194</td>\n",
       "      <td>0.052609</td>\n",
       "      <td>0.559234</td>\n",
       "      <td>0.851890</td>\n",
       "      <td>1.315775</td>\n",
       "      <td>...</td>\n",
       "      <td>1.002625</td>\n",
       "      <td>1.805893</td>\n",
       "      <td>1.510269</td>\n",
       "      <td>1.377753</td>\n",
       "      <td>1.093295</td>\n",
       "      <td>0.715333</td>\n",
       "      <td>1.249696</td>\n",
       "      <td>1.056978</td>\n",
       "      <td>2.164169</td>\n",
       "      <td>1.706610</td>\n",
       "    </tr>\n",
       "  </tbody>\n",
       "</table>\n",
       "<p>5 rows × 322 columns</p>\n",
       "</div>"
      ],
      "text/plain": [
       "                                track_id  species  embedding0  embedding1  \\\n",
       "0  refwar2/XC128009_source2.mp387source2  refwar2    0.334503    1.117398   \n",
       "1   malkin1/XC369825_source0.mp30source0  malkin1    1.735671    0.849088   \n",
       "2        refwar2/XC128009.mp3105original  refwar2    1.581102    1.186679   \n",
       "3  refwar2/XC172869_source1.mp324source1  refwar2    1.244236    1.265282   \n",
       "4   malkin1/XC132990_source3.mp39source3  malkin1    0.468584    0.986242   \n",
       "\n",
       "   embedding2  embedding3  embedding4  embedding5  embedding6  embedding7  \\\n",
       "0    0.767471    0.169196    0.590562    1.129125    1.040234    0.613251   \n",
       "1    1.164086    0.643067    0.901944    1.153336    0.890980    0.578234   \n",
       "2    0.970910    0.451714    0.953258    0.566743    0.854205    0.433167   \n",
       "3    0.594945    0.394637    0.891382    0.490170    0.143033    0.592258   \n",
       "4    0.578137    1.177194    0.052609    0.559234    0.851890    1.315775   \n",
       "\n",
       "   ...  embedding310  embedding311  embedding312  embedding313  embedding314  \\\n",
       "0  ...      0.111500      0.757088      2.077208      1.318005      0.394392   \n",
       "1  ...      1.933536      0.265540      0.911633      1.167722      0.424585   \n",
       "2  ...      1.018052      0.635094      0.964010      1.376136      1.570095   \n",
       "3  ...      0.547754      1.338107      0.662016      1.193642      0.567820   \n",
       "4  ...      1.002625      1.805893      1.510269      1.377753      1.093295   \n",
       "\n",
       "   embedding315  embedding316  embedding317  embedding318  embedding319  \n",
       "0      0.341446      0.506529      0.301138      1.716311      1.200186  \n",
       "1      1.107135      0.711796      0.381645      1.983452      0.076618  \n",
       "2      1.249430      1.038199      0.785575      1.379798      0.827938  \n",
       "3      0.591769      0.402267      0.296385      0.508532      0.649239  \n",
       "4      0.715333      1.249696      1.056978      2.164169      1.706610  \n",
       "\n",
       "[5 rows x 322 columns]"
      ]
     },
     "execution_count": 11,
     "metadata": {},
     "output_type": "execute_result"
    }
   ],
   "source": [
    "from pyspark.sql.functions import rand \n",
    "\n",
    "length = len(explode_preds_bird_calls.select(\"embedding\").take(1)[0][\"embedding\"])\n",
    "\n",
    "explode_preds_bird_calls = explode_preds_bird_calls.drop(\"probability\")\n",
    "explode_preds_bird_calls = explode_preds_bird_calls.dropDuplicates([\"track_id\"])\n",
    "data = explode_preds_bird_calls.select(\n",
    "    [\"track_id\", \"species\"]\n",
    "    + [\n",
    "        explode_preds_bird_calls.embedding[i].alias(\"embedding\" + str(i))\n",
    "        for i in range(length)\n",
    "    ]\n",
    ")\n",
    "data = data.orderBy(rand())\n",
    "data = data.toPandas()\n",
    "print(len(data))\n",
    "data.head()\n"
   ]
  },
  {
   "attachments": {},
   "cell_type": "markdown",
   "metadata": {},
   "source": [
    "classifier?"
   ]
  },
  {
   "cell_type": "code",
   "execution_count": 21,
   "metadata": {},
   "outputs": [],
   "source": [
    "from sklearn.model_selection import train_test_split\n",
    "import numpy as np\n",
    "from sklearn.metrics import accuracy_score, precision_score, recall_score, f1_score\n",
    "\n",
    "train_x, test_x, train_y, test_y = train_test_split(\n",
    "    data.loc[:, (data.columns != \"species\") & (data.columns != \"track_id\")],\n",
    "    data[\"species\"],\n",
    "    test_size=0.25,\n",
    "    stratify=sorted(data[\"species\"]),\n",
    ")\n",
    "\n",
    "def eval(truth, preds):\n",
    "    print(\"Accuracy:\", accuracy_score(truth, preds))\n",
    "    print(\n",
    "        \"Precision:\",\n",
    "        precision_score(truth, preds, average=None),\n",
    "        precision_score(truth, preds, average=\"macro\"),\n",
    "    )\n",
    "    print(\n",
    "        \"Recall:\",\n",
    "        recall_score(truth, preds, average=None),\n",
    "        recall_score(truth, preds, average=\"macro\"),\n",
    "    )\n",
    "    print(\n",
    "        \"F1 Score:\",\n",
    "        f1_score(truth, preds, average=None),\n",
    "        f1_score(truth, preds, average=\"macro\"),\n",
    "    )"
   ]
  },
  {
   "cell_type": "code",
   "execution_count": 22,
   "metadata": {},
   "outputs": [
    {
     "name": "stdout",
     "output_type": "stream",
     "text": [
      "Accuracy: 0.7419354838709677\n",
      "Precision: [0.61538462 0.9        0.75      ] 0.7551282051282051\n",
      "Recall: [1.         0.69230769 0.6       ] 0.764102564102564\n",
      "F1 Score: [0.76190476 0.7826087  0.66666667] 0.7370600414078674\n"
     ]
    }
   ],
   "source": [
    "from sklearn.tree import DecisionTreeClassifier\n",
    "\n",
    "treeClassifier = DecisionTreeClassifier()\n",
    "treeClassifier.fit(train_x, train_y)\n",
    "preds = treeClassifier.predict(test_x)\n",
    "\n",
    "eval(test_y, preds)"
   ]
  },
  {
   "cell_type": "code",
   "execution_count": 23,
   "metadata": {},
   "outputs": [
    {
     "name": "stdout",
     "output_type": "stream",
     "text": [
      "Accuracy: 0.8709677419354839\n",
      "Precision: [0.8        0.90909091 0.9       ] 0.8696969696969696\n",
      "Recall: [1.         0.76923077 0.9       ] 0.8897435897435897\n",
      "F1 Score: [0.88888889 0.83333333 0.9       ] 0.8740740740740741\n"
     ]
    }
   ],
   "source": [
    "from sklearn.neighbors import KNeighborsClassifier\n",
    "\n",
    "knn = KNeighborsClassifier(n_neighbors=5)\n",
    "knn.fit(train_x, train_y)\n",
    "preds = knn.predict(test_x)\n",
    "\n",
    "eval(test_y, preds)"
   ]
  },
  {
   "cell_type": "code",
   "execution_count": 24,
   "metadata": {},
   "outputs": [
    {
     "name": "stdout",
     "output_type": "stream",
     "text": [
      "Accuracy: 0.9032258064516129\n",
      "Precision: [0.72727273 1.         1.        ] 0.9090909090909092\n",
      "Recall: [1.         0.76923077 1.        ] 0.923076923076923\n",
      "F1 Score: [0.84210526 0.86956522 1.        ] 0.9038901601830664\n"
     ]
    }
   ],
   "source": [
    "from sklearn.linear_model import LogisticRegression\n",
    "\n",
    "log = LogisticRegression(max_iter=1000)\n",
    "log.fit(train_x, train_y)\n",
    "preds = log.predict(test_x)\n",
    "\n",
    "eval(test_y, preds)"
   ]
  },
  {
   "cell_type": "code",
   "execution_count": 16,
   "metadata": {},
   "outputs": [
    {
     "name": "stdout",
     "output_type": "stream",
     "text": [
      "Accuracy: 0.8387096774193549\n",
      "Precision: [0.88888889 0.76923077 0.88888889] 0.849002849002849\n",
      "Recall: [0.8        0.90909091 0.8       ] 0.8363636363636363\n",
      "F1 Score: [0.84210526 0.83333333 0.84210526] 0.8391812865497076\n"
     ]
    }
   ],
   "source": [
    "from xgboost import XGBClassifier\n",
    "from sklearn.preprocessing import LabelEncoder\n",
    "\n",
    "le = LabelEncoder()\n",
    "le.fit(train_y)\n",
    "\n",
    "xgbc = XGBClassifier()\n",
    "xgbc.fit(train_x, le.transform(train_y))\n",
    "preds = xgbc.predict(test_x)\n",
    "\n",
    "eval(le.transform(test_y), preds)"
   ]
  },
  {
   "cell_type": "code",
   "execution_count": 17,
   "metadata": {},
   "outputs": [
    {
     "name": "stdout",
     "output_type": "stream",
     "text": [
      "{'objective': 'multi:softprob', 'use_label_encoder': None, 'base_score': None, 'booster': None, 'callbacks': None, 'colsample_bylevel': None, 'colsample_bynode': None, 'colsample_bytree': None, 'early_stopping_rounds': None, 'enable_categorical': False, 'eval_metric': None, 'feature_types': None, 'gamma': None, 'gpu_id': None, 'grow_policy': None, 'importance_type': None, 'interaction_constraints': None, 'learning_rate': None, 'max_bin': None, 'max_cat_threshold': None, 'max_cat_to_onehot': None, 'max_delta_step': None, 'max_depth': None, 'max_leaves': None, 'min_child_weight': None, 'missing': nan, 'monotone_constraints': None, 'n_estimators': 100, 'n_jobs': None, 'num_parallel_tree': None, 'predictor': None, 'random_state': None, 'reg_alpha': None, 'reg_lambda': None, 'sampling_method': None, 'scale_pos_weight': None, 'subsample': None, 'tree_method': None, 'validate_parameters': None, 'verbosity': None}\n"
     ]
    }
   ],
   "source": [
    "print(xgbc.get_params())"
   ]
  },
  {
   "cell_type": "code",
   "execution_count": 18,
   "metadata": {},
   "outputs": [
    {
     "name": "stdout",
     "output_type": "stream",
     "text": [
      "{'n_estimators': 25}\n",
      "Accuracy: 0.8387096774193549\n",
      "Precision: [0.88888889 0.76923077 0.88888889] 0.849002849002849\n",
      "Recall: [0.8        0.90909091 0.8       ] 0.8363636363636363\n",
      "F1 Score: [0.84210526 0.83333333 0.84210526] 0.8391812865497076\n"
     ]
    }
   ],
   "source": [
    "from sklearn.model_selection import GridSearchCV\n",
    "\n",
    "params = {\n",
    "    \"n_estimators\": [25 * i for i in range(1, 10)],\n",
    "}\n",
    "\n",
    "search = GridSearchCV(\n",
    "    estimator=xgbc, param_grid=params, scoring=\"precision_macro\", n_jobs=-1, cv=2\n",
    ")\n",
    "search.fit(train_x, le.transform(train_y))\n",
    "print(search.best_params_)\n",
    "preds = search.predict(test_x)\n",
    "\n",
    "eval(le.transform(test_y), preds)"
   ]
  },
  {
   "cell_type": "code",
   "execution_count": 20,
   "metadata": {},
   "outputs": [],
   "source": [
    "import pickle\n",
    "\n",
    "pickle.dump(log, open(\"../../data/models/baseline/logistic_reg_2.pkl\", 'wb'), protocol=2)\n",
    "pickle.dump(log, open(\"../../data/models/baseline/logistic_reg_3.pkl\", 'wb'), protocol=3)"
   ]
  },
  {
   "cell_type": "code",
   "execution_count": 26,
   "metadata": {},
   "outputs": [],
   "source": [
    "results = log.predict_proba(test_x)"
   ]
  },
  {
   "cell_type": "code",
   "execution_count": 55,
   "metadata": {},
   "outputs": [
    {
     "name": "stdout",
     "output_type": "stream",
     "text": [
      "['row_id', 'bltapa1', 'malkin1', 'refwar2']\n",
      "['refwar2/XC128009', '0.3201050732726942', '0.46411091301723956', '0.21578401371006617']\n",
      "['malkin1/XC369825', '0.429722724123445', '0.39687049654065515', '0.17340677933589982']\n",
      "['refwar2/XC172869', '0.4998566899964535', '0.423393649707582', '0.07674966029596457']\n",
      "['malkin1/XC132990', '0.9602166471237034', '0.02444704172015978', '0.01533631115613665']\n",
      "['bltapa1/XC552197', '0.0037034029885906912', '0.005827471656604093', '0.9904691253548052']\n",
      "['bltapa1/XC753191', '0.9951207059838267', '0.0028247238959634878', '0.0020545701202098593']\n",
      "['refwar2/XC596322', '0.25211716308010645', '0.012115448511429604', '0.7357673884084639']\n",
      "['malkin1/XC371182', '0.38011469930897585', '0.12089583242547014', '0.498989468265554']\n",
      "['refwar2/XC172812', '0.9767441658162263', '0.010150219120932493', '0.01310561506284119']\n",
      "['malkin1/XC307594', '0.008676946774112935', '0.49771680875845026', '0.4936062444674369']\n",
      "['bltapa1/XC289706', '0.35472780090663264', '0.42540190946077205', '0.2198702896325953']\n",
      "['bltapa1/XC113284', '4.627708522711686e-05', '0.9997839522990266', '0.00016977061574642772']\n",
      "['malkin1/XC132991', '0.05344840246823441', '0.030705354227134156', '0.9158462433046315']\n",
      "['malkin1/XC515910', '0.0011101760586303352', '0.9966899788696393', '0.002199845071730283']\n",
      "['bltapa1/XC237745', '0.9970253230939675', '0.0020874636697571208', '0.0008872132362753495']\n",
      "['bltapa1/XC621907', '0.0035398425736118777', '0.9673654407082447', '0.02909471671814333']\n",
      "['refwar2/XC172810', '0.0009460671855332029', '0.997867785297966', '0.0011861475165005954']\n",
      "['bltapa1/XC545197', '0.0018830917673833818', '0.010377824995385405', '0.9877390832372313']\n"
     ]
    }
   ],
   "source": [
    "import csv\n",
    "\n",
    "f = open(\"../submission.csv\", 'w')\n",
    "writer = csv.writer(f)\n",
    "\n",
    "header = [\"row_id\"]\n",
    "for s in sorted(set(species)):\n",
    "    header.append(f\"{s}\")\n",
    "print(header)\n",
    "writer.writerow(header)\n",
    "\n",
    "avgs = {}\n",
    "for i in range(len(results)):\n",
    "    track = f\"{data.iloc[i]['track_id'][:16]}\"\n",
    "    if track in avgs:\n",
    "        running_avg = avgs[track][0]\n",
    "        cnts = avgs[track][1]\n",
    "\n",
    "        for j in range(len(sorted(set(species)))):\n",
    "            running_avg[j] = (running_avg[j] * cnts[j] + results[i][j]) / (cnts[j] + 1)\n",
    "            cnts[j] += 1\n",
    "        \n",
    "        avgs[track] = [running_avg, cnts]\n",
    "    else:\n",
    "        avgs[track] = []\n",
    "        avgs[track].append([results[i][j] for j in range(len(sorted(set(species))))])\n",
    "        avgs[track].append([1 for i in range(len(sorted(set(species))))])\n",
    "\n",
    "for track in avgs.keys():\n",
    "    line = [track]\n",
    "    for i in range(len(sorted(set(species)))):\n",
    "        line.append(f\"{avgs[track][0][i]}\")\n",
    "    print(line)\n",
    "    writer.writerow(line)\n"
   ]
  },
  {
   "cell_type": "code",
   "execution_count": 34,
   "metadata": {},
   "outputs": [
    {
     "name": "stdout",
     "output_type": "stream",
     "text": [
      "{'refwar2', 'malkin1', 'bltapa1'}\n"
     ]
    }
   ],
   "source": [
    "print(log)"
   ]
  },
  {
   "cell_type": "code",
   "execution_count": null,
   "metadata": {},
   "outputs": [],
   "source": []
  }
 ],
 "metadata": {
  "kernelspec": {
   "display_name": "Python 3",
   "language": "python",
   "name": "python3"
  },
  "language_info": {
   "codemirror_mode": {
    "name": "ipython",
    "version": 3
   },
   "file_extension": ".py",
   "mimetype": "text/x-python",
   "name": "python",
   "nbconvert_exporter": "python",
   "pygments_lexer": "ipython3",
   "version": "3.10.6"
  },
  "orig_nbformat": 4
 },
 "nbformat": 4,
 "nbformat_minor": 2
}
