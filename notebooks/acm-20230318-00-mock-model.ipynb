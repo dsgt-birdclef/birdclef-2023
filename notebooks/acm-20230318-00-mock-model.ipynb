{
 "cells": [
  {
   "cell_type": "code",
   "execution_count": 34,
   "metadata": {},
   "outputs": [
    {
     "data": {
      "text/plain": [
       "[(320,), (3337,)]"
      ]
     },
     "execution_count": 34,
     "metadata": {},
     "output_type": "execute_result"
    }
   ],
   "source": [
    "import onnxruntime as rt\n",
    "import numpy as np\n",
    "\n",
    "onnx_model_v1 = \"../data/models/birdnet-onnx-v1.onnx\"\n",
    "\n",
    "test = np.random.randn(5, 144_000).astype(np.float32)\n",
    "\n",
    "sess = rt.InferenceSession(onnx_model_v1)\n",
    "y = sess.run(None, {\"inputs:0\": test})\n",
    "[res.shape for res in y]"
   ]
  },
  {
   "cell_type": "code",
   "execution_count": 14,
   "metadata": {},
   "outputs": [
    {
     "data": {
      "text/plain": [
       "onnxruntime.capi.onnxruntime_inference_collection.InferenceSession"
      ]
     },
     "execution_count": 14,
     "metadata": {},
     "output_type": "execute_result"
    }
   ],
   "source": [
    "# help(sess)\n",
    "type(sess)"
   ]
  },
  {
   "attachments": {},
   "cell_type": "markdown",
   "metadata": {},
   "source": [
    "https://onnxruntime.ai/docs/api/python/api_summary.html#inferencesession"
   ]
  },
  {
   "cell_type": "code",
   "execution_count": 12,
   "metadata": {},
   "outputs": [
    {
     "data": {
      "text/plain": [
       "(['inputs:0'], ['unknown_242:0', 'unknown_244:0'])"
      ]
     },
     "execution_count": 12,
     "metadata": {},
     "output_type": "execute_result"
    }
   ],
   "source": [
    "[x.name for x in sess.get_inputs()], [x.name for x in sess.get_outputs()]"
   ]
  },
  {
   "attachments": {},
   "cell_type": "markdown",
   "metadata": {},
   "source": [
    "Now, can we programmatically create the model above for unit testing?"
   ]
  },
  {
   "cell_type": "code",
   "execution_count": 15,
   "metadata": {},
   "outputs": [
    {
     "data": {
      "text/plain": [
       "48000.0"
      ]
     },
     "execution_count": 15,
     "metadata": {},
     "output_type": "execute_result"
    }
   ],
   "source": [
    "144_000 / 3"
   ]
  },
  {
   "cell_type": "code",
   "execution_count": 29,
   "metadata": {},
   "outputs": [
    {
     "data": {
      "text/plain": [
       "(tensor([[ 6.5706e-01, -2.3431e-01,  6.7256e-01, -2.3667e-01,  4.4336e-01,\n",
       "           1.6049e-02,  6.5950e-02, -3.1205e-01,  8.8652e-01, -3.8794e-01,\n",
       "           1.5483e-01,  9.7137e-01,  1.2336e-01,  5.4181e-01, -6.6283e-01,\n",
       "           1.9865e-01, -5.6669e-01,  6.7603e-01,  1.8931e-01, -1.5704e+00,\n",
       "           2.5434e-01,  1.1347e+00,  5.0792e-01,  8.0553e-01,  1.1767e-01,\n",
       "           4.9501e-01, -5.4933e-01, -4.0768e-01, -2.5366e-01, -1.1838e-01,\n",
       "           7.2716e-01, -1.0257e-01,  6.7081e-02,  3.7478e-01, -6.2518e-02,\n",
       "          -2.8208e-02,  3.0539e-01, -3.0376e-01, -7.0898e-01, -1.1575e+00,\n",
       "           2.8810e-02,  3.7198e-01, -4.2812e-01, -5.5816e-01, -7.4951e-01,\n",
       "          -6.1835e-02, -2.5026e-01,  1.4488e+00,  3.6471e-01,  1.6374e-01,\n",
       "          -5.7926e-01, -4.4474e-01, -5.9416e-01,  3.0171e-01,  7.1596e-01,\n",
       "          -5.5420e-01, -3.1573e-01, -4.7449e-01, -3.2175e-01,  9.3844e-01,\n",
       "           3.8850e-01,  2.2539e-01,  1.0543e+00,  1.3747e-01,  9.4812e-02,\n",
       "          -1.0305e+00,  8.1425e-01, -5.0435e-01, -9.1721e-02,  5.5225e-01,\n",
       "          -1.9010e-01,  8.8205e-02, -4.8725e-01, -7.2850e-01,  5.1702e-01,\n",
       "           9.6489e-01, -1.2553e-01, -1.3692e+00, -2.5760e-01,  8.5011e-01,\n",
       "           5.8258e-01,  1.1181e+00, -1.1399e+00,  2.6383e-01,  4.8679e-01,\n",
       "           2.4392e-02, -5.0604e-01,  3.2589e-01,  1.3242e-01, -5.1481e-01,\n",
       "           9.5409e-01, -6.6724e-01,  9.6878e-01,  1.9786e-02,  6.6566e-01,\n",
       "           1.0578e+00,  1.2745e-01, -2.9769e-01,  6.9994e-01, -3.9670e-01,\n",
       "          -3.1023e-01, -3.8424e-01, -1.6106e-01, -1.8627e-01, -6.4220e-01,\n",
       "           3.8841e-02,  2.8743e-01, -8.1627e-01,  1.2367e+00, -3.1552e-01,\n",
       "           2.8561e-02, -4.6997e-01,  1.9955e-04, -4.3662e-01, -5.0572e-01,\n",
       "          -2.2458e-01, -1.6608e-01, -4.6185e-01, -1.9955e-01,  8.3329e-01,\n",
       "           1.0226e+00, -5.2039e-01,  7.6984e-01, -3.3702e-01, -3.2378e-01,\n",
       "           7.6495e-01,  8.6168e-01,  2.0627e-01,  2.9225e-01,  5.2885e-01,\n",
       "          -8.3314e-01,  1.9572e-01,  6.1060e-01, -6.1391e-01, -8.0665e-01,\n",
       "          -1.0283e+00,  5.1686e-01, -9.6509e-01, -1.2815e+00, -3.0039e-02,\n",
       "          -2.2814e-01, -6.8390e-01, -2.3521e-01,  1.0168e+00,  2.7228e-01,\n",
       "          -6.9338e-01,  1.3661e+00,  3.5694e-01,  7.6603e-02,  2.8994e-01,\n",
       "          -1.6331e-01, -3.2144e-02,  4.1709e-03,  3.9647e-01, -2.2696e-01,\n",
       "           3.9419e-01,  2.1990e-02, -1.0338e-01,  9.1267e-01,  5.4967e-01,\n",
       "          -2.5133e-01,  1.1445e-01, -1.0535e-01, -3.0658e-01, -4.3063e-01,\n",
       "           5.2392e-02, -3.1075e-01,  7.1488e-01,  1.2808e+00, -2.5150e-01,\n",
       "          -2.5676e-01,  5.5450e-02,  5.3606e-02, -1.7983e-01, -4.9381e-01,\n",
       "          -5.0778e-01, -4.6602e-01, -6.4181e-01,  3.3276e-01, -7.2407e-02,\n",
       "           3.6456e-02, -2.5410e-01, -6.1887e-01, -4.1306e-02, -1.5408e-01,\n",
       "           2.3580e-01, -8.1457e-02, -1.2039e-01, -9.6618e-01, -1.6687e-01,\n",
       "          -5.4752e-02, -1.6027e-01,  9.0622e-02, -1.2958e-01, -8.0233e-01,\n",
       "           2.4829e-01,  2.3416e-02,  3.0182e-01, -5.9537e-01, -2.3682e-01,\n",
       "          -3.4815e-01, -6.5357e-01,  9.5276e-01, -2.1944e-01,  3.8053e-01,\n",
       "           4.9009e-01, -1.3647e+00, -2.2795e-01,  4.2256e-01, -8.7692e-01,\n",
       "          -2.6235e-01, -7.6286e-01, -2.1687e-01, -5.7883e-01, -6.1629e-01,\n",
       "           2.2142e-01,  8.5583e-02, -8.1898e-03,  2.9727e-01, -1.8084e-01,\n",
       "          -3.0180e-01,  4.3567e-01, -3.7532e-01, -5.0725e-02, -4.3080e-01,\n",
       "           7.7053e-01, -7.7677e-01, -3.6522e-01,  3.0002e-02,  1.0782e-01,\n",
       "          -7.1463e-01,  7.9963e-01, -9.3910e-01,  2.8715e-01,  1.2217e+00,\n",
       "          -2.0203e-01,  2.6082e-02,  2.5431e-01, -5.6870e-01, -7.3860e-01,\n",
       "          -1.0428e-01, -5.6332e-01, -3.7512e-01,  3.9394e-03,  3.3813e-01,\n",
       "          -1.2550e-01,  3.8928e-01,  4.6250e-01, -5.1678e-01,  2.3140e-01,\n",
       "           3.5517e-01, -6.8896e-01,  3.3471e-01,  6.9430e-01, -6.6465e-01,\n",
       "          -3.7958e-01,  1.1545e+00, -2.6581e-01,  4.1542e-01,  2.6869e-01,\n",
       "           1.6100e-01,  5.8596e-01,  6.4526e-01,  4.2441e-01, -8.6947e-01,\n",
       "          -4.5881e-01, -3.1149e-01,  2.0384e-01,  2.0878e-02,  1.1296e-01,\n",
       "           1.1534e+00,  2.0481e-01, -7.6135e-01,  5.9785e-01,  7.9369e-02,\n",
       "          -1.6661e+00,  6.9654e-02, -1.6800e-01, -6.4271e-01, -8.7103e-01,\n",
       "           6.9470e-01, -9.2665e-01, -1.4296e-01, -4.6514e-01, -1.9340e-01,\n",
       "          -4.1148e-01,  5.7485e-01, -3.0157e-01,  4.5047e-01,  2.4996e-01,\n",
       "          -4.0584e-01, -2.0178e-01,  7.5431e-02, -3.0969e-01, -6.1645e-02,\n",
       "           1.4714e+00,  1.0648e-01, -3.2777e-01,  2.6075e-01,  6.8834e-01,\n",
       "          -8.8000e-02, -1.2695e+00, -4.3368e-01, -3.3977e-01,  8.6098e-01,\n",
       "           1.1380e+00,  3.1260e-01, -4.2603e-01,  7.0413e-01, -1.7613e-01,\n",
       "          -6.8033e-01, -2.2148e-01,  3.9758e-01,  1.0765e+00, -4.7987e-01,\n",
       "          -1.7653e-02,  2.7635e-01,  3.7921e-01, -1.1943e+00, -1.2855e+00]],\n",
       "        grad_fn=<AddmmBackward0>),\n",
       " tensor([[ 0.0056,  0.3425, -0.4268,  ...,  0.7089, -0.0442, -0.6193]],\n",
       "        grad_fn=<AddmmBackward0>))"
      ]
     },
     "execution_count": 29,
     "metadata": {},
     "output_type": "execute_result"
    }
   ],
   "source": [
    "import torch.nn as nn\n",
    "import torch\n",
    "\n",
    "# create a super simple model with 2 layers\n",
    "\n",
    "\n",
    "class MockBirdNET(nn.Module):\n",
    "    def __init__(self):\n",
    "        super().__init__()\n",
    "        self.fc1 = nn.Linear(48_000 * 3, 320)\n",
    "        self.fc2 = nn.Linear(320, 3337)\n",
    "\n",
    "    def forward(self, x):\n",
    "        x1 = self.fc1(x)\n",
    "        x2 = self.fc2(x1)\n",
    "        return x1, x2\n",
    "\n",
    "\n",
    "model = MockBirdNET()\n",
    "model(torch.from_numpy(test))"
   ]
  },
  {
   "cell_type": "code",
   "execution_count": 36,
   "metadata": {},
   "outputs": [
    {
     "data": {
      "text/plain": [
       "[(5, 320), (5, 3337)]"
      ]
     },
     "execution_count": 36,
     "metadata": {},
     "output_type": "execute_result"
    }
   ],
   "source": [
    "# export the model to onxx\n",
    "from pathlib import Path\n",
    "\n",
    "test_model_output = \"../data/intermediate/test-mock.onnx\"\n",
    "Path(test_model_output).parent.mkdir(exist_ok=True, parents=True)\n",
    "\n",
    "torch.onnx.export(\n",
    "    model,\n",
    "    torch.from_numpy(test),\n",
    "    test_model_output,\n",
    "    input_names=[\"inputs:0\"],\n",
    "    output_names=[\"unknown_242:0\", \"unknown_244:0\"],\n",
    ")\n",
    "\n",
    "mock_model = rt.InferenceSession(test_model_output)\n",
    "y = mock_model.run(None, {\"inputs:0\": test})\n",
    "[res.shape for res in y]"
   ]
  }
 ],
 "metadata": {
  "kernelspec": {
   "display_name": "venv",
   "language": "python",
   "name": "python3"
  },
  "language_info": {
   "codemirror_mode": {
    "name": "ipython",
    "version": 3
   },
   "file_extension": ".py",
   "mimetype": "text/x-python",
   "name": "python",
   "nbconvert_exporter": "python",
   "pygments_lexer": "ipython3",
   "version": "3.10.6"
  },
  "orig_nbformat": 4
 },
 "nbformat": 4,
 "nbformat_minor": 2
}
