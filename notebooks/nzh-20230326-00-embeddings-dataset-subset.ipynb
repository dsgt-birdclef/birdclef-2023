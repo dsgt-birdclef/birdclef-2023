{
 "cells": [
  {
   "cell_type": "code",
   "execution_count": 4,
   "metadata": {},
   "outputs": [],
   "source": [
    "from pyspark.sql import functions as F, Window\n",
    "from birdclef.utils import get_spark"
   ]
  },
  {
   "cell_type": "code",
   "execution_count": 5,
   "metadata": {},
   "outputs": [
    {
     "name": "stderr",
     "output_type": "stream",
     "text": [
      "Setting default log level to \"WARN\".\n",
      "To adjust logging level use sc.setLogLevel(newLevel). For SparkR, use setLogLevel(newLevel).\n"
     ]
    },
    {
     "name": "stdout",
     "output_type": "stream",
     "text": [
      "23/03/26 17:25:15 WARN NativeCodeLoader: Unable to load native-hadoop library for your platform... using builtin-java classes where applicable\n",
      "23/03/26 17:25:16 WARN Utils: Service 'SparkUI' could not bind on port 4040. Attempting port 4041.\n"
     ]
    },
    {
     "name": "stderr",
     "output_type": "stream",
     "text": [
      "                                                                                \r"
     ]
    },
    {
     "data": {
      "text/plain": [
       "276748"
      ]
     },
     "execution_count": 5,
     "metadata": {},
     "output_type": "execute_result"
    }
   ],
   "source": [
    "spark_path = (\n",
    "    \"/home/nzhon/data/processed/birdclef-2022/birdnet-embeddings-with-neighbors/v1\"\n",
    ")\n",
    "spark = get_spark(memory=\"2g\")\n",
    "df = spark.read.parquet(spark_path)\n",
    "df.count()"
   ]
  },
  {
   "cell_type": "code",
   "execution_count": 6,
   "metadata": {},
   "outputs": [
    {
     "name": "stderr",
     "output_type": "stream",
     "text": [
      "                                                                                \r"
     ]
    },
    {
     "name": "stdout",
     "output_type": "stream",
     "text": [
      "+-------------+\n",
      "|primary_label|\n",
      "+-------------+\n",
      "|       coopet|\n",
      "|       puaioh|\n",
      "|       bubsan|\n",
      "+-------------+\n",
      "\n"
     ]
    },
    {
     "data": {
      "text/plain": [
       "3"
      ]
     },
     "execution_count": 6,
     "metadata": {},
     "output_type": "execute_result"
    }
   ],
   "source": [
    "# figure out the top 3 species\n",
    "top_species = (\n",
    "    df.groupBy(\"primary_label\")\n",
    "    .count()\n",
    "    .orderBy(\"count\")\n",
    "    .select(\"primary_label\")\n",
    "    .limit(3)\n",
    ")\n",
    "top_species.show()"
   ]
  },
  {
   "cell_type": "code",
   "execution_count": 7,
   "metadata": {},
   "outputs": [],
   "source": [
    "# take 10 rows from the first 3 species ordered by name\n",
    "\n",
    "subset = (\n",
    "    df\n",
    "    # keep the top 3 species\n",
    "    .join(top_species, on=\"primary_label\", how=\"inner\")\n",
    "    .withColumn(\n",
    "        \"rank\", F.row_number().over(Window.partitionBy(\"primary_label\").orderBy(\"id\"))\n",
    "    )\n",
    "    .where(\"rank < 10\")\n",
    ")"
   ]
  },
  {
   "cell_type": "code",
   "execution_count": 9,
   "metadata": {},
   "outputs": [
    {
     "name": "stderr",
     "output_type": "stream",
     "text": [
      "                                                                                \r"
     ]
    },
    {
     "name": "stdout",
     "output_type": "stream",
     "text": [
      "+-------------+------+-------------------+---------+-------+----------+-------------+-------------------+--------------------+--------------------+---------------+--------------------+--------------------+----+\n",
      "|primary_label|    id|           filename|start_sec|end_sec|confidence|birdnet_label|birdnet_common_name|                 emb|    secondary_labels|           type|           neighbors|           distances|rank|\n",
      "+-------------+------+-------------------+---------+-------+----------+-------------+-------------------+--------------------+--------------------+---------------+--------------------+--------------------+----+\n",
      "|       bubsan| 30677|bubsan/XC435876.ogg|      0.0|    3.0|    0.1129|       laugul|      Laughing Gull|[1.0587984, 1.633...|                  []|['flight call']|[30677, 30678, 30...|[0.0, 0.0, 0.0, 5...|   1|\n",
      "|       bubsan| 30678|bubsan/XC435876.ogg|      0.0|    3.0|    0.2012|       blkter|         Black Tern|[1.0587984, 1.633...|                  []|['flight call']|[30676, 30677, 30...|[0.0, 0.0, 0.0, 5...|   2|\n",
      "|       bubsan| 30679|bubsan/XC435876.ogg|      0.0|    3.0|    0.2295|      watjac1|     Wattled Jacana|[1.0587984, 1.633...|                  []|['flight call']|[30678, 30677, 30...|[0.0, 0.0, 0.0, 5...|   3|\n",
      "|       bubsan| 30680|bubsan/XC435877.ogg|      0.0|    3.0|    0.5409|       blkter|         Black Tern|[0.7182959, 1.673...|                  []|['flight call']|[30679, 30676, 30...|[0.0, 5.748212814...|   4|\n",
      "|       bubsan| 30681| bubsan/XC51881.ogg|      0.0|    3.0|    0.1701|      santer1|      Sandwich Tern|[0.8588889, 2.060...|                  []|       ['song']|[30680, 30682, 30...|[0.0, 0.0, 0.0, 7...|   5|\n",
      "|       bubsan| 30682| bubsan/XC51881.ogg|      0.0|    3.0|    0.2733|       cantow|      Canyon Towhee|[0.8588889, 2.060...|                  []|       ['song']|[30681, 30680, 30...|[0.0, 0.0, 0.0, 7...|   6|\n",
      "|       bubsan| 30683| bubsan/XC51881.ogg|      0.0|    3.0|    0.6131|      andlap1|     Andean Lapwing|[0.8588889, 2.060...|                  []|       ['song']|[30681, 30682, 30...|[0.0, 0.0, 0.0, 7...|   7|\n",
      "|       bubsan| 30684| bubsan/XC51881.ogg|      3.0|    6.0|    0.1732|       cantow|      Canyon Towhee|[0.7198393, 0.653...|                  []|       ['song']|[30684, 30683, 18...|[0.0, 0.0, 4.9055...|   8|\n",
      "|       bubsan| 30685| bubsan/XC51881.ogg|      3.0|    6.0|     0.364|       weskin|   Western Kingbird|[0.7198393, 0.653...|                  []|       ['song']|[30684, 30683, 18...|[0.0, 0.0, 4.9055...|   9|\n",
      "|       coopet| 68971|coopet/XC293320.ogg|      0.0|    3.0|    0.3716|      creduc1|       Crested Duck|[1.0394169, 1.618...|                  []|       ['call']|[68971, 68970, 68...|[0.0, 0.0, 6.7785...|   1|\n",
      "|       coopet| 68972|coopet/XC293320.ogg|      0.0|    3.0|    0.9834|       coopet|      Cook's Petrel|[1.0394169, 1.618...|                  []|       ['call']|[68971, 68970, 68...|[0.0, 0.0, 6.7785...|   2|\n",
      "|       coopet| 68973|coopet/XC293320.ogg|      6.0|    9.0|    0.9966|       coopet|      Cook's Petrel|[0.942108, 0.9076...|                  []|       ['call']|[68972, 68973, 68...|[0.0, 5.054570674...|   3|\n",
      "|       coopet| 68974|coopet/XC293320.ogg|      9.0|   12.0|    0.7882|       coopet|      Cook's Petrel|[0.7395844, 0.819...|                  []|       ['call']|[68973, 48291, 48...|[0.0, 4.659165382...|   4|\n",
      "|       coopet| 68975|coopet/XC293336.ogg|      0.0|    3.0|    0.3099|       mutswa|          Mute Swan|[1.0120499, 1.291...|                  []|       ['call']|[68975, 68974, 68...|[0.0, 0.0, 7.4076...|   5|\n",
      "|       coopet| 68976|coopet/XC293336.ogg|      0.0|    3.0|     0.995|       coopet|      Cook's Petrel|[1.0120499, 1.291...|                  []|       ['call']|[68975, 68974, 68...|[0.0, 0.0, 7.4076...|   6|\n",
      "|       coopet| 68977|coopet/XC293336.ogg|      3.0|    6.0|    0.1442|       mutswa|          Mute Swan|[0.82074237, 1.21...|                  []|       ['call']|[68976, 141285, 1...|[0.0, 3.710176467...|   7|\n",
      "|       coopet| 68978|coopet/XC293339.ogg|      0.0|    3.0|    0.4224|       coopet|      Cook's Petrel|[1.5143229, 1.601...|                  []|       ['call']|[68977, 193537, 1...|[0.0, 5.143854141...|   8|\n",
      "|       puaioh|206316|puaioh/XC144892.ogg|     12.0|   15.0|    0.1798|       puaioh|            Puaiohi|[0.97480553, 0.67...|['aniani', 'apapan']|       ['song']|[206315, 206316, ...|[0.0, 0.0, 5.6942...|   1|\n",
      "|       puaioh|206317|puaioh/XC144892.ogg|     12.0|   15.0|    0.8758|       apapan|            Apapane|[0.97480553, 0.67...|['aniani', 'apapan']|       ['song']|[206315, 206316, ...|[0.0, 0.0, 5.6942...|   2|\n",
      "|       puaioh|206318|puaioh/XC144892.ogg|     21.0|   24.0|    0.2428|       puaioh|            Puaiohi|[1.4561213, 1.074...|['aniani', 'apapan']|       ['song']|[206317, 206318, ...|[0.0, 0.0, 5.6942...|   3|\n",
      "+-------------+------+-------------------+---------+-------+----------+-------------+-------------------+--------------------+--------------------+---------------+--------------------+--------------------+----+\n",
      "only showing top 20 rows\n",
      "\n"
     ]
    },
    {
     "data": {
      "text/plain": [
       "26"
      ]
     },
     "execution_count": 9,
     "metadata": {},
     "output_type": "execute_result"
    }
   ],
   "source": [
    "subset.show()\n",
    "subset.count()"
   ]
  },
  {
   "cell_type": "code",
   "execution_count": 11,
   "metadata": {},
   "outputs": [
    {
     "name": "stderr",
     "output_type": "stream",
     "text": [
      "                                                                                \r"
     ]
    },
    {
     "name": "stdout",
     "output_type": "stream",
     "text": [
      "+-------------+------+-------------------+---------+-------+----------+-------------+-------------------+--------------------+--------------------+---------------+--------------------+--------------------+----+\n",
      "|primary_label|    id|           filename|start_sec|end_sec|confidence|birdnet_label|birdnet_common_name|                 emb|    secondary_labels|           type|           neighbors|           distances|rank|\n",
      "+-------------+------+-------------------+---------+-------+----------+-------------+-------------------+--------------------+--------------------+---------------+--------------------+--------------------+----+\n",
      "|       bubsan| 30677|bubsan/XC435876.ogg|      0.0|    3.0|    0.1129|       laugul|      Laughing Gull|[1.0587984, 1.633...|                  []|['flight call']|[30677, 30678, 30...|[0.0, 0.0, 0.0, 5...|   1|\n",
      "|       bubsan| 30678|bubsan/XC435876.ogg|      0.0|    3.0|    0.2012|       blkter|         Black Tern|[1.0587984, 1.633...|                  []|['flight call']|[30676, 30677, 30...|[0.0, 0.0, 0.0, 5...|   2|\n",
      "|       bubsan| 30679|bubsan/XC435876.ogg|      0.0|    3.0|    0.2295|      watjac1|     Wattled Jacana|[1.0587984, 1.633...|                  []|['flight call']|[30678, 30677, 30...|[0.0, 0.0, 0.0, 5...|   3|\n",
      "|       bubsan| 30680|bubsan/XC435877.ogg|      0.0|    3.0|    0.5409|       blkter|         Black Tern|[0.7182959, 1.673...|                  []|['flight call']|[30679, 30676, 30...|[0.0, 5.748212814...|   4|\n",
      "|       bubsan| 30681| bubsan/XC51881.ogg|      0.0|    3.0|    0.1701|      santer1|      Sandwich Tern|[0.8588889, 2.060...|                  []|       ['song']|[30680, 30682, 30...|[0.0, 0.0, 0.0, 7...|   5|\n",
      "|       bubsan| 30682| bubsan/XC51881.ogg|      0.0|    3.0|    0.2733|       cantow|      Canyon Towhee|[0.8588889, 2.060...|                  []|       ['song']|[30681, 30680, 30...|[0.0, 0.0, 0.0, 7...|   6|\n",
      "|       bubsan| 30683| bubsan/XC51881.ogg|      0.0|    3.0|    0.6131|      andlap1|     Andean Lapwing|[0.8588889, 2.060...|                  []|       ['song']|[30681, 30682, 30...|[0.0, 0.0, 0.0, 7...|   7|\n",
      "|       bubsan| 30684| bubsan/XC51881.ogg|      3.0|    6.0|    0.1732|       cantow|      Canyon Towhee|[0.7198393, 0.653...|                  []|       ['song']|[30684, 30683, 18...|[0.0, 0.0, 4.9055...|   8|\n",
      "|       bubsan| 30685| bubsan/XC51881.ogg|      3.0|    6.0|     0.364|       weskin|   Western Kingbird|[0.7198393, 0.653...|                  []|       ['song']|[30684, 30683, 18...|[0.0, 0.0, 4.9055...|   9|\n",
      "|       coopet| 68971|coopet/XC293320.ogg|      0.0|    3.0|    0.3716|      creduc1|       Crested Duck|[1.0394169, 1.618...|                  []|       ['call']|[68971, 68970, 68...|[0.0, 0.0, 6.7785...|   1|\n",
      "|       coopet| 68972|coopet/XC293320.ogg|      0.0|    3.0|    0.9834|       coopet|      Cook's Petrel|[1.0394169, 1.618...|                  []|       ['call']|[68971, 68970, 68...|[0.0, 0.0, 6.7785...|   2|\n",
      "|       coopet| 68973|coopet/XC293320.ogg|      6.0|    9.0|    0.9966|       coopet|      Cook's Petrel|[0.942108, 0.9076...|                  []|       ['call']|[68972, 68973, 68...|[0.0, 5.054570674...|   3|\n",
      "|       coopet| 68974|coopet/XC293320.ogg|      9.0|   12.0|    0.7882|       coopet|      Cook's Petrel|[0.7395844, 0.819...|                  []|       ['call']|[68973, 48291, 48...|[0.0, 4.659165382...|   4|\n",
      "|       coopet| 68975|coopet/XC293336.ogg|      0.0|    3.0|    0.3099|       mutswa|          Mute Swan|[1.0120499, 1.291...|                  []|       ['call']|[68975, 68974, 68...|[0.0, 0.0, 7.4076...|   5|\n",
      "|       coopet| 68976|coopet/XC293336.ogg|      0.0|    3.0|     0.995|       coopet|      Cook's Petrel|[1.0120499, 1.291...|                  []|       ['call']|[68975, 68974, 68...|[0.0, 0.0, 7.4076...|   6|\n",
      "|       coopet| 68977|coopet/XC293336.ogg|      3.0|    6.0|    0.1442|       mutswa|          Mute Swan|[0.82074237, 1.21...|                  []|       ['call']|[68976, 141285, 1...|[0.0, 3.710176467...|   7|\n",
      "|       coopet| 68978|coopet/XC293339.ogg|      0.0|    3.0|    0.4224|       coopet|      Cook's Petrel|[1.5143229, 1.601...|                  []|       ['call']|[68977, 193537, 1...|[0.0, 5.143854141...|   8|\n",
      "|       puaioh|206316|puaioh/XC144892.ogg|     12.0|   15.0|    0.1798|       puaioh|            Puaiohi|[0.97480553, 0.67...|['aniani', 'apapan']|       ['song']|[206315, 206316, ...|[0.0, 0.0, 5.6942...|   1|\n",
      "|       puaioh|206317|puaioh/XC144892.ogg|     12.0|   15.0|    0.8758|       apapan|            Apapane|[0.97480553, 0.67...|['aniani', 'apapan']|       ['song']|[206315, 206316, ...|[0.0, 0.0, 5.6942...|   2|\n",
      "|       puaioh|206318|puaioh/XC144892.ogg|     21.0|   24.0|    0.2428|       puaioh|            Puaiohi|[1.4561213, 1.074...|['aniani', 'apapan']|       ['song']|[206317, 206318, ...|[0.0, 0.0, 5.6942...|   3|\n",
      "+-------------+------+-------------------+---------+-------+----------+-------------+-------------------+--------------------+--------------------+---------------+--------------------+--------------------+----+\n",
      "only showing top 20 rows\n",
      "\n"
     ]
    },
    {
     "name": "stderr",
     "output_type": "stream",
     "text": [
      "                                                                                \r"
     ]
    }
   ],
   "source": [
    "subset.repartition(1).show()\n",
    "subset.repartition(1).count()\n",
    "subset.repartition(1).write.parquet(\n",
    "    \"/home/nzhon/birdclef-2023/tests/workflows/data/cluster_plot_test_data\",\n",
    "    compression=\"snappy\",\n",
    ")"
   ]
  },
  {
   "cell_type": "code",
   "execution_count": null,
   "metadata": {},
   "outputs": [],
   "source": []
  }
 ],
 "metadata": {
  "kernelspec": {
   "display_name": ".venv",
   "language": "python",
   "name": "python3"
  },
  "language_info": {
   "codemirror_mode": {
    "name": "ipython",
    "version": 3
   },
   "file_extension": ".py",
   "mimetype": "text/x-python",
   "name": "python",
   "nbconvert_exporter": "python",
   "pygments_lexer": "ipython3",
   "version": "3.10.6"
  },
  "orig_nbformat": 4
 },
 "nbformat": 4,
 "nbformat_minor": 2
}
