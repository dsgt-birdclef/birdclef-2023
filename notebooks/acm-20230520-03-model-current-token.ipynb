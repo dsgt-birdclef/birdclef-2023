{
 "cells": [
  {
   "attachments": {},
   "cell_type": "markdown",
   "metadata": {},
   "source": [
    "# runs\n",
    "\n",
    "```powershell\n",
    "gsutil -m rsync -r `\n",
    "    data/models/baseline_v2/ `\n",
    "    gs://birdclef-2023/data/models/baseline_v2/\n",
    "```\n",
    "\n",
    "```powershell\n",
    "# oops this wasn't actually weighed, and it was trained using the superset of\n",
    "# labels. This isn't good...\n",
    "python scripts/acm_20230520_00_train_multilabel_xgbc.py `\n",
    "    --prefix acm-model-current-token-weighted-v1 `\n",
    "    --dry-run\n",
    "\n",
    "\n",
    "# training with the predicted values, plus weighted appropriately\n",
    "python scripts/acm_20230520_00_train_multilabel_xgbc.py `\n",
    "    --prefix acm-model-current-token-weighted-v2 `\n",
    "    --weighted `\n",
    "    --dry-run\n",
    "```\n",
    "\n",
    "```powershell\n",
    "# new dataset, with all three features concatenated\n",
    "# about 8 minutes a piece\n",
    "python scripts/acm_20230520_00_train_multilabel_xgbc.py `\n",
    "    --prefix acm-model-all-features-weighted-v1 `\n",
    "    --n-iter 10 `\n",
    "    --weighted `\n",
    "    --dry-run\n",
    "```"
   ]
  }
 ],
 "metadata": {
  "kernelspec": {
   "display_name": "venv",
   "language": "python",
   "name": "python3"
  },
  "language_info": {
   "codemirror_mode": {
    "name": "ipython",
    "version": 3
   },
   "file_extension": ".py",
   "mimetype": "text/x-python",
   "name": "python",
   "nbconvert_exporter": "python",
   "pygments_lexer": "ipython3",
   "version": "3.10.5"
  },
  "orig_nbformat": 4
 },
 "nbformat": 4,
 "nbformat_minor": 2
}
