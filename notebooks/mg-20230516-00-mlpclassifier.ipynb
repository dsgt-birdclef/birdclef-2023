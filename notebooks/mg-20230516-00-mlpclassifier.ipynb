{
 "cells": [
  {
   "cell_type": "code",
   "execution_count": 1,
   "metadata": {},
   "outputs": [],
   "source": [
    "%load_ext autoreload\n",
    "%autoreload 2\n",
    "%load_ext lab_black"
   ]
  },
  {
   "attachments": {},
   "cell_type": "markdown",
   "metadata": {},
   "source": [
    "## Neural Network Classifier\n",
    "\n",
    "Using the [MLPClassifier](https://scikit-learn.org/stable/modules/generated/sklearn.neural_network.MLPClassifier.html#sklearn.neural_network.MLPClassifier) from sklearn to train the `consolidaded_v3` dataset."
   ]
  },
  {
   "cell_type": "code",
   "execution_count": 2,
   "metadata": {},
   "outputs": [
    {
     "name": "stderr",
     "output_type": "stream",
     "text": [
      "Setting default log level to \"WARN\".\n",
      "To adjust logging level use sc.setLogLevel(newLevel). For SparkR, use setLogLevel(newLevel).\n"
     ]
    },
    {
     "name": "stdout",
     "output_type": "stream",
     "text": [
      "23/06/06 11:15:28 WARN NativeCodeLoader: Unable to load native-hadoop library for your platform... using builtin-java classes where applicable\n"
     ]
    },
    {
     "name": "stderr",
     "output_type": "stream",
     "text": [
      "                                                                                \r"
     ]
    },
    {
     "name": "stdout",
     "output_type": "stream",
     "text": [
      "root\n",
      " |-- species: string (nullable = true)\n",
      " |-- track_stem: string (nullable = true)\n",
      " |-- track_type: string (nullable = true)\n",
      " |-- track_name: string (nullable = true)\n",
      " |-- embedding: array (nullable = true)\n",
      " |    |-- element: double (containsNull = true)\n",
      " |-- prediction_vec: array (nullable = true)\n",
      " |    |-- element: double (containsNull = true)\n",
      " |-- predictions: array (nullable = true)\n",
      " |    |-- element: struct (containsNull = true)\n",
      " |    |    |-- rank: long (nullable = true)\n",
      " |    |    |-- index: long (nullable = true)\n",
      " |    |    |-- label: string (nullable = true)\n",
      " |    |    |-- mapped_label: string (nullable = true)\n",
      " |    |    |-- probability: double (nullable = true)\n",
      " |-- start_time: long (nullable = true)\n",
      " |-- energy: double (nullable = true)\n",
      "\n"
     ]
    }
   ],
   "source": [
    "from birdclef.utils import get_spark\n",
    "\n",
    "spark = get_spark(cores=4, memory=\"10g\")\n",
    "df = spark.read.parquet(\n",
    "    \"../data/processed/birdclef-2023/train_embeddings/consolidated_v3\"\n",
    "    # \"../data/processed/birdclef-2023/train_embeddings/consolidated_v4\"\n",
    ")\n",
    "df.printSchema()"
   ]
  },
  {
   "attachments": {},
   "cell_type": "markdown",
   "metadata": {},
   "source": [
    "### 1. Data processing"
   ]
  },
  {
   "cell_type": "code",
   "execution_count": null,
   "metadata": {},
   "outputs": [],
   "source": [
    "from pyspark.sql import Window, functions as F\n",
    "\n",
    "# keep the track_type for the highest energy\n",
    "highest_energy_channel = (\n",
    "    df\n",
    "    # get the track stem without the part\n",
    "    .withColumn(\"original_track_stem\", F.split(F.col(\"track_stem\"), \"_\").getItem(0))\n",
    "    .where(\"track_type != 'original'\")\n",
    "    # get the track type that has the most energy\n",
    "    .withColumn(\n",
    "        \"rank\",\n",
    "        F.rank().over(\n",
    "            Window.partitionBy(\"original_track_stem\").orderBy(F.desc(\"energy\"))\n",
    "        ),\n",
    "    )\n",
    "    # keep the first row\n",
    "    .where(F.col(\"rank\") == 1)\n",
    "    # drop the rank column\n",
    "    .select(\"species\", \"track_stem\", \"track_type\")\n",
    "    .distinct()\n",
    ")\n",
    "\n",
    "# get the highest predictions by exploding the values\n",
    "exploded_embeddings = (\n",
    "    df\n",
    "    # join against the highest energy channel\n",
    "    .join(\n",
    "        highest_energy_channel,\n",
    "        on=[\"species\", \"track_stem\", \"track_type\"],\n",
    "        how=\"inner\",\n",
    "    )\n",
    "    # explode the embeddings, these are ordered by confidence\n",
    "    .withColumn(\"predictions\", F.explode(\"predictions\")).select(\n",
    "        \"species\",\n",
    "        \"track_stem\",\n",
    "        \"track_type\",\n",
    "        \"start_time\",\n",
    "        \"track_name\",\n",
    "        \"embedding\",\n",
    "        \"predictions.*\",\n",
    "    )\n",
    "    # simplifying assumption: we assume the prediction with the highest confidence is the true label\n",
    "    .where(\"rank = 0\")\n",
    ").cache()\n",
    "\n",
    "exploded_embeddings.drop(\"embedding\").show(n=5)"
   ]
  },
  {
   "cell_type": "code",
   "execution_count": null,
   "metadata": {},
   "outputs": [],
   "source": [
    "# quick count of the number of samples\n",
    "counts = (\n",
    "    exploded_embeddings.groupBy(\"species\")\n",
    "    .agg(F.count(\"*\").alias(\"n\"))\n",
    "    .orderBy(F.desc(\"n\"))\n",
    ")\n",
    "counts.show(n=5)\n",
    "counts.orderBy(\"n\").show(n=5)"
   ]
  },
  {
   "cell_type": "code",
   "execution_count": null,
   "metadata": {},
   "outputs": [],
   "source": [
    "rarity_min_count = 100\n",
    "rare_species_count = (\n",
    "    exploded_embeddings.groupBy(\"species\")\n",
    "    .agg(F.count(\"*\").alias(\"n\"))\n",
    "    .where(f\"n < {rarity_min_count}\")\n",
    ")\n",
    "rare_species_count.show(n=5)\n",
    "\n",
    "# if there are a lot of examples, we can use a higher threshold\n",
    "common_species = exploded_embeddings.where(\"probability > 0.4\").join(\n",
    "    rare_species_count.select(\"species\"), on=\"species\", how=\"left_anti\"\n",
    ")\n",
    "# these ones are less common so we use a lower threshold so we have at least one\n",
    "# example for each species\n",
    "rare_species = exploded_embeddings.where(\"probability > 0.05\").join(\n",
    "    rare_species_count.select(\"species\"), on=\"species\", how=\"inner\"\n",
    ")\n",
    "prepared = common_species.union(rare_species).select(\n",
    "    \"species\", \"probability\", \"embedding\"\n",
    ")\n",
    "prepared.show(n=5)\n",
    "prepared.count()"
   ]
  },
  {
   "cell_type": "code",
   "execution_count": null,
   "metadata": {},
   "outputs": [],
   "source": [
    "# lets check that we have the right number of classes, and how many examples we are working with\n",
    "prepared_counts = (\n",
    "    prepared.groupBy(\"species\").agg(F.count(\"*\").alias(\"n\")).orderBy(F.desc(\"n\"))\n",
    ")\n",
    "print(f\"number of species {prepared_counts.count()}\")\n",
    "\n",
    "prepared_counts.show(n=5)\n",
    "prepared_counts.orderBy(\"n\").show(n=5)"
   ]
  },
  {
   "cell_type": "code",
   "execution_count": 3,
   "metadata": {},
   "outputs": [
    {
     "name": "stdout",
     "output_type": "stream",
     "text": [
      "root\n",
      " |-- track_stem: string (nullable = true)\n",
      " |-- track_type: string (nullable = true)\n",
      " |-- start_time: long (nullable = true)\n",
      " |-- species: string (nullable = true)\n",
      " |-- embedding: array (nullable = true)\n",
      " |    |-- element: double (containsNull = true)\n",
      " |-- prediction_vec: array (nullable = true)\n",
      " |    |-- element: float (containsNull = true)\n",
      "\n"
     ]
    }
   ],
   "source": [
    "# Load train_postprocessed/v7 dataset\n",
    "df_v7 = spark.read.parquet(\"../data/processed/birdclef-2023/train_postprocessed/v7\")\n",
    "df_v7.printSchema()"
   ]
  },
  {
   "cell_type": "code",
   "execution_count": 4,
   "metadata": {},
   "outputs": [
    {
     "name": "stderr",
     "output_type": "stream",
     "text": [
      "                                                                                \r"
     ]
    },
    {
     "name": "stdout",
     "output_type": "stream",
     "text": [
      "+-------+--------------------+\n",
      "|species|           embedding|\n",
      "+-------+--------------------+\n",
      "|afmdov1|[1.76885128021240...|\n",
      "|afecuc1|[1.10089623928070...|\n",
      "| hoopoe|[1.38337278366088...|\n",
      "|no_call|[1.02644920349121...|\n",
      "|yertin1|[0.25436714291572...|\n",
      "+-------+--------------------+\n",
      "only showing top 5 rows\n",
      "\n",
      "+---------------+\n",
      "|size(embedding)|\n",
      "+---------------+\n",
      "|            640|\n",
      "|            640|\n",
      "|            640|\n",
      "|            640|\n",
      "|            640|\n",
      "+---------------+\n",
      "only showing top 5 rows\n",
      "\n"
     ]
    }
   ],
   "source": [
    "from pyspark.sql.functions import size\n",
    "\n",
    "# Filter DF for species and embedding\n",
    "df_v7 = df_v7.select([\"species\", \"embedding\"])\n",
    "df_v7.show(5)\n",
    "\n",
    "# Check how many elements in each row\n",
    "df_v7.select(size(\"embedding\")).show(5)"
   ]
  },
  {
   "cell_type": "code",
   "execution_count": 5,
   "metadata": {},
   "outputs": [
    {
     "name": "stderr",
     "output_type": "stream",
     "text": [
      "                                                                                \r"
     ]
    },
    {
     "data": {
      "text/html": [
       "<div>\n",
       "<style scoped>\n",
       "    .dataframe tbody tr th:only-of-type {\n",
       "        vertical-align: middle;\n",
       "    }\n",
       "\n",
       "    .dataframe tbody tr th {\n",
       "        vertical-align: top;\n",
       "    }\n",
       "\n",
       "    .dataframe thead th {\n",
       "        text-align: right;\n",
       "    }\n",
       "</style>\n",
       "<table border=\"1\" class=\"dataframe\">\n",
       "  <thead>\n",
       "    <tr style=\"text-align: right;\">\n",
       "      <th></th>\n",
       "      <th>species</th>\n",
       "      <th>embedding</th>\n",
       "    </tr>\n",
       "  </thead>\n",
       "  <tbody>\n",
       "    <tr>\n",
       "      <th>0</th>\n",
       "      <td>afmdov1</td>\n",
       "      <td>[1.7688512802124023, 0.8326520323753357, 0.497...</td>\n",
       "    </tr>\n",
       "    <tr>\n",
       "      <th>1</th>\n",
       "      <td>afecuc1</td>\n",
       "      <td>[1.1008962392807007, 1.1379547119140625, 0.734...</td>\n",
       "    </tr>\n",
       "    <tr>\n",
       "      <th>2</th>\n",
       "      <td>hoopoe</td>\n",
       "      <td>[1.3833727836608887, 0.9799421429634094, 0.926...</td>\n",
       "    </tr>\n",
       "    <tr>\n",
       "      <th>3</th>\n",
       "      <td>no_call</td>\n",
       "      <td>[1.026449203491211, 0.7480898499488831, 0.6804...</td>\n",
       "    </tr>\n",
       "    <tr>\n",
       "      <th>4</th>\n",
       "      <td>yertin1</td>\n",
       "      <td>[0.2543671429157257, 2.0027661323547363, 0.380...</td>\n",
       "    </tr>\n",
       "  </tbody>\n",
       "</table>\n",
       "</div>"
      ],
      "text/plain": [
       "   species                                          embedding\n",
       "0  afmdov1  [1.7688512802124023, 0.8326520323753357, 0.497...\n",
       "1  afecuc1  [1.1008962392807007, 1.1379547119140625, 0.734...\n",
       "2   hoopoe  [1.3833727836608887, 0.9799421429634094, 0.926...\n",
       "3  no_call  [1.026449203491211, 0.7480898499488831, 0.6804...\n",
       "4  yertin1  [0.2543671429157257, 2.0027661323547363, 0.380..."
      ]
     },
     "execution_count": 5,
     "metadata": {},
     "output_type": "execute_result"
    }
   ],
   "source": [
    "# Data for model training\n",
    "def convert_to_pandas(df):\n",
    "    return df.toPandas()\n",
    "\n",
    "\n",
    "# data_prepared = convert_to_pandas(df=prepared) # consolidated_v3 dataset\n",
    "data = convert_to_pandas(df=df_v7)\n",
    "data.head()"
   ]
  },
  {
   "attachments": {},
   "cell_type": "markdown",
   "metadata": {},
   "source": [
    "### 2. MLPClassifier model training"
   ]
  },
  {
   "cell_type": "code",
   "execution_count": 6,
   "metadata": {},
   "outputs": [
    {
     "name": "stdout",
     "output_type": "stream",
     "text": [
      "(171099, 640) (84273, 640)\n",
      "(171099,) (84273,)\n"
     ]
    }
   ],
   "source": [
    "import time\n",
    "import numpy as np\n",
    "from tqdm import tqdm\n",
    "from sklearn.pipeline import Pipeline\n",
    "from sklearn.preprocessing import StandardScaler\n",
    "from sklearn.neural_network import MLPClassifier\n",
    "from sklearn.model_selection import RandomizedSearchCV, GridSearchCV, StratifiedKFold\n",
    "from sklearn.model_selection import train_test_split\n",
    "from sklearn.metrics import (\n",
    "    accuracy_score,\n",
    "    precision_score,\n",
    "    recall_score,\n",
    "    f1_score,\n",
    "    make_scorer,\n",
    "    classification_report,\n",
    ")\n",
    "\n",
    "# Train/Test Split\n",
    "X_train, X_test, y_train, y_test = train_test_split(\n",
    "    np.stack(data[\"embedding\"]),\n",
    "    data[\"species\"],\n",
    "    test_size=0.33,\n",
    "    stratify=data[\"species\"],\n",
    ")\n",
    "\n",
    "# Data shape\n",
    "print(X_train.shape, X_test.shape)\n",
    "print(y_train.shape, y_test.shape)"
   ]
  },
  {
   "cell_type": "code",
   "execution_count": null,
   "metadata": {},
   "outputs": [],
   "source": [
    "# Select a small subset of data to train the model and test the class implementation\n",
    "# After training on the data subset, use the original train/test split data to train the model\n",
    "X_train_sub = X_train[:5000]\n",
    "X_test_sub = X_test[:1000]\n",
    "y_train_sub = y_train[:5000]\n",
    "y_test_sub = y_test[:1000]\n",
    "\n",
    "# Data shape\n",
    "print(X_train_sub.shape, X_test_sub.shape)\n",
    "print(y_train_sub.shape, y_test_sub.shape)"
   ]
  },
  {
   "cell_type": "code",
   "execution_count": null,
   "metadata": {},
   "outputs": [],
   "source": [
    "# Learner class\n",
    "class Learner:\n",
    "    def __init__(self, pipe, params):\n",
    "        self.pipe = pipe\n",
    "        self.params = params\n",
    "        self.clf = None\n",
    "        self.scores = None\n",
    "        self.search_name = None\n",
    "        self.class_report = None\n",
    "        self.dataset_name = None\n",
    "        self.learning_curve = {}\n",
    "        self.validation_curve = {}\n",
    "        self.cv = StratifiedKFold(n_splits=5, shuffle=True)\n",
    "        self.name = str(self.pipe[\"model\"].__class__.__name__)\n",
    "\n",
    "    def fit_gridsearch(self, search_func, X_train, y_train, verbose=False):\n",
    "        \"\"\"\n",
    "        Method to train the model using a search algorithm.\n",
    "\n",
    "        search_func: GridSearchCV, RandomizedSearchCV from sklearn.\n",
    "        X_train: training features dataset.\n",
    "        y_train: training labels dataset.\n",
    "        verbose: int() Controls the verbosity: the higher, the more messages (1, 2, or 3).\n",
    "        \"\"\"\n",
    "        np.random.seed(42)\n",
    "\n",
    "        # Train learner\n",
    "        self.clf = search_func(\n",
    "            self.pipe,\n",
    "            self.params,\n",
    "            scoring={\n",
    "                \"accuracy\": make_scorer(accuracy_score),\n",
    "                \"precision\": make_scorer(precision_score),\n",
    "                \"recall\": make_scorer(recall_score),\n",
    "                \"f1\": make_scorer(f1_score),\n",
    "            },\n",
    "            refit=\"f1\",\n",
    "            cv=self.cv,\n",
    "            verbose=verbose,\n",
    "            n_jobs=-1,\n",
    "        )\n",
    "        # Fit the model\n",
    "        self.clf.fit(X_train, y_train)\n",
    "        self.search_name = str(self.clf.__class__.__name__)\n",
    "\n",
    "    def get_scores(self, X_train, X_test, y_train, y_test, average=None):\n",
    "        \"\"\"\n",
    "        Method to get model scores.\n",
    "\n",
    "        X_train: training features dataset.\n",
    "        X_test: test features dataset.\n",
    "        y_train: training labels dataset.\n",
    "        y_test: test labels dataset.\n",
    "        \"\"\"\n",
    "        if self.search_name == \"Benchmark\":\n",
    "            best_estimator = self.clf\n",
    "        else:\n",
    "            best_estimator = self.clf.best_estimator_\n",
    "\n",
    "        np.random.seed(42)\n",
    "        # Score on training data\n",
    "        start_time = time.time()\n",
    "        best_estimator.fit(X_train, y_train)\n",
    "        end_time = time.time()\n",
    "        wall_clock_fit = end_time - start_time\n",
    "        # train_score = self.clf.score(X_train, y_train)\n",
    "        train_score = best_estimator.score(X_train, y_train)\n",
    "\n",
    "        # Score on test data\n",
    "        start_time = time.time()\n",
    "        # y_pred = self.clf.predict(X_test)\n",
    "        y_pred = best_estimator.predict(X_test)\n",
    "        end_time = time.time()\n",
    "        wall_clock_pred = end_time - start_time\n",
    "        # test_score = self.clf.score(X_test, y_test)\n",
    "        test_score = best_estimator.score(X_test, y_test)\n",
    "        # Metrics\n",
    "        accuracy = accuracy_score(y_test, y_pred)\n",
    "        precision = precision_score(y_test, y_pred, average=average)\n",
    "        recall = recall_score(y_test, y_pred, average=average)\n",
    "        f1 = f1_score(y_test, y_pred, average=average)\n",
    "        # Classification report\n",
    "        self.class_report = classification_report(y_test, y_pred)\n",
    "\n",
    "        self.scores = {\n",
    "            \"train_score\": round(train_score, 3),\n",
    "            \"test_score\": round(test_score, 3),\n",
    "            \"accuracy\": round(accuracy, 3),\n",
    "            \"precision\": round(precision, 3),\n",
    "            \"recall\": round(recall, 3),\n",
    "            \"f1\": round(f1, 3),\n",
    "            \"wall_clock_fit\": wall_clock_fit,\n",
    "            \"wall_clock_pred\": wall_clock_pred,\n",
    "        }\n",
    "\n",
    "    # Evaluate Learner class\n",
    "    def evaluate_learner(self):\n",
    "        \"\"\"\n",
    "        Print model scores\n",
    "        \"\"\"\n",
    "        print(f\"{'#################################'*2}\")\n",
    "        print(f\"{self.search_name}:\\t  {self.name}\")\n",
    "        print(f\"Train score:     {round(self.scores['train_score'], 3)}\")\n",
    "        print(f\"Test score:      {round(self.scores['test_score'], 3)}\")\n",
    "        print(f\"Accuracy score:  {round(self.scores['accuracy'], 3)}\")\n",
    "        print(f\"Precision score: {round(self.scores['precision'], 3)}\")\n",
    "        print(f\"Recall score:    {round(self.scores['recall'], 3)}\")\n",
    "        print(f\"F1 score:        {round(self.scores['f1'], 3)}\")\n",
    "        print(f\"Wall Clock Fit:  {round(self.scores['wall_clock_fit'], 3)}\")\n",
    "        print(f\"Wall Clock Pred: {round(self.scores['wall_clock_pred'], 3)}\")\n",
    "        # Classification report\n",
    "        print(f\"\\nClassification report:\\n{self.class_report}\")\n",
    "\n",
    "        # Best score and best params\n",
    "        print(f\"Best score: {round(self.clf.best_score_, 3)}\")\n",
    "        print(\"Best params:\")\n",
    "        for param in self.clf.best_params_.items():\n",
    "            print(f\"\\t{param}\")\n",
    "        print()"
   ]
  },
  {
   "cell_type": "code",
   "execution_count": null,
   "metadata": {},
   "outputs": [],
   "source": [
    "# MLP pipeline\n",
    "mlp_pipe = Pipeline(\n",
    "    steps=[(\"scaler\", StandardScaler()), (\"model\", MLPClassifier(random_state=42))]\n",
    ")\n",
    "# GridSearchCV params\n",
    "mlp_param_grid = {\n",
    "    \"model__activation\": [\"relu\", \"tanh\", \"logistic\"],\n",
    "    \"model__max_iter\": [1000],\n",
    "    \"model__hidden_layer_sizes\": [\n",
    "        (\n",
    "            100,\n",
    "            100,\n",
    "        ),\n",
    "        (\n",
    "            200,\n",
    "            200,\n",
    "        ),\n",
    "        (\n",
    "            200,\n",
    "            200,\n",
    "            200,\n",
    "        ),\n",
    "        (\n",
    "            300,\n",
    "            300,\n",
    "        ),\n",
    "        (\n",
    "            300,\n",
    "            300,\n",
    "            300,\n",
    "        ),\n",
    "    ],\n",
    "    \"model__learning_rate\": [\"constant\", \"adaptive\"],\n",
    "    \"model__learning_rate_init\": [0.001, 0.01, 0.1],\n",
    "}\n",
    "\n",
    "\n",
    "# Init learners\n",
    "mlp = Learner(pipe=mlp_pipe, params=mlp_param_grid)"
   ]
  },
  {
   "cell_type": "code",
   "execution_count": null,
   "metadata": {},
   "outputs": [],
   "source": [
    "# Fit model\n",
    "mlp.fit_gridsearch(RandomizedSearchCV, X_train, y_train, verbose=2)\n",
    "# Get model scores\n",
    "mlp.get_scores(X_train, X_test, y_train, y_test, average=\"macro\")"
   ]
  },
  {
   "cell_type": "code",
   "execution_count": null,
   "metadata": {},
   "outputs": [],
   "source": [
    "# Print scores\n",
    "mlp.evaluate_learner()"
   ]
  },
  {
   "cell_type": "code",
   "execution_count": null,
   "metadata": {},
   "outputs": [],
   "source": [
    "# MLPClassifier best estimator\n",
    "mlp.clf.best_estimator_"
   ]
  },
  {
   "cell_type": "code",
   "execution_count": 7,
   "metadata": {},
   "outputs": [],
   "source": [
    "def model_eval(truth, preds):\n",
    "    print(\"Accuracy:\", round(accuracy_score(truth, preds), 3))\n",
    "    print(\"Precision:\", round(precision_score(truth, preds, average=\"macro\"), 3))\n",
    "    print(\"Recall:\", round(recall_score(truth, preds, average=\"macro\"), 3))\n",
    "    print(\"F1 Score:\", round(f1_score(truth, preds, average=\"macro\"), 3))"
   ]
  },
  {
   "cell_type": "code",
   "execution_count": null,
   "metadata": {},
   "outputs": [],
   "source": [
    "# Model evaluation\n",
    "cv_model = mlp.clf.best_estimator_\n",
    "model_eval(y_test, cv_model.predict(X_test))"
   ]
  },
  {
   "cell_type": "code",
   "execution_count": null,
   "metadata": {},
   "outputs": [],
   "source": [
    "import pickle\n",
    "from pathlib import Path\n",
    "\n",
    "# Write to pickle file\n",
    "pickle.dump(\n",
    "    cv_model,\n",
    "    Path(\"../data/models/baseline/mlp-v1.pkl\").open(\"wb\"),\n",
    ")"
   ]
  },
  {
   "cell_type": "code",
   "execution_count": 12,
   "metadata": {},
   "outputs": [
    {
     "name": "stdout",
     "output_type": "stream",
     "text": [
      "Fitting time: 4.0 minutes 13.56 seconds\n",
      "Accuracy: 0.756\n",
      "Precision: 0.512\n",
      "Recall: 0.418\n",
      "F1 Score: 0.437\n",
      "Prediction time: 3.5375750064849854 seconds\n"
     ]
    }
   ],
   "source": [
    "# Fit an MLP model and get fitting time\n",
    "\n",
    "# GridSearchCV params\n",
    "mlp_param_grid = {\n",
    "    \"model__activation\": \"tanh\",\n",
    "    \"model__max_iter\": 1000,\n",
    "    \"model__hidden_layer_sizes\": (\n",
    "        200,\n",
    "        200,\n",
    "    ),\n",
    "    \"model__learning_rate\": \"adaptive\",\n",
    "    \"model__learning_rate_init\": 0.01,\n",
    "}\n",
    "\n",
    "# MLP pipeline\n",
    "mlp_pipe = Pipeline(\n",
    "    steps=[\n",
    "        (\"scaler\", StandardScaler()),\n",
    "        (\"model\", MLPClassifier(random_state=42)),\n",
    "    ]\n",
    ")\n",
    "mlp_pipe.set_params(**mlp_param_grid)\n",
    "\n",
    "# Start time\n",
    "start_time = time.time()\n",
    "\n",
    "# Fit the model\n",
    "mlp_pipe.fit(X_train, y_train)\n",
    "\n",
    "# Stop time\n",
    "end_time = time.time()\n",
    "\n",
    "# Calculate and print the time it took to fit the model\n",
    "fitting_time = end_time - start_time\n",
    "print(f\"Fitting time: {fitting_time//60} minutes {fitting_time%60:.2f} seconds\")\n",
    "\n",
    "# Start time\n",
    "start_time = time.time()\n",
    "\n",
    "# Print model evaluation\n",
    "y_pred = mlp_pipe.predict(X_test)\n",
    "model_eval(y_test, y_pred)\n",
    "\n",
    "# Stop time\n",
    "end_time = time.time()\n",
    "\n",
    "# Calculate the time it took to make predictions\n",
    "prediction_time = end_time - start_time\n",
    "print(f\"Prediction time: {round(prediction_time, 2)} seconds\")"
   ]
  },
  {
   "attachments": {},
   "cell_type": "markdown",
   "metadata": {},
   "source": [
    "### 3. XGBoost model"
   ]
  },
  {
   "cell_type": "code",
   "execution_count": null,
   "metadata": {},
   "outputs": [],
   "source": [
    "from sklearn.preprocessing import LabelEncoder\n",
    "\n",
    "# Train/Test Split\n",
    "X_train, X_test, y_train, y_test = train_test_split(\n",
    "    np.stack(data[\"embedding\"]),\n",
    "    data[\"species\"],\n",
    "    test_size=0.33,\n",
    "    stratify=data[\"species\"],\n",
    ")\n",
    "\n",
    "\n",
    "# Create a label encoder object\n",
    "le = LabelEncoder()\n",
    "\n",
    "# Fit and transform the target with label encoder\n",
    "y_train_enc = le.fit_transform(y_train)\n",
    "y_test_enc = le.transform(y_test)"
   ]
  },
  {
   "cell_type": "code",
   "execution_count": null,
   "metadata": {},
   "outputs": [],
   "source": [
    "from xgboost import XGBClassifier\n",
    "from sklearn.base import BaseEstimator, TransformerMixin\n",
    "\n",
    "\n",
    "# XGBoost pipeline\n",
    "xgb_pipe = Pipeline(\n",
    "    steps=[\n",
    "        (\"scaler\", StandardScaler()),\n",
    "        (\"model\", XGBClassifier(seed=42)),\n",
    "    ]\n",
    ")\n",
    "# GridSearchCV params\n",
    "xgb_param_grid = {\n",
    "    \"model__objective\": [\"multi:softmax\"],\n",
    "    \"model__n_estimators\": [400],  # np.arange(50, 200, 50),\n",
    "    \"model__max_depth\": [\n",
    "        3,\n",
    "        4,\n",
    "        5,\n",
    "    ],  # np.arange(3, 10),\n",
    "    # \"model__min_child_weight\": np.arange(1, 6),\n",
    "    # \"model__gamma\": np.linspace(0, 0.6, 5),\n",
    "    # \"model__subsample\": np.linspace(0.5, 1.0, 6),\n",
    "    # \"model__colsample_bytree\": np.linspace(0.5, 1.0, 6),\n",
    "}\n",
    "\n",
    "\n",
    "# Init learners\n",
    "xgb = Learner(pipe=xgb_pipe, params=xgb_param_grid)"
   ]
  },
  {
   "cell_type": "code",
   "execution_count": null,
   "metadata": {},
   "outputs": [],
   "source": [
    "# Fit model\n",
    "xgb.fit_gridsearch(RandomizedSearchCV, X_train, y_train_enc, verbose=2)\n",
    "# Get model scores\n",
    "# xgb.get_scores(X_train, X_test, y_train_enc, y_test_enc, average=\"macro\")"
   ]
  },
  {
   "cell_type": "code",
   "execution_count": null,
   "metadata": {},
   "outputs": [],
   "source": [
    "start_time = time.time()\n",
    "xgb = XGBClassifier(n_estimators=400, learning_rate=0.1, max_depth=3)\n",
    "xgb.fit(X=X_train, y=y_train_enc)\n",
    "print(\"Fit time : \", time.time() - start_time)"
   ]
  },
  {
   "cell_type": "code",
   "execution_count": null,
   "metadata": {},
   "outputs": [],
   "source": [
    "y_preds = xgb.predict(X_test)\n",
    "y_preds = le.inverse_transform(y_preds)\n",
    "print(\"Accuracy:\", round(accuracy_score(y_test, y_preds), 4))"
   ]
  },
  {
   "cell_type": "code",
   "execution_count": null,
   "metadata": {},
   "outputs": [],
   "source": [
    "import matplotlib.pyplot as plt\n",
    "\n",
    "\n",
    "def plot_bird_classes(y_train):\n",
    "    class_counts = y_train.value_counts()\n",
    "    fig, ax = plt.subplots(figsize=(6.4, 4.8), dpi=200)\n",
    "    ax.margins(x=0.01, y=0.1)  # No margins on x and y-axis\n",
    "    x = np.arange(len(class_counts))\n",
    "    width = 0.7\n",
    "    ax.bar(class_counts.index, class_counts.values, width=width, color=\"tab:blue\")\n",
    "    ax.set_title(\n",
    "        f\"Total count of bird species for each class\", weight=\"bold\", fontsize=16\n",
    "    )\n",
    "    ax.set_xlabel(\"Bird Species\")\n",
    "    ax.set_ylabel(\"Total count\")\n",
    "    ax.set_xticks([])\n",
    "    ax.grid(color=\"blue\", linestyle=\"--\", linewidth=1, alpha=0.2)\n",
    "    for spine in [\"top\", \"right\", \"bottom\", \"left\"]:\n",
    "        ax.spines[spine].set_visible(False)\n",
    "    fig.tight_layout()\n",
    "    plt.show()"
   ]
  },
  {
   "cell_type": "code",
   "execution_count": null,
   "metadata": {},
   "outputs": [],
   "source": []
  },
  {
   "cell_type": "code",
   "execution_count": null,
   "metadata": {},
   "outputs": [],
   "source": []
  },
  {
   "cell_type": "code",
   "execution_count": null,
   "metadata": {},
   "outputs": [],
   "source": []
  }
 ],
 "metadata": {
  "kernelspec": {
   "display_name": "venv",
   "language": "python",
   "name": "python3"
  },
  "language_info": {
   "codemirror_mode": {
    "name": "ipython",
    "version": 3
   },
   "file_extension": ".py",
   "mimetype": "text/x-python",
   "name": "python",
   "nbconvert_exporter": "python",
   "pygments_lexer": "ipython3",
   "version": "3.10.6"
  },
  "orig_nbformat": 4
 },
 "nbformat": 4,
 "nbformat_minor": 2
}
