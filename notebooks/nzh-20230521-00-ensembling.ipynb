{
 "cells": [
  {
   "cell_type": "code",
   "execution_count": 1,
   "metadata": {},
   "outputs": [],
   "source": [
    "%load_ext autoreload\n",
    "%autoreload 2\n",
    "%load_ext lab_black"
   ]
  },
  {
   "cell_type": "code",
   "execution_count": 2,
   "metadata": {},
   "outputs": [
    {
     "name": "stderr",
     "output_type": "stream",
     "text": [
      "Setting default log level to \"WARN\".\n",
      "To adjust logging level use sc.setLogLevel(newLevel). For SparkR, use setLogLevel(newLevel).\n"
     ]
    },
    {
     "name": "stdout",
     "output_type": "stream",
     "text": [
      "23/05/22 19:30:20 WARN NativeCodeLoader: Unable to load native-hadoop library for your platform... using builtin-java classes where applicable\n"
     ]
    },
    {
     "name": "stderr",
     "output_type": "stream",
     "text": [
      "                                                                                \r"
     ]
    },
    {
     "name": "stdout",
     "output_type": "stream",
     "text": [
      "root\n",
      " |-- primary_label: string (nullable = true)\n",
      " |-- track_stem: string (nullable = true)\n",
      " |-- start_time: long (nullable = true)\n",
      " |-- metadata_species: array (nullable = true)\n",
      " |    |-- element: string (containsNull = true)\n",
      " |-- predicted_species: array (nullable = true)\n",
      " |    |-- element: string (containsNull = true)\n",
      " |-- embedding: array (nullable = true)\n",
      " |    |-- element: float (containsNull = true)\n",
      " |-- next_embedding: array (nullable = true)\n",
      " |    |-- element: float (containsNull = true)\n",
      " |-- track_embedding: array (nullable = true)\n",
      " |    |-- element: float (containsNull = true)\n",
      " |-- species: array (nullable = true)\n",
      " |    |-- element: string (containsNull = true)\n",
      " |-- species_count: long (nullable = false)\n",
      "\n"
     ]
    },
    {
     "name": "stderr",
     "output_type": "stream",
     "text": [
      "[Stage 1:=================================================>         (5 + 1) / 6]\r"
     ]
    },
    {
     "name": "stdout",
     "output_type": "stream",
     "text": [
      "+-------------+----------+----------+--------------------+-----------------+--------------------+--------------------+--------------------+--------------------+-------------+\n",
      "|primary_label|track_stem|start_time|    metadata_species|predicted_species|           embedding|      next_embedding|     track_embedding|             species|species_count|\n",
      "+-------------+----------+----------+--------------------+-----------------+--------------------+--------------------+--------------------+--------------------+-------------+\n",
      "|      abythr1|  XC122413|         5|           [abythr1]|        [abythr1]|[1.6310796, 1.414...|[1.2752169, 0.833...|[1.3317069, 0.956...|  [abythr1, abythr1]|          249|\n",
      "|      abythr1|  XC124898|        20|           [abythr1]|        [abythr1]|[1.1970673, 1.034...|[1.2697126, 1.132...|[1.1596123, 0.814...|  [abythr1, abythr1]|          249|\n",
      "|      abythr1|  XC205444|        55|           [abythr1]|        [abythr1]|[1.0207641, 1.265...|[1.007165, 1.3399...|[1.3548887, 1.280...|  [abythr1, abythr1]|          249|\n",
      "|      abythr1|  XC221571|         0|           [abythr1]|        [abythr1]|[1.0049897, 0.986...|[0.58188915, 0.49...|[0.79343945, 0.74...|  [abythr1, abythr1]|          249|\n",
      "|      abythr1|  XC233199|         5|[abythr1, combul2...|        [abythr1]|[0.9491623, 1.830...|[0.8416916, 1.409...|[1.1023427, 1.112...|[abythr1, combul2...|          249|\n",
      "+-------------+----------+----------+--------------------+-----------------+--------------------+--------------------+--------------------+--------------------+-------------+\n",
      "only showing top 5 rows\n",
      "\n"
     ]
    },
    {
     "name": "stderr",
     "output_type": "stream",
     "text": [
      "                                                                                \r"
     ]
    }
   ],
   "source": [
    "from birdclef.utils import get_spark\n",
    "from pyspark.sql import Window, functions as F\n",
    "import os\n",
    "\n",
    "os.environ[\"SPARK_LOCAL_DIRS\"] = \"../data/tmp/spark\"\n",
    "\n",
    "spark = get_spark(cores=16, memory=\"5g\")\n",
    "df = spark.read.parquet(\"../data/processed/birdclef-2023/train_postprocessed/v4\")\n",
    "df = (\n",
    "    df.withColumn(\"primary_label\", F.col(\"metadata_species\")[0])\n",
    "    .withColumn(\"species\", F.concat(\"metadata_species\", \"predicted_species\"))\n",
    "    .withColumn(\"species_count\", F.count(\"*\").over(Window.partitionBy(\"primary_label\")))\n",
    ")\n",
    "df.printSchema()\n",
    "df.show(n=5)"
   ]
  },
  {
   "cell_type": "code",
   "execution_count": 3,
   "metadata": {},
   "outputs": [],
   "source": [
    "import pickle\n",
    "import numpy as np\n",
    "from xgboost import XGBClassifier\n",
    "from pathlib import Path\n",
    "import pandas as pd\n",
    "from skopt import BayesSearchCV\n",
    "from sklearn.model_selection import train_test_split\n",
    "from sklearn.utils.class_weight import compute_sample_weight\n",
    "from sklearn.preprocessing import MultiLabelBinarizer\n",
    "from skmultilearn.model_selection import iterative_train_test_split\n",
    "from sklearn.metrics import (\n",
    "    accuracy_score,\n",
    "    precision_score,\n",
    "    recall_score,\n",
    "    f1_score,\n",
    ")\n",
    "from sklearn.metrics import average_precision_score\n",
    "\n",
    "\n",
    "def model_eval(truth, preds):\n",
    "    print(\"Accuracy:\", accuracy_score(truth, preds))\n",
    "    print(\n",
    "        \"Precision:\",\n",
    "        precision_score(truth, preds, average=\"macro\"),\n",
    "    )\n",
    "    print(\n",
    "        \"Recall:\",\n",
    "        recall_score(truth, preds, average=\"macro\"),\n",
    "    )\n",
    "    print(\n",
    "        \"F1 Score:\",\n",
    "        f1_score(truth, preds, average=\"macro\"),\n",
    "    )\n",
    "\n",
    "\n",
    "def scorer(estimator, X, y):\n",
    "    return average_precision_score(y, estimator.predict_proba(X), average=\"macro\")"
   ]
  },
  {
   "cell_type": "code",
   "execution_count": 4,
   "metadata": {},
   "outputs": [
    {
     "name": "stdout",
     "output_type": "stream",
     "text": [
      "+------------------+-------------+--------------------+--------------------+--------------------+--------------------+\n",
      "| predicted_species|primary_label|           embedding|      next_embedding|     track_embedding|             species|\n",
      "+------------------+-------------+--------------------+--------------------+--------------------+--------------------+\n",
      "|[ccbeat1, trobou1]|      ccbeat1|[1.523604, 0.9732...|[1.1461543, 0.864...|[1.3749335, 0.820...|[ccbeat1, ccbeat1...|\n",
      "|         [ccbeat1]|      ccbeat1|[1.3187864, 0.715...|[1.048248, 0.5923...|[1.2631669, 0.720...|  [ccbeat1, ccbeat1]|\n",
      "|         [ccbeat1]|      ccbeat1|[1.8044096, 1.101...|[1.598763, 1.4021...|[1.4022813, 1.254...|  [ccbeat1, ccbeat1]|\n",
      "|         [blwlap1]|      blwlap1|[1.1090318, 1.610...|[0.97855157, 1.41...|[1.0207396, 1.540...|  [blwlap1, blwlap1]|\n",
      "|         [blwlap1]|      blwlap1|[0.83208066, 2.13...|[0.4748551, 1.735...|[0.60793006, 1.83...|  [blwlap1, blwlap1]|\n",
      "+------------------+-------------+--------------------+--------------------+--------------------+--------------------+\n",
      "only showing top 5 rows\n",
      "\n"
     ]
    },
    {
     "name": "stderr",
     "output_type": "stream",
     "text": [
      "                                                                                \r"
     ]
    },
    {
     "data": {
      "text/html": [
       "<div>\n",
       "<style scoped>\n",
       "    .dataframe tbody tr th:only-of-type {\n",
       "        vertical-align: middle;\n",
       "    }\n",
       "\n",
       "    .dataframe tbody tr th {\n",
       "        vertical-align: top;\n",
       "    }\n",
       "\n",
       "    .dataframe thead th {\n",
       "        text-align: right;\n",
       "    }\n",
       "</style>\n",
       "<table border=\"1\" class=\"dataframe\">\n",
       "  <thead>\n",
       "    <tr style=\"text-align: right;\">\n",
       "      <th></th>\n",
       "      <th>predicted_species</th>\n",
       "      <th>primary_label</th>\n",
       "      <th>embedding</th>\n",
       "      <th>next_embedding</th>\n",
       "      <th>track_embedding</th>\n",
       "      <th>species</th>\n",
       "    </tr>\n",
       "  </thead>\n",
       "  <tbody>\n",
       "    <tr>\n",
       "      <th>0</th>\n",
       "      <td>[ccbeat1, trobou1]</td>\n",
       "      <td>ccbeat1</td>\n",
       "      <td>[1.523604, 0.9732575, 0.689221, 1.3162022, 0.7...</td>\n",
       "      <td>[1.1461543, 0.8640864, 0.45597965, 1.3028704, ...</td>\n",
       "      <td>[1.3749335, 0.8206999, 0.59814745, 1.2513487, ...</td>\n",
       "      <td>[ccbeat1, ccbeat1, trobou1]</td>\n",
       "    </tr>\n",
       "    <tr>\n",
       "      <th>1</th>\n",
       "      <td>[ccbeat1]</td>\n",
       "      <td>ccbeat1</td>\n",
       "      <td>[1.3187864, 0.7150727, 0.9900959, 1.8962469, 0...</td>\n",
       "      <td>[1.048248, 0.59235334, 1.1732999, 1.5403138, 1...</td>\n",
       "      <td>[1.2631669, 0.7206624, 0.96723706, 1.7925037, ...</td>\n",
       "      <td>[ccbeat1, ccbeat1]</td>\n",
       "    </tr>\n",
       "    <tr>\n",
       "      <th>2</th>\n",
       "      <td>[ccbeat1]</td>\n",
       "      <td>ccbeat1</td>\n",
       "      <td>[1.8044096, 1.1011962, 0.45975056, 1.6384436, ...</td>\n",
       "      <td>[1.598763, 1.4021178, 0.6835269, 1.7945755, 0....</td>\n",
       "      <td>[1.4022813, 1.25417, 0.71897155, 1.7009418, 0....</td>\n",
       "      <td>[ccbeat1, ccbeat1]</td>\n",
       "    </tr>\n",
       "    <tr>\n",
       "      <th>3</th>\n",
       "      <td>[blwlap1]</td>\n",
       "      <td>blwlap1</td>\n",
       "      <td>[1.1090318, 1.6101218, 0.8621511, 0.33383822, ...</td>\n",
       "      <td>[0.97855157, 1.4101942, 0.6130494, 0.38137776,...</td>\n",
       "      <td>[1.0207396, 1.5406379, 0.66962916, 0.5683712, ...</td>\n",
       "      <td>[blwlap1, blwlap1]</td>\n",
       "    </tr>\n",
       "    <tr>\n",
       "      <th>4</th>\n",
       "      <td>[blwlap1]</td>\n",
       "      <td>blwlap1</td>\n",
       "      <td>[0.83208066, 2.1329389, 0.6673165, 0.45887473,...</td>\n",
       "      <td>[0.4748551, 1.7359713, 0.677759, 0.7373171, 0....</td>\n",
       "      <td>[0.60793006, 1.8337458, 0.8447961, 0.520674, 0...</td>\n",
       "      <td>[blwlap1, blwlap1]</td>\n",
       "    </tr>\n",
       "  </tbody>\n",
       "</table>\n",
       "</div>"
      ],
      "text/plain": [
       "    predicted_species primary_label  \\\n",
       "0  [ccbeat1, trobou1]       ccbeat1   \n",
       "1           [ccbeat1]       ccbeat1   \n",
       "2           [ccbeat1]       ccbeat1   \n",
       "3           [blwlap1]       blwlap1   \n",
       "4           [blwlap1]       blwlap1   \n",
       "\n",
       "                                           embedding  \\\n",
       "0  [1.523604, 0.9732575, 0.689221, 1.3162022, 0.7...   \n",
       "1  [1.3187864, 0.7150727, 0.9900959, 1.8962469, 0...   \n",
       "2  [1.8044096, 1.1011962, 0.45975056, 1.6384436, ...   \n",
       "3  [1.1090318, 1.6101218, 0.8621511, 0.33383822, ...   \n",
       "4  [0.83208066, 2.1329389, 0.6673165, 0.45887473,...   \n",
       "\n",
       "                                      next_embedding  \\\n",
       "0  [1.1461543, 0.8640864, 0.45597965, 1.3028704, ...   \n",
       "1  [1.048248, 0.59235334, 1.1732999, 1.5403138, 1...   \n",
       "2  [1.598763, 1.4021178, 0.6835269, 1.7945755, 0....   \n",
       "3  [0.97855157, 1.4101942, 0.6130494, 0.38137776,...   \n",
       "4  [0.4748551, 1.7359713, 0.677759, 0.7373171, 0....   \n",
       "\n",
       "                                     track_embedding  \\\n",
       "0  [1.3749335, 0.8206999, 0.59814745, 1.2513487, ...   \n",
       "1  [1.2631669, 0.7206624, 0.96723706, 1.7925037, ...   \n",
       "2  [1.4022813, 1.25417, 0.71897155, 1.7009418, 0....   \n",
       "3  [1.0207396, 1.5406379, 0.66962916, 0.5683712, ...   \n",
       "4  [0.60793006, 1.8337458, 0.8447961, 0.520674, 0...   \n",
       "\n",
       "                       species  \n",
       "0  [ccbeat1, ccbeat1, trobou1]  \n",
       "1           [ccbeat1, ccbeat1]  \n",
       "2           [ccbeat1, ccbeat1]  \n",
       "3           [blwlap1, blwlap1]  \n",
       "4           [blwlap1, blwlap1]  "
      ]
     },
     "execution_count": 4,
     "metadata": {},
     "output_type": "execute_result"
    }
   ],
   "source": [
    "data = df.select(\n",
    "    \"predicted_species\",\n",
    "    \"primary_label\",\n",
    "    \"embedding\",\n",
    "    \"next_embedding\",\n",
    "    \"track_embedding\",\n",
    "    \"species\",\n",
    ")\n",
    "data.show(n=5)\n",
    "data = data.toPandas()\n",
    "data.head(n=5)"
   ]
  },
  {
   "attachments": {},
   "cell_type": "markdown",
   "metadata": {},
   "source": [
    "Load Models"
   ]
  },
  {
   "cell_type": "code",
   "execution_count": 5,
   "metadata": {},
   "outputs": [],
   "source": [
    "# best baseline, murillo call/nocall, global only, permutations\n",
    "import pickle\n",
    "\n",
    "baseline = pickle.loads(\n",
    "    Path(\"../data/models/baseline/one-v-rest-xgbc-base.pkl\").read_bytes()\n",
    ")\n",
    "baseline_mlb = pickle.loads(\n",
    "    Path(\"../data/models/baseline/multilabel-binarizer.pkl\").read_bytes()\n",
    ")\n",
    "call_nocall = pickle.loads(\n",
    "    Path(\"../data/models/baseline/logistic_binary.pkl\").read_bytes()\n",
    ")\n",
    "call_nocall_le = pickle.loads(\n",
    "    Path(\"../data/models/baseline/logistic_binary_label_encoder.pkl\").read_bytes()\n",
    ")\n",
    "permute = pickle.loads(\n",
    "    Path(\"../data/models/baseline_v2/nzh-current-global-token.pkl\").read_bytes()\n",
    ")\n",
    "permute_mlb = pickle.loads(\n",
    "    Path(\"../data/models/baseline_v2/nzh-current-global-token_mlb.pkl\").read_bytes()\n",
    ")"
   ]
  },
  {
   "attachments": {},
   "cell_type": "markdown",
   "metadata": {},
   "source": [
    "Get Baseline Predictions"
   ]
  },
  {
   "cell_type": "code",
   "execution_count": 6,
   "metadata": {},
   "outputs": [
    {
     "name": "stdout",
     "output_type": "stream",
     "text": [
      "264\n"
     ]
    }
   ],
   "source": [
    "def explode_embedding(data, next=False, track=False):\n",
    "    if next and track:\n",
    "        return np.concatenate(\n",
    "            (\n",
    "                np.stack(data.embedding),\n",
    "                np.stack(data.next_embedding),\n",
    "                np.stack(data.track_embedding),\n",
    "            ),\n",
    "            axis=1,\n",
    "        )\n",
    "    elif next:\n",
    "        return np.concatenate(\n",
    "            (\n",
    "                np.stack(data.embedding),\n",
    "                np.stack(data.next_embedding),\n",
    "            ),\n",
    "            axis=1,\n",
    "        )\n",
    "    elif track:\n",
    "        return np.concatenate(\n",
    "            (\n",
    "                np.stack(data.embedding),\n",
    "                np.stack(data.track_embedding),\n",
    "            ),\n",
    "            axis=1,\n",
    "        )\n",
    "    else:\n",
    "        return np.stack(data.embedding)\n",
    "\n",
    "\n",
    "train, test = train_test_split(data, test_size=0.2, stratify=data.primary_label)\n",
    "\n",
    "mlb = MultiLabelBinarizer()\n",
    "mlb.fit(data.species)\n",
    "train_y, test_y = mlb.transform(train.predicted_species), mlb.transform(\n",
    "    test.predicted_species\n",
    ")\n",
    "print(len(mlb.classes_))"
   ]
  },
  {
   "cell_type": "code",
   "execution_count": 7,
   "metadata": {},
   "outputs": [
    {
     "name": "stdout",
     "output_type": "stream",
     "text": [
      "(112483, 265) (28121, 265)\n"
     ]
    }
   ],
   "source": [
    "baseline_preds = baseline.predict_proba(explode_embedding(train, False, False))\n",
    "baseline_test_preds = baseline.predict_proba(explode_embedding(test, False, False))\n",
    "\n",
    "print(baseline_preds.shape, baseline_test_preds.shape)"
   ]
  },
  {
   "cell_type": "code",
   "execution_count": 8,
   "metadata": {},
   "outputs": [
    {
     "name": "stdout",
     "output_type": "stream",
     "text": [
      "(112483, 2) (28121, 2)\n"
     ]
    }
   ],
   "source": [
    "call_nocall_preds = call_nocall.predict_proba(explode_embedding(train, False, False))\n",
    "call_nocall_test_preds = call_nocall.predict_proba(\n",
    "    explode_embedding(test, False, False)\n",
    ")\n",
    "\n",
    "print(call_nocall_preds.shape, call_nocall_test_preds.shape)"
   ]
  },
  {
   "cell_type": "code",
   "execution_count": 9,
   "metadata": {},
   "outputs": [
    {
     "name": "stdout",
     "output_type": "stream",
     "text": [
      "(112483, 264) (28121, 264)\n"
     ]
    }
   ],
   "source": [
    "permute_preds = permute.predict_proba(explode_embedding(train, False, True))\n",
    "permute_test_preds = permute.predict_proba(explode_embedding(test, False, True))\n",
    "\n",
    "print(permute_preds.shape, permute_test_preds.shape)"
   ]
  },
  {
   "cell_type": "code",
   "execution_count": 11,
   "metadata": {},
   "outputs": [
    {
     "name": "stdout",
     "output_type": "stream",
     "text": [
      "(112483, 531) (28121, 531)\n"
     ]
    }
   ],
   "source": [
    "combined = np.concatenate((baseline_preds, call_nocall_preds, permute_preds), axis=1)\n",
    "combined_test = np.concatenate(\n",
    "    (baseline_test_preds, call_nocall_test_preds, permute_test_preds), axis=1\n",
    ")\n",
    "\n",
    "print(combined.shape, combined_test.shape)"
   ]
  },
  {
   "attachments": {},
   "cell_type": "markdown",
   "metadata": {},
   "source": [
    "XGBoost Regressor"
   ]
  },
  {
   "cell_type": "code",
   "execution_count": 12,
   "metadata": {},
   "outputs": [
    {
     "name": "stderr",
     "output_type": "stream",
     "text": [
      "Exception ignored on calling ctypes callback function: <bound method DataIter._next_wrapper of <xgboost.data.SingleBatchInternalIter object at 0x7f49ae51be50>>\n",
      "Traceback (most recent call last):\n",
      "  File \"/home/nzhon/.local/lib/python3.10/site-packages/xgboost/core.py\", line 500, in _next_wrapper\n",
      "    def _next_wrapper(self, this: None) -> int:  # pylint: disable=unused-argument\n",
      "KeyboardInterrupt: \n"
     ]
    }
   ],
   "source": [
    "from xgboost import XGBRegressor\n",
    "\n",
    "reg = XGBRegressor(tree_method=\"gpu_hist\")\n",
    "reg.fit(combined, train_y)\n",
    "model_eval(test_y, reg.predict(combined_test))\n",
    "print(\n",
    "    \"Average Precision Score\",\n",
    "    average_precision_score(test_y, reg.predict(combined_test)),\n",
    ")"
   ]
  },
  {
   "cell_type": "code",
   "execution_count": null,
   "metadata": {},
   "outputs": [],
   "source": [
    "for i in range(len(preds)):\n",
    "    for j in range(len(preds[i])):\n",
    "        preds[i][j] = max(0, preds[i][j])\n",
    "        preds[i][j] = min(1, preds[i][j])"
   ]
  },
  {
   "cell_type": "code",
   "execution_count": null,
   "metadata": {},
   "outputs": [
    {
     "name": "stdout",
     "output_type": "stream",
     "text": [
      "Average Precision Score 0.8958006477551285\n"
     ]
    }
   ],
   "source": [
    "print(\n",
    "    \"Average Precision Score\",\n",
    "    average_precision_score(test_y, preds),\n",
    ")"
   ]
  },
  {
   "cell_type": "code",
   "execution_count": null,
   "metadata": {},
   "outputs": [
    {
     "name": "stdout",
     "output_type": "stream",
     "text": [
      "Accuracy: 0.8081860531275559\n",
      "Precision: 0.9371847549602557\n",
      "Recall: 0.8205466025321079\n",
      "F1 Score: 0.8656491956009699\n",
      "Average Precision Score 0.9444180445736489\n"
     ]
    }
   ],
   "source": [
    "from xgboost import XGBClassifier\n",
    "\n",
    "clf = XGBClassifier(tree_method=\"gpu_hist\")\n",
    "clf.fit(combined, train_y)\n",
    "model_eval(test_y, clf.predict(combined_test))\n",
    "print(\n",
    "    \"Average Precision Score\",\n",
    "    average_precision_score(test_y, clf.predict_proba(combined_test)),\n",
    ")"
   ]
  },
  {
   "cell_type": "code",
   "execution_count": null,
   "metadata": {},
   "outputs": [],
   "source": [
    "from pathlib import Path\n",
    "\n",
    "pickle.dump(clf, Path(\"../data/models/baseline_v2/nzh-xgbc-ensemble.pkl\").open(\"wb\"))"
   ]
  },
  {
   "attachments": {},
   "cell_type": "markdown",
   "metadata": {},
   "source": [
    "Linear Models?"
   ]
  },
  {
   "cell_type": "code",
   "execution_count": 18,
   "metadata": {},
   "outputs": [],
   "source": [
    "species = []\n",
    "\n",
    "for predicted in data.predicted_species:\n",
    "    uni = set(predicted)\n",
    "    for s in uni:\n",
    "        species.append(s)\n",
    "\n",
    "dist = {}\n",
    "for s in mlb.classes_:\n",
    "    dist[s] = (species.count(s)) / len(species)\n",
    "dist = [x for x in dist.values()]"
   ]
  },
  {
   "cell_type": "code",
   "execution_count": 36,
   "metadata": {},
   "outputs": [
    {
     "name": "stdout",
     "output_type": "stream",
     "text": [
      "(112483, 264) (28121, 264)\n"
     ]
    }
   ],
   "source": [
    "no_call_index = list(baseline_mlb.classes_).index(\"no_call\")\n",
    "baseline_preds = np.delete(baseline_preds, no_call_index, axis=1)\n",
    "baseline_test_preds = np.delete(baseline_test_preds, no_call_index, axis=1)\n",
    "print(baseline_preds.shape, baseline_test_preds.shape)"
   ]
  },
  {
   "cell_type": "code",
   "execution_count": 38,
   "metadata": {},
   "outputs": [
    {
     "name": "stdout",
     "output_type": "stream",
     "text": [
      "(112483, 264)\n",
      "(28121, 264)\n"
     ]
    }
   ],
   "source": [
    "temp = call_nocall_preds[:, 0]\n",
    "temp = temp[:, np.newaxis]\n",
    "temp = temp * dist\n",
    "print(temp.shape)\n",
    "\n",
    "temp_test = call_nocall_test_preds[:, 0]\n",
    "temp_test = temp_test[:, np.newaxis]\n",
    "temp_test = temp_test * dist\n",
    "print(temp_test.shape)"
   ]
  },
  {
   "cell_type": "code",
   "execution_count": 51,
   "metadata": {},
   "outputs": [
    {
     "name": "stdout",
     "output_type": "stream",
     "text": [
      "(112483, 3) (112483,)\n",
      "(28121, 3) (28121,)\n",
      "Accuracy: 0.999964439386935\n",
      "Precision: 0.9999822089382294\n",
      "Recall: 0.9722222222222222\n",
      "F1 Score: 0.9857053900251367\n",
      "average_precision_score 1.0\n"
     ]
    }
   ],
   "source": [
    "from sklearn.linear_model import LogisticRegression\n",
    "\n",
    "first = np.concatenate(\n",
    "    (\n",
    "        baseline_preds[:, 0][:, np.newaxis],\n",
    "        temp[:, 0][:, np.newaxis],\n",
    "        permute_preds[:, 0][:, np.newaxis],\n",
    "    ),\n",
    "    axis=1,\n",
    ")\n",
    "\n",
    "first_truth = train_y[:, 0]\n",
    "\n",
    "first_test = np.concatenate(\n",
    "    (\n",
    "        baseline_test_preds[:, 0][:, np.newaxis],\n",
    "        temp_test[:, 0][:, np.newaxis],\n",
    "        permute_test_preds[:, 0][:, np.newaxis],\n",
    "    ),\n",
    "    axis=1,\n",
    ")\n",
    "\n",
    "first_test_truth = test_y[:, 0]\n",
    "\n",
    "print(first.shape, first_truth.shape)\n",
    "print(first_test.shape, first_test_truth.shape)\n",
    "\n",
    "logs = LogisticRegression()\n",
    "logs.fit(first, first_truth)\n",
    "model_eval(first_test_truth, logs.predict(first_test))\n",
    "print(\n",
    "    \"average_precision_score\",\n",
    "    average_precision_score(first_test_truth, logs.predict_proba(first_test)[:, 1]),\n",
    ")"
   ]
  },
  {
   "cell_type": "code",
   "execution_count": 61,
   "metadata": {},
   "outputs": [],
   "source": [
    "linear_ens = {}\n",
    "\n",
    "avp, coef1, coef2, coef3 = [], [], [], []\n",
    "\n",
    "for i in range(264):\n",
    "    species = mlb.classes_[i]\n",
    "\n",
    "    temp_x = np.concatenate(\n",
    "        (\n",
    "            baseline_preds[:, i][:, np.newaxis],\n",
    "            temp[:, i][:, np.newaxis],\n",
    "            permute_preds[:, i][:, np.newaxis],\n",
    "        ),\n",
    "        axis=1,\n",
    "    )\n",
    "    temp_y = train_y[:, i]\n",
    "\n",
    "    temp_test_x = np.concatenate(\n",
    "        (\n",
    "            baseline_test_preds[:, i][:, np.newaxis],\n",
    "            temp_test[:, i][:, np.newaxis],\n",
    "            permute_test_preds[:, i][:, np.newaxis],\n",
    "        ),\n",
    "        axis=1,\n",
    "    )\n",
    "\n",
    "    temp_test_y = test_y[:, i]\n",
    "\n",
    "    logs = LogisticRegression()\n",
    "    logs.fit(temp_x, temp_y)\n",
    "\n",
    "    avp.append(\n",
    "        average_precision_score(temp_test_y, logs.predict_proba(temp_test_x)[:, 1])\n",
    "    )\n",
    "    coef1.append(logs.coef_[0][0])\n",
    "    coef2.append(logs.coef_[0][1])\n",
    "    coef3.append(logs.coef_[0][2])\n",
    "\n",
    "    linear_ens[species] = logs"
   ]
  },
  {
   "cell_type": "code",
   "execution_count": 72,
   "metadata": {},
   "outputs": [
    {
     "data": {
      "image/png": "[encoded data removed]",
      "text/plain": [
       "<Figure size 640x480 with 1 Axes>"
      ]
     },
     "metadata": {},
     "output_type": "display_data"
    },
    {
     "data": {
      "image/png": "[encoded data removed]",
      "text/plain": [
       "<Figure size 640x480 with 1 Axes>"
      ]
     },
     "metadata": {},
     "output_type": "display_data"
    }
   ],
   "source": [
    "from matplotlib import pyplot as plt\n",
    "\n",
    "plt.hist(avp)\n",
    "plt.show()\n",
    "plt.hist(coef1, color=\"blue\")\n",
    "plt.hist(coef2, color=\"red\")\n",
    "plt.hist(coef3, color=\"green\")\n",
    "plt.legend([\"ovr\", \"Call/No-Call\", \"Current + Global\"])\n",
    "plt.show()"
   ]
  },
  {
   "cell_type": "code",
   "execution_count": 92,
   "metadata": {},
   "outputs": [
    {
     "name": "stdout",
     "output_type": "stream",
     "text": [
      "(28121, 264) (28121, 264)\n",
      "Accuracy: 0.8614558514988798\n"
     ]
    },
    {
     "name": "stderr",
     "output_type": "stream",
     "text": [
      "/home/nzhon/.local/lib/python3.10/site-packages/sklearn/metrics/_classification.py:1344: UndefinedMetricWarning: Precision is ill-defined and being set to 0.0 in labels with no predicted samples. Use `zero_division` parameter to control this behavior.\n",
      "  _warn_prf(average, modifier, msg_start, len(result))\n"
     ]
    },
    {
     "name": "stdout",
     "output_type": "stream",
     "text": [
      "Precision: 0.9776707619439938\n",
      "Recall: 0.9126197527730031\n",
      "F1 Score: 0.9416598973777878\n"
     ]
    },
    {
     "data": {
      "text/plain": [
       "0.9882974249460511"
      ]
     },
     "execution_count": 92,
     "metadata": {},
     "output_type": "execute_result"
    }
   ],
   "source": [
    "preds = None\n",
    "probs = None\n",
    "for i in range(264):\n",
    "    temp_preds = linear_ens[mlb.classes_[i]].predict(\n",
    "        np.concatenate(\n",
    "            (\n",
    "                baseline_test_preds[:, i][:, np.newaxis],\n",
    "                temp_test[:, i][:, np.newaxis],\n",
    "                permute_test_preds[:, i][:, np.newaxis],\n",
    "            ),\n",
    "            axis=1,\n",
    "        )\n",
    "    )\n",
    "    temp_probs = linear_ens[mlb.classes_[i]].predict_proba(\n",
    "        np.concatenate(\n",
    "            (\n",
    "                baseline_test_preds[:, i][:, np.newaxis],\n",
    "                temp_test[:, i][:, np.newaxis],\n",
    "                permute_test_preds[:, i][:, np.newaxis],\n",
    "            ),\n",
    "            axis=1,\n",
    "        )\n",
    "    )\n",
    "    if preds is None:\n",
    "        preds = temp_preds[:, np.newaxis]\n",
    "    else:\n",
    "        preds = np.concatenate((preds, temp_preds[:, np.newaxis]), axis=1)\n",
    "\n",
    "    if probs is None:\n",
    "        probs = temp_probs[:, 1][:, np.newaxis]\n",
    "    else:\n",
    "        probs = np.concatenate((probs, temp_probs[:, 1][:, np.newaxis]), axis=1)\n",
    "print(preds.shape, probs.shape)\n",
    "model_eval(test_y, preds)\n",
    "average_precision_score(test_y, probs)"
   ]
  },
  {
   "attachments": {},
   "cell_type": "markdown",
   "metadata": {},
   "source": [
    "Stacking Classifier"
   ]
  },
  {
   "cell_type": "code",
   "execution_count": null,
   "metadata": {},
   "outputs": [],
   "source": [
    "from sklearn.base import BaseEstimator, TransformerMixin\n",
    "\n",
    "\n",
    "class PrepareEmbedding(BaseEstimator, TransformerMixin):\n",
    "    def fit(self, X=None, y=None):\n",
    "        1 + 1\n",
    "\n",
    "    def transform(self, X, next, track):\n",
    "        if next and track:\n",
    "            return np.concatenate(\n",
    "                (\n",
    "                    np.stack(X.embedding),\n",
    "                    np.stack(X.next_embedding),\n",
    "                    np.stack(X.track_embedding),\n",
    "                ),\n",
    "                axis=1,\n",
    "            )\n",
    "        elif next:\n",
    "            return np.concatenate(\n",
    "                (\n",
    "                    np.stack(X.embedding),\n",
    "                    np.stack(X.next_embedding),\n",
    "                ),\n",
    "                axis=1,\n",
    "            )\n",
    "        elif track:\n",
    "            return np.concatenate(\n",
    "                (\n",
    "                    np.stack(X.embedding),\n",
    "                    np.stack(X.track_embedding),\n",
    "                ),\n",
    "                axis=1,\n",
    "            )\n",
    "        else:\n",
    "            return np.stack(X.embedding)"
   ]
  },
  {
   "cell_type": "code",
   "execution_count": 10,
   "metadata": {},
   "outputs": [],
   "source": [
    "from sklearn.ensemble import StackingClassifier\n",
    "from sklearn.linear_model import LogisticRegression\n",
    "\n",
    "stk = StackingClassifier(\n",
    "    estimators=[baseline, call_nocall, permute],\n",
    "    final_estimator=LogisticRegression(),\n",
    "    cv=\"prefit\",\n",
    "    stack_method=\"predict_proba\",\n",
    "    n_jobs=-1,\n",
    "    verbose=1,\n",
    ")\n",
    "stk.fit(train_x, train_y)\n",
    "model_eval(test_y, stk.predict(test_x))"
   ]
  },
  {
   "cell_type": "code",
   "execution_count": null,
   "metadata": {},
   "outputs": [],
   "source": []
  }
 ],
 "metadata": {
  "kernelspec": {
   "display_name": "Python 3",
   "language": "python",
   "name": "python3"
  },
  "language_info": {
   "codemirror_mode": {
    "name": "ipython",
    "version": 3
   },
   "file_extension": ".py",
   "mimetype": "text/x-python",
   "name": "python",
   "nbconvert_exporter": "python",
   "pygments_lexer": "ipython3",
   "version": "3.10.6"
  },
  "orig_nbformat": 4
 },
 "nbformat": 4,
 "nbformat_minor": 2
}
