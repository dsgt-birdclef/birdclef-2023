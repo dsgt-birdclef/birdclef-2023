{
 "cells": [
  {
   "cell_type": "code",
   "execution_count": 1,
   "metadata": {},
   "outputs": [],
   "source": [
    "%load_ext autoreload\n",
    "%autoreload 2\n",
    "%load_ext lab_black"
   ]
  },
  {
   "cell_type": "code",
   "execution_count": 2,
   "metadata": {},
   "outputs": [
    {
     "name": "stdout",
     "output_type": "stream",
     "text": [
      "root\n",
      " |-- species: string (nullable = true)\n",
      " |-- track_stem: string (nullable = true)\n",
      " |-- track_type: string (nullable = true)\n",
      " |-- track_name: string (nullable = true)\n",
      " |-- embedding: array (nullable = true)\n",
      " |    |-- element: double (containsNull = true)\n",
      " |-- prediction_vec: array (nullable = true)\n",
      " |    |-- element: double (containsNull = true)\n",
      " |-- predictions: array (nullable = true)\n",
      " |    |-- element: struct (containsNull = true)\n",
      " |    |    |-- rank: long (nullable = true)\n",
      " |    |    |-- index: long (nullable = true)\n",
      " |    |    |-- label: string (nullable = true)\n",
      " |    |    |-- mapped_label: string (nullable = true)\n",
      " |    |    |-- probability: double (nullable = true)\n",
      " |-- start_time: long (nullable = true)\n",
      " |-- energy: double (nullable = true)\n",
      "\n",
      "root\n",
      " |-- track_name: string (nullable = true)\n",
      " |-- start_time: long (nullable = true)\n",
      " |-- prediction: string (nullable = true)\n",
      " |-- probability: double (nullable = true)\n",
      "\n",
      "root\n",
      " |-- primary_label: string (nullable = true)\n",
      " |-- secondary_labels: string (nullable = true)\n",
      " |-- type: string (nullable = true)\n",
      " |-- latitude: string (nullable = true)\n",
      " |-- longitude: string (nullable = true)\n",
      " |-- scientific_name: string (nullable = true)\n",
      " |-- common_name: string (nullable = true)\n",
      " |-- author: string (nullable = true)\n",
      " |-- license: string (nullable = true)\n",
      " |-- rating: string (nullable = true)\n",
      " |-- url: string (nullable = true)\n",
      " |-- filename: string (nullable = true)\n",
      "\n"
     ]
    }
   ],
   "source": [
    "from birdclef.utils import get_spark\n",
    "from pyspark.sql import Window, functions as F\n",
    "import os\n",
    "\n",
    "os.environ[\"SPARK_LOCAL_DIRS\"] = \"h://spark-tmp/\"\n",
    "\n",
    "spark = get_spark(cores=24, memory=\"40g\")\n",
    "df = spark.read.parquet(\n",
    "    \"../data/processed/birdclef-2023/train_embeddings/consolidated_v4\"\n",
    ")\n",
    "df.printSchema()\n",
    "\n",
    "preds = (\n",
    "    spark.read.parquet(\"../data/processed/birdclef-2023/consolidated_v4_with_preds\")\n",
    "    .repartition(32)\n",
    "    .cache()\n",
    ")\n",
    "preds.printSchema()\n",
    "\n",
    "# also include the metadata\n",
    "birdclef_root = \"../data/raw/birdclef-2023\"\n",
    "train_metadata = spark.read.csv(f\"{birdclef_root}/train_metadata.csv\", header=True)\n",
    "train_metadata.printSchema()"
   ]
  },
  {
   "cell_type": "code",
   "execution_count": 3,
   "metadata": {},
   "outputs": [
    {
     "name": "stdout",
     "output_type": "stream",
     "text": [
      "-RECORD 0------------------------------------------------------------------------------------------\n",
      " species        | grecor                                                                           \n",
      " track_stem     | XC629875_part003                                                                 \n",
      " track_type     | source0                                                                          \n",
      " track_name     | grecor/XC629875_part003_source0.mp3                                              \n",
      " embedding      | [0.6731137633323669, 1.1389738321304321, 0.6284520626068115, 0.65399438142776... \n",
      " prediction_vec | [-8.725186347961426, -7.3204827308654785, -9.82101821899414, -10.396224021911... \n",
      " predictions    | [{0, 3026, Tetrastes bonasia_Hazel Grouse, hazgro1, 0.02235649898648262}, {1,... \n",
      " start_time     | 75                                                                               \n",
      " energy         | 0.01598571054637432                                                              \n",
      "-RECORD 1------------------------------------------------------------------------------------------\n",
      " species        | grecor                                                                           \n",
      " track_stem     | XC629875_part005                                                                 \n",
      " track_type     | source3                                                                          \n",
      " track_name     | grecor/XC629875_part005_source3.mp3                                              \n",
      " embedding      | [1.683303713798523, 1.3935127258300781, 0.7466886639595032, 0.250840753316879... \n",
      " prediction_vec | [-13.96982192993164, -12.199172019958496, -11.703277587890625, -13.2876729965... \n",
      " predictions    | [{0, 824, Corvus monedula_Eurasian Jackdaw, eurjac, 0.10154201835393906}, {1,... \n",
      " start_time     | 127                                                                              \n",
      " energy         | 2.1898441314697266                                                               \n",
      "only showing top 2 rows\n",
      "\n"
     ]
    }
   ],
   "source": [
    "df.show(n=2, vertical=True, truncate=80)"
   ]
  },
  {
   "cell_type": "code",
   "execution_count": 44,
   "metadata": {},
   "outputs": [
    {
     "name": "stdout",
     "output_type": "stream",
     "text": [
      "root\n",
      " |-- track_stem: string (nullable = true)\n",
      " |-- track_type: string (nullable = true)\n",
      " |-- start_time: long (nullable = true)\n",
      " |-- primary_label: string (nullable = true)\n",
      " |-- metadata_species: array (nullable = true)\n",
      " |    |-- element: string (containsNull = true)\n",
      " |-- probability: double (nullable = true)\n",
      " |-- embedding: array (nullable = true)\n",
      " |    |-- element: double (containsNull = true)\n",
      " |-- prediction_vec: array (nullable = true)\n",
      " |    |-- element: float (containsNull = true)\n",
      "\n",
      "-RECORD 0--------------------------------------------------------------------------------------------\n",
      " track_stem       | XC239961                                                                         \n",
      " track_type       | source3                                                                          \n",
      " start_time       | 0                                                                                \n",
      " primary_label    | bltapa1                                                                          \n",
      " metadata_species | [bltapa1, yertin1, yewgre1]                                                      \n",
      " probability      | 0.16258414089679718                                                              \n",
      " embedding        | [0.6555802226066589, 1.223617434501648, 0.454333633184433, 1.2429858446121216... \n",
      " prediction_vec   | [-11.538731, -7.39977, -11.114168, -10.755581, -14.787011, -13.486829, -13.30... \n",
      "-RECORD 1--------------------------------------------------------------------------------------------\n",
      " track_stem       | XC289706                                                                         \n",
      " track_type       | source3                                                                          \n",
      " start_time       | 0                                                                                \n",
      " primary_label    | bltapa1                                                                          \n",
      " metadata_species | [bltapa1]                                                                        \n",
      " probability      | 0.7039250731468201                                                               \n",
      " embedding        | [0.4481910467147827, 0.7995474934577942, 0.6495727300643921, 0.33449795842170... \n",
      " prediction_vec   | [-11.937481, -11.410814, -8.132908, -7.433215, -12.72311, -9.969009, -10.4344... \n",
      "-RECORD 2--------------------------------------------------------------------------------------------\n",
      " track_stem       | XC239961                                                                         \n",
      " track_type       | source3                                                                          \n",
      " start_time       | 25                                                                               \n",
      " primary_label    | bltapa1                                                                          \n",
      " metadata_species | [bltapa1, yertin1, yewgre1]                                                      \n",
      " probability      | 0.12611337006092072                                                              \n",
      " embedding        | [0.7200770378112793, 2.064119577407837, 0.46700119972229004, 1.07279229164123... \n",
      " prediction_vec   | [-15.136822, -11.443462, -13.114828, -11.835857, -17.919353, -16.454067, -15.... \n",
      "only showing top 3 rows\n",
      "\n",
      "+----------+-----+\n",
      "|track_type|count|\n",
      "+----------+-----+\n",
      "|   source0|    8|\n",
      "|   source3|   51|\n",
      "|  original|   59|\n",
      "+----------+-----+\n",
      "\n"
     ]
    }
   ],
   "source": [
    "import ast\n",
    "import numpy as np\n",
    "\n",
    "\n",
    "@F.udf(returnType=\"array<string>\")\n",
    "def parse_labels(label_str: str):\n",
    "    # use literal eval to parse the string\n",
    "    return ast.literal_eval(label_str)\n",
    "\n",
    "\n",
    "@F.udf(\"array<float>\")\n",
    "def embedding_mean(v):\n",
    "    return np.vstack(v).mean(axis=0).tolist()\n",
    "\n",
    "\n",
    "def xc_id(track_name):\n",
    "    return F.regexp_extract(track_name, r\"XC(\\d+)\", 1)\n",
    "\n",
    "\n",
    "def process(df, train_metadata):\n",
    "    labels = train_metadata.select(\n",
    "        \"primary_label\",\n",
    "        F.array_union(F.array(\"primary_label\"), parse_labels(\"secondary_labels\")).alias(\n",
    "            \"metadata_species\"\n",
    "        ),\n",
    "        xc_id(\"filename\").alias(\"xc_id\"),\n",
    "    )\n",
    "\n",
    "    align_to_window = (\n",
    "        (\n",
    "            df.where(\"start_time % 5 = 0 or (start_time + 2) % 5 = 0\")\n",
    "            .join(preds, on=[\"track_name\", \"start_time\"])\n",
    "            .withColumn(\"seq_id\", (F.col(\"start_time\") / 5).cast(\"int\"))\n",
    "            .withColumn(\"birdnet_probability\", F.col(\"predictions\")[0][\"probability\"])\n",
    "            .select(\n",
    "                \"track_stem\",\n",
    "                \"track_type\",\n",
    "                \"start_time\",\n",
    "                \"seq_id\",\n",
    "                \"embedding\",\n",
    "                \"prediction_vec\",\n",
    "                \"prediction\",\n",
    "                \"birdnet_probability\",\n",
    "            )\n",
    "        )\n",
    "        .repartition(200)\n",
    "        .cache()\n",
    "    )\n",
    "\n",
    "    # compute the current and next embedding\n",
    "    sequence_embedding = (\n",
    "        align_to_window.groupBy(\"track_stem\", \"track_type\", \"seq_id\")\n",
    "        .agg(\n",
    "            # collect the embedding as an array sorted by start time\n",
    "            F.sort_array(F.collect_list(F.struct(\"start_time\", \"embedding\"))).alias(\n",
    "                \"embedding\"\n",
    "            ),\n",
    "            F.sort_array(\n",
    "                F.collect_list(F.struct(\"start_time\", \"prediction_vec\"))\n",
    "            ).alias(\"prediction_vec\"),\n",
    "            F.min(\"start_time\").alias(\"start_time\"),\n",
    "            F.max(\"birdnet_probability\").alias(\"probability\"),\n",
    "        )\n",
    "        .where(F.size(\"embedding\") == 2)\n",
    "        .withColumn(\"embedding\", F.flatten(\"embedding.embedding\"))\n",
    "        .withColumn(\"prediction_vec\", embedding_mean(\"prediction_vec.prediction_vec\"))\n",
    "        .select(\n",
    "            \"track_stem\",\n",
    "            \"track_type\",\n",
    "            \"seq_id\",\n",
    "            \"start_time\",\n",
    "            \"probability\",\n",
    "            \"embedding\",\n",
    "            \"prediction_vec\",\n",
    "        )\n",
    "        .repartition(200)\n",
    "    ).cache()\n",
    "\n",
    "    # the most representative source is the track that has the most predictions\n",
    "    # with the main class\n",
    "    most_representative_source = (\n",
    "        align_to_window.where(\"track_type <> 'original'\")\n",
    "        .withColumn(\"xc_id\", xc_id(\"track_stem\"))\n",
    "        .join(labels, on=[\"xc_id\"])\n",
    "        .where(\"primary_label = prediction\")\n",
    "        .groupBy(\"track_stem\", \"track_type\")\n",
    "        .count()\n",
    "        .withColumn(\n",
    "            \"rank\",\n",
    "            F.row_number().over(\n",
    "                Window.partitionBy(\"track_stem\").orderBy(F.desc(\"count\"))\n",
    "            ),\n",
    "        )\n",
    "        .where(\"rank = 1\")\n",
    "        .select(\"track_stem\", \"track_type\")\n",
    "    )\n",
    "\n",
    "    track_with_fuzzy_annotations = (\n",
    "        sequence_embedding.join(\n",
    "            most_representative_source.union(\n",
    "                align_to_window.select(\n",
    "                    \"track_stem\", F.lit(\"original\").alias(\"track_type\")\n",
    "                )\n",
    "            ).distinct(),\n",
    "            on=[\"track_stem\", \"track_type\"],\n",
    "        )\n",
    "        .withColumn(\"xc_id\", xc_id(\"track_stem\"))\n",
    "        .join(labels, on=[\"xc_id\"])\n",
    "        .select(\n",
    "            \"track_stem\",\n",
    "            \"track_type\",\n",
    "            \"start_time\",\n",
    "            \"primary_label\",\n",
    "            \"metadata_species\",\n",
    "            \"probability\",\n",
    "            \"embedding\",\n",
    "            \"prediction_vec\",\n",
    "        )\n",
    "    )\n",
    "    return track_with_fuzzy_annotations\n",
    "\n",
    "\n",
    "subset = df.where(\"species = 'bltapa1'\").cache()\n",
    "processed_sample = process(subset, train_metadata)\n",
    "processed_sample.printSchema()\n",
    "processed_sample.show(n=3, vertical=True, truncate=80)\n",
    "processed_sample.groupBy(\"track_type\").count().show()"
   ]
  },
  {
   "cell_type": "code",
   "execution_count": 45,
   "metadata": {},
   "outputs": [],
   "source": [
    "processed_df = process(df, train_metadata)\n",
    "processed_df.write.parquet(\n",
    "    \"../data/intermediate/train_postprocessed_v7\", mode=\"overwrite\"\n",
    ")"
   ]
  },
  {
   "cell_type": "code",
   "execution_count": 47,
   "metadata": {},
   "outputs": [
    {
     "name": "stdout",
     "output_type": "stream",
     "text": [
      "root\n",
      " |-- track_stem: string (nullable = true)\n",
      " |-- track_type: string (nullable = true)\n",
      " |-- start_time: long (nullable = true)\n",
      " |-- primary_label: string (nullable = true)\n",
      " |-- metadata_species: array (nullable = true)\n",
      " |    |-- element: string (containsNull = true)\n",
      " |-- probability: double (nullable = true)\n",
      " |-- embedding: array (nullable = true)\n",
      " |    |-- element: double (containsNull = true)\n",
      " |-- prediction_vec: array (nullable = true)\n",
      " |    |-- element: float (containsNull = true)\n",
      "\n",
      "-RECORD 0--------------------------------------------------------------------------------------------\n",
      " track_stem       | XC116777                                                                         \n",
      " track_type       | source1                                                                          \n",
      " start_time       | 15                                                                               \n",
      " primary_label    | ratcis1                                                                          \n",
      " metadata_species | [ratcis1]                                                                        \n",
      " probability      | 0.09760689735412598                                                              \n",
      " embedding        | [0.5379254221916199, 0.4313904345035553, 0.44915971159935, 0.7643668055534363... \n",
      " prediction_vec   | [-11.520682, -8.967697, -9.779343, -12.376421, -11.295807, -12.361107, -10.44... \n",
      "-RECORD 1--------------------------------------------------------------------------------------------\n",
      " track_stem       | XC116777                                                                         \n",
      " track_type       | source1                                                                          \n",
      " start_time       | 20                                                                               \n",
      " primary_label    | ratcis1                                                                          \n",
      " metadata_species | [ratcis1]                                                                        \n",
      " probability      | 0.092133067548275                                                                \n",
      " embedding        | [0.58729487657547, 0.3465980589389801, 0.3684897720813751, 1.0667153596878052... \n",
      " prediction_vec   | [-11.788868, -8.790508, -10.487683, -12.99918, -12.6539955, -12.647246, -11.2... \n",
      "only showing top 2 rows\n",
      "\n",
      "+---------------+--------------------+\n",
      "|size(embedding)|size(prediction_vec)|\n",
      "+---------------+--------------------+\n",
      "|            640|                3337|\n",
      "|            640|                3337|\n",
      "|            640|                3337|\n",
      "+---------------+--------------------+\n",
      "only showing top 3 rows\n",
      "\n"
     ]
    },
    {
     "data": {
      "text/plain": [
       "261006"
      ]
     },
     "execution_count": 47,
     "metadata": {},
     "output_type": "execute_result"
    }
   ],
   "source": [
    "processed_df = spark.read.parquet(\"../data/intermediate/train_postprocessed_v7\")\n",
    "processed_df.printSchema()\n",
    "processed_df.show(n=2, vertical=True, truncate=80)\n",
    "processed_df.select(F.size(\"embedding\"), F.size(\"prediction_vec\")).show(n=3)\n",
    "processed_df.count()"
   ]
  },
  {
   "cell_type": "code",
   "execution_count": 49,
   "metadata": {},
   "outputs": [
    {
     "name": "stdout",
     "output_type": "stream",
     "text": [
      "+----------+------+\n",
      "|track_type| count|\n",
      "+----------+------+\n",
      "|   source1|  4798|\n",
      "|   source2| 13313|\n",
      "|   source0| 54257|\n",
      "|   source3| 55316|\n",
      "|  original|133322|\n",
      "+----------+------+\n",
      "\n"
     ]
    }
   ],
   "source": [
    "processed_df.groupBy(\"track_type\").count().show()"
   ]
  },
  {
   "cell_type": "code",
   "execution_count": 58,
   "metadata": {},
   "outputs": [],
   "source": [
    "def process_for_training(df):\n",
    "    count = (\n",
    "        df.where(\"probability > 0.5\")\n",
    "        .groupBy(\"primary_label\")\n",
    "        .count()\n",
    "        .where(\"count > 10\")\n",
    "    )\n",
    "    common = (\n",
    "        df.join(count.select(\"primary_label\"), on=\"primary_label\")\n",
    "        .where(\"track_type <> 'original'\")\n",
    "        .withColumn(\n",
    "            \"species\",\n",
    "            F.when(F.expr(\"probability > 0.5\"), F.col(\"primary_label\")).otherwise(\n",
    "                F.lit(\"no_call\")\n",
    "            ),\n",
    "        )\n",
    "    )\n",
    "    rare = (\n",
    "        df.join(count.select(\"primary_label\"), on=\"primary_label\", how=\"left_anti\")\n",
    "        .where(\"track_type <> 'original'\")\n",
    "        .withColumn(\n",
    "            \"species\",\n",
    "            F.when(F.expr(\"probability > 0.1\"), F.col(\"primary_label\")).otherwise(\n",
    "                F.lit(\"no_call\")\n",
    "            ),\n",
    "        )\n",
    "    )\n",
    "    res = common.union(rare).select(\"track_stem\", \"start_time\", \"species\")\n",
    "    # now also use the original tracks\n",
    "    return df.join(res, on=[\"track_stem\", \"start_time\"]).select(\n",
    "        \"track_stem\",\n",
    "        \"track_type\",\n",
    "        \"start_time\",\n",
    "        \"species\",\n",
    "        \"embedding\",\n",
    "        \"prediction_vec\",\n",
    "    )\n",
    "\n",
    "\n",
    "process_no_call = process_for_training(processed_df)"
   ]
  },
  {
   "cell_type": "code",
   "execution_count": 59,
   "metadata": {},
   "outputs": [],
   "source": [
    "process_no_call.write.parquet(\n",
    "    \"../data/processed/birdclef-2023/train_postprocessed/v7\", mode=\"overwrite\"\n",
    ")"
   ]
  },
  {
   "cell_type": "code",
   "execution_count": 60,
   "metadata": {},
   "outputs": [
    {
     "data": {
      "text/plain": [
       "255372"
      ]
     },
     "execution_count": 60,
     "metadata": {},
     "output_type": "execute_result"
    }
   ],
   "source": [
    "process_no_call = spark.read.parquet(\n",
    "    \"../data/processed/birdclef-2023/train_postprocessed/v7\"\n",
    ")\n",
    "process_no_call.count()"
   ]
  },
  {
   "cell_type": "code",
   "execution_count": 63,
   "metadata": {},
   "outputs": [
    {
     "name": "stdout",
     "output_type": "stream",
     "text": [
      "+----------+------+\n",
      "|track_type| count|\n",
      "+----------+------+\n",
      "|   source1|  4798|\n",
      "|   source2| 13313|\n",
      "|   source0| 54257|\n",
      "|   source3| 55318|\n",
      "|  original|127686|\n",
      "+----------+------+\n",
      "\n"
     ]
    }
   ],
   "source": [
    "process_no_call.groupBy(\"track_type\").count().show()"
   ]
  },
  {
   "cell_type": "code",
   "execution_count": 64,
   "metadata": {},
   "outputs": [
    {
     "name": "stdout",
     "output_type": "stream",
     "text": [
      "+-------+------+\n",
      "|species| count|\n",
      "+-------+------+\n",
      "|no_call|114882|\n",
      "|thrnig1| 11664|\n",
      "|eubeat1|  8362|\n",
      "| hoopoe|  7604|\n",
      "| wlwwar|  5930|\n",
      "+-------+------+\n",
      "only showing top 5 rows\n",
      "\n",
      "+-------+-----+\n",
      "|species|count|\n",
      "+-------+-----+\n",
      "|rostur1|    2|\n",
      "|lotlap1|    2|\n",
      "|litwea1|    2|\n",
      "|afpkin1|    2|\n",
      "|witswa1|    2|\n",
      "+-------+-----+\n",
      "only showing top 5 rows\n",
      "\n"
     ]
    },
    {
     "data": {
      "text/plain": [
       "264"
      ]
     },
     "execution_count": 64,
     "metadata": {},
     "output_type": "execute_result"
    }
   ],
   "source": [
    "counts = process_no_call.groupBy(\"species\").count().orderBy(F.desc(\"count\"))\n",
    "counts.show(n=5)\n",
    "counts.orderBy(\"count\").show(n=5)\n",
    "counts.count()"
   ]
  },
  {
   "cell_type": "code",
   "execution_count": 65,
   "metadata": {},
   "outputs": [
    {
     "name": "stdout",
     "output_type": "stream",
     "text": [
      "root\n",
      " |-- track_stem: string (nullable = true)\n",
      " |-- track_type: string (nullable = true)\n",
      " |-- start_time: long (nullable = true)\n",
      " |-- species: string (nullable = true)\n",
      " |-- embedding: array (nullable = true)\n",
      " |    |-- element: double (containsNull = true)\n",
      " |-- prediction_vec: array (nullable = true)\n",
      " |    |-- element: float (containsNull = true)\n",
      "\n",
      "-RECORD 0------------------------------------------------------------------------------------------\n",
      " track_stem     | XC213642                                                                         \n",
      " track_type     | original                                                                         \n",
      " start_time     | 55                                                                               \n",
      " species        | afmdov1                                                                          \n",
      " embedding      | [1.7688512802124023, 0.8326520323753357, 0.4971006214618683, 0.76335829496383... \n",
      " prediction_vec | [-14.449501, -12.099122, -15.694858, -15.919621, -16.951557, -16.574268, -15.... \n",
      "-RECORD 1------------------------------------------------------------------------------------------\n",
      " track_stem     | XC347514                                                                         \n",
      " track_type     | original                                                                         \n",
      " start_time     | 0                                                                                \n",
      " species        | afecuc1                                                                          \n",
      " embedding      | [1.1008962392807007, 1.1379547119140625, 0.7349863648414612, 1.83088350296020... \n",
      " prediction_vec | [-11.292007, -7.078901, -10.191986, -11.164602, -12.410173, -12.727844, -12.5... \n",
      "only showing top 2 rows\n",
      "\n"
     ]
    }
   ],
   "source": [
    "process_no_call.printSchema()\n",
    "process_no_call.show(n=2, vertical=True, truncate=80)"
   ]
  }
 ],
 "metadata": {
  "kernelspec": {
   "display_name": "venv",
   "language": "python",
   "name": "python3"
  },
  "language_info": {
   "codemirror_mode": {
    "name": "ipython",
    "version": 3
   },
   "file_extension": ".py",
   "mimetype": "text/x-python",
   "name": "python",
   "nbconvert_exporter": "python",
   "pygments_lexer": "ipython3",
   "version": "3.10.5"
  },
  "orig_nbformat": 4
 },
 "nbformat": 4,
 "nbformat_minor": 2
}
