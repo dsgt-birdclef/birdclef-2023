{
 "cells": [
  {
   "attachments": {},
   "cell_type": "markdown",
   "metadata": {},
   "source": [
    "\n",
    "Reproducing errors converting a tensorflow model to onnx.\n",
    "\n",
    "```bash\n",
    "python -m tf2onnx.convert \\\n",
    "  --opset 17 \\\n",
    "  --saved-model vendor/BirdNET-Analyzer/checkpoints/V2.2/BirdNET_GLOBAL_3K_V2.2_Model/variables/ \\\n",
    "  --output data/models/onnx/test0.onnx\n",
    "```\n",
    "\n",
    "Building a few tools in tensorflow from source.\n",
    "Note these take a long time to build.\n",
    "\n",
    "```bash\n",
    "bazel build tensorflow/tools/graph_transforms:summarize_graph\n",
    "bazel build tensorflow/python/tools:saved_model_cli\n",
    "```\n",
    "\n",
    "```bash\n",
    "~/tensorflow/bazel-bin/tensorflow/tools/graph_transforms/summarize_graph \\\n",
    "    --in_graph=/home/anthony/birdclef-2023/vendor/BirdNET-Analyzer/checkpoints/V2.2/BirdNET_GLOBAL_3K_V2.2_Model/saved_model.pb \\\n",
    "    --print_structure=true\n",
    "\n",
    "\n",
    "~/tensorflow/bazel-bin/tensorflow/tools/graph_transforms/summarize_graph \\\n",
    "    --in_graph=/home/anthony/birdclef-2023/vendor/BirdNET-Analyzer/checkpoints/V2.2/BirdNET_GLOBAL_3K_V2.2_Model/variables/variables.index \\\n",
    "    --print_structure=true\n",
    "```"
   ]
  },
  {
   "cell_type": "code",
   "execution_count": 1,
   "metadata": {},
   "outputs": [
    {
     "name": "stderr",
     "output_type": "stream",
     "text": [
      "2023-02-26 04:21:03.860565: I tensorflow/core/platform/cpu_feature_guard.cc:193] This TensorFlow binary is optimized with oneAPI Deep Neural Network Library (oneDNN) to use the following CPU instructions in performance-critical operations:  AVX2 AVX512F AVX512_VNNI FMA\n",
      "To enable them in other operations, rebuild TensorFlow with the appropriate compiler flags.\n",
      "2023-02-26 04:21:03.992468: I tensorflow/core/util/port.cc:104] oneDNN custom operations are on. You may see slightly different numerical results due to floating-point round-off errors from different computation orders. To turn them off, set the environment variable `TF_ENABLE_ONEDNN_OPTS=0`.\n",
      "2023-02-26 04:21:04.672149: W tensorflow/compiler/xla/stream_executor/platform/default/dso_loader.cc:64] Could not load dynamic library 'libnvinfer.so.7'; dlerror: libnvinfer.so.7: cannot open shared object file: No such file or directory\n",
      "2023-02-26 04:21:04.672211: W tensorflow/compiler/xla/stream_executor/platform/default/dso_loader.cc:64] Could not load dynamic library 'libnvinfer_plugin.so.7'; dlerror: libnvinfer_plugin.so.7: cannot open shared object file: No such file or directory\n",
      "2023-02-26 04:21:04.672218: W tensorflow/compiler/tf2tensorrt/utils/py_utils.cc:38] TF-TRT Warning: Cannot dlopen some TensorRT libraries. If you would like to use Nvidia GPU with TensorRT, please make sure the missing libraries mentioned above are installed properly.\n",
      "WARNING:absl:Importing a function (__inference_BLOCK_4-2_ACT_1_layer_call_and_return_conditional_losses_15267) with ops with unsaved custom gradients. Will likely fail if a gradient is requested.\n",
      "2023-02-26 04:21:05.835681: E tensorflow/compiler/xla/stream_executor/cuda/cuda_driver.cc:267] failed call to cuInit: CUDA_ERROR_NO_DEVICE: no CUDA-capable device is detected\n",
      "2023-02-26 04:21:05.835715: I tensorflow/compiler/xla/stream_executor/cuda/cuda_diagnostics.cc:156] kernel driver does not appear to be running on this host (acmiyaguchi-dev): /proc/driver/nvidia/version does not exist\n",
      "2023-02-26 04:21:05.835968: I tensorflow/core/platform/cpu_feature_guard.cc:193] This TensorFlow binary is optimized with oneAPI Deep Neural Network Library (oneDNN) to use the following CPU instructions in performance-critical operations:  AVX2 AVX512F AVX512_VNNI FMA\n",
      "To enable them in other operations, rebuild TensorFlow with the appropriate compiler flags.\n",
      "WARNING:absl:Importing a function (__inference_BLOCK_4-3_ACT_1_layer_call_and_return_conditional_losses_33161) with ops with unsaved custom gradients. Will likely fail if a gradient is requested.\n",
      "WARNING:absl:Importing a function (__inference_BLOCK_3-3_ACT_2_layer_call_and_return_conditional_losses_14525) with ops with unsaved custom gradients. Will likely fail if a gradient is requested.\n",
      "WARNING:absl:Importing a function (__inference_BLOCK_3-4_ACT_1_layer_call_and_return_conditional_losses_14681) with ops with unsaved custom gradients. Will likely fail if a gradient is requested.\n",
      "WARNING:absl:Importing a function (__inference_BLOCK_3-4_ACT_2_layer_call_and_return_conditional_losses_14723) with ops with unsaved custom gradients. Will likely fail if a gradient is requested.\n",
      "WARNING:absl:Importing a function (__inference_BLOCK_3-2_ACT_2_layer_call_and_return_conditional_losses_14327) with ops with unsaved custom gradients. Will likely fail if a gradient is requested.\n",
      "WARNING:absl:Importing a function (__inference_BLOCK_4-2_ACT_2_layer_call_and_return_conditional_losses_32783) with ops with unsaved custom gradients. Will likely fail if a gradient is requested.\n",
      "WARNING:absl:Importing a function (__inference_BLOCK_2-4_ACT_1_layer_call_and_return_conditional_losses_13993) with ops with unsaved custom gradients. Will likely fail if a gradient is requested.\n",
      "WARNING:absl:Importing a function (__inference_BLOCK_3-3_ACT_2_layer_call_and_return_conditional_losses_30727) with ops with unsaved custom gradients. Will likely fail if a gradient is requested.\n",
      "WARNING:absl:Importing a function (__inference_BLOCK_3-5_SE_CONV_1_layer_call_and_return_conditional_losses_14953) with ops with unsaved custom gradients. Will likely fail if a gradient is requested.\n",
      "WARNING:absl:Importing a function (__inference_BLOCK_1-3_ACT_1_layer_call_and_return_conditional_losses_28018) with ops with unsaved custom gradients. Will likely fail if a gradient is requested.\n",
      "WARNING:absl:Importing a function (__inference_BLOCK_3-2_ACT_2_layer_call_and_return_conditional_losses_30210) with ops with unsaved custom gradients. Will likely fail if a gradient is requested.\n",
      "WARNING:absl:Importing a function (__inference_BLOCK_2-1_ACT_1_layer_call_and_return_conditional_losses_13695) with ops with unsaved custom gradients. Will likely fail if a gradient is requested.\n",
      "WARNING:absl:Importing a function (__inference_BLOCK_4-3_ACT_2_layer_call_and_return_conditional_losses_15507) with ops with unsaved custom gradients. Will likely fail if a gradient is requested.\n",
      "WARNING:absl:Importing a function (__inference_BLOCK_3-2_SE_CONV_1_layer_call_and_return_conditional_losses_14359) with ops with unsaved custom gradients. Will likely fail if a gradient is requested.\n",
      "WARNING:absl:Importing a function (__inference_model_layer_call_and_return_conditional_losses_25336) with ops with unsaved custom gradients. Will likely fail if a gradient is requested.\n",
      "WARNING:absl:Importing a function (__inference_BLOCK_3-1_SE_CONV_1_layer_call_and_return_conditional_losses_29744) with ops with unsaved custom gradients. Will likely fail if a gradient is requested.\n",
      "WARNING:absl:Importing a function (__inference_BLOCK_4-1_ACT_1_layer_call_and_return_conditional_losses_15077) with ops with unsaved custom gradients. Will likely fail if a gradient is requested.\n",
      "WARNING:absl:Importing a function (__inference_basic_5289) with ops with unsaved custom gradients. Will likely fail if a gradient is requested.\n",
      "WARNING:absl:Importing a function (__inference_BLOCK_4-4_ACT_1_layer_call_and_return_conditional_losses_33678) with ops with unsaved custom gradients. Will likely fail if a gradient is requested.\n",
      "WARNING:absl:Importing a function (__inference_BLOCK_4-4_ACT_2_layer_call_and_return_conditional_losses_15705) with ops with unsaved custom gradients. Will likely fail if a gradient is requested.\n",
      "WARNING:absl:Importing a function (__inference_BLOCK_4-4_SE_CONV_1_layer_call_and_return_conditional_losses_33856) with ops with unsaved custom gradients. Will likely fail if a gradient is requested.\n",
      "WARNING:absl:Importing a function (__inference_BLOCK_4-2_SE_CONV_1_layer_call_and_return_conditional_losses_15341) with ops with unsaved custom gradients. Will likely fail if a gradient is requested.\n",
      "WARNING:absl:Importing a function (__inference_BLOCK_1-3_ACT_1_layer_call_and_return_conditional_losses_13593) with ops with unsaved custom gradients. Will likely fail if a gradient is requested.\n",
      "WARNING:absl:Importing a function (__inference_BLOCK_4-3_SE_CONV_1_layer_call_and_return_conditional_losses_15539) with ops with unsaved custom gradients. Will likely fail if a gradient is requested.\n",
      "WARNING:absl:Importing a function (__inference__wrapped_model_7115) with ops with unsaved custom gradients. Will likely fail if a gradient is requested.\n",
      "WARNING:absl:Importing a function (__inference_BLOCK_2-3_ACT_1_layer_call_and_return_conditional_losses_13891) with ops with unsaved custom gradients. Will likely fail if a gradient is requested.\n",
      "WARNING:absl:Importing a function (__inference_BLOCK_4-1_ACT_2_layer_call_and_return_conditional_losses_32278) with ops with unsaved custom gradients. Will likely fail if a gradient is requested.\n",
      "WARNING:absl:Importing a function (__inference_BLOCK_3-5_ACT_1_layer_call_and_return_conditional_losses_14879) with ops with unsaved custom gradients. Will likely fail if a gradient is requested.\n",
      "WARNING:absl:Importing a function (__inference_BLOCK_4-3_ACT_1_layer_call_and_return_conditional_losses_15465) with ops with unsaved custom gradients. Will likely fail if a gradient is requested.\n",
      "WARNING:absl:Importing a function (__inference_BLOCK_3-1_ACT_1_layer_call_and_return_conditional_losses_29566) with ops with unsaved custom gradients. Will likely fail if a gradient is requested.\n",
      "WARNING:absl:Importing a function (__inference_BLOCK_1-2_ACT_1_layer_call_and_return_conditional_losses_27706) with ops with unsaved custom gradients. Will likely fail if a gradient is requested.\n",
      "WARNING:absl:Importing a function (__inference_BLOCK_2-1_ACT_1_layer_call_and_return_conditional_losses_28330) with ops with unsaved custom gradients. Will likely fail if a gradient is requested.\n",
      "WARNING:absl:Importing a function (__inference_BLOCK_4-1_ACT_2_layer_call_and_return_conditional_losses_15119) with ops with unsaved custom gradients. Will likely fail if a gradient is requested.\n",
      "WARNING:absl:Importing a function (__inference_BLOCK_4-3_SE_CONV_1_layer_call_and_return_conditional_losses_33339) with ops with unsaved custom gradients. Will likely fail if a gradient is requested.\n",
      "WARNING:absl:Importing a function (__inference_BLOCK_1-1_ACT_1_layer_call_and_return_conditional_losses_13397) with ops with unsaved custom gradients. Will likely fail if a gradient is requested.\n",
      "WARNING:absl:Importing a function (__inference_BLOCK_4-1_ACT_1_layer_call_and_return_conditional_losses_32139) with ops with unsaved custom gradients. Will likely fail if a gradient is requested.\n",
      "WARNING:absl:Importing a function (__inference_BLOCK_3-2_SE_CONV_1_layer_call_and_return_conditional_losses_30249) with ops with unsaved custom gradients. Will likely fail if a gradient is requested.\n",
      "WARNING:absl:Importing a function (__inference_BLOCK_3-1_ACT_2_layer_call_and_return_conditional_losses_29705) with ops with unsaved custom gradients. Will likely fail if a gradient is requested.\n",
      "WARNING:absl:Importing a function (__inference_BLOCK_3-1_SE_CONV_1_layer_call_and_return_conditional_losses_14169) with ops with unsaved custom gradients. Will likely fail if a gradient is requested.\n",
      "WARNING:absl:Importing a function (__inference_BLOCK_3-5_ACT_2_layer_call_and_return_conditional_losses_31761) with ops with unsaved custom gradients. Will likely fail if a gradient is requested.\n",
      "WARNING:absl:Importing a function (__inference_BLOCK_3-4_ACT_1_layer_call_and_return_conditional_losses_31105) with ops with unsaved custom gradients. Will likely fail if a gradient is requested.\n",
      "WARNING:absl:Importing a function (__inference_BLOCK_2-2_ACT_1_layer_call_and_return_conditional_losses_28630) with ops with unsaved custom gradients. Will likely fail if a gradient is requested.\n",
      "WARNING:absl:Importing a function (__inference_BLOCK_1-1_ACT_1_layer_call_and_return_conditional_losses_27406) with ops with unsaved custom gradients. Will likely fail if a gradient is requested.\n",
      "WARNING:absl:Importing a function (__inference_BLOCK_3-2_ACT_1_layer_call_and_return_conditional_losses_30071) with ops with unsaved custom gradients. Will likely fail if a gradient is requested.\n",
      "WARNING:absl:Importing a function (__inference_BLOCK_3-5_SE_CONV_1_layer_call_and_return_conditional_losses_31800) with ops with unsaved custom gradients. Will likely fail if a gradient is requested.\n",
      "WARNING:absl:Importing a function (__inference_BLOCK_3-3_SE_CONV_1_layer_call_and_return_conditional_losses_14557) with ops with unsaved custom gradients. Will likely fail if a gradient is requested.\n",
      "WARNING:absl:Importing a function (__inference_BLOCK_3-4_SE_CONV_1_layer_call_and_return_conditional_losses_14755) with ops with unsaved custom gradients. Will likely fail if a gradient is requested.\n",
      "WARNING:absl:Importing a function (__inference_BLOCK_3-3_ACT_1_layer_call_and_return_conditional_losses_14483) with ops with unsaved custom gradients. Will likely fail if a gradient is requested.\n",
      "WARNING:absl:Importing a function (__inference_BLOCK_4-4_ACT_1_layer_call_and_return_conditional_losses_15663) with ops with unsaved custom gradients. Will likely fail if a gradient is requested.\n",
      "WARNING:absl:Importing a function (__inference_model_layer_call_and_return_conditional_losses_26662) with ops with unsaved custom gradients. Will likely fail if a gradient is requested.\n",
      "WARNING:absl:Importing a function (__inference_BLOCK_4-2_ACT_1_layer_call_and_return_conditional_losses_32644) with ops with unsaved custom gradients. Will likely fail if a gradient is requested.\n",
      "WARNING:absl:Importing a function (__inference_BLOCK_4-2_ACT_2_layer_call_and_return_conditional_losses_15309) with ops with unsaved custom gradients. Will likely fail if a gradient is requested.\n",
      "WARNING:absl:Importing a function (__inference_BLOCK_3-3_ACT_1_layer_call_and_return_conditional_losses_30588) with ops with unsaved custom gradients. Will likely fail if a gradient is requested.\n",
      "WARNING:absl:Importing a function (__inference_BLOCK_3-2_ACT_1_layer_call_and_return_conditional_losses_14285) with ops with unsaved custom gradients. Will likely fail if a gradient is requested.\n",
      "WARNING:absl:Importing a function (__inference_BLOCK_3-4_ACT_2_layer_call_and_return_conditional_losses_31244) with ops with unsaved custom gradients. Will likely fail if a gradient is requested.\n",
      "WARNING:absl:Importing a function (__inference_BLOCK_4-1_SE_CONV_1_layer_call_and_return_conditional_losses_15151) with ops with unsaved custom gradients. Will likely fail if a gradient is requested.\n",
      "WARNING:absl:Importing a function (__inference_BLOCK_3-5_ACT_1_layer_call_and_return_conditional_losses_31622) with ops with unsaved custom gradients. Will likely fail if a gradient is requested.\n",
      "WARNING:absl:Importing a function (__inference_BLOCK_1-2_ACT_1_layer_call_and_return_conditional_losses_13491) with ops with unsaved custom gradients. Will likely fail if a gradient is requested.\n",
      "WARNING:absl:Importing a function (__inference_BLOCK_2-3_ACT_1_layer_call_and_return_conditional_losses_28942) with ops with unsaved custom gradients. Will likely fail if a gradient is requested.\n",
      "WARNING:absl:Importing a function (__inference_BLOCK_2-4_ACT_1_layer_call_and_return_conditional_losses_29254) with ops with unsaved custom gradients. Will likely fail if a gradient is requested.\n",
      "WARNING:absl:Importing a function (__inference_BLOCK_4-4_ACT_2_layer_call_and_return_conditional_losses_33817) with ops with unsaved custom gradients. Will likely fail if a gradient is requested.\n",
      "WARNING:absl:Importing a function (__inference_BLOCK_4-3_ACT_2_layer_call_and_return_conditional_losses_33300) with ops with unsaved custom gradients. Will likely fail if a gradient is requested.\n",
      "WARNING:absl:Importing a function (__inference_BLOCK_3-3_SE_CONV_1_layer_call_and_return_conditional_losses_30766) with ops with unsaved custom gradients. Will likely fail if a gradient is requested.\n",
      "WARNING:absl:Importing a function (__inference_BLOCK_4-1_SE_CONV_1_layer_call_and_return_conditional_losses_32317) with ops with unsaved custom gradients. Will likely fail if a gradient is requested.\n",
      "WARNING:absl:Importing a function (__inference_BLOCK_3-4_SE_CONV_1_layer_call_and_return_conditional_losses_31283) with ops with unsaved custom gradients. Will likely fail if a gradient is requested.\n",
      "WARNING:absl:Importing a function (__inference_BLOCK_3-5_ACT_2_layer_call_and_return_conditional_losses_14921) with ops with unsaved custom gradients. Will likely fail if a gradient is requested.\n",
      "WARNING:absl:Importing a function (__inference_BLOCK_2-2_ACT_1_layer_call_and_return_conditional_losses_13789) with ops with unsaved custom gradients. Will likely fail if a gradient is requested.\n",
      "WARNING:absl:Importing a function (__inference_BLOCK_3-1_ACT_1_layer_call_and_return_conditional_losses_14095) with ops with unsaved custom gradients. Will likely fail if a gradient is requested.\n",
      "WARNING:absl:Importing a function (__inference_BLOCK_3-1_ACT_2_layer_call_and_return_conditional_losses_14137) with ops with unsaved custom gradients. Will likely fail if a gradient is requested.\n",
      "WARNING:absl:Importing a function (__inference_BLOCK_4-4_SE_CONV_1_layer_call_and_return_conditional_losses_15737) with ops with unsaved custom gradients. Will likely fail if a gradient is requested.\n",
      "WARNING:absl:Importing a function (__inference_BLOCK_4-2_SE_CONV_1_layer_call_and_return_conditional_losses_32822) with ops with unsaved custom gradients. Will likely fail if a gradient is requested.\n"
     ]
    }
   ],
   "source": [
    "# https://github.com/tensorflow/models/issues/8966\n",
    "import tensorflow as tf\n",
    "from tensorflow.python.framework.convert_to_constants import (\n",
    "    convert_variables_to_constants_v2,\n",
    ")\n",
    "\n",
    "model_path = \"../vendor/BirdNET-Analyzer/checkpoints/V2.2/BirdNET_GLOBAL_3K_V2.2_Model/\"\n",
    "\n",
    "# load the saved_model using low-level API\n",
    "m = tf.saved_model.load(model_path, tags=[\"serve\"])"
   ]
  },
  {
   "attachments": {},
   "cell_type": "markdown",
   "metadata": {},
   "source": [
    "# frozen graph using the signature alone"
   ]
  },
  {
   "cell_type": "code",
   "execution_count": 2,
   "metadata": {},
   "outputs": [
    {
     "data": {
      "text/plain": [
       "['basic']"
      ]
     },
     "execution_count": 2,
     "metadata": {},
     "output_type": "execute_result"
    }
   ],
   "source": [
    "list(m.signatures.keys())"
   ]
  },
  {
   "cell_type": "code",
   "execution_count": 3,
   "metadata": {},
   "outputs": [],
   "source": [
    "! mkdir -p ../data/models/birdnet-frozen-v1"
   ]
  },
  {
   "cell_type": "code",
   "execution_count": 4,
   "metadata": {},
   "outputs": [
    {
     "name": "stderr",
     "output_type": "stream",
     "text": [
      "2023-02-26 04:21:11.241649: I tensorflow/core/grappler/devices.cc:66] Number of eligible GPUs (core count >= 8, compute capability >= 0.0): 0\n",
      "2023-02-26 04:21:11.241807: I tensorflow/core/grappler/clusters/single_machine.cc:358] Starting new session\n"
     ]
    },
    {
     "data": {
      "text/plain": [
       "'./../data/models/birdnet-frozen-v1/saved_model.pb'"
      ]
     },
     "execution_count": 4,
     "metadata": {},
     "output_type": "execute_result"
    }
   ],
   "source": [
    "frozen_func = convert_variables_to_constants_v2(m.signatures[\"basic\"])\n",
    "tf.io.write_graph(\n",
    "    graph_or_graph_def=frozen_func.graph,\n",
    "    logdir=\"./\",\n",
    "    name=\"../data/models/birdnet-frozen-v1/saved_model.pb\",\n",
    "    as_text=False,\n",
    ")"
   ]
  },
  {
   "cell_type": "code",
   "execution_count": null,
   "metadata": {},
   "outputs": [
    {
     "name": "stdout",
     "output_type": "stream",
     "text": [
      "2023-02-26 04:10:20.351744: I tensorflow/core/util/port.cc:104] oneDNN custom operations are on. You may see slightly different numerical results due to floating-point round-off errors from different computation orders. To turn them off, set the environment variable `TF_ENABLE_ONEDNN_OPTS=0`.\n",
      "StatefulPartitionedCall/model/ADVANCED_SPEC1/strided_slice/stack_2 (Const): [], value=Tensor<type: int32 shape: [3] values: 1 1 1>\n",
      "StatefulPartitionedCall/model/ADVANCED_SPEC1/strided_slice/stack_1 (Const): [], value=Tensor<type: int32 shape: [3] values: 0 0 128>\n",
      "StatefulPartitionedCall/model/ADVANCED_SPEC1/strided_slice/stack (Const): [], value=Tensor<type: int32 shape: [3] values: 0 0 0>\n",
      "StatefulPartitionedCall/model/ADVANCED_SPEC1/stft/rfft/fft_length (Const): [], value=Tensor<type: int32 shape: [1] values: 512>\n",
      "StatefulPartitionedCall/model/ADVANCED_SPEC1/stft/hann_window/sub_1/y (Const): [], value=Tensor<type: int32 shape: [] values: 1>\n",
      "StatefulPartitionedCall/model/ADVANCED_SPEC1/stft/hann_window/FloorMod/y (Const): [], value=Tensor<type: int32 shape: [] values: 2>\n",
      "StatefulPartitionedCall/model/ADVANCED_SPEC1/stft/hann_window/sub/x (Const): [], value=Tensor<type: int32 shape: [] values: 1>\n",
      "--\n",
      "StatefulPartitionedCall/model/ADVANCED_SPEC1/stft/frame/GatherV2 (GatherV2): [StatefulPartitionedCall/model/ADVANCED_SPEC1/stft/frame/Reshape_1, StatefulPartitionedCall/model/ADVANCED_SPEC1/stft/frame/add_1, StatefulPartitionedCall/model/ADVANCED_SPEC1/stft/frame/strided_slice]\n",
      "StatefulPartitionedCall/model/ADVANCED_SPEC1/stft/frame/Reshape_4 (Reshape): [StatefulPartitionedCall/model/ADVANCED_SPEC1/stft/frame/GatherV2, StatefulPartitionedCall/model/ADVANCED_SPEC1/stft/frame/concat_2]\n",
      "StatefulPartitionedCall/model/ADVANCED_SPEC1/stft/mul (Mul): [StatefulPartitionedCall/model/ADVANCED_SPEC1/stft/frame/Reshape_4, StatefulPartitionedCall/model/ADVANCED_SPEC1/stft/hann_window/sub_2]\n",
      "StatefulPartitionedCall/model/ADVANCED_SPEC1/stft/rfft (RFFT): [StatefulPartitionedCall/model/ADVANCED_SPEC1/stft/mul, StatefulPartitionedCall/model/ADVANCED_SPEC1/stft/rfft/fft_length]\n",
      "StatefulPartitionedCall/model/ADVANCED_SPEC1/Cast (Cast): [StatefulPartitionedCall/model/ADVANCED_SPEC1/stft/rfft]\n",
      "StatefulPartitionedCall/model/ADVANCED_SPEC1/strided_slice (StridedSlice): [StatefulPartitionedCall/model/ADVANCED_SPEC1/Cast, StatefulPartitionedCall/model/ADVANCED_SPEC1/strided_slice/stack, StatefulPartitionedCall/model/ADVANCED_SPEC1/strided_slice/stack_1, StatefulPartitionedCall/model/ADVANCED_SPEC1/strided_slice/stack_2]\n",
      "StatefulPartitionedCall/model/ADVANCED_SPEC1/Pow (Pow): [StatefulPartitionedCall/model/ADVANCED_SPEC1/strided_slice, StatefulPartitionedCall/model/ADVANCED_SPEC1/Pow/y]\n",
      "StatefulPartitionedCall/model/ADVANCED_SPEC1/Pow_1 (Pow): [StatefulPartitionedCall/model/ADVANCED_SPEC1/Pow, StatefulPartitionedCall/model/ADVANCED_SPEC1/truediv_1]\n"
     ]
    }
   ],
   "source": [
    "! ~/tensorflow/bazel-bin/tensorflow/tools/graph_transforms/summarize_graph \\\n",
    "    --in_graph=../data/models/birdnet-frozen-v1/saved_model.pb \\\n",
    "    --print_structure=true | grep rfft -C 3"
   ]
  },
  {
   "attachments": {},
   "cell_type": "markdown",
   "metadata": {},
   "source": [
    "Layers with RFFT are in the ADVANCED_SPEC1 subgraph.\n",
    "Probably need to insert the ComplexAbs operation around here."
   ]
  },
  {
   "attachments": {},
   "cell_type": "markdown",
   "metadata": {},
   "source": [
    "## convert with with input signature?\n",
    "\n",
    "Not clear if this is a win at all\n",
    "\n",
    "- https://jimmy-shen.medium.com/how-to-freeze-graph-in-tensorflow-2-x-3a3238c70f19"
   ]
  },
  {
   "cell_type": "code",
   "execution_count": 5,
   "metadata": {},
   "outputs": [
    {
     "data": {
      "text/plain": [
       "(TensorSpec(shape=(None, 144000), dtype=tf.float32, name=None),)"
      ]
     },
     "execution_count": 5,
     "metadata": {},
     "output_type": "execute_result"
    }
   ],
   "source": [
    "m.basic.input_signature"
   ]
  },
  {
   "cell_type": "code",
   "execution_count": 16,
   "metadata": {},
   "outputs": [
    {
     "data": {
      "text/plain": [
       "((),\n",
       " {'inputs': TensorSpec(shape=(None, 144000), dtype=tf.float32, name='inputs')})"
      ]
     },
     "execution_count": 16,
     "metadata": {},
     "output_type": "execute_result"
    }
   ],
   "source": [
    "m.signatures[\"basic\"].structured_input_signature"
   ]
  },
  {
   "cell_type": "code",
   "execution_count": 20,
   "metadata": {},
   "outputs": [
    {
     "name": "stderr",
     "output_type": "stream",
     "text": [
      "2023-02-26 04:31:29.781665: I tensorflow/core/grappler/devices.cc:66] Number of eligible GPUs (core count >= 8, compute capability >= 0.0): 0\n",
      "2023-02-26 04:31:29.781814: I tensorflow/core/grappler/clusters/single_machine.cc:358] Starting new session\n"
     ]
    },
    {
     "data": {
      "text/plain": [
       "'../data/models/birdnet-frozen-v2/saved_model.pb'"
      ]
     },
     "execution_count": 20,
     "metadata": {},
     "output_type": "execute_result"
    }
   ],
   "source": [
    "full_model = tf.function(lambda x: m.signatures[\"basic\"](inputs=x))\n",
    "full_model = full_model.get_concrete_function(m.basic.input_signature[0])\n",
    "frozen_func = convert_variables_to_constants_v2(full_model)\n",
    "tf.io.write_graph(\n",
    "    graph_or_graph_def=frozen_func.graph,\n",
    "    logdir=\"../data/models/birdnet-frozen-v2/\",\n",
    "    name=\"saved_model.pb\",\n",
    "    as_text=False,\n",
    ")"
   ]
  },
  {
   "attachments": {},
   "cell_type": "markdown",
   "metadata": {},
   "source": [
    "Summarize"
   ]
  },
  {
   "cell_type": "code",
   "execution_count": 23,
   "metadata": {},
   "outputs": [
    {
     "name": "stdout",
     "output_type": "stream",
     "text": [
      "2023-02-26 04:32:44.305904: I tensorflow/core/util/port.cc:104] oneDNN custom operations are on. You may see slightly different numerical results due to floating-point round-off errors from different computation orders. To turn them off, set the environment variable `TF_ENABLE_ONEDNN_OPTS=0`.\n",
      "StatefulPartitionedCall/StatefulPartitionedCall/model/POST_BN_1/FusedBatchNormV3 (FusedBatchNormV3): [StatefulPartitionedCall/StatefulPartitionedCall/model/POST_CONV_1/Conv2D, StatefulPartitionedCall/StatefulPartitionedCall/model/POST_BN_1/ReadVariableOp, StatefulPartitionedCall/StatefulPartitionedCall/model/POST_BN_1/ReadVariableOp_1, StatefulPartitionedCall/StatefulPartitionedCall/model/POST_BN_1/FusedBatchNormV3/ReadVariableOp, StatefulPartitionedCall/StatefulPartitionedCall/model/POST_BN_1/FusedBatchNormV3/ReadVariableOp_1]\n",
      "StatefulPartitionedCall/StatefulPartitionedCall/model/POST_ACT_1/Relu (Relu): [StatefulPartitionedCall/StatefulPartitionedCall/model/POST_BN_1/FusedBatchNormV3]\n",
      "StatefulPartitionedCall/StatefulPartitionedCall/model/GLOBAL_AVG_POOL/Mean (Mean): [StatefulPartitionedCall/StatefulPartitionedCall/model/POST_ACT_1/Relu, StatefulPartitionedCall/StatefulPartitionedCall/model/GLOBAL_AVG_POOL/Mean/reduction_indices]\n",
      "StatefulPartitionedCall/StatefulPartitionedCall/model/CLASS_DENSE_1/MatMul (MatMul): [StatefulPartitionedCall/StatefulPartitionedCall/model/GLOBAL_AVG_POOL/Mean, StatefulPartitionedCall/StatefulPartitionedCall/model/CLASS_DENSE_1/MatMul/ReadVariableOp]\n",
      "StatefulPartitionedCall/StatefulPartitionedCall/model/CLASS_DENSE_1/BiasAdd (Add): [StatefulPartitionedCall/StatefulPartitionedCall/model/CLASS_DENSE_1/MatMul, StatefulPartitionedCall/StatefulPartitionedCall/model/CLASS_DENSE_1/BiasAdd/ReadVariableOp]\n",
      "StatefulPartitionedCall/StatefulPartitionedCall/Identity (Identity): [StatefulPartitionedCall/StatefulPartitionedCall/model/CLASS_DENSE_1/BiasAdd, ^StatefulPartitionedCall/StatefulPartitionedCall/model/ADVANCED_SPEC1/Exp/ReadVariableOp, ^StatefulPartitionedCall/StatefulPartitionedCall/model/BLOCK_1-1_BN_1/FusedBatchNormV3/ReadVariableOp, ^StatefulPartitionedCall/StatefulPartitionedCall/model/BLOCK_1-1_BN_1/FusedBatchNormV3/ReadVariableOp_1, ^StatefulPartitionedCall/StatefulPartitionedCall/model/BLOCK_1-1_BN_1/ReadVariableOp, ^StatefulPartitionedCall/StatefulPartitionedCall/model/BLOCK_1-1_BN_1/ReadVariableOp_1, ^StatefulPartitionedCall/StatefulPartitionedCall/model/BLOCK_1-1_BN_3/FusedBatchNormV3/ReadVariableOp, ^StatefulPartitionedCall/StatefulPartitionedCall/model/BLOCK_1-1_BN_3/FusedBatchNormV3/ReadVariableOp_1, ^StatefulPartitionedCall/StatefulPartitionedCall/model/BLOCK_1-1_BN_3/ReadVariableOp, ^StatefulPartitionedCall/StatefulPartitionedCall/model/BLOCK_1-1_BN_3/ReadVariableOp_1, ^StatefulPartitionedCall/StatefulPartitionedCall/model/BLOCK_1-1_CONV_1/Conv2D/ReadVariableOp, ^StatefulPartitionedCall/StatefulPartitionedCall/model/BLOCK_1-1_CONV_3/Conv2D/ReadVariableOp, ^StatefulPartitionedCall/StatefulPartitionedCall/model/BLOCK_1-2_BN_1/FusedBatchNormV3/ReadVariableOp, ^StatefulPartitionedCall/StatefulPartitionedCall/model/BLOCK_1-2_BN_1/FusedBatchNormV3/ReadVariableOp_1, ^StatefulPartitionedCall/StatefulPartitionedCall/model/BLOCK_1-2_BN_1/ReadVariableOp, ^StatefulPartitionedCall/StatefulPartitionedCall/model/BLOCK_1-2_BN_1/ReadVariableOp_1, ^StatefulPartitionedCall/StatefulPartitionedCall/model/BLOCK_1-2_BN_3/FusedBatchNormV3/ReadVariableOp, ^StatefulPartitionedCall/StatefulPartitionedCall/model/BLOCK_1-2_BN_3/FusedBatchNormV3/ReadVariableOp_1, ^StatefulPartitionedCall/StatefulPartitionedCall/model/BLOCK_1-2_BN_3/ReadVariableOp, ^StatefulPartitionedCall/StatefulPartitionedCall/model/BLOCK_1-2_BN_3/ReadVariableOp_1, ^StatefulPartitionedCall/StatefulPartitionedCall/model/BLOCK_1-2_CONV_1/Conv2D/ReadVariableOp, ^StatefulPartitionedCall/StatefulPartitionedCall/model/BLOCK_1-2_CONV_3/Conv2D/ReadVariableOp, ^StatefulPartitionedCall/StatefulPartitionedCall/model/BLOCK_1-3_BN_1/FusedBatchNormV3/ReadVariableOp, ^StatefulPartitionedCall/StatefulPartitionedCall/model/BLOCK_1-3_BN_1/FusedBatchNormV3/ReadVariableOp_1, ^StatefulPartitionedCall/StatefulPartitionedCall/model/BLOCK_1-3_BN_1/ReadVariableOp, ^StatefulPartitionedCall/StatefulPartitionedCall/model/BLOCK_1-3_BN_1/ReadVariableOp_1, ^StatefulPartitionedCall/StatefulPartitionedCall/model/BLOCK_1-3_BN_3/FusedBatchNormV3/ReadVariableOp, ^StatefulPartitionedCall/StatefulPartitionedCall/model/BLOCK_1-3_BN_3/FusedBatchNormV3/ReadVariableOp_1, ^StatefulPartitionedCall/StatefulPartitionedCall/model/BLOCK_1-3_BN_3/ReadVariableOp, ^StatefulPartitionedCall/StatefulPartitionedCall/model/BLOCK_1-3_BN_3/ReadVariableOp_1, ^StatefulPartitionedCall/StatefulPartitionedCall/model/BLOCK_1-3_CONV_1/Conv2D/ReadVariableOp, ^StatefulPartitionedCall/StatefulPartitionedCall/model/BLOCK_1-3_CONV_3/Conv2D/ReadVariableOp, ^StatefulPartitionedCall/StatefulPartitionedCall/model/BLOCK_2-1_BN_1/FusedBatchNormV3/ReadVariableOp, ^StatefulPartitionedCall/StatefulPartitionedCall/model/BLOCK_2-1_BN_1/FusedBatchNormV3/ReadVariableOp_1, ^StatefulPartitionedCall/StatefulPartitionedCall/model/BLOCK_2-1_BN_1/ReadVariableOp, ^StatefulPartitionedCall/StatefulPartitionedCall/model/BLOCK_2-1_BN_1/ReadVariableOp_1, ^StatefulPartitionedCall/StatefulPartitionedCall/model/BLOCK_2-1_BN_3/FusedBatchNormV3/ReadVariableOp, ^StatefulPartitionedCall/StatefulPartitionedCall/model/BLOCK_2-1_BN_3/FusedBatchNormV3/ReadVariableOp_1, ^StatefulPartitionedCall/StatefulPartitionedCall/model/BLOCK_2-1_BN_3/ReadVariableOp, ^StatefulPartitionedCall/StatefulPartitionedCall/model/BLOCK_2-1_BN_3/ReadVariableOp_1, ^StatefulPartitionedCall/StatefulPartitionedCall/model/BLOCK_2-1_CONV_1/Conv2D/ReadVariableOp, ^StatefulPartitionedCall/StatefulPartitionedCall/model/BLOCK_2-1_CONV_3/Conv2D/ReadVariableOp, ^StatefulPartitionedCall/StatefulPartitionedCall/model/BLOCK_2-2_BN_1/FusedBatchNormV3/ReadVariableOp, ^StatefulPartitionedCall/StatefulPartitionedCall/model/BLOCK_2-2_BN_1/FusedBatchNormV3/ReadVariableOp_1, ^StatefulPartitionedCall/StatefulPartitionedCall/model/BLOCK_2-2_BN_1/ReadVariableOp, ^StatefulPartitionedCall/StatefulPartitionedCall/model/BLOCK_2-2_BN_1/ReadVariableOp_1, ^StatefulPartitionedCall/StatefulPartitionedCall/model/BLOCK_2-2_BN_3/FusedBatchNormV3/ReadVariableOp, ^StatefulPartitionedCall/StatefulPartitionedCall/model/BLOCK_2-2_BN_3/FusedBatchNormV3/ReadVariableOp_1, ^StatefulPartitionedCall/StatefulPartitionedCall/model/BLOCK_2-2_BN_3/ReadVariableOp, ^StatefulPartitionedCall/StatefulPartitionedCall/model/BLOCK_2-2_BN_3/ReadVariableOp_1, ^StatefulPartitionedCall/StatefulPartitionedCall/model/BLOCK_2-2_CONV_1/Conv2D/ReadVariableOp, ^StatefulPartitionedCall/StatefulPartitionedCall/model/BLOCK_2-2_CONV_3/Conv2D/ReadVariableOp, ^StatefulPartitionedCall/StatefulPartitionedCall/model/BLOCK_2-3_BN_1/FusedBatchNormV3/ReadVariableOp, ^StatefulPartitionedCall/StatefulPartitionedCall/model/BLOCK_2-3_BN_1/FusedBatchNormV3/ReadVariableOp_1, ^StatefulPartitionedCall/StatefulPartitionedCall/model/BLOCK_2-3_BN_1/ReadVariableOp, ^StatefulPartitionedCall/StatefulPartitionedCall/model/BLOCK_2-3_BN_1/ReadVariableOp_1, ^StatefulPartitionedCall/StatefulPartitionedCall/model/BLOCK_2-3_BN_3/FusedBatchNormV3/ReadVariableOp, ^StatefulPartitionedCall/StatefulPartitionedCall/model/BLOCK_2-3_BN_3/FusedBatchNormV3/ReadVariableOp_1, ^StatefulPartitionedCall/StatefulPartitionedCall/model/BLOCK_2-3_BN_3/ReadVariableOp, ^StatefulPartitionedCall/StatefulPartitionedCall/model/BLOCK_2-3_BN_3/ReadVariableOp_1, ^StatefulPartitionedCall/StatefulPartitionedCall/model/BLOCK_2-3_CONV_1/Conv2D/ReadVariableOp, ^StatefulPartitionedCall/StatefulPartitionedCall/model/BLOCK_2-3_CONV_3/Conv2D/ReadVariableOp, ^StatefulPartitionedCall/StatefulPartitionedCall/model/BLOCK_2-4_BN_1/FusedBatchNormV3/ReadVariableOp, ^StatefulPartitionedCall/StatefulPartitionedCall/model/BLOCK_2-4_BN_1/FusedBatchNormV3/ReadVariableOp_1, ^StatefulPartitionedCall/StatefulPartitionedCall/model/BLOCK_2-4_BN_1/ReadVariableOp, ^StatefulPartitionedCall/StatefulPartitionedCall/model/BLOCK_2-4_BN_1/ReadVariableOp_1, ^StatefulPartitionedCall/StatefulPartitionedCall/model/BLOCK_2-4_BN_3/FusedBatchNormV3/ReadVariableOp, ^StatefulPartitionedCall/StatefulPartitionedCall/model/BLOCK_2-4_BN_3/FusedBatchNormV3/ReadVariableOp_1, ^StatefulPartitionedCall/StatefulPartitionedCall/model/BLOCK_2-4_BN_3/ReadVariableOp, ^StatefulPartitionedCall/StatefulPartitionedCall/model/BLOCK_2-4_BN_3/ReadVariableOp_1, ^StatefulPartitionedCall/StatefulPartitionedCall/model/BLOCK_2-4_CONV_1/Conv2D/ReadVariableOp, ^StatefulPartitionedCall/StatefulPartitionedCall/model/BLOCK_2-4_CONV_3/Conv2D/ReadVariableOp, ^StatefulPartitionedCall/StatefulPartitionedCall/model/BLOCK_3-1_BN_1/FusedBatchNormV3/ReadVariableOp, ^StatefulPartitionedCall/StatefulPartitionedCall/model/BLOCK_3-1_BN_1/FusedBatchNormV3/ReadVariableOp_1, ^StatefulPartitionedCall/StatefulPartitionedCall/model/BLOCK_3-1_BN_1/ReadVariableOp, ^StatefulPartitionedCall/StatefulPartitionedCall/model/BLOCK_3-1_BN_1/ReadVariableOp_1, ^StatefulPartitionedCall/StatefulPartitionedCall/model/BLOCK_3-1_BN_2_NOQUANT/FusedBatchNormV3/ReadVariableOp, ^StatefulPartitionedCall/StatefulPartitionedCall/model/BLOCK_3-1_BN_2_NOQUANT/FusedBatchNormV3/ReadVariableOp_1, ^StatefulPartitionedCall/StatefulPartitionedCall/model/BLOCK_3-1_BN_2_NOQUANT/ReadVariableOp, ^StatefulPartitionedCall/StatefulPartitionedCall/model/BLOCK_3-1_BN_2_NOQUANT/ReadVariableOp_1, ^StatefulPartitionedCall/StatefulPartitionedCall/model/BLOCK_3-1_BN_3/FusedBatchNormV3/ReadVariableOp, ^StatefulPartitionedCall/StatefulPartitionedCall/model/BLOCK_3-1_BN_3/FusedBatchNormV3/ReadVariableOp_1, ^StatefulPartitionedCall/StatefulPartitionedCall/model/BLOCK_3-1_BN_3/ReadVariableOp, ^StatefulPartitionedCall/StatefulPartitionedCall/model/BLOCK_3-1_BN_3/ReadVariableOp_1, ^StatefulPartitionedCall/StatefulPartitionedCall/model/BLOCK_3-1_CONV_1/Conv2D/ReadVariableOp, ^StatefulPartitionedCall/StatefulPartitionedCall/model/BLOCK_3-1_CONV_2/depthwise/ReadVariableOp, ^StatefulPartitionedCall/StatefulPartitionedCall/model/BLOCK_3-1_CONV_3/Conv2D/ReadVariableOp, ^StatefulPartitionedCall/StatefulPartitionedCall/model/BLOCK_3-1_SE_CONV_1/Conv2D/ReadVariableOp, ^StatefulPartitionedCall/StatefulPartitionedCall/model/BLOCK_3-1_SE_CONV_2/Conv2D/ReadVariableOp, ^StatefulPartitionedCall/StatefulPartitionedCall/model/BLOCK_3-2_BN_1/FusedBatchNormV3/ReadVariableOp, ^StatefulPartitionedCall/StatefulPartitionedCall/model/BLOCK_3-2_BN_1/FusedBatchNormV3/ReadVariableOp_1, ^StatefulPartitionedCall/StatefulPartitionedCall/model/BLOCK_3-2_BN_1/ReadVariableOp, ^StatefulPartitionedCall/StatefulPartitionedCall/model/BLOCK_3-2_BN_1/ReadVariableOp_1, ^StatefulPartitionedCall/StatefulPartitionedCall/model/BLOCK_3-2_BN_2_NOQUANT/FusedBatchNormV3/ReadVariableOp, ^StatefulPartitionedCall/StatefulPartitionedCall/model/BLOCK_3-2_BN_2_NOQUANT/FusedBatchNormV3/ReadVariableOp_1, ^StatefulPartitionedCall/StatefulPartitionedCall/model/BLOCK_3-2_BN_2_NOQUANT/ReadVariableOp, ^StatefulPartitionedCall/StatefulPartitionedCall/model/BLOCK_3-2_BN_2_NOQUANT/ReadVariableOp_1, ^StatefulPartitionedCall/StatefulPartitionedCall/model/BLOCK_3-2_BN_3/FusedBatchNormV3/ReadVariableOp, ^StatefulPartitionedCall/StatefulPartitionedCall/model/BLOCK_3-2_BN_3/FusedBatchNormV3/ReadVariableOp_1, ^StatefulPartitionedCall/StatefulPartitionedCall/model/BLOCK_3-2_BN_3/ReadVariableOp, ^StatefulPartitionedCall/StatefulPartitionedCall/model/BLOCK_3-2_BN_3/ReadVariableOp_1, ^StatefulPartitionedCall/StatefulPartitionedCall/model/BLOCK_3-2_CONV_1/Conv2D/ReadVariableOp, ^StatefulPartitionedCall/StatefulPartitionedCall/model/BLOCK_3-2_CONV_2/depthwise/ReadVariableOp, ^StatefulPartitionedCall/StatefulPartitionedCall/model/BLOCK_3-2_CONV_3/Conv2D/ReadVariableOp, ^StatefulPartitionedCall/StatefulPartitionedCall/model/BLOCK_3-2_SE_CONV_1/Conv2D/ReadVariableOp, ^StatefulPartitionedCall/StatefulPartitionedCall/model/BLOCK_3-2_SE_CONV_2/Conv2D/ReadVariableOp, ^StatefulPartitionedCall/StatefulPartitionedCall/model/BLOCK_3-3_BN_1/FusedBatchNormV3/ReadVariableOp, ^StatefulPartitionedCall/StatefulPartitionedCall/model/BLOCK_3-3_BN_1/FusedBatchNormV3/ReadVariableOp_1, ^StatefulPartitionedCall/StatefulPartitionedCall/model/BLOCK_3-3_BN_1/ReadVariableOp, ^StatefulPartitionedCall/StatefulPartitionedCall/model/BLOCK_3-3_BN_1/ReadVariableOp_1, ^StatefulPartitionedCall/StatefulPartitionedCall/model/BLOCK_3-3_BN_2_NOQUANT/FusedBatchNormV3/ReadVariableOp, ^StatefulPartitionedCall/StatefulPartitionedCall/model/BLOCK_3-3_BN_2_NOQUANT/FusedBatchNormV3/ReadVariableOp_1, ^StatefulPartitionedCall/StatefulPartitionedCall/model/BLOCK_3-3_BN_2_NOQUANT/ReadVariableOp, ^StatefulPartitionedCall/StatefulPartitionedCall/model/BLOCK_3-3_BN_2_NOQUANT/ReadVariableOp_1, ^StatefulPartitionedCall/StatefulPartitionedCall/model/BLOCK_3-3_BN_3/FusedBatchNormV3/ReadVariableOp, ^StatefulPartitionedCall/StatefulPartitionedCall/model/BLOCK_3-3_BN_3/FusedBatchNormV3/ReadVariableOp_1, ^StatefulPartitionedCall/StatefulPartitionedCall/model/BLOCK_3-3_BN_3/ReadVariableOp, ^StatefulPartitionedCall/StatefulPartitionedCall/model/BLOCK_3-3_BN_3/ReadVariableOp_1, ^StatefulPartitionedCall/StatefulPartitionedCall/model/BLOCK_3-3_CONV_1/Conv2D/ReadVariableOp, ^StatefulPartitionedCall/StatefulPartitionedCall/model/BLOCK_3-3_CONV_2/depthwise/ReadVariableOp, ^StatefulPartitionedCall/StatefulPartitionedCall/model/BLOCK_3-3_CONV_3/Conv2D/ReadVariableOp, ^StatefulPartitionedCall/StatefulPartitionedCall/model/BLOCK_3-3_SE_CONV_1/Conv2D/ReadVariableOp, ^StatefulPartitionedCall/StatefulPartitionedCall/model/BLOCK_3-3_SE_CONV_2/Conv2D/ReadVariableOp, ^StatefulPartitionedCall/StatefulPartitionedCall/model/BLOCK_3-4_BN_1/FusedBatchNormV3/ReadVariableOp, ^StatefulPartitionedCall/StatefulPartitionedCall/model/BLOCK_3-4_BN_1/FusedBatchNormV3/ReadVariableOp_1, ^StatefulPartitionedCall/StatefulPartitionedCall/model/BLOCK_3-4_BN_1/ReadVariableOp, ^StatefulPartitionedCall/StatefulPartitionedCall/model/BLOCK_3-4_BN_1/ReadVariableOp_1, ^StatefulPartitionedCall/StatefulPartitionedCall/model/BLOCK_3-4_BN_2_NOQUANT/FusedBatchNormV3/ReadVariableOp, ^StatefulPartitionedCall/StatefulPartitionedCall/model/BLOCK_3-4_BN_2_NOQUANT/FusedBatchNormV3/ReadVariableOp_1, ^StatefulPartitionedCall/StatefulPartitionedCall/model/BLOCK_3-4_BN_2_NOQUANT/ReadVariableOp, ^StatefulPartitionedCall/StatefulPartitionedCall/model/BLOCK_3-4_BN_2_NOQUANT/ReadVariableOp_1, ^StatefulPartitionedCall/StatefulPartitionedCall/model/BLOCK_3-4_BN_3/FusedBatchNormV3/ReadVariableOp, ^StatefulPartitionedCall/StatefulPartitionedCall/model/BLOCK_3-4_BN_3/FusedBatchNormV3/ReadVariableOp_1, ^StatefulPartitionedCall/StatefulPartitionedCall/model/BLOCK_3-4_BN_3/ReadVariableOp, ^StatefulPartitionedCall/StatefulPartitionedCall/model/BLOCK_3-4_BN_3/ReadVariableOp_1, ^StatefulPartitionedCall/StatefulPartitionedCall/model/BLOCK_3-4_CONV_1/Conv2D/ReadVariableOp, ^StatefulPartitionedCall/StatefulPartitionedCall/model/BLOCK_3-4_CONV_2/depthwise/ReadVariableOp, ^StatefulPartitionedCall/StatefulPartitionedCall/model/BLOCK_3-4_CONV_3/Conv2D/ReadVariableOp, ^StatefulPartitionedCall/StatefulPartitionedCall/model/BLOCK_3-4_SE_CONV_1/Conv2D/ReadVariableOp, ^StatefulPartitionedCall/StatefulPartitionedCall/model/BLOCK_3-4_SE_CONV_2/Conv2D/ReadVariableOp, ^StatefulPartitionedCall/StatefulPartitionedCall/model/BLOCK_3-5_BN_1/FusedBatchNormV3/ReadVariableOp, ^StatefulPartitionedCall/StatefulPartitionedCall/model/BLOCK_3-5_BN_1/FusedBatchNormV3/ReadVariableOp_1, ^StatefulPartitionedCall/StatefulPartitionedCall/model/BLOCK_3-5_BN_1/ReadVariableOp, ^StatefulPartitionedCall/StatefulPartitionedCall/model/BLOCK_3-5_BN_1/ReadVariableOp_1, ^StatefulPartitionedCall/StatefulPartitionedCall/model/BLOCK_3-5_BN_2_NOQUANT/FusedBatchNormV3/ReadVariableOp, ^StatefulPartitionedCall/StatefulPartitionedCall/model/BLOCK_3-5_BN_2_NOQUANT/FusedBatchNormV3/ReadVariableOp_1, ^StatefulPartitionedCall/StatefulPartitionedCall/model/BLOCK_3-5_BN_2_NOQUANT/ReadVariableOp, ^StatefulPartitionedCall/StatefulPartitionedCall/model/BLOCK_3-5_BN_2_NOQUANT/ReadVariableOp_1, ^StatefulPartitionedCall/StatefulPartitionedCall/model/BLOCK_3-5_BN_3/FusedBatchNormV3/ReadVariableOp, ^StatefulPartitionedCall/StatefulPartitionedCall/model/BLOCK_3-5_BN_3/FusedBatchNormV3/ReadVariableOp_1, ^StatefulPartitionedCall/StatefulPartitionedCall/model/BLOCK_3-5_BN_3/ReadVariableOp, ^StatefulPartitionedCall/StatefulPartitionedCall/model/BLOCK_3-5_BN_3/ReadVariableOp_1, ^StatefulPartitionedCall/StatefulPartitionedCall/model/BLOCK_3-5_CONV_1/Conv2D/ReadVariableOp, ^StatefulPartitionedCall/StatefulPartitionedCall/model/BLOCK_3-5_CONV_2/depthwise/ReadVariableOp, ^StatefulPartitionedCall/StatefulPartitionedCall/model/BLOCK_3-5_CONV_3/Conv2D/ReadVariableOp, ^StatefulPartitionedCall/StatefulPartitionedCall/model/BLOCK_3-5_SE_CONV_1/Conv2D/ReadVariableOp, ^StatefulPartitionedCall/StatefulPartitionedCall/model/BLOCK_3-5_SE_CONV_2/Conv2D/ReadVariableOp, ^StatefulPartitionedCall/StatefulPartitionedCall/model/BLOCK_4-1_BN_1/FusedBatchNormV3/ReadVariableOp, ^StatefulPartitionedCall/StatefulPartitionedCall/model/BLOCK_4-1_BN_1/FusedBatchNormV3/ReadVariableOp_1, ^StatefulPartitionedCall/StatefulPartitionedCall/model/BLOCK_4-1_BN_1/ReadVariableOp, ^StatefulPartitionedCall/StatefulPartitionedCall/model/BLOCK_4-1_BN_1/ReadVariableOp_1, ^StatefulPartitionedCall/StatefulPartitionedCall/model/BLOCK_4-1_BN_2_NOQUANT/FusedBatchNormV3/ReadVariableOp, ^StatefulPartitionedCall/StatefulPartitionedCall/model/BLOCK_4-1_BN_2_NOQUANT/FusedBatchNormV3/ReadVariableOp_1, ^StatefulPartitionedCall/StatefulPartitionedCall/model/BLOCK_4-1_BN_2_NOQUANT/ReadVariableOp, ^StatefulPartitionedCall/StatefulPartitionedCall/model/BLOCK_4-1_BN_2_NOQUANT/ReadVariableOp_1, ^StatefulPartitionedCall/StatefulPartitionedCall/model/BLOCK_4-1_BN_3/FusedBatchNormV3/ReadVariableOp, ^StatefulPartitionedCall/StatefulPartitionedCall/model/BLOCK_4-1_BN_3/FusedBatchNormV3/ReadVariableOp_1, ^StatefulPartitionedCall/StatefulPartitionedCall/model/BLOCK_4-1_BN_3/ReadVariableOp, ^StatefulPartitionedCall/StatefulPartitionedCall/model/BLOCK_4-1_BN_3/ReadVariableOp_1, ^StatefulPartitionedCall/StatefulPartitionedCall/model/BLOCK_4-1_CONV_1/Conv2D/ReadVariableOp, ^StatefulPartitionedCall/StatefulPartitionedCall/model/BLOCK_4-1_CONV_2/depthwise/ReadVariableOp, ^StatefulPartitionedCall/StatefulPartitionedCall/model/BLOCK_4-1_CONV_3/Conv2D/ReadVariableOp, ^StatefulPartitionedCall/StatefulPartitionedCall/model/BLOCK_4-1_SE_CONV_1/Conv2D/ReadVariableOp, ^StatefulPartitionedCall/StatefulPartitionedCall/model/BLOCK_4-1_SE_CONV_2/Conv2D/ReadVariableOp, ^StatefulPartitionedCall/StatefulPartitionedCall/model/BLOCK_4-2_BN_1/FusedBatchNormV3/ReadVariableOp, ^StatefulPartitionedCall/StatefulPartitionedCall/model/BLOCK_4-2_BN_1/FusedBatchNormV3/ReadVariableOp_1, ^StatefulPartitionedCall/StatefulPartitionedCall/model/BLOCK_4-2_BN_1/ReadVariableOp, ^StatefulPartitionedCall/StatefulPartitionedCall/model/BLOCK_4-2_BN_1/ReadVariableOp_1, ^StatefulPartitionedCall/StatefulPartitionedCall/model/BLOCK_4-2_BN_2_NOQUANT/FusedBatchNormV3/ReadVariableOp, ^StatefulPartitionedCall/StatefulPartitionedCall/model/BLOCK_4-2_BN_2_NOQUANT/FusedBatchNormV3/ReadVariableOp_1, ^StatefulPartitionedCall/StatefulPartitionedCall/model/BLOCK_4-2_BN_2_NOQUANT/ReadVariableOp, ^StatefulPartitionedCall/StatefulPartitionedCall/model/BLOCK_4-2_BN_2_NOQUANT/ReadVariableOp_1, ^StatefulPartitionedCall/StatefulPartitionedCall/model/BLOCK_4-2_BN_3/FusedBatchNormV3/ReadVariableOp, ^StatefulPartitionedCall/StatefulPartitionedCall/model/BLOCK_4-2_BN_3/FusedBatchNormV3/ReadVariableOp_1, ^StatefulPartitionedCall/StatefulPartitionedCall/model/BLOCK_4-2_BN_3/ReadVariableOp, ^StatefulPartitionedCall/StatefulPartitionedCall/model/BLOCK_4-2_BN_3/ReadVariableOp_1, ^StatefulPartitionedCall/StatefulPartitionedCall/model/BLOCK_4-2_CONV_1/Conv2D/ReadVariableOp, ^StatefulPartitionedCall/StatefulPartitionedCall/model/BLOCK_4-2_CONV_2/depthwise/ReadVariableOp, ^StatefulPartitionedCall/StatefulPartitionedCall/model/BLOCK_4-2_CONV_3/Conv2D/ReadVariableOp, ^StatefulPartitionedCall/StatefulPartitionedCall/model/BLOCK_4-2_SE_CONV_1/Conv2D/ReadVariableOp, ^StatefulPartitionedCall/StatefulPartitionedCall/model/BLOCK_4-2_SE_CONV_2/Conv2D/ReadVariableOp, ^StatefulPartitionedCall/StatefulPartitionedCall/model/BLOCK_4-3_BN_1/FusedBatchNormV3/ReadVariableOp, ^StatefulPartitionedCall/StatefulPartitionedCall/model/BLOCK_4-3_BN_1/FusedBatchNormV3/ReadVariableOp_1, ^StatefulPartitionedCall/StatefulPartitionedCall/model/BLOCK_4-3_BN_1/ReadVariableOp, ^StatefulPartitionedCall/StatefulPartitionedCall/model/BLOCK_4-3_BN_1/ReadVariableOp_1, ^StatefulPartitionedCall/StatefulPartitionedCall/model/BLOCK_4-3_BN_2_NOQUANT/FusedBatchNormV3/ReadVariableOp, ^StatefulPartitionedCall/StatefulPartitionedCall/model/BLOCK_4-3_BN_2_NOQUANT/FusedBatchNormV3/ReadVariableOp_1, ^StatefulPartitionedCall/StatefulPartitionedCall/model/BLOCK_4-3_BN_2_NOQUANT/ReadVariableOp, ^StatefulPartitionedCall/StatefulPartitionedCall/model/BLOCK_4-3_BN_2_NOQUANT/ReadVariableOp_1, ^StatefulPartitionedCall/StatefulPartitionedCall/model/BLOCK_4-3_BN_3/FusedBatchNormV3/ReadVariableOp, ^StatefulPartitionedCall/StatefulPartitionedCall/model/BLOCK_4-3_BN_3/FusedBatchNormV3/ReadVariableOp_1, ^StatefulPartitionedCall/StatefulPartitionedCall/model/BLOCK_4-3_BN_3/ReadVariableOp, ^StatefulPartitionedCall/StatefulPartitionedCall/model/BLOCK_4-3_BN_3/ReadVariableOp_1, ^StatefulPartitionedCall/StatefulPartitionedCall/model/BLOCK_4-3_CONV_1/Conv2D/ReadVariableOp, ^StatefulPartitionedCall/StatefulPartitionedCall/model/BLOCK_4-3_CONV_2/depthwise/ReadVariableOp, ^StatefulPartitionedCall/StatefulPartitionedCall/model/BLOCK_4-3_CONV_3/Conv2D/ReadVariableOp, ^StatefulPartitionedCall/StatefulPartitionedCall/model/BLOCK_4-3_SE_CONV_1/Conv2D/ReadVariableOp, ^StatefulPartitionedCall/StatefulPartitionedCall/model/BLOCK_4-3_SE_CONV_2/Conv2D/ReadVariableOp, ^StatefulPartitionedCall/StatefulPartitionedCall/model/BLOCK_4-4_BN_1/FusedBatchNormV3/ReadVariableOp, ^StatefulPartitionedCall/StatefulPartitionedCall/model/BLOCK_4-4_BN_1/FusedBatchNormV3/ReadVariableOp_1, ^StatefulPartitionedCall/StatefulPartitionedCall/model/BLOCK_4-4_BN_1/ReadVariableOp, ^StatefulPartitionedCall/StatefulPartitionedCall/model/BLOCK_4-4_BN_1/ReadVariableOp_1, ^StatefulPartitionedCall/StatefulPartitionedCall/model/BLOCK_4-4_BN_2_NOQUANT/FusedBatchNormV3/ReadVariableOp, ^StatefulPartitionedCall/StatefulPartitionedCall/model/BLOCK_4-4_BN_2_NOQUANT/FusedBatchNormV3/ReadVariableOp_1, ^StatefulPartitionedCall/StatefulPartitionedCall/model/BLOCK_4-4_BN_2_NOQUANT/ReadVariableOp, ^StatefulPartitionedCall/StatefulPartitionedCall/model/BLOCK_4-4_BN_2_NOQUANT/ReadVariableOp_1, ^StatefulPartitionedCall/StatefulPartitionedCall/model/BLOCK_4-4_BN_3/FusedBatchNormV3/ReadVariableOp, ^StatefulPartitionedCall/StatefulPartitionedCall/model/BLOCK_4-4_BN_3/FusedBatchNormV3/ReadVariableOp_1, ^StatefulPartitionedCall/StatefulPartitionedCall/model/BLOCK_4-4_BN_3/ReadVariableOp, ^StatefulPartitionedCall/StatefulPartitionedCall/model/BLOCK_4-4_BN_3/ReadVariableOp_1, ^StatefulPartitionedCall/StatefulPartitionedCall/model/BLOCK_4-4_CONV_1/Conv2D/ReadVariableOp, ^StatefulPartitionedCall/StatefulPartitionedCall/model/BLOCK_4-4_CONV_2/depthwise/ReadVariableOp, ^StatefulPartitionedCall/StatefulPartitionedCall/model/BLOCK_4-4_CONV_3/Conv2D/ReadVariableOp, ^StatefulPartitionedCall/StatefulPartitionedCall/model/BLOCK_4-4_SE_CONV_1/Conv2D/ReadVariableOp, ^StatefulPartitionedCall/StatefulPartitionedCall/model/BLOCK_4-4_SE_CONV_2/Conv2D/ReadVariableOp, ^StatefulPartitionedCall/StatefulPartitionedCall/model/BNORM_0/FusedBatchNormV3/ReadVariableOp, ^StatefulPartitionedCall/StatefulPartitionedCall/model/BNORM_0/FusedBatchNormV3/ReadVariableOp_1, ^StatefulPartitionedCall/StatefulPartitionedCall/model/BNORM_0/ReadVariableOp, ^StatefulPartitionedCall/StatefulPartitionedCall/model/BNORM_0/ReadVariableOp_1, ^StatefulPartitionedCall/StatefulPartitionedCall/model/BNORM_POST_NOQUANT/FusedBatchNormV3/ReadVariableOp, ^StatefulPartitionedCall/StatefulPartitionedCall/model/BNORM_POST_NOQUANT/FusedBatchNormV3/ReadVariableOp_1, ^StatefulPartitionedCall/StatefulPartitionedCall/model/BNORM_POST_NOQUANT/ReadVariableOp, ^StatefulPartitionedCall/StatefulPartitionedCall/model/BNORM_POST_NOQUANT/ReadVariableOp_1, ^StatefulPartitionedCall/StatefulPartitionedCall/model/BNORM_SPEC_NOQUANT/FusedBatchNormV3/ReadVariableOp, ^StatefulPartitionedCall/StatefulPartitionedCall/model/BNORM_SPEC_NOQUANT/FusedBatchNormV3/ReadVariableOp_1, ^StatefulPartitionedCall/StatefulPartitionedCall/model/BNORM_SPEC_NOQUANT/ReadVariableOp, ^StatefulPartitionedCall/StatefulPartitionedCall/model/BNORM_SPEC_NOQUANT/ReadVariableOp_1, ^StatefulPartitionedCall/StatefulPartitionedCall/model/CLASS_DENSE_1/BiasAdd/ReadVariableOp, ^StatefulPartitionedCall/StatefulPartitionedCall/model/CLASS_DENSE_1/MatMul/ReadVariableOp, ^StatefulPartitionedCall/StatefulPartitionedCall/model/CONV_0/Conv2D/ReadVariableOp, ^StatefulPartitionedCall/StatefulPartitionedCall/model/POST_BN_1/FusedBatchNormV3/ReadVariableOp, ^StatefulPartitionedCall/StatefulPartitionedCall/model/POST_BN_1/FusedBatchNormV3/ReadVariableOp_1, ^StatefulPartitionedCall/StatefulPartitionedCall/model/POST_BN_1/ReadVariableOp, ^StatefulPartitionedCall/StatefulPartitionedCall/model/POST_BN_1/ReadVariableOp_1, ^StatefulPartitionedCall/StatefulPartitionedCall/model/POST_CONV_1/Conv2D/ReadVariableOp, ^StatefulPartitionedCall/StatefulPartitionedCall/model/pool_0_CONV/BiasAdd/ReadVariableOp, ^StatefulPartitionedCall/StatefulPartitionedCall/model/pool_0_CONV/Conv2D/ReadVariableOp]\n",
      "Func/StatefulPartitionedCall/StatefulPartitionedCall/output/_497 (Identity): [StatefulPartitionedCall/StatefulPartitionedCall/Identity]\n",
      "StatefulPartitionedCall/Identity (Identity): [Func/StatefulPartitionedCall/StatefulPartitionedCall/output/_497, ^Func/StatefulPartitionedCall/StatefulPartitionedCall/output_control_node/_498]\n",
      "Func/StatefulPartitionedCall/output/_247 (Identity): [StatefulPartitionedCall/Identity]\n",
      "Identity (Identity): [Func/StatefulPartitionedCall/output/_247, ^NoOp]\n"
     ]
    }
   ],
   "source": [
    "! ~/tensorflow/bazel-bin/tensorflow/tools/graph_transforms/summarize_graph \\\n",
    "    --in_graph=../data/models/birdnet-frozen-v2/saved_model.pb \\\n",
    "    --print_structure=true | tail -n10"
   ]
  },
  {
   "attachments": {},
   "cell_type": "markdown",
   "metadata": {},
   "source": [
    "## keras output"
   ]
  },
  {
   "cell_type": "code",
   "execution_count": null,
   "metadata": {},
   "outputs": [
    {
     "name": "stdout",
     "output_type": "stream",
     "text": [
      "WARNING:tensorflow:SavedModel saved prior to TF 2.5 detected when loading Keras model. Please ensure that you are saving the model with model.save() or tf.keras.models.save_model(), *NOT* tf.saved_model.save(). To confirm, there should be a file named \"keras_metadata.pb\" in the SavedModel directory.\n"
     ]
    },
    {
     "name": "stderr",
     "output_type": "stream",
     "text": [
      "WARNING:tensorflow:SavedModel saved prior to TF 2.5 detected when loading Keras model. Please ensure that you are saving the model with model.save() or tf.keras.models.save_model(), *NOT* tf.saved_model.save(). To confirm, there should be a file named \"keras_metadata.pb\" in the SavedModel directory.\n",
      "WARNING:absl:Importing a function (__inference_BLOCK_4-2_ACT_1_layer_call_and_return_conditional_losses_15267) with ops with unsaved custom gradients. Will likely fail if a gradient is requested.\n",
      "WARNING:absl:Importing a function (__inference_BLOCK_4-3_ACT_1_layer_call_and_return_conditional_losses_33161) with ops with unsaved custom gradients. Will likely fail if a gradient is requested.\n",
      "WARNING:absl:Importing a function (__inference_BLOCK_3-3_ACT_2_layer_call_and_return_conditional_losses_14525) with ops with unsaved custom gradients. Will likely fail if a gradient is requested.\n",
      "WARNING:absl:Importing a function (__inference_BLOCK_3-4_ACT_1_layer_call_and_return_conditional_losses_14681) with ops with unsaved custom gradients. Will likely fail if a gradient is requested.\n",
      "WARNING:absl:Importing a function (__inference_BLOCK_3-4_ACT_2_layer_call_and_return_conditional_losses_14723) with ops with unsaved custom gradients. Will likely fail if a gradient is requested.\n",
      "WARNING:absl:Importing a function (__inference_BLOCK_3-2_ACT_2_layer_call_and_return_conditional_losses_14327) with ops with unsaved custom gradients. Will likely fail if a gradient is requested.\n",
      "WARNING:absl:Importing a function (__inference_BLOCK_4-2_ACT_2_layer_call_and_return_conditional_losses_32783) with ops with unsaved custom gradients. Will likely fail if a gradient is requested.\n",
      "WARNING:absl:Importing a function (__inference_BLOCK_2-4_ACT_1_layer_call_and_return_conditional_losses_13993) with ops with unsaved custom gradients. Will likely fail if a gradient is requested.\n",
      "WARNING:absl:Importing a function (__inference_BLOCK_3-3_ACT_2_layer_call_and_return_conditional_losses_30727) with ops with unsaved custom gradients. Will likely fail if a gradient is requested.\n",
      "WARNING:absl:Importing a function (__inference_BLOCK_3-5_SE_CONV_1_layer_call_and_return_conditional_losses_14953) with ops with unsaved custom gradients. Will likely fail if a gradient is requested.\n",
      "WARNING:absl:Importing a function (__inference_BLOCK_1-3_ACT_1_layer_call_and_return_conditional_losses_28018) with ops with unsaved custom gradients. Will likely fail if a gradient is requested.\n",
      "WARNING:absl:Importing a function (__inference_BLOCK_3-2_ACT_2_layer_call_and_return_conditional_losses_30210) with ops with unsaved custom gradients. Will likely fail if a gradient is requested.\n",
      "WARNING:absl:Importing a function (__inference_BLOCK_2-1_ACT_1_layer_call_and_return_conditional_losses_13695) with ops with unsaved custom gradients. Will likely fail if a gradient is requested.\n",
      "WARNING:absl:Importing a function (__inference_BLOCK_4-3_ACT_2_layer_call_and_return_conditional_losses_15507) with ops with unsaved custom gradients. Will likely fail if a gradient is requested.\n",
      "WARNING:absl:Importing a function (__inference_BLOCK_3-2_SE_CONV_1_layer_call_and_return_conditional_losses_14359) with ops with unsaved custom gradients. Will likely fail if a gradient is requested.\n",
      "WARNING:absl:Importing a function (__inference_model_layer_call_and_return_conditional_losses_25336) with ops with unsaved custom gradients. Will likely fail if a gradient is requested.\n",
      "WARNING:absl:Importing a function (__inference_BLOCK_3-1_SE_CONV_1_layer_call_and_return_conditional_losses_29744) with ops with unsaved custom gradients. Will likely fail if a gradient is requested.\n",
      "WARNING:absl:Importing a function (__inference_BLOCK_4-1_ACT_1_layer_call_and_return_conditional_losses_15077) with ops with unsaved custom gradients. Will likely fail if a gradient is requested.\n",
      "WARNING:absl:Importing a function (__inference_basic_5289) with ops with unsaved custom gradients. Will likely fail if a gradient is requested.\n",
      "WARNING:absl:Importing a function (__inference_BLOCK_4-4_ACT_1_layer_call_and_return_conditional_losses_33678) with ops with unsaved custom gradients. Will likely fail if a gradient is requested.\n",
      "WARNING:absl:Importing a function (__inference_BLOCK_4-4_ACT_2_layer_call_and_return_conditional_losses_15705) with ops with unsaved custom gradients. Will likely fail if a gradient is requested.\n",
      "WARNING:absl:Importing a function (__inference_BLOCK_4-4_SE_CONV_1_layer_call_and_return_conditional_losses_33856) with ops with unsaved custom gradients. Will likely fail if a gradient is requested.\n",
      "WARNING:absl:Importing a function (__inference_BLOCK_4-2_SE_CONV_1_layer_call_and_return_conditional_losses_15341) with ops with unsaved custom gradients. Will likely fail if a gradient is requested.\n",
      "WARNING:absl:Importing a function (__inference_BLOCK_1-3_ACT_1_layer_call_and_return_conditional_losses_13593) with ops with unsaved custom gradients. Will likely fail if a gradient is requested.\n",
      "WARNING:absl:Importing a function (__inference_BLOCK_4-3_SE_CONV_1_layer_call_and_return_conditional_losses_15539) with ops with unsaved custom gradients. Will likely fail if a gradient is requested.\n",
      "WARNING:absl:Importing a function (__inference__wrapped_model_7115) with ops with unsaved custom gradients. Will likely fail if a gradient is requested.\n",
      "WARNING:absl:Importing a function (__inference_BLOCK_2-3_ACT_1_layer_call_and_return_conditional_losses_13891) with ops with unsaved custom gradients. Will likely fail if a gradient is requested.\n",
      "WARNING:absl:Importing a function (__inference_BLOCK_4-1_ACT_2_layer_call_and_return_conditional_losses_32278) with ops with unsaved custom gradients. Will likely fail if a gradient is requested.\n",
      "WARNING:absl:Importing a function (__inference_BLOCK_3-5_ACT_1_layer_call_and_return_conditional_losses_14879) with ops with unsaved custom gradients. Will likely fail if a gradient is requested.\n",
      "WARNING:absl:Importing a function (__inference_BLOCK_4-3_ACT_1_layer_call_and_return_conditional_losses_15465) with ops with unsaved custom gradients. Will likely fail if a gradient is requested.\n",
      "WARNING:absl:Importing a function (__inference_BLOCK_3-1_ACT_1_layer_call_and_return_conditional_losses_29566) with ops with unsaved custom gradients. Will likely fail if a gradient is requested.\n",
      "WARNING:absl:Importing a function (__inference_BLOCK_1-2_ACT_1_layer_call_and_return_conditional_losses_27706) with ops with unsaved custom gradients. Will likely fail if a gradient is requested.\n",
      "WARNING:absl:Importing a function (__inference_BLOCK_2-1_ACT_1_layer_call_and_return_conditional_losses_28330) with ops with unsaved custom gradients. Will likely fail if a gradient is requested.\n",
      "WARNING:absl:Importing a function (__inference_BLOCK_4-1_ACT_2_layer_call_and_return_conditional_losses_15119) with ops with unsaved custom gradients. Will likely fail if a gradient is requested.\n",
      "WARNING:absl:Importing a function (__inference_BLOCK_4-3_SE_CONV_1_layer_call_and_return_conditional_losses_33339) with ops with unsaved custom gradients. Will likely fail if a gradient is requested.\n",
      "WARNING:absl:Importing a function (__inference_BLOCK_1-1_ACT_1_layer_call_and_return_conditional_losses_13397) with ops with unsaved custom gradients. Will likely fail if a gradient is requested.\n",
      "WARNING:absl:Importing a function (__inference_BLOCK_4-1_ACT_1_layer_call_and_return_conditional_losses_32139) with ops with unsaved custom gradients. Will likely fail if a gradient is requested.\n",
      "WARNING:absl:Importing a function (__inference_BLOCK_3-2_SE_CONV_1_layer_call_and_return_conditional_losses_30249) with ops with unsaved custom gradients. Will likely fail if a gradient is requested.\n",
      "WARNING:absl:Importing a function (__inference_BLOCK_3-1_ACT_2_layer_call_and_return_conditional_losses_29705) with ops with unsaved custom gradients. Will likely fail if a gradient is requested.\n",
      "WARNING:absl:Importing a function (__inference_BLOCK_3-1_SE_CONV_1_layer_call_and_return_conditional_losses_14169) with ops with unsaved custom gradients. Will likely fail if a gradient is requested.\n",
      "WARNING:absl:Importing a function (__inference_BLOCK_3-5_ACT_2_layer_call_and_return_conditional_losses_31761) with ops with unsaved custom gradients. Will likely fail if a gradient is requested.\n",
      "WARNING:absl:Importing a function (__inference_BLOCK_3-4_ACT_1_layer_call_and_return_conditional_losses_31105) with ops with unsaved custom gradients. Will likely fail if a gradient is requested.\n",
      "WARNING:absl:Importing a function (__inference_BLOCK_2-2_ACT_1_layer_call_and_return_conditional_losses_28630) with ops with unsaved custom gradients. Will likely fail if a gradient is requested.\n",
      "WARNING:absl:Importing a function (__inference_BLOCK_1-1_ACT_1_layer_call_and_return_conditional_losses_27406) with ops with unsaved custom gradients. Will likely fail if a gradient is requested.\n",
      "WARNING:absl:Importing a function (__inference_BLOCK_3-2_ACT_1_layer_call_and_return_conditional_losses_30071) with ops with unsaved custom gradients. Will likely fail if a gradient is requested.\n",
      "WARNING:absl:Importing a function (__inference_BLOCK_3-5_SE_CONV_1_layer_call_and_return_conditional_losses_31800) with ops with unsaved custom gradients. Will likely fail if a gradient is requested.\n",
      "WARNING:absl:Importing a function (__inference_BLOCK_3-3_SE_CONV_1_layer_call_and_return_conditional_losses_14557) with ops with unsaved custom gradients. Will likely fail if a gradient is requested.\n",
      "WARNING:absl:Importing a function (__inference_BLOCK_3-4_SE_CONV_1_layer_call_and_return_conditional_losses_14755) with ops with unsaved custom gradients. Will likely fail if a gradient is requested.\n",
      "WARNING:absl:Importing a function (__inference_BLOCK_3-3_ACT_1_layer_call_and_return_conditional_losses_14483) with ops with unsaved custom gradients. Will likely fail if a gradient is requested.\n",
      "WARNING:absl:Importing a function (__inference_BLOCK_4-4_ACT_1_layer_call_and_return_conditional_losses_15663) with ops with unsaved custom gradients. Will likely fail if a gradient is requested.\n",
      "WARNING:absl:Importing a function (__inference_model_layer_call_and_return_conditional_losses_26662) with ops with unsaved custom gradients. Will likely fail if a gradient is requested.\n",
      "WARNING:absl:Importing a function (__inference_BLOCK_4-2_ACT_1_layer_call_and_return_conditional_losses_32644) with ops with unsaved custom gradients. Will likely fail if a gradient is requested.\n",
      "WARNING:absl:Importing a function (__inference_BLOCK_4-2_ACT_2_layer_call_and_return_conditional_losses_15309) with ops with unsaved custom gradients. Will likely fail if a gradient is requested.\n",
      "WARNING:absl:Importing a function (__inference_BLOCK_3-3_ACT_1_layer_call_and_return_conditional_losses_30588) with ops with unsaved custom gradients. Will likely fail if a gradient is requested.\n",
      "WARNING:absl:Importing a function (__inference_BLOCK_3-2_ACT_1_layer_call_and_return_conditional_losses_14285) with ops with unsaved custom gradients. Will likely fail if a gradient is requested.\n",
      "WARNING:absl:Importing a function (__inference_BLOCK_3-4_ACT_2_layer_call_and_return_conditional_losses_31244) with ops with unsaved custom gradients. Will likely fail if a gradient is requested.\n",
      "WARNING:absl:Importing a function (__inference_BLOCK_4-1_SE_CONV_1_layer_call_and_return_conditional_losses_15151) with ops with unsaved custom gradients. Will likely fail if a gradient is requested.\n",
      "WARNING:absl:Importing a function (__inference_BLOCK_3-5_ACT_1_layer_call_and_return_conditional_losses_31622) with ops with unsaved custom gradients. Will likely fail if a gradient is requested.\n",
      "WARNING:absl:Importing a function (__inference_BLOCK_1-2_ACT_1_layer_call_and_return_conditional_losses_13491) with ops with unsaved custom gradients. Will likely fail if a gradient is requested.\n",
      "WARNING:absl:Importing a function (__inference_BLOCK_2-3_ACT_1_layer_call_and_return_conditional_losses_28942) with ops with unsaved custom gradients. Will likely fail if a gradient is requested.\n",
      "WARNING:absl:Importing a function (__inference_BLOCK_2-4_ACT_1_layer_call_and_return_conditional_losses_29254) with ops with unsaved custom gradients. Will likely fail if a gradient is requested.\n",
      "WARNING:absl:Importing a function (__inference_BLOCK_4-4_ACT_2_layer_call_and_return_conditional_losses_33817) with ops with unsaved custom gradients. Will likely fail if a gradient is requested.\n",
      "WARNING:absl:Importing a function (__inference_BLOCK_4-3_ACT_2_layer_call_and_return_conditional_losses_33300) with ops with unsaved custom gradients. Will likely fail if a gradient is requested.\n",
      "WARNING:absl:Importing a function (__inference_BLOCK_3-3_SE_CONV_1_layer_call_and_return_conditional_losses_30766) with ops with unsaved custom gradients. Will likely fail if a gradient is requested.\n",
      "WARNING:absl:Importing a function (__inference_BLOCK_4-1_SE_CONV_1_layer_call_and_return_conditional_losses_32317) with ops with unsaved custom gradients. Will likely fail if a gradient is requested.\n",
      "WARNING:absl:Importing a function (__inference_BLOCK_3-4_SE_CONV_1_layer_call_and_return_conditional_losses_31283) with ops with unsaved custom gradients. Will likely fail if a gradient is requested.\n",
      "WARNING:absl:Importing a function (__inference_BLOCK_3-5_ACT_2_layer_call_and_return_conditional_losses_14921) with ops with unsaved custom gradients. Will likely fail if a gradient is requested.\n",
      "WARNING:absl:Importing a function (__inference_BLOCK_2-2_ACT_1_layer_call_and_return_conditional_losses_13789) with ops with unsaved custom gradients. Will likely fail if a gradient is requested.\n",
      "WARNING:absl:Importing a function (__inference_BLOCK_3-1_ACT_1_layer_call_and_return_conditional_losses_14095) with ops with unsaved custom gradients. Will likely fail if a gradient is requested.\n",
      "WARNING:absl:Importing a function (__inference_BLOCK_3-1_ACT_2_layer_call_and_return_conditional_losses_14137) with ops with unsaved custom gradients. Will likely fail if a gradient is requested.\n",
      "WARNING:absl:Importing a function (__inference_BLOCK_4-4_SE_CONV_1_layer_call_and_return_conditional_losses_15737) with ops with unsaved custom gradients. Will likely fail if a gradient is requested.\n",
      "WARNING:absl:Importing a function (__inference_BLOCK_4-2_SE_CONV_1_layer_call_and_return_conditional_losses_32822) with ops with unsaved custom gradients. Will likely fail if a gradient is requested.\n"
     ]
    },
    {
     "data": {
      "text/plain": [
       "<tensorflow.python.saved_model.load.Loader._recreate_base_user_object.<locals>._UserObject at 0x7ff4a42c7190>"
      ]
     },
     "execution_count": 27,
     "metadata": {},
     "output_type": "execute_result"
    }
   ],
   "source": [
    "from tensorflow import keras\n",
    "\n",
    "pb_model = keras.models.load_model(model_path)\n",
    "pb_model"
   ]
  },
  {
   "cell_type": "code",
   "execution_count": null,
   "metadata": {},
   "outputs": [
    {
     "name": "stderr",
     "output_type": "stream",
     "text": [
      "WARNING:absl:Function `_wrapped_model` contains input name(s) INPUT with unsupported characters which will be renamed to input in the SavedModel.\n",
      "WARNING:absl:Found untraced functions such as _jit_compiled_convolution_op, _jit_compiled_convolution_op, _jit_compiled_convolution_op, _jit_compiled_convolution_op, _jit_compiled_convolution_op while saving (showing 5 of 63). These functions will not be directly callable after loading.\n"
     ]
    },
    {
     "name": "stdout",
     "output_type": "stream",
     "text": [
      "INFO:tensorflow:Assets written to: ../data/models/birdnet-frozen-keras-v1/assets\n"
     ]
    },
    {
     "name": "stderr",
     "output_type": "stream",
     "text": [
      "INFO:tensorflow:Assets written to: ../data/models/birdnet-frozen-keras-v1/assets\n"
     ]
    }
   ],
   "source": [
    "pb_model.model.compile()\n",
    "pb_model.model.save(\"../data/models/birdnet-frozen-keras-v1/\")"
   ]
  },
  {
   "cell_type": "code",
   "execution_count": null,
   "metadata": {},
   "outputs": [],
   "source": [
    "! python -m tf2onnx.convert \\\n",
    "    --keras ../data/models/birdnet-frozen-keras-v1/ \\\n",
    "    --output ../data/models/onnx/test0.onnx"
   ]
  }
 ],
 "metadata": {
  "kernelspec": {
   "display_name": "venv",
   "language": "python",
   "name": "python3"
  },
  "language_info": {
   "codemirror_mode": {
    "name": "ipython",
    "version": 3
   },
   "file_extension": ".py",
   "mimetype": "text/x-python",
   "name": "python",
   "nbconvert_exporter": "python",
   "pygments_lexer": "ipython3",
   "version": "3.10.6"
  },
  "orig_nbformat": 4,
  "vscode": {
   "interpreter": {
    "hash": "534f2174684f24911d7021ba77c90100d0f5530d0b4d7fca4ed5067cc0c930c3"
   }
  }
 },
 "nbformat": 4,
 "nbformat_minor": 2
}
