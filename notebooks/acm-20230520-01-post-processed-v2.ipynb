{
 "cells": [
  {
   "cell_type": "code",
   "execution_count": 1,
   "metadata": {},
   "outputs": [],
   "source": [
    "%load_ext autoreload\n",
    "%autoreload 2\n",
    "%load_ext lab_black"
   ]
  },
  {
   "cell_type": "code",
   "execution_count": 1,
   "metadata": {},
   "outputs": [
    {
     "name": "stdout",
     "output_type": "stream",
     "text": [
      "root\n",
      " |-- species: string (nullable = true)\n",
      " |-- track_stem: string (nullable = true)\n",
      " |-- track_type: string (nullable = true)\n",
      " |-- track_name: string (nullable = true)\n",
      " |-- embedding: array (nullable = true)\n",
      " |    |-- element: double (containsNull = true)\n",
      " |-- prediction_vec: array (nullable = true)\n",
      " |    |-- element: double (containsNull = true)\n",
      " |-- predictions: array (nullable = true)\n",
      " |    |-- element: struct (containsNull = true)\n",
      " |    |    |-- rank: long (nullable = true)\n",
      " |    |    |-- index: long (nullable = true)\n",
      " |    |    |-- label: string (nullable = true)\n",
      " |    |    |-- mapped_label: string (nullable = true)\n",
      " |    |    |-- probability: double (nullable = true)\n",
      " |-- start_time: long (nullable = true)\n",
      " |-- energy: double (nullable = true)\n",
      "\n",
      "root\n",
      " |-- track_name: string (nullable = true)\n",
      " |-- start_time: long (nullable = true)\n",
      " |-- prediction: string (nullable = true)\n",
      " |-- probability: double (nullable = true)\n",
      "\n",
      "root\n",
      " |-- primary_label: string (nullable = true)\n",
      " |-- secondary_labels: string (nullable = true)\n",
      " |-- type: string (nullable = true)\n",
      " |-- latitude: string (nullable = true)\n",
      " |-- longitude: string (nullable = true)\n",
      " |-- scientific_name: string (nullable = true)\n",
      " |-- common_name: string (nullable = true)\n",
      " |-- author: string (nullable = true)\n",
      " |-- license: string (nullable = true)\n",
      " |-- rating: string (nullable = true)\n",
      " |-- url: string (nullable = true)\n",
      " |-- filename: string (nullable = true)\n",
      "\n"
     ]
    }
   ],
   "source": [
    "from birdclef.utils import get_spark\n",
    "from pyspark.sql import Window, functions as F\n",
    "import os\n",
    "\n",
    "os.environ[\"SPARK_LOCAL_DIRS\"] = \"h://spark-tmp/\"\n",
    "\n",
    "spark = get_spark(cores=24, memory=\"40g\")\n",
    "df = spark.read.parquet(\n",
    "    \"../data/processed/birdclef-2023/train_embeddings/consolidated_v4\"\n",
    ")\n",
    "df.printSchema()\n",
    "\n",
    "preds = (\n",
    "    spark.read.parquet(\"../data/processed/birdclef-2023/consolidated_v4_with_preds\")\n",
    "    .repartition(32)\n",
    "    .cache()\n",
    ")\n",
    "preds.printSchema()\n",
    "\n",
    "# also include the metadata\n",
    "birdclef_root = \"../data/raw/birdclef-2023\"\n",
    "train_metadata = spark.read.csv(f\"{birdclef_root}/train_metadata.csv\", header=True)\n",
    "train_metadata.printSchema()"
   ]
  },
  {
   "cell_type": "code",
   "execution_count": 2,
   "metadata": {},
   "outputs": [
    {
     "name": "stdout",
     "output_type": "stream",
     "text": [
      "-RECORD 0------------------------------------------------------------------------------------------\n",
      " species        | grecor                                                                           \n",
      " track_stem     | XC629875_part003                                                                 \n",
      " track_type     | source0                                                                          \n",
      " track_name     | grecor/XC629875_part003_source0.mp3                                              \n",
      " embedding      | [0.6731137633323669, 1.1389738321304321, 0.6284520626068115, 0.65399438142776... \n",
      " prediction_vec | [-8.725186347961426, -7.3204827308654785, -9.82101821899414, -10.396224021911... \n",
      " predictions    | [{0, 3026, Tetrastes bonasia_Hazel Grouse, hazgro1, 0.02235649898648262}, {1,... \n",
      " start_time     | 75                                                                               \n",
      " energy         | 0.01598571054637432                                                              \n",
      "-RECORD 1------------------------------------------------------------------------------------------\n",
      " species        | grecor                                                                           \n",
      " track_stem     | XC629875_part005                                                                 \n",
      " track_type     | source3                                                                          \n",
      " track_name     | grecor/XC629875_part005_source3.mp3                                              \n",
      " embedding      | [1.683303713798523, 1.3935127258300781, 0.7466886639595032, 0.250840753316879... \n",
      " prediction_vec | [-13.96982192993164, -12.199172019958496, -11.703277587890625, -13.2876729965... \n",
      " predictions    | [{0, 824, Corvus monedula_Eurasian Jackdaw, eurjac, 0.10154201835393906}, {1,... \n",
      " start_time     | 127                                                                              \n",
      " energy         | 2.1898441314697266                                                               \n",
      "only showing top 2 rows\n",
      "\n"
     ]
    }
   ],
   "source": [
    "df.show(n=2, vertical=True, truncate=80)"
   ]
  },
  {
   "cell_type": "code",
   "execution_count": 3,
   "metadata": {},
   "outputs": [
    {
     "name": "stdout",
     "output_type": "stream",
     "text": [
      "+-------------+-----+\n",
      "|primary_label|count|\n",
      "+-------------+-----+\n",
      "|      bltapa1|   11|\n",
      "|      yenspu1|   12|\n",
      "|      refbar2|   12|\n",
      "|      grccra1|   12|\n",
      "|      augbuz1|   12|\n",
      "|      spfwea1|   12|\n",
      "|      blksaw1|   13|\n",
      "|      ccbeat1|   13|\n",
      "|      yeccan1|   13|\n",
      "|      spfbar1|   13|\n",
      "+-------------+-----+\n",
      "only showing top 10 rows\n",
      "\n"
     ]
    }
   ],
   "source": [
    "train_metadata.groupBy(\"primary_label\").count().orderBy(\"count\").where(\n",
    "    \"count > 10\"\n",
    ").show(n=10)"
   ]
  },
  {
   "cell_type": "code",
   "execution_count": 4,
   "metadata": {},
   "outputs": [
    {
     "data": {
      "text/plain": [
       "1540"
      ]
     },
     "execution_count": 4,
     "metadata": {},
     "output_type": "execute_result"
    }
   ],
   "source": [
    "subset = df.where(\"species = 'bltapa1'\").cache()\n",
    "subset.count()"
   ]
  },
  {
   "cell_type": "code",
   "execution_count": 5,
   "metadata": {},
   "outputs": [
    {
     "name": "stdout",
     "output_type": "stream",
     "text": [
      "+----------+------+\n",
      "|prediction| count|\n",
      "+----------+------+\n",
      "|   thrnig1|367509|\n",
      "|   no_call|346374|\n",
      "|   combuz1|192776|\n",
      "|    wlwwar|140779|\n",
      "|    barswa|133200|\n",
      "|   eubeat1|111025|\n",
      "|    comsan|110426|\n",
      "|    hoopoe|110322|\n",
      "|   cohmar1|106396|\n",
      "|   eaywag1| 93031|\n",
      "|    woosan| 60836|\n",
      "|   blakit1| 48823|\n",
      "|   combul2| 45950|\n",
      "|   colsun2| 44934|\n",
      "|   rbsrob1| 43741|\n",
      "|    litegr| 42906|\n",
      "|   gnbcam2| 42606|\n",
      "|   yertin1| 36798|\n",
      "|   fotdro5| 36190|\n",
      "|   afecuc1| 35527|\n",
      "+----------+------+\n",
      "only showing top 20 rows\n",
      "\n"
     ]
    }
   ],
   "source": [
    "preds.groupBy(\"prediction\").count().orderBy(F.desc(\"count\")).show()"
   ]
  },
  {
   "attachments": {},
   "cell_type": "markdown",
   "metadata": {},
   "source": [
    "First, we only consider rows that match every first and third index.\n",
    "Then out of this set, we create labels from the sound separate tracks to build a multi-label dataset.\n",
    "we only keep the time steps that are labeled."
   ]
  },
  {
   "cell_type": "code",
   "execution_count": 46,
   "metadata": {},
   "outputs": [
    {
     "name": "stdout",
     "output_type": "stream",
     "text": [
      "root\n",
      " |-- track_stem: string (nullable = true)\n",
      " |-- start_time: long (nullable = true)\n",
      " |-- metadata_species: array (nullable = true)\n",
      " |    |-- element: string (containsNull = true)\n",
      " |-- predicted_species: array (nullable = false)\n",
      " |    |-- element: string (containsNull = true)\n",
      " |-- predicted_species_prob: array (nullable = false)\n",
      " |    |-- element: double (containsNull = true)\n",
      " |-- embedding: array (nullable = true)\n",
      " |    |-- element: float (containsNull = true)\n",
      " |-- next_embedding: array (nullable = true)\n",
      " |    |-- element: float (containsNull = true)\n",
      " |-- track_embedding: array (nullable = true)\n",
      " |    |-- element: float (containsNull = true)\n",
      "\n",
      "-RECORD 0--------------------------------------------------------------------------------------------------\n",
      " track_stem             | XC753135                                                                         \n",
      " start_time             | 10                                                                               \n",
      " metadata_species       | [bltapa1]                                                                        \n",
      " predicted_species      | [bltapa1, bltapa1, afrgos1]                                                      \n",
      " predicted_species_prob | [0.8203519975843362, 0.7946164154187217, 0.5180967899072593]                     \n",
      " embedding              | [1.430831, 0.703985, 1.0648133, 0.36366594, 1.0754265, 0.6754716, 0.80163044,... \n",
      " next_embedding         | [1.430831, 0.703985, 1.0648133, 0.36366594, 1.0754265, 0.6754716, 0.80163044,... \n",
      " track_embedding        | [1.1192585, 0.49125457, 0.9849014, 0.6479651, 0.9460032, 0.555334, 1.1087148,... \n",
      "-RECORD 1--------------------------------------------------------------------------------------------------\n",
      " track_stem             | XC753135                                                                         \n",
      " start_time             | 0                                                                                \n",
      " metadata_species       | [bltapa1]                                                                        \n",
      " predicted_species      | [bltapa1, yebapa1]                                                               \n",
      " predicted_species_prob | [0.6950757758778113, 0.671785599045491]                                          \n",
      " embedding              | [0.80768603, 0.2785242, 0.90498954, 0.93226427, 0.8165799, 0.43519628, 1.4157... \n",
      " next_embedding         | [1.430831, 0.703985, 1.0648133, 0.36366594, 1.0754265, 0.6754716, 0.80163044,... \n",
      " track_embedding        | [1.1192585, 0.49125457, 0.9849014, 0.6479651, 0.9460032, 0.555334, 1.1087148,... \n",
      "only showing top 2 rows\n",
      "\n"
     ]
    }
   ],
   "source": [
    "import ast\n",
    "import numpy as np\n",
    "\n",
    "\n",
    "@F.udf(returnType=\"array<string>\")\n",
    "def parse_labels(label_str: str):\n",
    "    # use literal eval to parse the string\n",
    "    return ast.literal_eval(label_str)\n",
    "\n",
    "\n",
    "@F.udf(\"array<float>\")\n",
    "def embedding_mean(v):\n",
    "    return np.vstack(v).mean(axis=0).tolist()\n",
    "\n",
    "\n",
    "def xc_id(track_name):\n",
    "    return F.regexp_extract(track_name, r\"XC(\\d+)\", 1)\n",
    "\n",
    "\n",
    "def process(df, train_metadata):\n",
    "    labels = train_metadata.select(\n",
    "        F.array_union(F.array(\"primary_label\"), parse_labels(\"secondary_labels\")).alias(\n",
    "            \"metadata_species\"\n",
    "        ),\n",
    "        xc_id(\"filename\").alias(\"xc_id\"),\n",
    "    )\n",
    "\n",
    "    align_to_window = (\n",
    "        df.where(\"start_time % 2 = 0 and start_time % 5 = 0\")\n",
    "        .join(preds, on=[\"track_name\", \"start_time\"])\n",
    "        .withColumn(\"seq_id\", (F.col(\"start_time\") / 5).cast(\"int\"))\n",
    "        .select(\n",
    "            \"track_stem\",\n",
    "            \"start_time\",\n",
    "            \"seq_id\",\n",
    "            \"embedding\",\n",
    "            \"prediction\",\n",
    "            \"probability\",\n",
    "        )\n",
    "    ).cache()\n",
    "\n",
    "    # compute the current and next embedding\n",
    "    sequence_embedding = (\n",
    "        align_to_window.where(\"track_type = 'original'\")\n",
    "        .groupBy(\"track_stem\", \"seq_id\")\n",
    "        .agg(\n",
    "            F.collect_set(\"embedding\").alias(\"embedding\"),\n",
    "            F.min(\"start_time\").alias(\"start_time\"),\n",
    "        )\n",
    "        .withColumn(\"embedding\", embedding_mean(\"embedding\"))\n",
    "        # also include the next sequence, or the current sequence\n",
    "        .withColumn(\n",
    "            \"next_embedding\",\n",
    "            F.coalesce(\n",
    "                F.lead(\"embedding\", 1).over(\n",
    "                    Window.partitionBy(\"track_stem\").orderBy(\"seq_id\")\n",
    "                ),\n",
    "                \"embedding\",\n",
    "            ),\n",
    "        )\n",
    "        .select(\"track_stem\", \"seq_id\", \"start_time\", \"embedding\", \"next_embedding\")\n",
    "    )\n",
    "\n",
    "    # compute track embedding (global context)\n",
    "    track_embedding = (\n",
    "        # this is the average embedding of all of the sequences\n",
    "        sequence_embedding.groupBy(\"track_stem\")\n",
    "        .agg(F.collect_set(\"embedding\").alias(\"embedding\"))\n",
    "        .select(\"track_stem\", embedding_mean(\"embedding\").alias(\"track_embedding\"))\n",
    "    )\n",
    "\n",
    "    # let's figure out what predictions there are at every sequence id\n",
    "    mixit_predictions = (\n",
    "        align_to_window.where(\"prediction != 'no_call' and probability > 0.5\")\n",
    "        .groupBy(\"track_stem\", \"seq_id\")\n",
    "        .agg(\n",
    "            F.sort_array(\n",
    "                F.collect_list(F.struct(\"probability\", \"prediction\")), asc=False\n",
    "            ).alias(\"values\"),\n",
    "            F.min(\"start_time\").alias(\"start_time\"),\n",
    "        )\n",
    "        .selectExpr(\n",
    "            \"track_stem\",\n",
    "            \"seq_id\",\n",
    "            \"values.prediction as predicted_species\",\n",
    "            \"values.probability as predicted_species_prob\",\n",
    "        )\n",
    "    )\n",
    "\n",
    "    track_with_fuzzy_annotations = (\n",
    "        sequence_embedding.join(track_embedding, on=\"track_stem\")\n",
    "        .join(mixit_predictions, on=[\"track_stem\", \"seq_id\"])\n",
    "        .withColumn(\"xc_id\", xc_id(\"track_stem\"))\n",
    "        .join(labels, on=[\"xc_id\"])\n",
    "        .select(\n",
    "            \"track_stem\",\n",
    "            \"start_time\",\n",
    "            \"metadata_species\",\n",
    "            \"predicted_species\",\n",
    "            \"predicted_species_prob\",\n",
    "            \"embedding\",\n",
    "            \"next_embedding\",\n",
    "            \"track_embedding\",\n",
    "        )\n",
    "    )\n",
    "    return track_with_fuzzy_annotations\n",
    "\n",
    "\n",
    "processed_sample = process(subset, train_metadata)\n",
    "processed_sample.printSchema()\n",
    "processed_sample.show(n=2, vertical=True, truncate=80)"
   ]
  },
  {
   "cell_type": "code",
   "execution_count": 47,
   "metadata": {},
   "outputs": [],
   "source": [
    "processed_df = process(df, train_metadata)\n",
    "processed_df.write.parquet(\n",
    "    \"../data/processed/birdclef-2023/train_postprocessed/v2\", mode=\"overwrite\"\n",
    ")"
   ]
  },
  {
   "cell_type": "code",
   "execution_count": 49,
   "metadata": {},
   "outputs": [
    {
     "name": "stdout",
     "output_type": "stream",
     "text": [
      "root\n",
      " |-- track_stem: string (nullable = true)\n",
      " |-- start_time: long (nullable = true)\n",
      " |-- metadata_species: array (nullable = true)\n",
      " |    |-- element: string (containsNull = true)\n",
      " |-- predicted_species: array (nullable = true)\n",
      " |    |-- element: string (containsNull = true)\n",
      " |-- predicted_species_prob: array (nullable = true)\n",
      " |    |-- element: double (containsNull = true)\n",
      " |-- embedding: array (nullable = true)\n",
      " |    |-- element: float (containsNull = true)\n",
      " |-- next_embedding: array (nullable = true)\n",
      " |    |-- element: float (containsNull = true)\n",
      " |-- track_embedding: array (nullable = true)\n",
      " |    |-- element: float (containsNull = true)\n",
      "\n",
      "-RECORD 0--------------------------------------------------------------------------------------------------\n",
      " track_stem             | XC108820                                                                         \n",
      " start_time             | 0                                                                                \n",
      " metadata_species       | [categr]                                                                         \n",
      " predicted_species      | [categr, cohmar1, sichor1]                                                       \n",
      " predicted_species_prob | [0.9218195065749416, 0.7636727008861889, 0.6866624362805946]                     \n",
      " embedding              | [1.6699009, 1.9233328, 0.37807903, 1.2282478, 1.5084257, 1.9636716, 0.5422926... \n",
      " next_embedding         | [1.6699009, 1.9233328, 0.37807903, 1.2282478, 1.5084257, 1.9636716, 0.5422926... \n",
      " track_embedding        | [1.6699009, 1.9233328, 0.37807903, 1.2282478, 1.5084257, 1.9636716, 0.5422926... \n",
      "-RECORD 1--------------------------------------------------------------------------------------------------\n",
      " track_stem             | XC109700                                                                         \n",
      " start_time             | 10                                                                               \n",
      " metadata_species       | [egygoo]                                                                         \n",
      " predicted_species      | [egygoo, egygoo]                                                                 \n",
      " predicted_species_prob | [0.9906213225250556, 0.9766041721309314]                                         \n",
      " embedding              | [1.1547908, 1.1271043, 0.36353567, 0.8874313, 0.9361988, 0.6264759, 0.8986327... \n",
      " next_embedding         | [1.4386853, 1.303846, 0.23873292, 1.1468445, 1.5544192, 0.5148632, 0.7304452,... \n",
      " track_embedding        | [1.5258964, 1.2280338, 0.4696629, 1.0480278, 1.3045211, 0.8359897, 0.8103156,... \n",
      "only showing top 2 rows\n",
      "\n"
     ]
    },
    {
     "data": {
      "text/plain": [
       "71533"
      ]
     },
     "execution_count": 49,
     "metadata": {},
     "output_type": "execute_result"
    }
   ],
   "source": [
    "processed_df = spark.read.parquet(\n",
    "    \"../data/processed/birdclef-2023/train_postprocessed/v2\"\n",
    ")\n",
    "processed_df.printSchema()\n",
    "processed_df.show(n=2, vertical=True, truncate=80)\n",
    "processed_df.count()"
   ]
  }
 ],
 "metadata": {
  "kernelspec": {
   "display_name": "venv",
   "language": "python",
   "name": "python3"
  },
  "language_info": {
   "codemirror_mode": {
    "name": "ipython",
    "version": 3
   },
   "file_extension": ".py",
   "mimetype": "text/x-python",
   "name": "python",
   "nbconvert_exporter": "python",
   "pygments_lexer": "ipython3",
   "version": "3.10.5"
  },
  "orig_nbformat": 4
 },
 "nbformat": 4,
 "nbformat_minor": 2
}
