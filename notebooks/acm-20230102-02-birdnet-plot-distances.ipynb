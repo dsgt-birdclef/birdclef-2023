{
 "cells": [
  {
   "cell_type": "code",
   "execution_count": null,
   "metadata": {},
   "outputs": [],
   "source": [
    "%load_ext autoreload\n",
    "%autoreload 2\n",
    "%load_ext lab_black"
   ]
  },
  {
   "cell_type": "code",
   "execution_count": null,
   "metadata": {},
   "outputs": [],
   "source": [
    "from birdclef.utils import get_spark\n",
    "\n",
    "spark = get_spark(memory=\"2g\")"
   ]
  },
  {
   "cell_type": "code",
   "execution_count": null,
   "metadata": {},
   "outputs": [],
   "source": [
    "df = spark.read.parquet(\n",
    "    \"../data/processed/birdclef-2022/birdnet-embeddings-with-neighbors/v1\"\n",
    ")\n",
    "df.printSchema()\n",
    "df.show(n=1, vertical=True)"
   ]
  },
  {
   "cell_type": "code",
   "execution_count": null,
   "metadata": {},
   "outputs": [],
   "source": [
    "df.groupby(\"primary_label\").count().sort(\"count\", ascending=False).show(10)"
   ]
  },
  {
   "cell_type": "code",
   "execution_count": null,
   "metadata": {},
   "outputs": [],
   "source": [
    "import pyspark.sql.functions as F\n",
    "import matplotlib.pyplot as plt\n",
    "\n",
    "mean_matching = (\n",
    "    df.select(\n",
    "        F.expr(\"birdnet_label = primary_label\")\n",
    "        .cast(\"integer\")\n",
    "        .alias(\"matching_labels\"),\n",
    "        \"primary_label\",\n",
    "    )\n",
    "    .groupby(\"primary_label\")\n",
    "    .agg(F.avg(\"matching_labels\").alias(\"matched\"))\n",
    "    .orderBy(\"matched\", ascending=False)\n",
    ")\n",
    "\n",
    "mean_matching.show(10)\n",
    "\n",
    "pdf = mean_matching.toPandas()\n",
    "plt.hist(pdf[\"matched\"], bins=20)\n",
    "plt.title(\"Histogram of mean of matching labels between birdnet and xeno-canto\")\n",
    "plt.xlabel(\"Mean of matching labels\")\n",
    "plt.ylabel(\"Count\")\n",
    "plt.show()"
   ]
  },
  {
   "cell_type": "code",
   "execution_count": null,
   "metadata": {},
   "outputs": [],
   "source": [
    "exploded_neighborhood = df.select(\n",
    "    \"id\",\n",
    "    F.explode(F.arrays_zip(\"neighbors\", \"distances\")).alias(\"neighbor\"),\n",
    ").select(\"id\", \"neighbor.*\")\n",
    "\n",
    "exploded_neighborhood.show(10)"
   ]
  },
  {
   "cell_type": "code",
   "execution_count": null,
   "metadata": {},
   "outputs": [],
   "source": [
    "# note that we can take advantage of the fact that ids are sorted by filename\n",
    "# (including species and file) and time.\n",
    "\n",
    "diffs = exploded_neighborhood.select(F.expr(\"log(abs(neighbors - id)+1)\").alias(\"diff\"))\n",
    "pdf = diffs.toPandas()\n",
    "plt.hist(pdf[\"diff\"], bins=20)\n",
    "plt.title(\"Histogram of log differences between neighbors and id\")\n",
    "plt.xlabel(\"Difference\")\n",
    "plt.ylabel(\"Count\")\n",
    "plt.show()"
   ]
  },
  {
   "attachments": {},
   "cell_type": "markdown",
   "metadata": {},
   "source": [
    "We take log distances because otherwise it heavily skews to one side.\n",
    "It's interesting to see that we parts on the long tail, where neighbors come from some distant cluster.\n",
    "This means that there are definitely related species (or sounds) in the dataset.\n",
    "\n",
    "One improvement that we can make is to sort species by projecting all the entries on a single dimension (a line) and to find differences on that line.\n",
    "Actually lets go ahead and try out that idea."
   ]
  },
  {
   "cell_type": "code",
   "execution_count": null,
   "metadata": {},
   "outputs": [],
   "source": [
    "import numpy as np\n",
    "import umap\n",
    "\n",
    "X = np.stack(df.select(\"emb\").toPandas().emb)\n",
    "reducer = umap.UMAP(n_components=1, verbose=True)\n",
    "emb = reducer.fit_transform(X)"
   ]
  },
  {
   "cell_type": "code",
   "execution_count": null,
   "metadata": {},
   "outputs": [],
   "source": [
    "# what does this look like? a histogram?\n",
    "# a histogram probably has highest density around clusters\n",
    "\n",
    "plt.hist(emb, bins=20)\n",
    "plt.title(\"Histogram of UMAP embedding\")\n",
    "plt.xlabel(\"UMAP embedding\")\n",
    "plt.ylabel(\"Count\")\n",
    "plt.show()\n",
    "\n",
    "# what about a line plot? This will show the difference in ordering between elements.\n",
    "# I'd expect\n",
    "plt.scatter(np.arange(len(emb)), emb, s=1, alpha=0.1)\n",
    "plt.title(\"Line plot of UMAP embedding\")\n",
    "plt.xlabel(\"Index\")\n",
    "plt.ylabel(\"UMAP embedding\")"
   ]
  },
  {
   "cell_type": "code",
   "execution_count": null,
   "metadata": {},
   "outputs": [],
   "source": [
    "# now create an index that's based on the ordering of the embedding\n",
    "import pandas as pd\n",
    "\n",
    "index_df = (\n",
    "    pd.DataFrame({\"line_emb\": emb[:, 0], \"id\": df.select(\"id\").toPandas().id})\n",
    "    .sort_values(\"line_emb\")\n",
    "    .reset_index()\n",
    "    .drop(\"index\", axis=1)\n",
    "    .reset_index()\n",
    "    .rename(columns={\"index\": \"index_id\"})\n",
    ")\n",
    "index_df"
   ]
  },
  {
   "cell_type": "code",
   "execution_count": null,
   "metadata": {},
   "outputs": [],
   "source": [
    "mapping = spark.createDataFrame(index_df)\n",
    "mapping.show(10)"
   ]
  },
  {
   "cell_type": "code",
   "execution_count": null,
   "metadata": {},
   "outputs": [],
   "source": [
    "mapped_neighbors = exploded_neighborhood.join(\n",
    "    mapping.select(\"id\", F.col(\"index_id\").alias(\"mapped_id\")), on=\"id\"\n",
    ").join(\n",
    "    mapping.select(\n",
    "        F.col(\"id\").alias(\"neighbors\"), F.col(\"index_id\").alias(\"mapped_neighbors\")\n",
    "    ),\n",
    "    on=\"neighbors\",\n",
    ")\n",
    "mapped_neighbors.show()"
   ]
  },
  {
   "cell_type": "code",
   "execution_count": null,
   "metadata": {},
   "outputs": [],
   "source": [
    "# plot distances again\n",
    "diffs = mapped_neighbors.select(\n",
    "    F.expr(\"log(abs(mapped_neighbors - mapped_id)+1)\").alias(\"diff\")\n",
    ")\n",
    "pdf = diffs.toPandas()\n",
    "plt.hist(pdf[\"diff\"], bins=20)\n",
    "plt.title(\"Histogram of log differences between neighbors and id\")\n",
    "plt.xlabel(\"Difference\")\n",
    "plt.ylabel(\"Count\")\n",
    "plt.show()"
   ]
  },
  {
   "cell_type": "code",
   "execution_count": null,
   "metadata": {},
   "outputs": [],
   "source": [
    "diffs = exploded_neighborhood.select(F.expr(\"log(distances+1)\").alias(\"diff\"))\n",
    "pdf = diffs.toPandas()\n",
    "plt.hist(pdf[\"diff\"], bins=20)\n",
    "plt.title(\"Histogram of log distances between neighbors and id\")\n",
    "plt.xlabel(\"Difference\")\n",
    "plt.ylabel(\"Count\")\n",
    "plt.show()"
   ]
  }
 ],
 "metadata": {
  "kernelspec": {
   "display_name": "venv",
   "language": "python",
   "name": "python3"
  },
  "language_info": {
   "codemirror_mode": {
    "name": "ipython",
    "version": 3
   },
   "file_extension": ".py",
   "mimetype": "text/x-python",
   "name": "python",
   "nbconvert_exporter": "python",
   "pygments_lexer": "ipython3",
   "version": "3.7.12 | packaged by conda-forge | (default, Oct 26 2021, 06:08:21) \n[GCC 9.4.0]"
  },
  "orig_nbformat": 4,
  "vscode": {
   "interpreter": {
    "hash": "99e3fab793c0456e63ab83c372f8335ef479e5a9e573d0646094eb616eafc087"
   }
  }
 },
 "nbformat": 4,
 "nbformat_minor": 2
}
