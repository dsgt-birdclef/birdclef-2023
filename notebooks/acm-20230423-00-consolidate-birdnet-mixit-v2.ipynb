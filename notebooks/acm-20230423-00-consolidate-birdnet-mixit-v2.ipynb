{
 "cells": [
  {
   "cell_type": "code",
   "execution_count": 1,
   "metadata": {},
   "outputs": [],
   "source": [
    "%load_ext autoreload\n",
    "%autoreload 2\n",
    "%load_ext lab_black"
   ]
  },
  {
   "cell_type": "code",
   "execution_count": 11,
   "metadata": {},
   "outputs": [
    {
     "name": "stdout",
     "output_type": "stream",
     "text": [
      "audio  consolidated_v1\tconsolidated_v2_sample\tembeddings\n",
      "5498\n"
     ]
    }
   ],
   "source": [
    "root = \"../data/processed/birdclef-2023/train_embeddings\"\n",
    "! ls {root}\n",
    "! ls {root}/embeddings/*/*/*.parquet | wc -l"
   ]
  },
  {
   "cell_type": "code",
   "execution_count": 2,
   "metadata": {},
   "outputs": [
    {
     "name": "stderr",
     "output_type": "stream",
     "text": [
      "Setting default log level to \"WARN\".\n",
      "To adjust logging level use sc.setLogLevel(newLevel). For SparkR, use setLogLevel(newLevel).\n"
     ]
    },
    {
     "name": "stdout",
     "output_type": "stream",
     "text": [
      "23/04/23 03:02:31 WARN NativeCodeLoader: Unable to load native-hadoop library for your platform... using builtin-java classes where applicable\n",
      "23/04/23 03:02:32 WARN Utils: Service 'SparkUI' could not bind on port 4040. Attempting port 4041.\n"
     ]
    }
   ],
   "source": [
    "from birdclef.utils import get_spark\n",
    "from pyspark.sql import functions as F\n",
    "\n",
    "spark = get_spark(cores=16, memory=\"12g\")\n",
    "df = spark.read.parquet(f\"{root}/embeddings/*/*/*.parquet\")\n",
    "df.printSchema()\n",
    "df.count()"
   ]
  },
  {
   "cell_type": "code",
   "execution_count": 7,
   "metadata": {},
   "outputs": [
    {
     "name": "stderr",
     "output_type": "stream",
     "text": [
      "                                                                                \r"
     ]
    }
   ],
   "source": [
    "# write this out to a new location\n",
    "df.repartition(32).write.parquet(f\"{root}/consolidated_v2\", mode=\"overwrite\")"
   ]
  },
  {
   "cell_type": "code",
   "execution_count": 8,
   "metadata": {},
   "outputs": [],
   "source": [
    "df = spark.read.parquet(f\"{root}/consolidated_v2\")"
   ]
  },
  {
   "cell_type": "code",
   "execution_count": 9,
   "metadata": {},
   "outputs": [
    {
     "data": {
      "text/plain": [
       "845"
      ]
     },
     "execution_count": 9,
     "metadata": {},
     "output_type": "execute_result"
    }
   ],
   "source": [
    "df.select(\"track_name\").distinct().count()"
   ]
  },
  {
   "cell_type": "code",
   "execution_count": 10,
   "metadata": {},
   "outputs": [
    {
     "name": "stdout",
     "output_type": "stream",
     "text": [
      "Building synchronization state...\n",
      "Starting synchronization...\n",
      "Copying file://../data/processed/birdclef-2023/train_embeddings/consolidated_v2_sample/._SUCCESS.crc [Content-Type=application/octet-stream]...\n",
      "Copying file://../data/processed/birdclef-2023/train_embeddings/consolidated_v2_sample/.part-00002-7f37ce3d-1941-4938-b673-1e0463a3a05b-c000.snappy.parquet.crc [Content-Type=application/octet-stream]...\n",
      "Copying file://../data/processed/birdclef-2023/train_embeddings/consolidated_v2_sample/.part-00000-7f37ce3d-1941-4938-b673-1e0463a3a05b-c000.snappy.parquet.crc [Content-Type=application/octet-stream]...\n",
      "Copying file://../data/processed/birdclef-2023/train_embeddings/consolidated_v2_sample/.part-00001-7f37ce3d-1941-4938-b673-1e0463a3a05b-c000.snappy.parquet.crc [Content-Type=application/octet-stream]...\n",
      "Copying file://../data/processed/birdclef-2023/train_embeddings/consolidated_v2_sample/.part-00010-7f37ce3d-1941-4938-b673-1e0463a3a05b-c000.snappy.parquet.crc [Content-Type=application/octet-stream]...\n",
      "Copying file://../data/processed/birdclef-2023/train_embeddings/consolidated_v2_sample/.part-00003-7f37ce3d-1941-4938-b673-1e0463a3a05b-c000.snappy.parquet.crc [Content-Type=application/octet-stream]...\n",
      "Copying file://../data/processed/birdclef-2023/train_embeddings/consolidated_v2_sample/.part-00006-7f37ce3d-1941-4938-b673-1e0463a3a05b-c000.snappy.parquet.crc [Content-Type=application/octet-stream]...\n",
      "Copying file://../data/processed/birdclef-2023/train_embeddings/consolidated_v2_sample/.part-00004-7f37ce3d-1941-4938-b673-1e0463a3a05b-c000.snappy.parquet.crc [Content-Type=application/octet-stream]...\n",
      "Copying file://../data/processed/birdclef-2023/train_embeddings/consolidated_v2_sample/.part-00009-7f37ce3d-1941-4938-b673-1e0463a3a05b-c000.snappy.parquet.crc [Content-Type=application/octet-stream]...\n",
      "Copying file://../data/processed/birdclef-2023/train_embeddings/consolidated_v2_sample/.part-00005-7f37ce3d-1941-4938-b673-1e0463a3a05b-c000.snappy.parquet.crc [Content-Type=application/octet-stream]...\n",
      "Copying file://../data/processed/birdclef-2023/train_embeddings/consolidated_v2_sample/.part-00008-7f37ce3d-1941-4938-b673-1e0463a3a05b-c000.snappy.parquet.crc [Content-Type=application/octet-stream]...\n",
      "Copying file://../data/processed/birdclef-2023/train_embeddings/consolidated_v2_sample/.part-00015-7f37ce3d-1941-4938-b673-1e0463a3a05b-c000.snappy.parquet.crc [Content-Type=application/octet-stream]...\n",
      "Copying file://../data/processed/birdclef-2023/train_embeddings/consolidated_v2_sample/.part-00011-7f37ce3d-1941-4938-b673-1e0463a3a05b-c000.snappy.parquet.crc [Content-Type=application/octet-stream]...\n",
      "Copying file://../data/processed/birdclef-2023/train_embeddings/consolidated_v2_sample/part-00001-7f37ce3d-1941-4938-b673-1e0463a3a05b-c000.snappy.parquet [Content-Type=application/octet-stream]...\n",
      "Copying file://../data/processed/birdclef-2023/train_embeddings/consolidated_v2_sample/part-00002-7f37ce3d-1941-4938-b673-1e0463a3a05b-c000.snappy.parquet [Content-Type=application/octet-stream]...\n",
      "Copying file://../data/processed/birdclef-2023/train_embeddings/consolidated_v2_sample/part-00007-7f37ce3d-1941-4938-b673-1e0463a3a05b-c000.snappy.parquet [Content-Type=application/octet-stream]...\n",
      "Copying file://../data/processed/birdclef-2023/train_embeddings/consolidated_v2_sample/part-00009-7f37ce3d-1941-4938-b673-1e0463a3a05b-c000.snappy.parquet [Content-Type=application/octet-stream]...\n",
      "Copying file://../data/processed/birdclef-2023/train_embeddings/consolidated_v2_sample/part-00005-7f37ce3d-1941-4938-b673-1e0463a3a05b-c000.snappy.parquet [Content-Type=application/octet-stream]...\n",
      "Copying file://../data/processed/birdclef-2023/train_embeddings/consolidated_v2_sample/.part-00007-7f37ce3d-1941-4938-b673-1e0463a3a05b-c000.snappy.parquet.crc [Content-Type=application/octet-stream]...\n",
      "Copying file://../data/processed/birdclef-2023/train_embeddings/consolidated_v2_sample/_SUCCESS [Content-Type=application/octet-stream]...\n",
      "Copying file://../data/processed/birdclef-2023/train_embeddings/consolidated_v2_sample/part-00013-7f37ce3d-1941-4938-b673-1e0463a3a05b-c000.snappy.parquet [Content-Type=application/octet-stream]...\n",
      "Copying file://../data/processed/birdclef-2023/train_embeddings/consolidated_v2_sample/part-00008-7f37ce3d-1941-4938-b673-1e0463a3a05b-c000.snappy.parquet [Content-Type=application/octet-stream]...\n",
      "Copying file://../data/processed/birdclef-2023/train_embeddings/consolidated_v2_sample/part-00010-7f37ce3d-1941-4938-b673-1e0463a3a05b-c000.snappy.parquet [Content-Type=application/octet-stream]...\n",
      "Copying file://../data/processed/birdclef-2023/train_embeddings/consolidated_v2_sample/part-00012-7f37ce3d-1941-4938-b673-1e0463a3a05b-c000.snappy.parquet [Content-Type=application/octet-stream]...\n",
      "Copying file://../data/processed/birdclef-2023/train_embeddings/consolidated_v2_sample/part-00004-7f37ce3d-1941-4938-b673-1e0463a3a05b-c000.snappy.parquet [Content-Type=application/octet-stream]...\n",
      "Copying file://../data/processed/birdclef-2023/train_embeddings/consolidated_v2_sample/.part-00012-7f37ce3d-1941-4938-b673-1e0463a3a05b-c000.snappy.parquet.crc [Content-Type=application/octet-stream]...\n",
      "Copying file://../data/processed/birdclef-2023/train_embeddings/consolidated_v2_sample/part-00011-7f37ce3d-1941-4938-b673-1e0463a3a05b-c000.snappy.parquet [Content-Type=application/octet-stream]...\n",
      "Copying file://../data/processed/birdclef-2023/train_embeddings/consolidated_v2_sample/.part-00013-7f37ce3d-1941-4938-b673-1e0463a3a05b-c000.snappy.parquet.crc [Content-Type=application/octet-stream]...\n",
      "Copying file://../data/processed/birdclef-2023/train_embeddings/consolidated_v2_sample/part-00015-7f37ce3d-1941-4938-b673-1e0463a3a05b-c000.snappy.parquet [Content-Type=application/octet-stream]...\n",
      "Copying file://../data/processed/birdclef-2023/train_embeddings/consolidated_v2_sample/part-00000-7f37ce3d-1941-4938-b673-1e0463a3a05b-c000.snappy.parquet [Content-Type=application/octet-stream]...\n",
      "Copying file://../data/processed/birdclef-2023/train_embeddings/consolidated_v2_sample/.part-00014-7f37ce3d-1941-4938-b673-1e0463a3a05b-c000.snappy.parquet.crc [Content-Type=application/octet-stream]...\n",
      "Copying file://../data/processed/birdclef-2023/train_embeddings/consolidated_v2_sample/part-00014-7f37ce3d-1941-4938-b673-1e0463a3a05b-c000.snappy.parquet [Content-Type=application/octet-stream]...\n",
      "Copying file://../data/processed/birdclef-2023/train_embeddings/consolidated_v2_sample/part-00003-7f37ce3d-1941-4938-b673-1e0463a3a05b-c000.snappy.parquet [Content-Type=application/octet-stream]...\n",
      "Copying file://../data/processed/birdclef-2023/train_embeddings/consolidated_v2_sample/part-00006-7f37ce3d-1941-4938-b673-1e0463a3a05b-c000.snappy.parquet [Content-Type=application/octet-stream]...\n",
      "- [34/34 files][236.0 MiB/236.0 MiB] 100% Done                                  \n",
      "Operation completed over 34 objects/236.0 MiB.                                   \n"
     ]
    }
   ],
   "source": [
    "# upload the dataset to gcs\n",
    "! bash -c \"gsutil -m rsync -r {root}/consolidated_v2 gs://birdclef-2023/data/processed/birdclef-2023/train_embeddings_consolidated_v2\""
   ]
  }
 ],
 "metadata": {
  "kernelspec": {
   "display_name": "venv",
   "language": "python",
   "name": "python3"
  },
  "language_info": {
   "codemirror_mode": {
    "name": "ipython",
    "version": 3
   },
   "file_extension": ".py",
   "mimetype": "text/x-python",
   "name": "python",
   "nbconvert_exporter": "python",
   "pygments_lexer": "ipython3",
   "version": "3.10.6"
  },
  "orig_nbformat": 4
 },
 "nbformat": 4,
 "nbformat_minor": 2
}
