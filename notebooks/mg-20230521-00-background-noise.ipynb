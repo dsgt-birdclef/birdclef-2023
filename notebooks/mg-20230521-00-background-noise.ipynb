{
 "cells": [
  {
   "cell_type": "code",
   "execution_count": 1,
   "metadata": {},
   "outputs": [],
   "source": [
    "%load_ext autoreload\n",
    "%autoreload 2\n",
    "%load_ext lab_black"
   ]
  },
  {
   "attachments": {},
   "cell_type": "markdown",
   "metadata": {},
   "source": [
    "## Background noise"
   ]
  },
  {
   "cell_type": "code",
   "execution_count": 6,
   "metadata": {},
   "outputs": [
    {
     "data": {
      "text/html": [
       "\n",
       "            <div>\n",
       "                <p><b>SparkSession - in-memory</b></p>\n",
       "                \n",
       "        <div>\n",
       "            <p><b>SparkContext</b></p>\n",
       "\n",
       "            <p><a href=\"http://murilo-dev.us-central1-a.c.birdclef-2023.internal:4041\">Spark UI</a></p>\n",
       "\n",
       "            <dl>\n",
       "              <dt>Version</dt>\n",
       "                <dd><code>v3.3.2</code></dd>\n",
       "              <dt>Master</dt>\n",
       "                <dd><code>local[*]</code></dd>\n",
       "              <dt>AppName</dt>\n",
       "                <dd><code>pyspark-shell</code></dd>\n",
       "            </dl>\n",
       "        </div>\n",
       "        \n",
       "            </div>\n",
       "        "
      ],
      "text/plain": [
       "<pyspark.sql.session.SparkSession at 0x7f6c150fb040>"
      ]
     },
     "execution_count": 6,
     "metadata": {},
     "output_type": "execute_result"
    }
   ],
   "source": [
    "from pathlib import Path\n",
    "from birdclef import birdnet\n",
    "from birdclef.utils import get_spark\n",
    "from pyspark.sql import functions as F\n",
    "import pickle\n",
    "import tqdm\n",
    "import time\n",
    "import tensorflow as tf\n",
    "from functools import partial\n",
    "import librosa\n",
    "from birdclef.data.utils import slice_seconds\n",
    "import numpy as np\n",
    "\n",
    "repo_path = Path(\"../data/models/birdnet-analyzer-pruned\")\n",
    "birdnet_model = birdnet.load_model_from_repo(repo_path)\n",
    "embedding_func = birdnet.embedding_func(birdnet_model)\n",
    "\n",
    "\n",
    "model_path = Path(\"../data/models/baseline/logistic_binary.pkl\")\n",
    "clf = pickle.loads(model_path.read_bytes())\n",
    "\n",
    "# re-encode the classes properly for the inference script on logistic model\n",
    "le_path = Path(\"../data/models/baseline/logistic_binary_label_encoder.pkl\")\n",
    "le = pickle.loads(le_path.read_bytes())\n",
    "clf.classes_ = le.classes_\n",
    "\n",
    "spark = get_spark()\n",
    "spark"
   ]
  },
  {
   "cell_type": "code",
   "execution_count": 20,
   "metadata": {},
   "outputs": [
    {
     "name": "stderr",
     "output_type": "stream",
     "text": [
      "2034it [06:02,  5.61it/s]"
     ]
    },
    {
     "name": "stdout",
     "output_type": "stream",
     "text": [
      "took 0.18 seconds per loop, estimated 0.59 minutes\n"
     ]
    },
    {
     "name": "stderr",
     "output_type": "stream",
     "text": [
      "\n"
     ]
    }
   ],
   "source": [
    "def average_windows(prob):\n",
    "    \"\"\"Average a matrix of probabilities.\n",
    "\n",
    "    We assume that these are a sliding window of probabilities: 1s sliding window of 3s context\n",
    "    \"\"\"\n",
    "    # max might be better than the mean\n",
    "    return prob.reshape(-1, 2, prob[0].size).max(axis=1)\n",
    "\n",
    "\n",
    "def run_inference(path, embedding_func, clf, sr=48000):\n",
    "    y, sr = librosa.load(path.as_posix(), sr=sr, mono=True)\n",
    "    X = slice_seconds(y, sr, seconds=3, step=3)\n",
    "    # drop every 4th/5th index, so we're not processing more than we need to\n",
    "    # first pad the resulting slices by 2\n",
    "    # X = np.pad(X, ((0, 2), (0, 0)))\n",
    "    # # then reshape it\n",
    "    # X = X.reshape(-1, 5, X.shape[-1])\n",
    "    # # now drop the last 2 second of each 5 second frame\n",
    "    # X = X[:, [0, 2], :].reshape(-1, X.shape[-1])\n",
    "    # assert X.shape == (120 * 2, sr * 3), X.shape\n",
    "\n",
    "    emb = embedding_func(X)[0]\n",
    "    prob = clf.predict_proba(emb)\n",
    "    # prob_prime = average_windows(prob)\n",
    "    # assert prob_prime.shape == (120, len(clf.classes_)), prob_prime.shape\n",
    "    rows = []\n",
    "    for i, probs in enumerate(prob):\n",
    "        ts = i * 3\n",
    "        row = dict(\n",
    "            row_id=f\"{path.stem}_{ts}\",\n",
    "            **dict(zip(clf.classes_, np.around(probs, 6).tolist())),\n",
    "        )\n",
    "        rows.append(row)\n",
    "    return rows\n",
    "\n",
    "\n",
    "test_path = Path(\"../data/raw/background_audio/\")\n",
    "rows = []\n",
    "timings = []\n",
    "for path in tqdm.tqdm(test_path.glob(\"*.wav\")):\n",
    "    start = time.time()\n",
    "    rows += run_inference(path, embedding_func, clf)\n",
    "    timings.append(time.time() - start)\n",
    "\n",
    "avg_time_sec = np.mean(timings)\n",
    "est_time_min = avg_time_sec * 200 / 60\n",
    "print(\n",
    "    f\"took {round(avg_time_sec,2)} seconds per loop, estimated {round(est_time_min,2)} minutes\"\n",
    ")"
   ]
  },
  {
   "cell_type": "code",
   "execution_count": 21,
   "metadata": {},
   "outputs": [
    {
     "data": {
      "text/html": [
       "<div>\n",
       "<style scoped>\n",
       "    .dataframe tbody tr th:only-of-type {\n",
       "        vertical-align: middle;\n",
       "    }\n",
       "\n",
       "    .dataframe tbody tr th {\n",
       "        vertical-align: top;\n",
       "    }\n",
       "\n",
       "    .dataframe thead th {\n",
       "        text-align: right;\n",
       "    }\n",
       "</style>\n",
       "<table border=\"1\" class=\"dataframe\">\n",
       "  <thead>\n",
       "    <tr style=\"text-align: right;\">\n",
       "      <th></th>\n",
       "      <th>row_id</th>\n",
       "      <th>call</th>\n",
       "      <th>no_call</th>\n",
       "    </tr>\n",
       "  </thead>\n",
       "  <tbody>\n",
       "    <tr>\n",
       "      <th>0</th>\n",
       "      <td>0c983624-94c9-488f-a30a-ff4607d91844_0</td>\n",
       "      <td>0.538661</td>\n",
       "      <td>0.461339</td>\n",
       "    </tr>\n",
       "    <tr>\n",
       "      <th>1</th>\n",
       "      <td>0c983624-94c9-488f-a30a-ff4607d91844_3</td>\n",
       "      <td>0.388857</td>\n",
       "      <td>0.611143</td>\n",
       "    </tr>\n",
       "    <tr>\n",
       "      <th>2</th>\n",
       "      <td>0c983624-94c9-488f-a30a-ff4607d91844_6</td>\n",
       "      <td>0.584300</td>\n",
       "      <td>0.415700</td>\n",
       "    </tr>\n",
       "    <tr>\n",
       "      <th>3</th>\n",
       "      <td>0c983624-94c9-488f-a30a-ff4607d91844_9</td>\n",
       "      <td>0.651146</td>\n",
       "      <td>0.348854</td>\n",
       "    </tr>\n",
       "    <tr>\n",
       "      <th>4</th>\n",
       "      <td>324c7e9e-5962-49e2-ae32-c695a024ac26_0</td>\n",
       "      <td>0.107948</td>\n",
       "      <td>0.892052</td>\n",
       "    </tr>\n",
       "    <tr>\n",
       "      <th>...</th>\n",
       "      <td>...</td>\n",
       "      <td>...</td>\n",
       "      <td>...</td>\n",
       "    </tr>\n",
       "    <tr>\n",
       "      <th>8131</th>\n",
       "      <td>2aad176a-4d4e-44d2-a878-2196db6286ea_9</td>\n",
       "      <td>0.055792</td>\n",
       "      <td>0.944208</td>\n",
       "    </tr>\n",
       "    <tr>\n",
       "      <th>8132</th>\n",
       "      <td>2a8691c8-c0eb-43c0-a278-b89fd208ac89_0</td>\n",
       "      <td>0.111515</td>\n",
       "      <td>0.888485</td>\n",
       "    </tr>\n",
       "    <tr>\n",
       "      <th>8133</th>\n",
       "      <td>2a8691c8-c0eb-43c0-a278-b89fd208ac89_3</td>\n",
       "      <td>0.162488</td>\n",
       "      <td>0.837512</td>\n",
       "    </tr>\n",
       "    <tr>\n",
       "      <th>8134</th>\n",
       "      <td>2a8691c8-c0eb-43c0-a278-b89fd208ac89_6</td>\n",
       "      <td>0.128994</td>\n",
       "      <td>0.871006</td>\n",
       "    </tr>\n",
       "    <tr>\n",
       "      <th>8135</th>\n",
       "      <td>2a8691c8-c0eb-43c0-a278-b89fd208ac89_9</td>\n",
       "      <td>0.074786</td>\n",
       "      <td>0.925214</td>\n",
       "    </tr>\n",
       "  </tbody>\n",
       "</table>\n",
       "<p>8136 rows × 3 columns</p>\n",
       "</div>"
      ],
      "text/plain": [
       "                                      row_id      call   no_call\n",
       "0     0c983624-94c9-488f-a30a-ff4607d91844_0  0.538661  0.461339\n",
       "1     0c983624-94c9-488f-a30a-ff4607d91844_3  0.388857  0.611143\n",
       "2     0c983624-94c9-488f-a30a-ff4607d91844_6  0.584300  0.415700\n",
       "3     0c983624-94c9-488f-a30a-ff4607d91844_9  0.651146  0.348854\n",
       "4     324c7e9e-5962-49e2-ae32-c695a024ac26_0  0.107948  0.892052\n",
       "...                                      ...       ...       ...\n",
       "8131  2aad176a-4d4e-44d2-a878-2196db6286ea_9  0.055792  0.944208\n",
       "8132  2a8691c8-c0eb-43c0-a278-b89fd208ac89_0  0.111515  0.888485\n",
       "8133  2a8691c8-c0eb-43c0-a278-b89fd208ac89_3  0.162488  0.837512\n",
       "8134  2a8691c8-c0eb-43c0-a278-b89fd208ac89_6  0.128994  0.871006\n",
       "8135  2a8691c8-c0eb-43c0-a278-b89fd208ac89_9  0.074786  0.925214\n",
       "\n",
       "[8136 rows x 3 columns]"
      ]
     },
     "metadata": {},
     "output_type": "display_data"
    }
   ],
   "source": [
    "import pandas as pd\n",
    "\n",
    "rows_df = pd.DataFrame(rows)\n",
    "display(rows_df)"
   ]
  },
  {
   "cell_type": "code",
   "execution_count": null,
   "metadata": {},
   "outputs": [],
   "source": []
  },
  {
   "cell_type": "code",
   "execution_count": null,
   "metadata": {},
   "outputs": [],
   "source": []
  }
 ],
 "metadata": {
  "kernelspec": {
   "display_name": "venv",
   "language": "python",
   "name": "python3"
  },
  "language_info": {
   "codemirror_mode": {
    "name": "ipython",
    "version": 3
   },
   "file_extension": ".py",
   "mimetype": "text/x-python",
   "name": "python",
   "nbconvert_exporter": "python",
   "pygments_lexer": "ipython3",
   "version": "3.10.6"
  },
  "orig_nbformat": 4
 },
 "nbformat": 4,
 "nbformat_minor": 2
}
