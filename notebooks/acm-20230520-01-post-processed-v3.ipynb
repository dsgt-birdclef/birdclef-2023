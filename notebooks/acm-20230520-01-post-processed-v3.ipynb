{
 "cells": [
  {
   "cell_type": "code",
   "execution_count": 1,
   "metadata": {},
   "outputs": [],
   "source": [
    "%load_ext autoreload\n",
    "%autoreload 2\n",
    "%load_ext lab_black"
   ]
  },
  {
   "cell_type": "code",
   "execution_count": 9,
   "metadata": {},
   "outputs": [
    {
     "name": "stdout",
     "output_type": "stream",
     "text": [
      "root\n",
      " |-- species: string (nullable = true)\n",
      " |-- track_stem: string (nullable = true)\n",
      " |-- track_type: string (nullable = true)\n",
      " |-- track_name: string (nullable = true)\n",
      " |-- embedding: array (nullable = true)\n",
      " |    |-- element: double (containsNull = true)\n",
      " |-- prediction_vec: array (nullable = true)\n",
      " |    |-- element: double (containsNull = true)\n",
      " |-- predictions: array (nullable = true)\n",
      " |    |-- element: struct (containsNull = true)\n",
      " |    |    |-- rank: long (nullable = true)\n",
      " |    |    |-- index: long (nullable = true)\n",
      " |    |    |-- label: string (nullable = true)\n",
      " |    |    |-- mapped_label: string (nullable = true)\n",
      " |    |    |-- probability: double (nullable = true)\n",
      " |-- start_time: long (nullable = true)\n",
      " |-- energy: double (nullable = true)\n",
      "\n",
      "root\n",
      " |-- track_stem: string (nullable = true)\n",
      " |-- start_time: long (nullable = true)\n",
      " |-- metadata_species: array (nullable = true)\n",
      " |    |-- element: string (containsNull = true)\n",
      " |-- predicted_species: array (nullable = true)\n",
      " |    |-- element: string (containsNull = true)\n",
      " |-- predicted_species_prob: array (nullable = true)\n",
      " |    |-- element: double (containsNull = true)\n",
      " |-- embedding: array (nullable = true)\n",
      " |    |-- element: float (containsNull = true)\n",
      " |-- next_embedding: array (nullable = true)\n",
      " |    |-- element: float (containsNull = true)\n",
      " |-- track_embedding: array (nullable = true)\n",
      " |    |-- element: float (containsNull = true)\n",
      "\n"
     ]
    }
   ],
   "source": [
    "from birdclef.utils import get_spark\n",
    "from pyspark.sql import Window, functions as F\n",
    "import os\n",
    "\n",
    "os.environ[\"SPARK_LOCAL_DIRS\"] = \"h://spark-tmp/\"\n",
    "\n",
    "spark = get_spark(cores=24, memory=\"40g\")\n",
    "df = spark.read.parquet(\n",
    "    \"../data/processed/birdclef-2023/train_embeddings/consolidated_v4\"\n",
    ")\n",
    "df.printSchema()\n",
    "\n",
    "train_df = spark.read.parquet(\"../data/processed/birdclef-2023/train_postprocessed/v2\")\n",
    "train_df.printSchema()"
   ]
  },
  {
   "cell_type": "code",
   "execution_count": 23,
   "metadata": {},
   "outputs": [],
   "source": [
    "@F.pandas_udf(\"array<float>\", F.PandasUDFType.SCALAR)\n",
    "def embedding_pair_mean(v1, v2, weight=0.5):\n",
    "    return (v1 * weight + v2 * (1 - weight)) / 2\n",
    "\n",
    "\n",
    "noise_examples = (\n",
    "    df.withColumn(\"probability\", F.col(\"predictions\")[0][\"probability\"])\n",
    "    .where(\"start_time % 3 = 0 and probability < 0.01\")\n",
    "    .orderBy(\"probability\")\n",
    "    .limit(1000)\n",
    "    # take the best example for each track here\n",
    "    .withColumn(\n",
    "        \"rank\",\n",
    "        F.row_number().over(Window.partitionBy(\"track_name\").orderBy(\"probability\")),\n",
    "    )\n",
    "    .where(\"rank = 1\")\n",
    "    .drop(\"rank\")\n",
    "    .select(\"embedding\")\n",
    ")\n",
    "\n",
    "weight = F.lit(0.75)\n",
    "augmented_examples = (\n",
    "    train_df.withColumn(\"species\", F.col(\"metadata_species\")[0])\n",
    "    .withColumn(\n",
    "        \"rank\", F.row_number().over(Window.partitionBy(\"species\").orderBy(F.rand()))\n",
    "    )\n",
    "    .where(\"rank <= 20\")\n",
    "    # now lets cross join with the noise examples\n",
    "    .crossJoin(noise_examples.selectExpr(\"embedding as noise_embedding\").limit(20))\n",
    "    # now randomly keep a subset of these examples\n",
    "    .withColumn(\n",
    "        \"rank\", F.row_number().over(Window.partitionBy(\"species\").orderBy(F.rand()))\n",
    "    )\n",
    "    .where(\"rank <= 20\")\n",
    "    .select(\n",
    "        \"track_stem\",\n",
    "        \"start_time\",\n",
    "        \"metadata_species\",\n",
    "        \"predicted_species\",\n",
    "        \"predicted_species_prob\",\n",
    "        embedding_pair_mean(\"embedding\", \"noise_embedding\", weight).alias(\"embedding\"),\n",
    "        embedding_pair_mean(\"next_embedding\", \"noise_embedding\", weight).alias(\n",
    "            \"next_embedding\"\n",
    "        ),\n",
    "        embedding_pair_mean(\"track_embedding\", \"noise_embedding\", weight).alias(\n",
    "            \"track_embedding\"\n",
    "        ),\n",
    "    )\n",
    ")\n",
    "\n",
    "processed_df = augmented_examples.union(train_df)"
   ]
  },
  {
   "cell_type": "code",
   "execution_count": 24,
   "metadata": {},
   "outputs": [],
   "source": [
    "processed_df.write.parquet(\n",
    "    \"../data/processed/birdclef-2023/train_postprocessed/v3\", mode=\"overwrite\"\n",
    ")"
   ]
  },
  {
   "cell_type": "code",
   "execution_count": 25,
   "metadata": {},
   "outputs": [
    {
     "name": "stdout",
     "output_type": "stream",
     "text": [
      "+-------------------+-----+\n",
      "|metadata_species[0]|count|\n",
      "+-------------------+-----+\n",
      "|            whctur2|   21|\n",
      "|            afpkin1|   21|\n",
      "|            whhsaw1|   21|\n",
      "|            golher1|   22|\n",
      "|            brtcha1|   22|\n",
      "|            rehblu1|   23|\n",
      "|            lotlap1|   23|\n",
      "|            crefra2|   24|\n",
      "|            dotbar1|   24|\n",
      "|            lotcor1|   24|\n",
      "|            brcwea1|   25|\n",
      "|            yebsto1|   26|\n",
      "|            palpri1|   27|\n",
      "|            fatwid1|   28|\n",
      "|            gobsta5|   29|\n",
      "|            darter3|   30|\n",
      "|            sacibi2|   32|\n",
      "|            witswa1|   34|\n",
      "|            rostur1|   34|\n",
      "|            bltbar1|   34|\n",
      "+-------------------+-----+\n",
      "only showing top 20 rows\n",
      "\n"
     ]
    },
    {
     "data": {
      "text/plain": [
       "76813"
      ]
     },
     "execution_count": 25,
     "metadata": {},
     "output_type": "execute_result"
    }
   ],
   "source": [
    "processed_df = spark.read.parquet(\n",
    "    \"../data/processed/birdclef-2023/train_postprocessed/v3\"\n",
    ")\n",
    "processed_df.groupBy(F.col(\"metadata_species\")[0]).count().orderBy(\"count\").show()\n",
    "processed_df.count()"
   ]
  }
 ],
 "metadata": {
  "kernelspec": {
   "display_name": "venv",
   "language": "python",
   "name": "python3"
  },
  "language_info": {
   "codemirror_mode": {
    "name": "ipython",
    "version": 3
   },
   "file_extension": ".py",
   "mimetype": "text/x-python",
   "name": "python",
   "nbconvert_exporter": "python",
   "pygments_lexer": "ipython3",
   "version": "3.10.5"
  },
  "orig_nbformat": 4
 },
 "nbformat": 4,
 "nbformat_minor": 2
}
