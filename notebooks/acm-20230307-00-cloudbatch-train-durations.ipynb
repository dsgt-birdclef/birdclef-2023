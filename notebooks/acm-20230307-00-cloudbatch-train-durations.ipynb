{
 "cells": [
  {
   "cell_type": "code",
   "execution_count": 1,
   "metadata": {},
   "outputs": [
    {
     "name": "stdout",
     "output_type": "stream",
     "text": [
      "f:\\code\\kaggle\\birdclef-2023\n"
     ]
    }
   ],
   "source": [
    "%cd .."
   ]
  },
  {
   "cell_type": "code",
   "execution_count": 3,
   "metadata": {},
   "outputs": [
    {
     "name": "stdout",
     "output_type": "stream",
     "text": [
      "Created job birdclef-job-20230307205805.\n",
      "See https://console.cloud.google.com/batch/jobsDetail/regions/us-central1/jobs/birdclef-job-20230307205805?project=birdclef-2023\n"
     ]
    }
   ],
   "source": [
    "! python -m workflows.batch.birdclef_job \\\n",
    "    --branch cloud-batch \\\n",
    "    --cmd \\\n",
    "        luigi \\\n",
    "            --module workflows.train_durations TrainDurationsWorkflow \\\n",
    "            --birdclef-root-path gs://birdclef-2023/data/raw/birdclef-2022/ \\\n",
    "            --output-path gs://birdclef-2023/data/processed/birdclef-2022/train_durations_v2.parquet \\\n",
    "            --scheduler-host luigi.us-central1-a.c.birdclef-2023.internal"
   ]
  }
 ],
 "metadata": {
  "kernelspec": {
   "display_name": "venv",
   "language": "python",
   "name": "python3"
  },
  "language_info": {
   "codemirror_mode": {
    "name": "ipython",
    "version": 3
   },
   "file_extension": ".py",
   "mimetype": "text/x-python",
   "name": "python",
   "nbconvert_exporter": "python",
   "pygments_lexer": "ipython3",
   "version": "3.10.5"
  },
  "orig_nbformat": 4,
  "vscode": {
   "interpreter": {
    "hash": "6c0b2694cc72a4b1216248dce15f12c6ef2d809641a13c5c2db85cd65e60fdec"
   }
  }
 },
 "nbformat": 4,
 "nbformat_minor": 2
}
